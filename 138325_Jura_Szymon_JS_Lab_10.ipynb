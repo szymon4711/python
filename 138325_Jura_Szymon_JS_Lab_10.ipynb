{
 "cells": [
  {
   "cell_type": "markdown",
   "metadata": {
    "nbgrader": {
     "grade": false,
     "grade_id": "cell-d502574aef7ae432",
     "locked": true,
     "schema_version": 3,
     "solution": false,
     "task": false
    }
   },
   "source": [
    "# Języki symboliczne - rok akademicki 2021/2022\n",
    "\n",
    "Przed rozpoczęciem pracy z notatnikiem zmień jego nazwę zgodnie z wzorem: `NrAlbumu_Nazwisko_Imie_PoprzedniaNazwa`\n",
    "\n",
    "Przed wysłaniem notatnika **upewnij się jeszcze raz** że zmieniłeś nazwę i że rozwiązałeś wszystkie zadania/ćwiczenia, w szczególności, że uzupełniłeś wszystkie sekcje pomiędzy `;;; BEGIN SOLUTION` a `;;; END SOLUTION`."
   ]
  },
  {
   "cell_type": "markdown",
   "metadata": {
    "nbgrader": {
     "grade": false,
     "grade_id": "cell-57f3f82cac11102f",
     "locked": true,
     "schema_version": 3,
     "solution": false,
     "task": false
    }
   },
   "source": [
    "# Temat: Scheme - wprowadzenie.\n",
    "Zapoznaj się z treścią niniejszego notatnika czytając i wykonując go komórka po komórce. Wykonaj napotkane zadania/ćwiczenia.\n",
    "\n",
    "## Informacje wstępne\n",
    "### Instalacja `Calysto Scheme` dla `Jupyter Notebook` ( z Python3):\n",
    "\n",
    "Uruchomić konsolę `Anaconda Powershell Prompt (anaconda3)`, wpisać poniższe polecenia:\n",
    "\n",
    "```python\n",
    "pip3 install --upgrade calysto-scheme --user\n",
    "```\n",
    "https://github.com/Calysto/calysto_scheme\n",
    "\n",
    "\n",
    "### Środowisko alternatywne `DrRacket`:\n",
    "\n",
    "Stąd pobierzesz dystrybucję `DrRacket`: https://racket-lang.org/\n",
    "\n",
    "Uruchomić program „DrRacket” i w pierwszej linii górnego pola umieścić tekst:\n",
    "\n",
    "`#lang planet neil/sicp`\n",
    "\n",
    "### Zaczynamy\n",
    "#### Składnia Scheme-a\n",
    "Program w języku Scheme może zawierać:\n",
    "- słowa kluczowe\n",
    "- zmienne\n",
    "- formy struktury\n",
    "- stałe (liczby, znaki, łańcuchy, cytaty wektorów, list lub symboli itp.)\n",
    "- znaki spacji\n",
    "- komentarze\n",
    "\n",
    "__Identyfikatory__ (słowa kluczowe, etykiety, zmienne i symbole) – konstruowane ze zbioru:\n",
    "- małych liter od `a` do `z` i dużych liter od `A` do `Z`\n",
    "- nie są rozróżniane duże i małe litery (np.: `Ab`, `ab`, `aB`, `AB` są tymi samymi identyfikatorami)\n",
    "- cyfr od `0` do `9`\n",
    "- znaków `?!.+-*/<=>:%^&_~@`\n",
    "\n",
    "Identyfikatory nie mogą zaczynać się od:\n",
    "- znaku `@`\n",
    "- jakiegokolwiek znaku zaczynającego liczbę tzn.: `cyfry`, znak `+`, znak `-`, kropka `.`\n",
    "\n",
    "Wyjątek: `+`,`-`, `...`, są identyfikatorami.\n",
    "\n",
    "Identyfikatory muszą być ograniczone:\n",
    "- znakiem spacji\n",
    "- nawiasami `()`\n",
    "- znakiem podwójnego cytatu `\"`\n",
    "- znakiem komentarza `;`\n",
    "\n",
    "#### Wyrażenia, procedury, funkcje ...\n",
    "\n",
    "Typowe wyrażenie ma następującą składnię:\n",
    "\n",
    "`(procedura argumenty)`\n",
    "\n",
    "- Wyrażenie rozpoczyna się nawiasem otwierającym `(` i kończy nawiasem zamykającym `)`.\n",
    "- W każdym wyrażeniu, bezpośrednio za nawiasem otwierającym,  musi znaleść się procedura (funkcja) - notacja prefiksowa.\n",
    "- Lisp wykonuje każde wyrażenie i zwraca jego wartość. W szczególnym wypadku wartością zwracaną może być `nil` czyli nic.\n",
    "\n",
    "\n",
    "#### Kometarze w kodzie:\n",
    "- pomiędzy znakiem `;` a końcem linii\n",
    "- umieszczane na tym samym poziomie wcięcia co wyrażenie\n",
    "- wyjaśnianie procedur umieszczane przed nimi bez wcięcia"
   ]
  },
  {
   "cell_type": "code",
   "execution_count": 1,
   "metadata": {},
   "outputs": [
    {
     "data": {
      "text/plain": "#t"
     },
     "execution_count": 1,
     "metadata": {},
     "output_type": "execute_result"
    }
   ],
   "source": [
    "; to jest komentarz jednolinijkowy, interpreter pomija linie zaczynające się od ';'\n",
    "(number? 3/4) ; czy stała 3/4 jest liczbą?"
   ]
  },
  {
   "cell_type": "markdown",
   "metadata": {
    "nbgrader": {
     "grade": false,
     "grade_id": "cell-53a992c248c44575",
     "locked": true,
     "schema_version": 3,
     "solution": false,
     "task": false
    }
   },
   "source": [
    "#### Wyprowadzanie komunikatów na ekran.\n",
    "`(display ITEM)`: wyświetla `ITEM` na wyjściu\n",
    "\n",
    "`(newline)`: wyświetla nowy wiersz na wyjściu\n",
    "\n",
    "`(print ITEM)`: wyświetla `ITEM` (tak jakby był zapisywany)\n",
    "\n",
    "`(printf FORMAT ARGS...)`: wydruk sformatowany. Używa standardowych symboli formatowania:\n",
    "\n",
    "- `~a` - pokaż jak na ekranie\n",
    "- `~s` - pokaż jakby był zapisywany\n",
    "- `~%` - nowa linia"
   ]
  },
  {
   "cell_type": "code",
   "execution_count": 2,
   "metadata": {
    "scrolled": true
   },
   "outputs": [
    {
     "name": "stdout",
     "output_type": "stream",
     "text": [
      "Hello\n",
      "World"
     ]
    }
   ],
   "source": [
    "(display \"Hello\") (newline)\n",
    "(display \"World\")"
   ]
  },
  {
   "cell_type": "code",
   "execution_count": 3,
   "metadata": {},
   "outputs": [
    {
     "name": "stdout",
     "output_type": "stream",
     "text": [
      "\"Hello\"\n",
      "\"World\"\n"
     ]
    }
   ],
   "source": [
    "(print \"Hello\") ; w Racket nie dodaje znaku nowej linii\n",
    "(print \"World\")"
   ]
  },
  {
   "cell_type": "code",
   "execution_count": 4,
   "metadata": {},
   "outputs": [
    {
     "name": "stdout",
     "output_type": "stream",
     "text": [
      "Hello \n",
      "World"
     ]
    }
   ],
   "source": [
    "(printf \"Hello ~%World\")"
   ]
  },
  {
   "cell_type": "markdown",
   "metadata": {
    "nbgrader": {
     "grade": false,
     "grade_id": "cell-62d22baf7db94e60",
     "locked": true,
     "schema_version": 3,
     "solution": false,
     "task": false
    }
   },
   "source": [
    "#### Definiowanie zmiennych\n",
    "```scheme\n",
    "(define zm wyr)\n",
    "```\n",
    "Deklaruje zmienną `zm` i nadaje jej wartość wyrażenia `wyr`. (Krótko - reszta później:))"
   ]
  },
  {
   "cell_type": "code",
   "execution_count": 5,
   "metadata": {},
   "outputs": [
    {
     "data": {
      "text/plain": "1"
     },
     "execution_count": 5,
     "metadata": {},
     "output_type": "execute_result"
    }
   ],
   "source": [
    "(define a (+ 0 1))\n",
    "a"
   ]
  },
  {
   "cell_type": "markdown",
   "metadata": {
    "nbgrader": {
     "grade": false,
     "grade_id": "cell-d18dce70d73336f3",
     "locked": true,
     "schema_version": 3,
     "solution": false,
     "task": false
    }
   },
   "source": [
    "#### Wczytywanie danych (łańcuchów) z klawiatury.\n",
    "`read`"
   ]
  },
  {
   "cell_type": "code",
   "execution_count": 6,
   "metadata": {},
   "outputs": [
    {
     "data": {
      "text/plain": "\"s\""
     },
     "execution_count": 6,
     "metadata": {},
     "output_type": "execute_result"
    }
   ],
   "source": [
    "(define a (read))\n",
    "a"
   ]
  },
  {
   "cell_type": "markdown",
   "metadata": {
    "nbgrader": {
     "grade": false,
     "grade_id": "cell-ff30dbafa1a43a4d",
     "locked": true,
     "schema_version": 3,
     "solution": false,
     "task": false
    }
   },
   "source": [
    "#### Konwersja typów.\n",
    "\n",
    "Wybrane procedury:\n",
    "\n",
    "- `(char->integer CHAR)`    - zwróć powiązany numer CHAR\n",
    "- `(char->string CHAR)`     - zwraca znak jako łańcuch\n",
    "- `(list->string LIST)`     - zwraca listę jako łańcuch\n",
    "- `(list->vector LIST)`     - zwraca listę jako wektor\n",
    "- `(number->string NUMBER)` - zwraca numer jako łańcuch\n",
    "- `(string->list STRING)`   - zwraca łańcuch jako listę znaków\n",
    "- `(string->number STRING)` - zwraca łańcuch jako liczbę\n",
    "- `(string->symbol STRING)` - zwraca łańcuch jako symbol\n",
    "- `(symbol->string SYMBOL)` - zwraca symbol jako łańcuch\n",
    "- `(vector->list VECTOR)`   - zwraca wektor jako listę"
   ]
  },
  {
   "cell_type": "code",
   "execution_count": 8,
   "metadata": {},
   "outputs": [
    {
     "name": "stderr",
     "output_type": "stream",
     "text": [
      "\u001B[1;31m\n",
      "Traceback (most recent call last):\n",
      "  File \"In [8]\", line 2, col 1, in 'string->number'\n",
      "UnhandledException: invalid literal for int() with base 10: 's'\n",
      "\n",
      "\u001B[0m"
     ]
    }
   ],
   "source": [
    "(define a (read))\n",
    "(string->number a)"
   ]
  },
  {
   "cell_type": "code",
   "execution_count": 9,
   "metadata": {},
   "outputs": [
    {
     "data": {
      "text/plain": "49"
     },
     "execution_count": 9,
     "metadata": {},
     "output_type": "execute_result"
    }
   ],
   "source": [
    "(char->integer #\\1)"
   ]
  },
  {
   "cell_type": "markdown",
   "metadata": {
    "nbgrader": {
     "grade": false,
     "grade_id": "cell-85997ce4d85d569f",
     "locked": true,
     "schema_version": 3,
     "solution": false,
     "task": false
    }
   },
   "source": [
    "#### Predykaty\n",
    "Sprawdzanie rodzaju argumentów (typów) wewnątrz funkcji . Wybrane predykaty:\n",
    "```scheme\n",
    "    (boolean? a)        ;zwraca #t, jeśli a jest wartością logiczną\t\n",
    "    (char? a)           ;zwraca #t, jeśli a jest znakiem, w przeciwnym razie #f\t\n",
    "    (string? a)         ;zwraca #t, jeśli a jest napisem, w przeciwnym razie #f\t\n",
    "    (number? a)         ;zwraca #t, jeśli a jest liczbą, w przeciwnym razie #f\n",
    "    (pair? a)           ;zwraca #t, jeśli a jest parą (właściwą lub niewłaściwą listą) \n",
    "    (list? a)           ;return #t, jeśli a jest listą, #f w przeciwnym razie\n",
    "    (procedure? a)      ;zwraca #t, jeśli a jest procedurą, w przeciwnym razie #f\n",
    "    (vector? a)         ;return #t, jeśli a jest listą, #f w przeciwnym razie\n",
    "    (null? a)           ;zwraca #t, jeśli a jest pustą listą, #f w przeciwnym razie\n",
    "    (zero? LICZBA)      ;zwraca #t, jeśli LICZBA jest równa zero, w przeciwnym razie #f\n",
    "    (odd? LICZBA)       ;zwraca #t, jeśli LICZBA jest parzysta, #f w przeciwnym razie\n",
    "    (even? LICZBA)      ;zwraca #t, jeśli LICZBA jest nieparzysta, #f w przeciwnym razie\n",
    "    ...\n",
    "```"
   ]
  },
  {
   "cell_type": "code",
   "execution_count": 10,
   "metadata": {},
   "outputs": [
    {
     "data": {
      "text/plain": "#f"
     },
     "execution_count": 10,
     "metadata": {},
     "output_type": "execute_result"
    }
   ],
   "source": [
    "(define a 2)\n",
    "(boolean? a)"
   ]
  },
  {
   "cell_type": "code",
   "execution_count": 11,
   "metadata": {},
   "outputs": [
    {
     "data": {
      "text/plain": "#t"
     },
     "execution_count": 11,
     "metadata": {},
     "output_type": "execute_result"
    }
   ],
   "source": [
    "(procedure? +)"
   ]
  },
  {
   "cell_type": "code",
   "execution_count": 12,
   "metadata": {},
   "outputs": [
    {
     "data": {
      "text/plain": "#t"
     },
     "execution_count": 12,
     "metadata": {},
     "output_type": "execute_result"
    }
   ],
   "source": [
    "(symbol? 'a) \n",
    "; (symbol? a) "
   ]
  },
  {
   "cell_type": "markdown",
   "metadata": {
    "nbgrader": {
     "grade": false,
     "grade_id": "cell-625e29f720233a12",
     "locked": true,
     "schema_version": 3,
     "solution": false,
     "task": false
    }
   },
   "source": [
    "### Podstawowe typy danych\n",
    "\n",
    "#### Typ liczbowe\n",
    " Do typów liczbowych należą liczby całkowite, zmiennoprzecinkowe i zespolone oraz ułamki zwykłe. \n",
    " \n",
    " Liczby są stałymi."
   ]
  },
  {
   "cell_type": "code",
   "execution_count": 13,
   "metadata": {},
   "outputs": [
    {
     "name": "stdout",
     "output_type": "stream",
     "text": [
      "-12\n",
      "-12\n",
      "1/2\n",
      "1.4\n",
      "1e-12\n"
     ]
    },
    {
     "data": {
      "text/plain": "(3+2j)"
     },
     "execution_count": 13,
     "metadata": {},
     "output_type": "execute_result"
    }
   ],
   "source": [
    "(display -12) (newline)\n",
    "(print -12 1/2 1.4 1e-12) \n",
    "(complex 3 2) ; Calysto Scheme ma dostęp do funkcji Pythona, w DrRacket zapis 3+2i"
   ]
  },
  {
   "cell_type": "markdown",
   "metadata": {
    "nbgrader": {
     "grade": false,
     "grade_id": "cell-441e369263d991bf",
     "locked": true,
     "schema_version": 3,
     "solution": false,
     "task": false
    }
   },
   "source": [
    "#### Znaki, Łańcuchy \n",
    "\n",
    "- Znaki ropoczynają się od `#\\`, np.: `#\\a` \n",
    "- Łańcuchy umieszczane w cudzysłowach `\"tekst\"`.\n",
    "- Wielkość ma znaczenie dla znaków i łańcuchów."
   ]
  },
  {
   "cell_type": "code",
   "execution_count": 14,
   "metadata": {},
   "outputs": [
    {
     "data": {
      "text/plain": "#t"
     },
     "execution_count": 14,
     "metadata": {},
     "output_type": "execute_result"
    }
   ],
   "source": [
    "(define t #\\a) ; definicja t - zawiara znak\n",
    "t\n",
    "(char? t)"
   ]
  },
  {
   "cell_type": "code",
   "execution_count": 15,
   "metadata": {},
   "outputs": [
    {
     "data": {
      "text/plain": "#t"
     },
     "execution_count": 15,
     "metadata": {},
     "output_type": "execute_result"
    }
   ],
   "source": [
    "(define T \"Hello World\") ; definicja T - zawiera łańcuch\n",
    "T\n",
    "(string? T)"
   ]
  },
  {
   "cell_type": "code",
   "execution_count": 16,
   "metadata": {},
   "outputs": [
    {
     "data": {
      "text/plain": "#f"
     },
     "execution_count": 16,
     "metadata": {},
     "output_type": "execute_result"
    }
   ],
   "source": [
    "(eq? \"a\" t) ;"
   ]
  },
  {
   "cell_type": "markdown",
   "metadata": {
    "nbgrader": {
     "grade": false,
     "grade_id": "cell-2043115d3531a5c1",
     "locked": true,
     "schema_version": 3,
     "solution": false,
     "task": false
    }
   },
   "source": [
    "__Liczby (stałe) i ciągi znaków są to tzw. atomy.__"
   ]
  },
  {
   "cell_type": "markdown",
   "metadata": {
    "nbgrader": {
     "grade": false,
     "grade_id": "cell-08ae8f6eb0f899cf",
     "locked": true,
     "schema_version": 3,
     "solution": false,
     "task": false
    }
   },
   "source": [
    "__Procedury Scheme-a: instrukcja warunkowa__\n",
    "\n",
    "Ogólna postać wyrażeń warunkowych `cond` w Lisp-e:\n",
    "```scheme\n",
    "(cond (<p1> <e1>) (<p2> <e2>) ...  (<pn> <en>))\n",
    "\n",
    "```\n",
    "- Wyrażenie warunkowe składa się z symbolu `cond`, po którym następuje sekwencja par wyrażeń `(<p> <e>)` ujętych w nawiasy i nazywanych klauzulami\n",
    "- Pierwsze wyrażenie każdej z par to predykat (ang. predicate) - wyrażenie którego wartość jest interpretowana jako `prawda` albo `fałsz`. Drugie wyrażenie to następnik klauzuli `<e>`.\n",
    "- Najpierw obliczana jest wartość predykatu `<p1>`, jeśli wartość jest `fałszem` to obliczana jest wartość `<p2>`, jeśli `<p2>` jest `fałszem` to obliczamy `<p3>` itd. aż do znalezienia predykatu którego wartość jest `prawdą`. Wówczas interpreter  przyjmuje wartość odpowiadającego temu predykatowi następnika klauzuli `<e>` jako wartość całego wyrażenia warunkowego. \n",
    "- Jeśli wartość żadnego z predykatów `<p`> nie jest prawdą, to wartość wyrażenia warunkowego jest nieokreślona.\n",
    "\n",
    "Symbol specjalny - `else`:\n",
    "```scheme\n",
    "(cond (<p1> <e1>) (<p2> <e2>) ...  (else <e>))\n",
    "\n",
    "```\n",
    "\n",
    "- `else` można używać w miejsce `<p>` w ostatniej klauzuli wyrażenia warunkowego `cond`, jeśli wszystkie poprzedzające klauzule zostaną pominięte to wartością `cond` jest wartość odpowiadającego mu wyrażenia `<e>`\n",
    "\n",
    "\n",
    "\n",
    "Forma specjalna `if`.\n",
    "\n",
    "Ograniczona forma wyrażenia warunkowego `cond` z której korzystamy mając do rozpatrzenia tylko dwa przypadki.\n",
    "```scheme\n",
    "(if <predykat> <następnik> <alternatywa>)\n",
    "```\n",
    "- jeśli obliczony jako pierwszy `<predykat>` ma wartość `prawda`, to interpreter jako wartość całego wyrażenia oblicza wartość `<następnika>`, w przeciwnym razie jako wartość wyrażenia obliczana jest wartość `<alternatywy>`.\n",
    "- `if` jest formą składniową – nie procedurą"
   ]
  },
  {
   "cell_type": "code",
   "execution_count": 17,
   "metadata": {},
   "outputs": [
    {
     "name": "stderr",
     "output_type": "stream",
     "text": [
      "\u001B[1;31m\n",
      "Traceback (most recent call last):\n",
      "  File \"In [17]\", line 1, col 10\n",
      "RunTimeError: unbound variable 'b'\n",
      "\n",
      "\u001B[0m"
     ]
    }
   ],
   "source": [
    "(print a b c)\n",
    "(cond ((eq? a -1) '-jeden)\n",
    "      ((eq? b -2 ) '-dwa)\n",
    "      ((eq? c 3) 'trzy))"
   ]
  },
  {
   "cell_type": "code",
   "execution_count": 18,
   "metadata": {},
   "outputs": [
    {
     "name": "stderr",
     "output_type": "stream",
     "text": [
      "\u001B[1;31m\n",
      "Traceback (most recent call last):\n",
      "  File \"In [18]\", line 2, col 13\n",
      "RunTimeError: unbound variable 'b'\n",
      "\n",
      "\u001B[0m"
     ]
    }
   ],
   "source": [
    "(cond ((eq? a -1) '-jeden)\n",
    "      ((eq? b -2 ) '-dwa)\n",
    "      (else  3))"
   ]
  },
  {
   "cell_type": "code",
   "execution_count": 19,
   "metadata": {},
   "outputs": [
    {
     "data": {
      "text/plain": "inny"
     },
     "execution_count": 19,
     "metadata": {},
     "output_type": "execute_result"
    }
   ],
   "source": [
    "(if (eq? a -1) '-jeden 'inny)"
   ]
  },
  {
   "cell_type": "markdown",
   "metadata": {
    "nbgrader": {
     "grade": false,
     "grade_id": "cell-0adab273a5355ea5",
     "locked": true,
     "schema_version": 3,
     "solution": false,
     "task": false
    }
   },
   "source": [
    "### Podstawowe operatory (procedury)\n",
    "\n",
    "#### Operatory arytmetyczne\n",
    " \n",
    " `+`, `-` , `*`, `/`\n",
    " \n",
    " `(quotient arg0 arg1)` - wynik dzielenia liczb całkowitych\n",
    " \n",
    " `(modulo arg0 arg1)` - reszta z dzielenia liczb całkowitych\n",
    " \n",
    " #### Operatory porównań\n",
    " \n",
    " Wartości logiczne reprezentowane przez identyfikatory `#t`  i  `#f`\n",
    " \n",
    " `=`, `<`, `<=`, `>`, `>=`\n",
    " \n",
    " #### Operatory logiczne\n",
    " \n",
    " `and`, `or`, `not`\n",
    " \n",
    " #### Porównywanie argumentów\n",
    " \n",
    "- `eq?`      – `#t` jeśli są identyczne\n",
    "- `eqv?`     – `#t` jeśli są ekwiwalentne operacyjnie (równoważne)\n",
    "- `equal?`   – `#t` jeśli mają tą samą strukture i zawartość\n",
    "\n",
    "\n",
    "    - Równość dwóch zmiennych sprawdzamy predykatem `eq?`\n",
    "    - Dwie zmienne są równe jeśli są tą samą liczbą, tym samym symbolem lub wskazują na tę samą parę (listę).\n",
    "    - Dwie listy o takich samych elementach zostaną wzięte za różne jeśli powstały niezależnie od siebie (czyli jedna z nich nie przyjęła wartości przez podstawienie drugiej).\n",
    "\n",
    "Przykłady:"
   ]
  },
  {
   "cell_type": "code",
   "execution_count": 20,
   "metadata": {},
   "outputs": [
    {
     "data": {
      "text/plain": "-1.0"
     },
     "execution_count": 20,
     "metadata": {},
     "output_type": "execute_result"
    }
   ],
   "source": [
    "(+ 2 1/5 -3.2)"
   ]
  },
  {
   "cell_type": "code",
   "execution_count": 21,
   "metadata": {},
   "outputs": [
    {
     "data": {
      "text/plain": "-1.4000000000000001"
     },
     "execution_count": 21,
     "metadata": {},
     "output_type": "execute_result"
    }
   ],
   "source": [
    "(- 2 1/5 3.2)"
   ]
  },
  {
   "cell_type": "code",
   "execution_count": 22,
   "metadata": {},
   "outputs": [
    {
     "data": {
      "text/plain": "1.2800000000000002"
     },
     "execution_count": 22,
     "metadata": {},
     "output_type": "execute_result"
    }
   ],
   "source": [
    "(* 2 1/5 3.2)"
   ]
  },
  {
   "cell_type": "code",
   "execution_count": 23,
   "metadata": {},
   "outputs": [
    {
     "data": {
      "text/plain": "-2"
     },
     "execution_count": 23,
     "metadata": {},
     "output_type": "execute_result"
    }
   ],
   "source": [
    "(/ 2 1/2 -2)"
   ]
  },
  {
   "cell_type": "code",
   "execution_count": 24,
   "metadata": {},
   "outputs": [
    {
     "data": {
      "text/plain": "3"
     },
     "execution_count": 24,
     "metadata": {},
     "output_type": "execute_result"
    }
   ],
   "source": [
    "(quotient 7 2)"
   ]
  },
  {
   "cell_type": "markdown",
   "metadata": {
    "nbgrader": {
     "grade": false,
     "grade_id": "cell-331549360424c37e",
     "locked": true,
     "schema_version": 3,
     "solution": false,
     "task": false
    }
   },
   "source": [
    "Procedury zagnieżdzone."
   ]
  },
  {
   "cell_type": "code",
   "execution_count": 25,
   "metadata": {},
   "outputs": [
    {
     "data": {
      "text/plain": "10"
     },
     "execution_count": 25,
     "metadata": {},
     "output_type": "execute_result"
    }
   ],
   "source": [
    "(+ (+ 1 2) (+ 3 4))"
   ]
  },
  {
   "cell_type": "code",
   "execution_count": 26,
   "metadata": {},
   "outputs": [
    {
     "data": {
      "text/plain": "4"
     },
     "execution_count": 26,
     "metadata": {},
     "output_type": "execute_result"
    }
   ],
   "source": [
    "(* 4 (/ 2 (+ 2 (- 2 2))))"
   ]
  },
  {
   "cell_type": "code",
   "execution_count": 27,
   "metadata": {},
   "outputs": [
    {
     "data": {
      "text/plain": "#t"
     },
     "execution_count": 27,
     "metadata": {},
     "output_type": "execute_result"
    }
   ],
   "source": [
    "(> 3 2) ;Operatory porównań"
   ]
  },
  {
   "cell_type": "code",
   "execution_count": 28,
   "metadata": {},
   "outputs": [
    {
     "data": {
      "text/plain": "#f"
     },
     "execution_count": 28,
     "metadata": {},
     "output_type": "execute_result"
    }
   ],
   "source": [
    "(= 2 3) ;Operatory porównań"
   ]
  },
  {
   "cell_type": "code",
   "execution_count": 29,
   "metadata": {},
   "outputs": [
    {
     "data": {
      "text/plain": "#f"
     },
     "execution_count": 29,
     "metadata": {},
     "output_type": "execute_result"
    }
   ],
   "source": [
    "(not (and (> 3 2) \n",
    "          (< 2 3))) ;Operatory logiczne"
   ]
  },
  {
   "cell_type": "markdown",
   "metadata": {
    "nbgrader": {
     "grade": false,
     "grade_id": "cell-0aa1be6d7a4e5730",
     "locked": true,
     "schema_version": 3,
     "solution": false,
     "task": false
    }
   },
   "source": [
    "### Funkcje przekształceń\n",
    "\n",
    "- Funkcje kończące się znakiem `!` modyfikują wartości swoich argumentów. \n",
    "- Zmienna (argument) musi być zadeklarowana.\n",
    "- Wybrane funkcje przekształceń:\n",
    "    ```scheme\n",
    "        (set! zm war)           ; przypisz zmiennej zm wartość war\n",
    "        (set-car! LIST ITEM)    ; zamień pierwszy element w liście LIST na ITEM - tylko w jądrze jupyter\n",
    "        (set-cdr! LIST ITEM)    ; zamień \"ogon\" w liście LIST na ITEM - tylko w jądrze jupyter\n",
    "    ```"
   ]
  },
  {
   "cell_type": "code",
   "execution_count": 30,
   "metadata": {},
   "outputs": [
    {
     "data": {
      "text/plain": "13"
     },
     "execution_count": 30,
     "metadata": {},
     "output_type": "execute_result"
    }
   ],
   "source": [
    "(define x 12)\n",
    "(set! x 13)\n",
    "x"
   ]
  },
  {
   "cell_type": "markdown",
   "metadata": {
    "nbgrader": {
     "grade": false,
     "grade_id": "cell-ffb91b4568b77e9a",
     "locked": true,
     "schema_version": 3,
     "solution": false,
     "task": false
    }
   },
   "source": [
    "### Deklarowanie zmiennych lokalnych: `let`\n",
    "\n",
    "```scheme\n",
    "    (let ((zm_1 wyr_1) ... (zm_n wyr_n)) wyrazenie) \n",
    "```\n",
    "\n",
    "- ustawia wartość zmiennych `(zm_1, ... zm_n`) na wyniki odpowiadających im wyrażeń `(wyr_1, ... wyr_n)` i wylicza na ich podstawie wartość wyrażenia `wyrazenie`. \n",
    "- Zmienne nie są dostępne poza obrębem `let`. \n",
    "- Jeśli zmienne te istnieją, to zostaną przesłonięte (aby tego uniknąć należy wybrać inne nazwy dla zmiennych).\n",
    "- `let` można zagnieżdżać.\n",
    "\n",
    "*wikipedia"
   ]
  },
  {
   "cell_type": "code",
   "execution_count": 31,
   "metadata": {},
   "outputs": [
    {
     "data": {
      "text/plain": "8"
     },
     "execution_count": 31,
     "metadata": {},
     "output_type": "execute_result"
    }
   ],
   "source": [
    "(let ((x 5))\n",
    "  (+ 3 x))"
   ]
  },
  {
   "cell_type": "code",
   "execution_count": 32,
   "metadata": {},
   "outputs": [
    {
     "data": {
      "text/plain": "12"
     },
     "execution_count": 32,
     "metadata": {},
     "output_type": "execute_result"
    }
   ],
   "source": [
    "(let ((+ *))\n",
    "  (+ 3 4))"
   ]
  },
  {
   "cell_type": "code",
   "execution_count": 33,
   "metadata": {},
   "outputs": [
    {
     "data": {
      "text/plain": "-24"
     },
     "execution_count": 33,
     "metadata": {},
     "output_type": "execute_result"
    }
   ],
   "source": [
    "(let ((x (+ 3 5))\n",
    "      (y (- 4 7)))\n",
    "  (* x y))"
   ]
  },
  {
   "cell_type": "code",
   "execution_count": 34,
   "metadata": {},
   "outputs": [
    {
     "data": {
      "text/plain": "4"
     },
     "execution_count": 34,
     "metadata": {},
     "output_type": "execute_result"
    }
   ],
   "source": [
    "(let ((x 1))\n",
    "  (let ((x (+ x 1))) ; zagnieżdżone let - przesłania x\n",
    "    (+ x x)))        "
   ]
  },
  {
   "cell_type": "code",
   "execution_count": 35,
   "metadata": {},
   "outputs": [
    {
     "data": {
      "text/plain": "4"
     },
     "execution_count": 35,
     "metadata": {},
     "output_type": "execute_result"
    }
   ],
   "source": [
    "(let ((x 1))\n",
    "  (let ((new-x (+ x 1))) ;aby uniknąć przesłaniania należy wybrać inne nazwy dla zmiennych\n",
    "    (+ new-x new-x)))"
   ]
  },
  {
   "cell_type": "markdown",
   "metadata": {
    "nbgrader": {
     "grade": false,
     "grade_id": "cell-9cbd2f8afadc26cc",
     "locked": true,
     "schema_version": 3,
     "solution": false,
     "task": false
    }
   },
   "source": [
    "#### Deklarowanie zmiennych lokalnych - przypisywanie w kolejności\n",
    "\n",
    "```scheme\n",
    "    (let* ((zm_1 wyr_1) ... (zm_n wyr_n)) wyrazenie) \n",
    "```\n",
    " - Znaczenie podobne do `let`, jednak przy wyliczaniu wartości wyrażeń `wyr_2, ...wyr_n` brane są pod uwagę wartości wcześniej ustawione `let`-em\n",
    "\n",
    "*wikipedia"
   ]
  },
  {
   "cell_type": "code",
   "execution_count": 36,
   "metadata": {},
   "outputs": [
    {
     "data": {
      "text/plain": "1"
     },
     "execution_count": 36,
     "metadata": {},
     "output_type": "execute_result"
    }
   ],
   "source": [
    "(let* ((a 1) (b a))\n",
    "  b)"
   ]
  },
  {
   "cell_type": "markdown",
   "metadata": {
    "nbgrader": {
     "grade": false,
     "grade_id": "cell-a366cee1ace3cbd6",
     "locked": true,
     "schema_version": 3,
     "solution": false,
     "task": false
    }
   },
   "source": [
    "###  Funkcje: wyrażenie `lambda` \n",
    "\n",
    "(Krótko - reszta później:)\n",
    "\n",
    "```scheme\n",
    "    (lambda (lista argumentów) (ciało funkcji)) \n",
    "```\n",
    "- `lambda` tworzy nową procedurę\n",
    "- używane przy definicji funkcji\n",
    "- może być zagnieżdżane wewnątrz wyrażeń `lambda` i `let`\n",
    "- procedury są obiektami, można określać je jako wartości zmiennych i wywoływać więciej niż jeden raz"
   ]
  },
  {
   "cell_type": "code",
   "execution_count": 37,
   "metadata": {},
   "outputs": [
    {
     "data": {
      "text/plain": "#<procedure>"
     },
     "execution_count": 37,
     "metadata": {},
     "output_type": "execute_result"
    }
   ],
   "source": [
    "(lambda (x) (+ x x)) ;tworzy nową procedurę"
   ]
  },
  {
   "cell_type": "code",
   "execution_count": 38,
   "metadata": {},
   "outputs": [
    {
     "data": {
      "text/plain": "12"
     },
     "execution_count": 38,
     "metadata": {},
     "output_type": "execute_result"
    }
   ],
   "source": [
    "((lambda (x) (+ x x)) (* 2 3))"
   ]
  },
  {
   "cell_type": "code",
   "execution_count": 39,
   "metadata": {},
   "outputs": [
    {
     "data": {
      "text/plain": "(12 1 -10)"
     },
     "execution_count": 39,
     "metadata": {},
     "output_type": "execute_result"
    }
   ],
   "source": [
    "(let ((doubler (lambda (x) (+ x x)))) ; doubler procedura dostępna w zasięgu let\n",
    "  (list (doubler (* 2 3)) \n",
    "        (doubler (/ 2 4)) \n",
    "        (doubler (- 2 7))))"
   ]
  },
  {
   "cell_type": "markdown",
   "metadata": {
    "nbgrader": {
     "grade": false,
     "grade_id": "cell-b70d36f4ebe28dff",
     "locked": true,
     "schema_version": 3,
     "solution": false,
     "task": false
    }
   },
   "source": [
    "###  Definiowanie funkcji: `define` \n",
    "\n",
    "(Bardzo krótko - reszta później:)\n",
    "\n",
    "```scheme\n",
    "       (define procedura \n",
    "          (lambda (lista_argumentów) \n",
    "            (ciało_funkcji)))  \n",
    "```\n",
    "\n",
    "- pozwala definiować obiekt lub procedurę, widoczną w dowolnym miejscu\n",
    "- definicje wyższego poziomu są widoczne w każdym wyrażeniu poza wyrażeniami, które zostały przykryte innymi przypisaniami\n",
    "\n",
    "Możliwy jest zapis skrócony (bez `lambda`):\n",
    "\n",
    "```scheme\n",
    "       (define (procedura lista_argumentów) \n",
    "            (ciało funkcji))  \n",
    "```\n"
   ]
  },
  {
   "cell_type": "code",
   "execution_count": 40,
   "metadata": {},
   "outputs": [],
   "source": [
    "(define switch (lambda (x a b c)\n",
    "                 (cond ((< x 0) a)\n",
    "                       ((= x 0) b)\n",
    "                       ((> x 0) c)))) "
   ]
  },
  {
   "cell_type": "code",
   "execution_count": 41,
   "metadata": {},
   "outputs": [
    {
     "data": {
      "text/plain": "a"
     },
     "execution_count": 41,
     "metadata": {},
     "output_type": "execute_result"
    }
   ],
   "source": [
    "(switch -1 'a 'b 'c)"
   ]
  },
  {
   "cell_type": "code",
   "execution_count": 42,
   "metadata": {},
   "outputs": [],
   "source": [
    "(define  (switch1 x a b c) ; zapis skrócony - ukryta lambda\n",
    " (cond ((< x 0) a)\n",
    " ((= x 0) b)\n",
    " ((> x 0) c)))"
   ]
  },
  {
   "cell_type": "code",
   "execution_count": 43,
   "metadata": {},
   "outputs": [
    {
     "data": {
      "text/plain": "c"
     },
     "execution_count": 43,
     "metadata": {},
     "output_type": "execute_result"
    }
   ],
   "source": [
    "(switch1 10 'a 'b 'c)"
   ]
  },
  {
   "cell_type": "code",
   "execution_count": 44,
   "metadata": {},
   "outputs": [
    {
     "data": {
      "text/plain": "2"
     },
     "execution_count": 44,
     "metadata": {},
     "output_type": "execute_result"
    }
   ],
   "source": [
    "(define doubler ;definiowanie procedury z dwoma argumentami\n",
    "  (lambda (f x) (f x x)))\n",
    "\n",
    "(doubler  + 1)"
   ]
  },
  {
   "cell_type": "code",
   "execution_count": 45,
   "metadata": {},
   "outputs": [
    {
     "data": {
      "text/plain": "2"
     },
     "execution_count": 45,
     "metadata": {},
     "output_type": "execute_result"
    }
   ],
   "source": [
    "(define doubler ; definiowanie procedury z jednym argumentem\n",
    "  (lambda (f)\n",
    "    (lambda (x) (f x x))))\n",
    "\n",
    "((doubler  +) 1)"
   ]
  },
  {
   "cell_type": "markdown",
   "metadata": {
    "nbgrader": {
     "grade": false,
     "grade_id": "cell-1a5d482891c7745a",
     "locked": true,
     "schema_version": 3,
     "solution": false,
     "task": false
    }
   },
   "source": [
    "## Zadanie 1\n",
    "\n",
    "Wklej do interpretera każdą linię. Co zostanie wypisane?\n",
    "\n",
    "```scheme\n",
    "10\n",
    "(+ 5 3 4)\n",
    "(- 9 1)\n",
    "(/ 6 2)\n",
    "(+ (* 2 4) (- 4 6))\n",
    "(define a 3)\n",
    "(define b (+ a 1))\n",
    "(+ a b (* a b))\n",
    "(= a b)\n",
    "(> 2 1)\n",
    "(< 1 2 3)\n",
    "(< 2 1 3)\n",
    "#t\n",
    "#f\n",
    "(quotient 3 4)\n",
    "(/ 3 4)\n",
    "(modulo 3 4)\n",
    "(define bla 3)\n",
    "(set! bla (+ bla 1))\n",
    "bla\n",
    "(display 1)\n",
    "(display (/ 3 4))\n",
    "```"
   ]
  },
  {
   "cell_type": "code",
   "execution_count": 2,
   "metadata": {
    "nbgrader": {
     "grade": true,
     "grade_id": "cell-9f19d908160a2ba6",
     "locked": false,
     "points": 1,
     "schema_version": 3,
     "solution": true,
     "task": false
    }
   },
   "outputs": [
    {
     "name": "stderr",
     "output_type": "stream",
     "text": [
      "\u001B[1;31m\n",
      "Traceback (most recent call last):\n",
      "  File \"In [2]\", line 12, col 1, in '<'\n",
      "UnhandledException: LessThan() takes 2 positional arguments but 3 were given\n",
      "\n",
      "\u001B[0m"
     ]
    }
   ],
   "source": [
    ";;; BEGIN SOLUTION\n",
    "10\n",
    "(+ 5 3 4)\n",
    "(- 9 1)\n",
    "(/ 6 2)\n",
    "(+ (* 2 4) (- 4 6))\n",
    "(define a 3)\n",
    "(define b (+ a 1))\n",
    "(+ a b (* a b))\n",
    "(= a b)\n",
    "(> 2 1)\n",
    "(< 1 2 3)\n",
    "(< 2 1 3)\n",
    "#t\n",
    "#f\n",
    "(quotient 3 4)\n",
    "(/ 3 4)\n",
    "(modulo 3 4)\n",
    "(define bla 3)\n",
    "(set! bla (+ bla 1))\n",
    "bla\n",
    "(display 1)\n",
    "(display (/ 3 4))\n",
    ";;; END SOLUTION"
   ]
  },
  {
   "cell_type": "markdown",
   "metadata": {
    "nbgrader": {
     "grade": false,
     "grade_id": "cell-0e1912c720be7b6d",
     "locked": true,
     "schema_version": 3,
     "solution": false,
     "task": false
    }
   },
   "source": [
    "## Zadanie 2\n",
    "\n",
    "Oblicz wartość wyrażenia przy pomocy Lisp-a:\n",
    "\n",
    "$${\\frac{5+4+(2-(3-(6+\\frac{4}{3})))}{3(6-2)(2-7)}} $$\n",
    "\n"
   ]
  },
  {
   "cell_type": "code",
   "execution_count": 1,
   "metadata": {},
   "outputs": [
    {
     "data": {
      "text/plain": "-23/90"
     },
     "execution_count": 1,
     "metadata": {},
     "output_type": "execute_result"
    }
   ],
   "source": [
    ";;; BEGIN SOLUTION\n",
    "(/ (+ 5 (+ 4 (- 2 (- 3 (+ 6 (/ 4 3)))))) (* 3 (* (- 6 2)(- 2 7))))\n",
    ";;; END SOLUTION"
   ]
  },
  {
   "cell_type": "markdown",
   "metadata": {
    "nbgrader": {
     "grade": false,
     "grade_id": "cell-9161e70981fb3dda",
     "locked": true,
     "schema_version": 3,
     "solution": false,
     "task": false
    }
   },
   "source": [
    "## Zadanie 3\n",
    "\n",
    "Napisz funkcję przyjmującą trzy argumenty, zwracającą sumę pierwszego i iloczynu dwóch ostatnich: `(a+b*c)`.\n"
   ]
  },
  {
   "cell_type": "code",
   "execution_count": 11,
   "metadata": {},
   "outputs": [
    {
     "data": {
      "text/plain": "7"
     },
     "execution_count": 11,
     "metadata": {},
     "output_type": "execute_result"
    }
   ],
   "source": [
    ";;; BEGIN SOLUTION\n",
    "(define (fun_3 a b c)\n",
    "  (+ a (* b c)))\n",
    "(fun_3 3 2 2)\n",
    ";;; END SOLUTION"
   ]
  },
  {
   "cell_type": "markdown",
   "metadata": {
    "nbgrader": {
     "grade": false,
     "grade_id": "cell-68e1c5392f314205",
     "locked": true,
     "schema_version": 3,
     "solution": false,
     "task": false
    }
   },
   "source": [
    "## Zadanie 4\n",
    "\n",
    "Napisz funkcję przyjmującą trzy argumenty, zwracającą sumę kwadratów dwóch największych argumentów. Wykorzystaj procedurę `doubler`."
   ]
  },
  {
   "cell_type": "code",
   "execution_count": 10,
   "metadata": {},
   "outputs": [
    {
     "data": {
      "text/plain": "41"
     },
     "execution_count": 10,
     "metadata": {},
     "output_type": "execute_result"
    }
   ],
   "source": [
    "(define doubler\n",
    "  (lambda (f)\n",
    "    (lambda (x) (f x x))))\n",
    "\n",
    ";;; BEGIN SOLUTION\n",
    "(define (fun_4 a b c)\n",
    "    (let* ((x a)(y b))\n",
    "      (if (> c  x ) (if (> x y) (set! y c) (set! x c)) (if (> c y) (set! y c) ()))\n",
    "      (+ ((doubler *) x) ((doubler *) y))))\n",
    "(fun_4 4 2 5)\n",
    ";;; END SOLUTION"
   ]
  },
  {
   "cell_type": "markdown",
   "metadata": {
    "nbgrader": {
     "grade": false,
     "grade_id": "cell-59d04a3833f55ce9",
     "locked": true,
     "schema_version": 3,
     "solution": false,
     "task": false
    }
   },
   "source": [
    "## Zadanie 5\n",
    "\n",
    "Napisz funkcję która wylicza i wypisuje rozwiązania równania kwadratowego `ax^2+bx+c=0`. Funkcja powinna przyjmować jako argumenty wartości `a`, `b`, `c` oraz `x`. Zakładamy, że zawsze są dwa rozwiązania.\n",
    "\n",
    "Wykorzystaj procedurę `sqrt`."
   ]
  },
  {
   "cell_type": "code",
   "execution_count": 9,
   "metadata": {},
   "outputs": [
    {
     "data": {
      "text/plain": "2.0"
     },
     "execution_count": 9,
     "metadata": {},
     "output_type": "execute_result"
    }
   ],
   "source": [
    ";;; BEGIN SOLUTION\n",
    "(define (fun_5 a b c x)\n",
    "  (let* ((sdelta (sqrt (- ((doubler *) b) (* 4 (* a c))))))\n",
    "         (if (eq? x 0)(/ (-(- 0 b) sdelta) (* 2 a)) (/ (+(- 0 b) sdelta) (* 2 a)))\n",
    "    ))\n",
    "(fun_5 1 -5 6 0)\n",
    ";;; END SOLUTION"
   ]
  }
 ],
 "metadata": {
  "celltoolbar": "Create Assignment",
  "kernelspec": {
   "display_name": "Calysto Scheme 3",
   "language": "scheme",
   "name": "calysto_scheme"
  },
  "language_info": {
   "codemirror_mode": {
    "name": "scheme"
   },
   "mimetype": "text/x-scheme",
   "name": "scheme",
   "pygments_lexer": "scheme"
  }
 },
 "nbformat": 4,
 "nbformat_minor": 4
}