{
 "cells": [
  {
   "cell_type": "markdown",
   "metadata": {
    "deletable": false,
    "editable": false,
    "nbgrader": {
     "cell_type": "markdown",
     "checksum": "152c710d5329ff9f6526d64fb692b895",
     "grade": false,
     "grade_id": "cell-4b34e804a6520a5c",
     "locked": true,
     "schema_version": 3,
     "solution": false
    }
   },
   "source": [
    "# Języki symboliczne - rok akademicki 2020/2021\n",
    "\n",
    "Przed rozpoczęciem pracy z notatnikiem zmień jego nazwę zgodnie z wzorem: `NrAlbumu_Nazwisko_Imie_PoprzedniaNazwa`\n",
    "\n",
    "Przed wysłaniem notatnika upewnij się, że rozwiązałeś wszystkie zadania/ćwiczenia, w szczególności, że uzupełniłeś wszystkie pola `YOUR CODE HERE` oraz `YOUR ANSWER HERE`."
   ]
  },
  {
   "cell_type": "markdown",
   "metadata": {
    "deletable": false,
    "editable": false,
    "nbgrader": {
     "cell_type": "markdown",
     "checksum": "702bd1b1800da38903c7ac1e4d2a1aaa",
     "grade": false,
     "grade_id": "cell-b21531a0b0d3d259",
     "locked": true,
     "schema_version": 3,
     "solution": false
    }
   },
   "source": [
    "## Temat_1: \n",
    "## Wprowadzenie do środowiska Jupyter. Typy liczbowe. Praca z tekstem. Instrukcje sterujące. Pętle.\n",
    "Zapoznaj się z treścią niniejszego notatnika czytając i wykonując go komórka po komórce. Wykonaj napotkane zadania/ćwiczenia.\n",
    "\n",
    "### Informacje wstępne\n",
    "#### Instalacja Windows\n",
    "Na zajęciach korzystać będziemy z Pythona w wersji 3.8 z dystrybucji Anaconda. W salach komputerowych Anaconda została już zainstalowana. \n",
    "Sposób instalacji patrz: \"Instrukcja konfiguracji środowiska\" zawarta w Informacjach Ogólnych kursu.\n",
    "\n",
    "Podczas zajęć pracujemy z wykorzystaniem narzędzia `Jupyter Notebook` (dostępnego w Start -> Anaconda -> Jupyter Notebook). Jest to interaktywna konsola Pythona (pracująca w oparciu o przeglądarkę) w postaci notebook-a, czyli taki plik jak właśnie przeglądasz, więcej o Jupyter na http://jupyter.org/.\n",
    "\n",
    "Stąd pobierzesz dystrybucję Anacondy: https://www.anaconda.com/products/individual\n",
    "\n",
    "Obsługa notebook-ów Jupyter jest możliwa m.in. w środowisku developerskim `Spyder`.\n",
    "\n",
    "Tu pokazano jak zainstalować obsługę notebook-ów dla środowiska `Spyder`: https://anaconda.org/conda-forge/spyder-notebook\n",
    "\n",
    "Dokumentacja Python 3 https://docs.python.org/3/.\n",
    "\n",
    "### Jupyter Notebook\n",
    "Najłatwiej uruchomić Jupyter Notebook klikając w Start -> Anaconda -> Jupyter Notebook, jednak lepiej uruchomić konsolę `cmd`, ustawić się w katalogu (należy go wcześniej utworzyć), w którym przechowywane będą materiały z zajęć komendą \n",
    "```\n",
    "cd sciezka\\do\\katalogu\n",
    "```\n",
    "a następnie uruchomić Jupyter Notebook komendą\n",
    "```\n",
    "jupyter notebook\n",
    "```\n",
    "Tak procedura spowoduje, że Jupyter uruchomi się w przeglądarce i odrazu ustawi jako katalog roboczy folder który sobie stworzyliśmy.\n",
    "\n",
    "Czasami przy pierwszym uruchomieniu w konsoli pojawia się link z tokenem, który należy skopiować i wkleić do przeglądarki www.\n",
    "\n",
    "### Zaczynamy\n",
    "### Komentarze w kodzie"
   ]
  },
  {
   "cell_type": "code",
   "execution_count": 1,
   "metadata": {},
   "outputs": [],
   "source": [
    "# to jest komentarz jednolinijkowy, interpreter pomija linie zaczynające się od '#'\n",
    "# Wykonaj komórkę (Shift+Enter) i zobacz że nic się nie wykona"
   ]
  },
  {
   "cell_type": "code",
   "execution_count": null,
   "metadata": {},
   "outputs": [],
   "source": [
    "\"\"\"\n",
    "To jest komentarz wielolinijkowy, wszystko pomiędzy trzema znakami cudzysłowia (alternatywnie trzema apostrofami)\n",
    "traktowane jest jako łańcuch znaków. Jeśli nie zostanie on przypisany do żadnej zmiennej to będzie traktowany jako \n",
    "komentarz. Często taki sposób wykorzystywany jest do dokumentowania kodu.\n",
    "\"\"\""
   ]
  },
  {
   "cell_type": "markdown",
   "metadata": {
    "deletable": false,
    "editable": false,
    "nbgrader": {
     "cell_type": "markdown",
     "checksum": "1e878d75d23bf0a17dd9d6dc44d128e3",
     "grade": false,
     "grade_id": "cell-11d15726331efec0",
     "locked": true,
     "schema_version": 3,
     "solution": false
    }
   },
   "source": [
    "### Funkcja `print()`\n",
    "Funkcja `print()` przyjmuje dowolną liczbę argumentów, dowolnego typu (no nie do końca dowolnego) i ma też parę parametrów/opcji, ale o tym innym razem. \n",
    "\n",
    "Funkcja `print` jest tak zwaną funkcją wbudowaną, inne dostępne i czasami przydatne funkcje wbudowane https://docs.python.org/3/library/functions.html."
   ]
  },
  {
   "cell_type": "code",
   "execution_count": 2,
   "metadata": {},
   "outputs": [
    {
     "name": "stdout",
     "output_type": "stream",
     "text": [
      "Hello\n",
      "Hello 1 3 [1, 3] (2+4j)\n",
      "Hello;1;3;[1, 3];(2+4j):"
     ]
    }
   ],
   "source": [
    "print('Hello')\n",
    "print('Hello',1,3,[1,3],2+4j)\n",
    "print('Hello',1,3,[1,3],2+4j, sep=';',end=':')"
   ]
  },
  {
   "cell_type": "markdown",
   "metadata": {
    "deletable": false,
    "editable": false,
    "nbgrader": {
     "cell_type": "markdown",
     "checksum": "64fb6a4a0ba1f3b74b38d6fc0096f7a1",
     "grade": false,
     "grade_id": "cell-783d71e00a052b6b",
     "locked": true,
     "schema_version": 3,
     "solution": false
    }
   },
   "source": [
    "### Podstawowe typy danych\n",
    "Python jest językiem dynamicznie typowanym, to znaczy, że nie ma potrzeby jawnego określania typu danej zmiennej, interpreter zrobi to za nas sam. Co więcej Python jest językiem w pełni obiektowy, w którym również zmienne są obiektami.\n",
    "#### Typ `int` (liczby całkowite)"
   ]
  },
  {
   "cell_type": "code",
   "execution_count": 1,
   "metadata": {},
   "outputs": [
    {
     "name": "stdout",
     "output_type": "stream",
     "text": [
      "2\n"
     ]
    },
    {
     "data": {
      "text/plain": [
       "int"
      ]
     },
     "execution_count": 1,
     "metadata": {},
     "output_type": "execute_result"
    }
   ],
   "source": [
    "a = 2    # przypisujemy zmiennej a liczbę całkowitą 2\n",
    "print(a) # wydruk zmiennej a\n",
    "type(a)  # wbudowana funkcja type() zwraca typ danego obiektu"
   ]
  },
  {
   "cell_type": "markdown",
   "metadata": {
    "deletable": false,
    "editable": false,
    "nbgrader": {
     "cell_type": "markdown",
     "checksum": "502b8d3e88255d1f2dbf2e7aa2d3b28f",
     "grade": false,
     "grade_id": "cell-13bca2b2ca90a1b8",
     "locked": true,
     "schema_version": 3,
     "solution": false
    }
   },
   "source": [
    "Przykładowe metody obiektu `int`. Wciskając po napisaniu kropki `Tab` wyświetlone zostaną dostępne pola i metody danego obiektu."
   ]
  },
  {
   "cell_type": "code",
   "execution_count": 2,
   "metadata": {},
   "outputs": [
    {
     "data": {
      "text/plain": [
       "2"
      ]
     },
     "execution_count": 2,
     "metadata": {},
     "output_type": "execute_result"
    }
   ],
   "source": [
    "a.bit_length()"
   ]
  },
  {
   "cell_type": "markdown",
   "metadata": {
    "deletable": false,
    "editable": false,
    "nbgrader": {
     "cell_type": "markdown",
     "checksum": "3e7096fa26337c3bdd15745c81a1f1ec",
     "grade": false,
     "grade_id": "cell-c415c9d17d13ce89",
     "locked": true,
     "schema_version": 3,
     "solution": false
    }
   },
   "source": [
    "#### Typ `float` (liczba zmiennoprzecinkowa)"
   ]
  },
  {
   "cell_type": "code",
   "execution_count": 3,
   "metadata": {},
   "outputs": [
    {
     "name": "stdout",
     "output_type": "stream",
     "text": [
      "2.5\n"
     ]
    },
    {
     "data": {
      "text/plain": [
       "float"
      ]
     },
     "execution_count": 3,
     "metadata": {},
     "output_type": "execute_result"
    }
   ],
   "source": [
    "b = 2.5\n",
    "print(b)\n",
    "type(b)"
   ]
  },
  {
   "cell_type": "code",
   "execution_count": 4,
   "metadata": {},
   "outputs": [
    {
     "data": {
      "text/plain": [
       "False"
      ]
     },
     "execution_count": 4,
     "metadata": {},
     "output_type": "execute_result"
    }
   ],
   "source": [
    "b.is_integer()"
   ]
  },
  {
   "cell_type": "markdown",
   "metadata": {
    "deletable": false,
    "editable": false,
    "nbgrader": {
     "cell_type": "markdown",
     "checksum": "a09663d1785e20b4c65d6b3038e10b03",
     "grade": false,
     "grade_id": "cell-239baf5303697212",
     "locked": true,
     "schema_version": 3,
     "solution": false
    }
   },
   "source": [
    "#### Typ `complex` (liczba zespolona)"
   ]
  },
  {
   "cell_type": "code",
   "execution_count": 5,
   "metadata": {},
   "outputs": [
    {
     "name": "stdout",
     "output_type": "stream",
     "text": [
      "(2+4j)\n"
     ]
    },
    {
     "data": {
      "text/plain": [
       "complex"
      ]
     },
     "execution_count": 5,
     "metadata": {},
     "output_type": "execute_result"
    }
   ],
   "source": [
    "z = 2+4j # j jednostka urojona, piszemy z prawej strony bez spacji\n",
    "print(z)\n",
    "type(z)"
   ]
  },
  {
   "cell_type": "code",
   "execution_count": 6,
   "metadata": {},
   "outputs": [
    {
     "data": {
      "text/plain": [
       "4.0"
      ]
     },
     "execution_count": 6,
     "metadata": {},
     "output_type": "execute_result"
    }
   ],
   "source": [
    "z.imag"
   ]
  },
  {
   "cell_type": "markdown",
   "metadata": {
    "deletable": false,
    "editable": false,
    "nbgrader": {
     "cell_type": "markdown",
     "checksum": "c280b7d38908b792adb9763d62cb628e",
     "grade": false,
     "grade_id": "cell-2cc0c3c12da24875",
     "locked": true,
     "schema_version": 3,
     "solution": false
    }
   },
   "source": [
    "#### Typ `bool` (prawda, fałsz)"
   ]
  },
  {
   "cell_type": "code",
   "execution_count": 7,
   "metadata": {},
   "outputs": [
    {
     "data": {
      "text/plain": [
       "bool"
      ]
     },
     "execution_count": 7,
     "metadata": {},
     "output_type": "execute_result"
    }
   ],
   "source": [
    "prawda = True\n",
    "falsz = False\n",
    "type(prawda)"
   ]
  },
  {
   "cell_type": "markdown",
   "metadata": {
    "deletable": false,
    "editable": false,
    "nbgrader": {
     "cell_type": "markdown",
     "checksum": "b0cf786528995c64658a867789c7af76",
     "grade": false,
     "grade_id": "cell-437d194315718328",
     "locked": true,
     "schema_version": 3,
     "solution": false
    }
   },
   "source": [
    "#### Typ `tuple` (krotka)\n",
    "Krotka to zestawienie kilku obiektów w jeden obiekt. Mogą to być obiekty różnych typów."
   ]
  },
  {
   "cell_type": "code",
   "execution_count": 8,
   "metadata": {},
   "outputs": [
    {
     "name": "stdout",
     "output_type": "stream",
     "text": [
      "(1, 2, 3, 4)\n",
      "(1, 3.5, 'a', (1, 2, 3, 4))\n",
      "4\n"
     ]
    },
    {
     "data": {
      "text/plain": [
       "tuple"
      ]
     },
     "execution_count": 8,
     "metadata": {},
     "output_type": "execute_result"
    }
   ],
   "source": [
    "a = (1, 2, 3, 4)\n",
    "b = (1, 3.5, 'a', a)\n",
    "print(a)\n",
    "print(b)\n",
    "print(len(a))\n",
    "type(a)"
   ]
  },
  {
   "cell_type": "markdown",
   "metadata": {
    "deletable": false,
    "editable": false,
    "nbgrader": {
     "cell_type": "markdown",
     "checksum": "b2a8ee2396feb8ca8301017fbc3b2d08",
     "grade": false,
     "grade_id": "cell-50a495acc20659da",
     "locked": true,
     "schema_version": 3,
     "solution": false
    }
   },
   "source": [
    "Elementy krotki można rozpakować do pojedynczych zmiennych."
   ]
  },
  {
   "cell_type": "code",
   "execution_count": 9,
   "metadata": {},
   "outputs": [
    {
     "name": "stdout",
     "output_type": "stream",
     "text": [
      "1\n",
      "2.5\n",
      "(1+3j)\n",
      "(1, 2.5, (1+3j))\n"
     ]
    }
   ],
   "source": [
    "# rozpakowywanie krotki\n",
    "a,b,c = (1, 2.5, 1+3j)\n",
    "d = (1, 2.5, 1+3j)\n",
    "print(a)\n",
    "print(b)\n",
    "print(c)\n",
    "print(d)"
   ]
  },
  {
   "cell_type": "markdown",
   "metadata": {
    "deletable": false,
    "editable": false,
    "nbgrader": {
     "cell_type": "markdown",
     "checksum": "6229463d08185c07ee1c011c6b7782bf",
     "grade": false,
     "grade_id": "cell-c43f50a835620f3e",
     "locked": true,
     "schema_version": 3,
     "solution": false
    }
   },
   "source": [
    "Krotka jest obiektem niemodyfikowalnym tzn. nie można przypisać nowego wartości na danej pozycji."
   ]
  },
  {
   "cell_type": "code",
   "execution_count": 10,
   "metadata": {},
   "outputs": [
    {
     "name": "stdout",
     "output_type": "stream",
     "text": [
      "1\n"
     ]
    },
    {
     "ename": "TypeError",
     "evalue": "'tuple' object does not support item assignment",
     "output_type": "error",
     "traceback": [
      "\u001b[1;31m---------------------------------------------------------------------------\u001b[0m",
      "\u001b[1;31mTypeError\u001b[0m                                 Traceback (most recent call last)",
      "\u001b[1;32m~\\AppData\\Local\\Temp/ipykernel_20220/4290912733.py\u001b[0m in \u001b[0;36m<module>\u001b[1;34m\u001b[0m\n\u001b[0;32m      1\u001b[0m \u001b[0mk\u001b[0m \u001b[1;33m=\u001b[0m \u001b[1;33m(\u001b[0m\u001b[1;36m1\u001b[0m\u001b[1;33m,\u001b[0m \u001b[1;36m2.5\u001b[0m\u001b[1;33m)\u001b[0m\u001b[1;33m\u001b[0m\u001b[1;33m\u001b[0m\u001b[0m\n\u001b[0;32m      2\u001b[0m \u001b[0mprint\u001b[0m\u001b[1;33m(\u001b[0m\u001b[0mk\u001b[0m\u001b[1;33m[\u001b[0m\u001b[1;36m0\u001b[0m\u001b[1;33m]\u001b[0m\u001b[1;33m)\u001b[0m\u001b[1;33m\u001b[0m\u001b[1;33m\u001b[0m\u001b[0m\n\u001b[1;32m----> 3\u001b[1;33m \u001b[0mk\u001b[0m\u001b[1;33m[\u001b[0m\u001b[1;36m0\u001b[0m\u001b[1;33m]\u001b[0m \u001b[1;33m=\u001b[0m \u001b[1;36m4.5\u001b[0m\u001b[1;33m\u001b[0m\u001b[1;33m\u001b[0m\u001b[0m\n\u001b[0m",
      "\u001b[1;31mTypeError\u001b[0m: 'tuple' object does not support item assignment"
     ]
    }
   ],
   "source": [
    "k = (1, 2.5)\n",
    "print(k[0])\n",
    "k[0] = 4.5"
   ]
  },
  {
   "cell_type": "markdown",
   "metadata": {
    "deletable": false,
    "editable": false,
    "nbgrader": {
     "cell_type": "markdown",
     "checksum": "24f6cce46ac8b55fd4f46de1e37777f7",
     "grade": false,
     "grade_id": "cell-bda034424c17f070",
     "locked": true,
     "schema_version": 3,
     "solution": false
    }
   },
   "source": [
    "#### Typ `str` (łańcuch znaków)"
   ]
  },
  {
   "cell_type": "code",
   "execution_count": null,
   "metadata": {},
   "outputs": [],
   "source": [
    "z = 'Witaj świecie'\n",
    "print(z)\n",
    "type(z)"
   ]
  },
  {
   "cell_type": "code",
   "execution_count": null,
   "metadata": {},
   "outputs": [],
   "source": [
    "print(z.upper())"
   ]
  },
  {
   "cell_type": "markdown",
   "metadata": {
    "deletable": false,
    "editable": false,
    "nbgrader": {
     "cell_type": "markdown",
     "checksum": "8bb3b764b9b156001ccc3e9dd81a5204",
     "grade": false,
     "grade_id": "cell-12b6fd3d31a5e83e",
     "locked": true,
     "schema_version": 3,
     "solution": false
    }
   },
   "source": [
    "### Operatory arytmetyczne (`+, -, *, /, //, **, %`)"
   ]
  },
  {
   "cell_type": "code",
   "execution_count": null,
   "metadata": {},
   "outputs": [],
   "source": [
    "# dwie liczby typu int\n",
    "a = 2\n",
    "b = 5\n",
    "print(a+b)\n",
    "print(a-b)\n",
    "print(a*b)\n",
    "print(a/b) # rzutuje na float\n",
    "print(a//b) # int\n",
    "print(a**b) # potęgowanie\n",
    "print(a%b) # reszta z dzielenia, modulo"
   ]
  },
  {
   "cell_type": "markdown",
   "metadata": {
    "deletable": false,
    "editable": false,
    "nbgrader": {
     "cell_type": "markdown",
     "checksum": "5302a0787c535f96ee7a26a3cac7fa6d",
     "grade": false,
     "grade_id": "cell-21476b07590d5ca6",
     "locked": true,
     "schema_version": 3,
     "solution": false
    }
   },
   "source": [
    "Operatory arytmetyczne definiowane są również dla prawie wszystkich typów danych nie tylko liczbowych. Co ważne, Python jest silnie typowany co oznacza m.in., że nie można dowolnie łączyć typów w operacjach arytmetycznych."
   ]
  },
  {
   "cell_type": "code",
   "execution_count": null,
   "metadata": {},
   "outputs": [
    {
     "ename": "TypeError",
     "evalue": "unsupported operand type(s) for +: 'float' and 'str'",
     "output_type": "error",
     "traceback": [
      "\u001b[1;31m---------------------------------------------------------------------------\u001b[0m",
      "\u001b[1;31mTypeError\u001b[0m                                 Traceback (most recent call last)",
      "\u001b[1;32m~\\AppData\\Local\\Temp/ipykernel_12084/578494796.py\u001b[0m in \u001b[0;36m<module>\u001b[1;34m\u001b[0m\n\u001b[1;32m----> 1\u001b[1;33m \u001b[1;36m2.5\u001b[0m \u001b[1;33m+\u001b[0m \u001b[1;34m'a'\u001b[0m\u001b[1;33m\u001b[0m\u001b[1;33m\u001b[0m\u001b[0m\n\u001b[0m",
      "\u001b[1;31mTypeError\u001b[0m: unsupported operand type(s) for +: 'float' and 'str'"
     ]
    }
   ],
   "source": [
    "2.5 + 'a'"
   ]
  },
  {
   "cell_type": "markdown",
   "metadata": {
    "deletable": false,
    "editable": false,
    "nbgrader": {
     "cell_type": "markdown",
     "checksum": "994608a070731fe84f3130726f1fab06",
     "grade": false,
     "grade_id": "cell-86c09924fd76d0c0",
     "locked": true,
     "schema_version": 3,
     "solution": false
    }
   },
   "source": [
    "Jednak dla niektórych typów działa tak zwana konwersja niejawna (rzutowanie na obiekt klasy \"nadrzędnej\")"
   ]
  },
  {
   "cell_type": "code",
   "execution_count": null,
   "metadata": {},
   "outputs": [
    {
     "name": "stdout",
     "output_type": "stream",
     "text": [
      "(4.5-3j)\n"
     ]
    },
    {
     "data": {
      "text/plain": [
       "complex"
      ]
     },
     "execution_count": 12,
     "metadata": {},
     "output_type": "execute_result"
    }
   ],
   "source": [
    "a = 2.5 + (2-3j)\n",
    "print(a)\n",
    "type(a)"
   ]
  },
  {
   "cell_type": "markdown",
   "metadata": {
    "deletable": false,
    "editable": false,
    "nbgrader": {
     "cell_type": "markdown",
     "checksum": "d55b67a02179accb098eadb6b1099e80",
     "grade": false,
     "grade_id": "cell-7dcdef43c03e1d17",
     "locked": true,
     "schema_version": 3,
     "solution": false
    }
   },
   "source": [
    "### Operatory porównania ( `==`, `>`, `>=`, `<`, `<=`, `!=`)\n",
    "Zawsze zwracany jest typ `bool` (True, False)."
   ]
  },
  {
   "cell_type": "code",
   "execution_count": null,
   "metadata": {},
   "outputs": [],
   "source": [
    "print(2==3)\n",
    "print(2!=3)\n",
    "print(2<3)"
   ]
  },
  {
   "cell_type": "markdown",
   "metadata": {
    "deletable": false,
    "editable": false,
    "nbgrader": {
     "cell_type": "markdown",
     "checksum": "4f985cf71dd1d58dd36a164913eba8f4",
     "grade": false,
     "grade_id": "cell-914a8c5c273d05e0",
     "locked": true,
     "schema_version": 3,
     "solution": false,
     "task": false
    }
   },
   "source": [
    "### Operatory logiczne `and`, `or` i `not`\n",
    "Używając operatorów `and`, `or` i `not` tworzymy wyrażenia boolowskie."
   ]
  },
  {
   "cell_type": "code",
   "execution_count": null,
   "metadata": {},
   "outputs": [
    {
     "name": "stdout",
     "output_type": "stream",
     "text": [
      "10 True; 10 True\n"
     ]
    }
   ],
   "source": [
    "# warunkiem może być dowolne wyrażenie zwracające True lub False\n",
    "a = 10\n",
    "b = a < 20 and a >5\n",
    "print(a, b, end='; ')\n",
    "    \n",
    "# to samo mozemy zapisać prościej\n",
    "b = 5 < a < 20\n",
    "print(a, b)"
   ]
  },
  {
   "cell_type": "markdown",
   "metadata": {
    "deletable": false,
    "editable": false,
    "nbgrader": {
     "cell_type": "markdown",
     "checksum": "82a36464120423834d0cfe15c1ac66a2",
     "grade": false,
     "grade_id": "cell-b2d20edd2c74329d",
     "locked": true,
     "schema_version": 3,
     "solution": false
    }
   },
   "source": [
    "### Operatory `is`, `is not` oraz słowo kluczowe `None`"
   ]
  },
  {
   "cell_type": "code",
   "execution_count": null,
   "metadata": {},
   "outputs": [
    {
     "name": "stdout",
     "output_type": "stream",
     "text": [
      "False\n",
      "True\n",
      "True\n",
      "True\n"
     ]
    }
   ],
   "source": [
    "a = 2\n",
    "b = 3\n",
    "c = 2\n",
    "print(a is b)\n",
    "print(a is c)\n",
    "print(b is not c)\n",
    "d = None  # None oznacza 'nic', pusty obiekt\n",
    "print(d is None)"
   ]
  },
  {
   "cell_type": "markdown",
   "metadata": {
    "deletable": false,
    "editable": false,
    "nbgrader": {
     "cell_type": "markdown",
     "checksum": "d1bd7ad545ceef2d6a5ffa924bf88943",
     "grade": false,
     "grade_id": "cell-8321d8171abc7fb0",
     "locked": true,
     "schema_version": 3,
     "solution": false
    }
   },
   "source": [
    "### Biblioteka matematyczna `math`.\n",
    "W Python wbudowane są niektóre podstawowe finkcje matematyczne, taki jak `abs`, `min`, `max`, `sum`, `pow`. Inne znaleźć można w bibliotece (module) `math`. Import bibliotek (modułów, pakietów) w języku Python dokonuje się za pomocą słowa kluczowego `import`."
   ]
  },
  {
   "cell_type": "code",
   "execution_count": null,
   "metadata": {},
   "outputs": [],
   "source": [
    "print(min(1,2,-4,2))\n",
    "print(max(2, 1.4, 3, 5.5))\n",
    "abs(-4)"
   ]
  },
  {
   "cell_type": "code",
   "execution_count": null,
   "metadata": {},
   "outputs": [],
   "source": [
    "# aby wczytać pakiet math wpisujemy\n",
    "import math\n",
    "# możemy zaimportowac tylko wybrane funkcje\n",
    "from math import sin, cos"
   ]
  },
  {
   "cell_type": "code",
   "execution_count": null,
   "metadata": {},
   "outputs": [],
   "source": [
    "math.log(1)"
   ]
  },
  {
   "cell_type": "code",
   "execution_count": null,
   "metadata": {},
   "outputs": [],
   "source": [
    "sin(math.radians(90))"
   ]
  },
  {
   "cell_type": "markdown",
   "metadata": {
    "deletable": false,
    "editable": false,
    "nbgrader": {
     "cell_type": "markdown",
     "checksum": "aa4c6f61c7643acd52f8fd176ddb4ce4",
     "grade": false,
     "grade_id": "cell-069dab1962069f6a",
     "locked": true,
     "schema_version": 3,
     "solution": false
    }
   },
   "source": [
    "### Wprowadzanie wartości z klawiatury `input()`\n",
    "Funkcja `input()` zwraca obiekt typi `str` (łańcuch znaków/napis). Wobec czego jeśli chcemy wprowadzić liczbę musimy ją po wczytaniu skonwertować na odpowiedni typ stosują metody `int()`, `float()` lub `complex()`. "
   ]
  },
  {
   "cell_type": "code",
   "execution_count": null,
   "metadata": {},
   "outputs": [
    {
     "name": "stdout",
     "output_type": "stream",
     "text": [
      "Wprowadzona wartość to: 2\n",
      "Typ wprowadzonej wartości: <class 'str'>\n"
     ]
    }
   ],
   "source": [
    "a = input()\n",
    "print('Wprowadzona wartość to:', a)\n",
    "print('Typ wprowadzonej wartości:', type(a))"
   ]
  },
  {
   "cell_type": "markdown",
   "metadata": {
    "deletable": false,
    "editable": false,
    "nbgrader": {
     "cell_type": "markdown",
     "checksum": "ffff7402309847b4f955c74eb15ac660",
     "grade": false,
     "grade_id": "cell-0357313d335f2b43",
     "locked": true,
     "schema_version": 3,
     "solution": false
    }
   },
   "source": [
    "### Ćwiczenie 1:\n",
    "Napisz program, który dla podanej liczby rzeczywistej zwróci licznik i mianownik z ułamka zwykłego tej liczby. \n",
    "#### Rozwiązanie:"
   ]
  },
  {
   "cell_type": "code",
   "execution_count": null,
   "metadata": {},
   "outputs": [
    {
     "name": "stdout",
     "output_type": "stream",
     "text": [
      "Podaj liczbe rzeczywistą: \n",
      "Licznik: 7\n",
      "Mianownik: 2\n"
     ]
    }
   ],
   "source": [
    "print('Podaj liczbe rzeczywistą: ')\n",
    "a = input()\n",
    "a = float(a)\n",
    "b = a.as_integer_ratio()\n",
    "print('Licznik:', b[0])\n",
    "print('Mianownik:', b[1])"
   ]
  },
  {
   "cell_type": "markdown",
   "metadata": {
    "deletable": false,
    "editable": false,
    "nbgrader": {
     "cell_type": "markdown",
     "checksum": "6493f94b29955cecebd8efb557c9005c",
     "grade": false,
     "grade_id": "cell-01780820da67534e",
     "locked": true,
     "schema_version": 3,
     "solution": false
    }
   },
   "source": [
    "### Ćwiczenie 2\n",
    "Napisz program, który przeczyta ze standartowego wejścia dwie liczby rzeczywiste i zapisze je kolejno w zmiennych $x$, $z$ typu `float`, przeczyta dwie liczby całkowite i zapisze je w zmiennych $i$, $j$ typu `int`, a następnie obliczy wartości następujących wyrażeń arytmetycznych:\n",
    "$$w=\\sqrt[3]{\\frac{x+2}{i}}  \\sin^{j}(x^2+z^2)$$\n",
    "$$v={\\frac{\\ln x^2+2x^2+z^{-2}}{(x+z)i}}+\\frac{i}{j} $$\n",
    "\n",
    "\n",
    "Dla $x=1.5, z=2.3, i=2, j=3\\ $ wyrażenia te mają wartości:\n",
    "\n",
    "$w = 1.036828279188784,\\quad v = 1.3903464210141043$"
   ]
  },
  {
   "cell_type": "code",
   "execution_count": null,
   "metadata": {
    "deletable": false,
    "nbgrader": {
     "cell_type": "code",
     "checksum": "7261fcf87555820dbf0f79bc887d3e14",
     "grade": true,
     "grade_id": "cell-4478774f5480718b",
     "locked": false,
     "points": 0,
     "schema_version": 3,
     "solution": true,
     "task": false
    }
   },
   "outputs": [
    {
     "name": "stdout",
     "output_type": "stream",
     "text": [
      "Podaj x\n",
      "Podaj z\n",
      "Podaj i\n",
      "Podaj j\n",
      "1.036828279188784\n",
      "1.3903464210141043\n"
     ]
    }
   ],
   "source": [
    "import math\n",
    "\n",
    "# YOUR CODE HERE\n",
    "print(\"Podaj x\")\n",
    "x = float(input())\n",
    "print(\"Podaj z\")\n",
    "z = float(input())\n",
    "print(\"Podaj i\")\n",
    "i = int(input())\n",
    "print(\"Podaj j\")\n",
    "j = int(input())\n",
    "\n",
    "w=(math.pow((x+2)/i,1/3)*math.pow(math.sin(x*x+z*z),j))\n",
    "print(w)\n",
    "\n",
    "v=((math.log(x*x)+2*x*x+math.pow(z,-2))/((x+z)*i))+i/j\n",
    "print(v)\n",
    "\n",
    "#raise NotImplementedError()"
   ]
  },
  {
   "cell_type": "markdown",
   "metadata": {
    "deletable": false,
    "editable": false,
    "nbgrader": {
     "cell_type": "markdown",
     "checksum": "03dba65a46b0e0bf14882f83b0e2dcc5",
     "grade": false,
     "grade_id": "cell-b21531a0b0d3d258",
     "locked": true,
     "schema_version": 3,
     "solution": false
    }
   },
   "source": [
    "### Temat: Praca z tekstem, Typ `str`.\n",
    "\n",
    "### Definiowanie tekstu\n",
    "Tekst w języku Python definiujemy w apostrofach `'` lub cudzysłowach `\"`. Do definiowania tekstów w więcej niż jednej linijce używamy potrójnych apostrofów `'''` bądź cudzysłowiów `\"\"\"`. Tekst możemy również przypisywać do zmiennych."
   ]
  },
  {
   "cell_type": "code",
   "execution_count": null,
   "metadata": {},
   "outputs": [
    {
     "name": "stdout",
     "output_type": "stream",
     "text": [
      "tekst w apostrofach\n",
      "tekst w cudzysłowach\n",
      "<class 'str'> <class 'str'>\n"
     ]
    }
   ],
   "source": [
    "napis1 = 'tekst w apostrofach'\n",
    "napis2 = \"tekst w cudzysłowach\"\n",
    "print(napis1)\n",
    "print(napis2)\n",
    "print(type(napis1), type(napis2))"
   ]
  },
  {
   "cell_type": "code",
   "execution_count": null,
   "metadata": {},
   "outputs": [
    {
     "name": "stdout",
     "output_type": "stream",
     "text": [
      "To jest tekst\n",
      "w więcej niż \n",
      "jednej linijce\n"
     ]
    }
   ],
   "source": [
    "napis3 = '''To jest tekst\n",
    "w więcej niż \n",
    "jednej linijce'''\n",
    "print(napis3)"
   ]
  },
  {
   "cell_type": "markdown",
   "metadata": {
    "deletable": false,
    "editable": false,
    "nbgrader": {
     "cell_type": "markdown",
     "checksum": "ec62699796d32343aee0a659f7af9aed",
     "grade": false,
     "grade_id": "cell-d9792267dd70719f",
     "locked": true,
     "schema_version": 3,
     "solution": false
    }
   },
   "source": [
    "Jak widać na powyższym przykładzie nie ma problemów z literami polskimi takimi jak `ą, ć, ł` itp. Winika to z tego, że domyślnie w Python 3 (inaczej niż w Python 2) znaki kodowane są za pomoca kodowania `Unicode (16-bit)`, a nie jak w więkdzości innych języków programowania `ASCII (8-bit)`.\n",
    "Aby zdefiniować tekst i narzucić mu kodowanie `ASCII` wystarczy przed apostrofem lub cudzysłowem postawić literę `b`."
   ]
  },
  {
   "cell_type": "code",
   "execution_count": null,
   "metadata": {},
   "outputs": [],
   "source": [
    "# Unicode\n",
    "print('Marszałek')\n",
    "# ASCII\n",
    "print(b'Marszalek')"
   ]
  },
  {
   "cell_type": "markdown",
   "metadata": {
    "deletable": false,
    "editable": false,
    "nbgrader": {
     "cell_type": "markdown",
     "checksum": "04b196af84b232f9e9deda381d794851",
     "grade": false,
     "grade_id": "cell-b003716c08c8fdc1",
     "locked": true,
     "schema_version": 3,
     "solution": false
    }
   },
   "source": [
    "Próba zdefiniowania tesksu zawierającego polskie znaki z kodowaniem `ASCII` zakończy się wyrzuceniem błędu."
   ]
  },
  {
   "cell_type": "code",
   "execution_count": null,
   "metadata": {},
   "outputs": [],
   "source": [
    "print(b'Marszałek')"
   ]
  },
  {
   "cell_type": "markdown",
   "metadata": {
    "deletable": false,
    "editable": false,
    "nbgrader": {
     "cell_type": "markdown",
     "checksum": "bd99344a2c17df4f3db8fad527700b24",
     "grade": false,
     "grade_id": "cell-11d15726331efec1",
     "locked": true,
     "schema_version": 3,
     "solution": false
    }
   },
   "source": [
    "### Znaki specjalne (sekwencje sterujące)\n",
    "Domyślnie rozpoznawane i interpretowane sa znaki specjalne (sekwencje sterujące) takie jak np.:\n",
    "- `\\a` - alarm (sygnał akustyczny terminala)\n",
    "- `\\b` - backspace (usuwa poprzedzający znak)\n",
    "- `\\f` - wysuniecie strony (np. w drukarce)\n",
    "- `\\r` - powrót kursora (karetki) do początku wiersza\n",
    "- `\\n` - znak nowego wiersza\n",
    "- `\\t` - tabulacja pozioma\n",
    "- `\\v` - tabulacja pionowa\n",
    "- `\\nnn` - liczba zapisana w systemie oktalnym (ósemkowym), gdzie 'nnn' należy zastąpić trzycyfrową liczbą w tym systemie\n",
    "- `\\xnn` - liczba zapisana w systemie heksadecymalnym (szesnastkowym), gdzie 'nn' należy zastąpić dwucyfrową liczbą w tym systemie"
   ]
  },
  {
   "cell_type": "code",
   "execution_count": null,
   "metadata": {},
   "outputs": [
    {
     "name": "stdout",
     "output_type": "stream",
     "text": [
      " Poznajemy podstawowe typy danych\n",
      "\t i instrukcje sterujące używane w\n",
      "języku Python\n"
     ]
    },
    {
     "data": {
      "text/plain": [
       "False"
      ]
     },
     "execution_count": 35,
     "metadata": {},
     "output_type": "execute_result"
    }
   ],
   "source": [
    "print(' Poznajemy podstawowe typy danych\\n\\t i instrukcje sterujące używane w\\njęzyku Python')"
   ]
  },
  {
   "cell_type": "markdown",
   "metadata": {
    "deletable": false,
    "editable": false,
    "nbgrader": {
     "cell_type": "markdown",
     "checksum": "632456ee485ec14e5b2f6d024d936442",
     "grade": false,
     "grade_id": "cell-783d71e00a052b6c",
     "locked": true,
     "schema_version": 3,
     "solution": false
    }
   },
   "source": [
    "Jak widać znaki `\\, ', \"` mają specjalne znaczenie, aby użyć ich w tekscie należy zamaskować ich działanie stosując znak `\\`, np. \n",
    "- `\\\"` - cudzysłów\n",
    "- `\\'` - apostrof\n",
    "- `\\\\` - ukośnik wsteczny (backslash)"
   ]
  },
  {
   "cell_type": "code",
   "execution_count": null,
   "metadata": {},
   "outputs": [],
   "source": [
    "print('Poznajemy podstawowe typy danych i instrukcje sterujące używane w języku \\\"Python\\\"')"
   ]
  },
  {
   "cell_type": "markdown",
   "metadata": {
    "deletable": false,
    "editable": false,
    "nbgrader": {
     "cell_type": "markdown",
     "checksum": "768d994fb0cf0c226ea6c2edfdb9865a",
     "grade": false,
     "grade_id": "cell-13bca2b2ca90a1b9",
     "locked": true,
     "schema_version": 3,
     "solution": false
    }
   },
   "source": [
    "### Surowy tekst (raw strings)\n",
    "Aby w całym tekscie potraktować znaki specjalne jak zwykłe znaki wystarczy przed apostrofem lub cudzysłowem wstawić znak `r`. Często wykorzystywane np. przy scieżkach do plików."
   ]
  },
  {
   "cell_type": "code",
   "execution_count": 11,
   "metadata": {},
   "outputs": [
    {
     "name": "stdout",
     "output_type": "stream",
     "text": [
      "   Poznajemy podstawowe typy danych\n",
      "\t i instrukcje sterujące\n",
      "używane w języku \"Python\"\n",
      "   Poznajemy podstawowe typy danych\\n\\t i instrukcje sterujące\\nużywane w języku \\\"Python\\\"\n"
     ]
    }
   ],
   "source": [
    "print('   Poznajemy podstawowe typy danych\\n\\t i instrukcje sterujące\\nużywane w języku \\\"Python\\\"')\n",
    "print(r'   Poznajemy podstawowe typy danych\\n\\t i instrukcje sterujące\\nużywane w języku \\\"Python\\\"')"
   ]
  },
  {
   "cell_type": "markdown",
   "metadata": {
    "deletable": false,
    "editable": false,
    "nbgrader": {
     "cell_type": "markdown",
     "checksum": "fe387567fe880ac50c5df704d45369b3",
     "grade": false,
     "grade_id": "cell-c415c9d17d13ce88",
     "locked": true,
     "schema_version": 3,
     "solution": false
    }
   },
   "source": [
    "### Dostęp do poszczególnych znaków i plasterkowanie (slicing) tekstu\n",
    "Z tekstu możemy wybierac pojedyńcze znaki lub fragment teksu. Aby wybrać dowolny znak z tekstu należy użyć metody wbudowanej  `__getitem__` lub prościej operatora `[]`."
   ]
  },
  {
   "cell_type": "code",
   "execution_count": null,
   "metadata": {},
   "outputs": [
    {
     "name": "stdout",
     "output_type": "stream",
     "text": [
      "I\n",
      "o\n"
     ]
    }
   ],
   "source": [
    "s = 'Informatyka'\n",
    "print(s.__getitem__(0)) # numeracja od 0\n",
    "print(s[3])"
   ]
  },
  {
   "cell_type": "markdown",
   "metadata": {
    "deletable": false,
    "editable": false,
    "nbgrader": {
     "cell_type": "markdown",
     "checksum": "1f5b1021bd9d6291d70d76eba7d67648",
     "grade": false,
     "grade_id": "cell-8bc25f24846c7644",
     "locked": true,
     "schema_version": 3,
     "solution": false
    }
   },
   "source": [
    "Podanie indeksu większego niż liczba znaków skończy się wyrzyceniem błędu.\n",
    "\n",
    "Możemy numerować pozycje od końca, wstawiając liczby ujemne."
   ]
  },
  {
   "cell_type": "code",
   "execution_count": null,
   "metadata": {},
   "outputs": [],
   "source": [
    "print(s[-1]) # ostatni znak\n",
    "print(s[-3]) # znak trzeci od końca"
   ]
  },
  {
   "cell_type": "markdown",
   "metadata": {
    "deletable": false,
    "editable": false,
    "nbgrader": {
     "cell_type": "markdown",
     "checksum": "5b16476386c22d1fb6c889e598c3bad4",
     "grade": false,
     "grade_id": "cell-938fdf109c7007af",
     "locked": true,
     "schema_version": 3,
     "solution": false
    }
   },
   "source": [
    "Aby wybrać fragment tekstu należy użyć konstrukcji `[s:e:k]`, gdzie `s` to pozycja pierwszego znaku który chcemy wybrać, `e` to pozycja pierwszego znaku którego nie chcemy wybrać, `k` to krok z jakim wybieramy znaki."
   ]
  },
  {
   "cell_type": "code",
   "execution_count": null,
   "metadata": {},
   "outputs": [],
   "source": [
    "# wybieranie fragmentu \n",
    "print(s[1:6])\n",
    "# wybieranie znaków z krokiem\n",
    "print(s[1:6:2])\n",
    "# od tyłu\n",
    "print(s[-4:-2])"
   ]
  },
  {
   "cell_type": "markdown",
   "metadata": {
    "deletable": false,
    "editable": false,
    "nbgrader": {
     "cell_type": "markdown",
     "checksum": "79be7a0012a4f14fa046fd0f5bded3ed",
     "grade": false,
     "grade_id": "cell-239baf5303697213",
     "locked": true,
     "schema_version": 3,
     "solution": false
    }
   },
   "source": [
    "__Uwaga:__ Tekst podobnie jak krotka jest obiektem niemodyfikowalnym, tzn. nie można zmienić wartości znaku na danej pozycji poprzez stosowanie operatora `[]`."
   ]
  },
  {
   "cell_type": "code",
   "execution_count": null,
   "metadata": {},
   "outputs": [],
   "source": [
    "s = 'Informatyka'\n",
    "s[1] = 'A'  #chcemy zmienić 'a' ma 'A', nie da się"
   ]
  },
  {
   "cell_type": "markdown",
   "metadata": {
    "deletable": false,
    "editable": false,
    "nbgrader": {
     "cell_type": "markdown",
     "checksum": "4ad8e9fb7ee741dc38e29ff9856f967e",
     "grade": false,
     "grade_id": "cell-2cc0c3c12da24876",
     "locked": true,
     "schema_version": 3,
     "solution": false
    }
   },
   "source": [
    "### Operatory `+`, `*`\n",
    "Dla typu `str` zdefiniowane zostały dwa operatory\n",
    "- `+` - łączenie tekstów, `(str + str = str)`\n",
    "- `*` - powielanie tekstu, `(str * int = str)`"
   ]
  },
  {
   "cell_type": "code",
   "execution_count": null,
   "metadata": {},
   "outputs": [],
   "source": [
    "t1 = 'Informatyka'\n",
    "t2 = 'rok II'\n",
    "t3 = 'semestr II'\n",
    "t4 = t1 + ' ' + t2 + ' ' + t3\n",
    "print(t4)"
   ]
  },
  {
   "cell_type": "code",
   "execution_count": null,
   "metadata": {},
   "outputs": [],
   "source": [
    "t5 = t1 * 5\n",
    "print(t5)"
   ]
  },
  {
   "cell_type": "markdown",
   "metadata": {
    "deletable": false,
    "editable": false,
    "nbgrader": {
     "cell_type": "markdown",
     "checksum": "0485bd3dc47e0d10ad6fc7a5dc95aaa8",
     "grade": false,
     "grade_id": "cell-437d194315718329",
     "locked": true,
     "schema_version": 3,
     "solution": false
    }
   },
   "source": [
    "### Słowa kluczowe `in`, `not in`\n",
    "Dzięki słową kluczowym `in', 'not in` możemy zapytać czy jakiś znak lub ciąg znaków występuje bądź nie występuje w tekscie."
   ]
  },
  {
   "cell_type": "code",
   "execution_count": null,
   "metadata": {},
   "outputs": [
    {
     "data": {
      "text/plain": [
       "True"
      ]
     },
     "execution_count": 40,
     "metadata": {},
     "output_type": "execute_result"
    }
   ],
   "source": [
    "tekst = \"Informatyka jest super!!!\"\n",
    "'I' in tekst"
   ]
  },
  {
   "cell_type": "code",
   "execution_count": null,
   "metadata": {},
   "outputs": [],
   "source": [
    "'i' in tekst"
   ]
  },
  {
   "cell_type": "code",
   "execution_count": null,
   "metadata": {},
   "outputs": [],
   "source": [
    "'Informatyka' not in tekst"
   ]
  },
  {
   "cell_type": "markdown",
   "metadata": {
    "deletable": false,
    "editable": false,
    "nbgrader": {
     "cell_type": "markdown",
     "checksum": "b8bb5a3955f89e0a44eda43a0ebdeff0",
     "grade": false,
     "grade_id": "cell-50a495acc20659d6",
     "locked": true,
     "schema_version": 3,
     "solution": false
    }
   },
   "source": [
    "### Długość tekstu\n",
    "Do zwrócenia liczby znaków w tekscie służy metoda wbudowana `len` "
   ]
  },
  {
   "cell_type": "code",
   "execution_count": null,
   "metadata": {},
   "outputs": [],
   "source": [
    "print(tekst)\n",
    "print(len(tekst))"
   ]
  },
  {
   "cell_type": "markdown",
   "metadata": {
    "deletable": false,
    "editable": false,
    "nbgrader": {
     "cell_type": "markdown",
     "checksum": "c54a7ee86882dba04c25388167b09e56",
     "grade": false,
     "grade_id": "cell-c43f50a835620f3f",
     "locked": true,
     "schema_version": 3,
     "solution": false
    }
   },
   "source": [
    "### Operator `%`\n",
    "Bardzo fajny i przydatny przy formatowaniu teskstu jest operator `%`, który pozwala wstawiać do tekstu wartości zmiennych w podobny sposób jak w innych językach np. C."
   ]
  },
  {
   "cell_type": "code",
   "execution_count": null,
   "metadata": {},
   "outputs": [],
   "source": [
    "imie = 'Adam'\n",
    "jezyk = 'Python'\n",
    "lata = 7\n",
    "print('Mam na imię %s i programuję w języku %s od ponad %d lat.' % (imie, jezyk, lata))"
   ]
  },
  {
   "cell_type": "markdown",
   "metadata": {
    "deletable": false,
    "editable": false,
    "nbgrader": {
     "cell_type": "markdown",
     "checksum": "c6720998f632cafac1d72dea04fa976a",
     "grade": false,
     "grade_id": "cell-bda034424c17f071",
     "locked": true,
     "schema_version": 3,
     "solution": false
    }
   },
   "source": [
    "Możliwy symbole do wykorzystania (wybaczcie ale nie chciało mi się tłumaczyć :)):\n",
    "- `%c` - character\n",
    "- `%s` - string conversion via str() prior to formatting\t\n",
    "- `%i` - signed decimal integer\n",
    "- `%d` - signed decimal integer\n",
    "- `%u` - unsigned decimal integer\n",
    "- `%o` - octal integer\n",
    "- `%x` - hexadecimal integer (lowercase letters)\n",
    "- `%X` - hexadecimal integer (UPPERcase letters)\n",
    "- `%e` - exponential notation (with lowercase 'e')\n",
    "- `%E` - exponential notation (with UPPERcase 'E')\n",
    "- `%f` - floating point real number\n",
    "- `%g` - the shorter of %f and %e\n",
    "- `%G` - the shorter of %f and %E\n",
    "\n",
    "\n",
    "- `*` - argument specifies width or precision\n",
    "- `-` - left justification\t\n",
    "- `+` - display the sign\n",
    "- `<sp>` - leave a blank space before a positive number\n",
    "- `#` - add the octal leading zero ( '0' ) or hexadecimal leading '0x' or '0X', depending on whether 'x' or 'X' were used.\n",
    "- `0` - pad from left with zeros (instead of spaces)\n",
    "- `%` - '%%' leaves you with a single literal '%'\n",
    "- `(var)` - mapping variable (dictionary arguments)\n",
    "- `m.n.` - m is the minimum total width and n is the number of digits to display after the decimal point (if appl.)\n",
    "\n",
    "Przykład:"
   ]
  },
  {
   "cell_type": "code",
   "execution_count": null,
   "metadata": {},
   "outputs": [],
   "source": [
    "from math import pi\n",
    "print('Liczba pi: %+.12f' % pi)"
   ]
  },
  {
   "cell_type": "markdown",
   "metadata": {
    "deletable": false,
    "editable": false,
    "nbgrader": {
     "cell_type": "markdown",
     "checksum": "35fe5a6177bf555ebfd8183e4003d372",
     "grade": false,
     "grade_id": "cell-12b6fd3d31a5e83f",
     "locked": true,
     "schema_version": 3,
     "solution": false
    }
   },
   "source": [
    "### Metody obiektu `str`\n",
    "Obiekty typu `str` (teksty) posiadają bardzo dużo przydatnych metod gotowych do użycia. Lista wraz z dokumentacją po tym linkiem https://docs.python.org/3/library/stdtypes.html#string-methods. \n",
    "\n",
    "Poniżej kilka przykładowych."
   ]
  },
  {
   "cell_type": "code",
   "execution_count": 13,
   "metadata": {},
   "outputs": [
    {
     "data": {
      "text/plain": [
       "17"
      ]
     },
     "execution_count": 13,
     "metadata": {},
     "output_type": "execute_result"
    }
   ],
   "source": [
    "tekst = 'Informatyka jest super!!!'\n",
    "tekst.find('super') # jeżeli szukana fraza zostanie znaleziona to zwraca pozycje poczatkową, jeśli nie, -1"
   ]
  },
  {
   "cell_type": "code",
   "execution_count": 14,
   "metadata": {},
   "outputs": [
    {
     "data": {
      "text/plain": [
       "'INFORMATYKA JEST SUPER!!!'"
      ]
     },
     "execution_count": 14,
     "metadata": {},
     "output_type": "execute_result"
    }
   ],
   "source": [
    "tekst.upper() # zamienia na duże litery"
   ]
  },
  {
   "cell_type": "code",
   "execution_count": 15,
   "metadata": {},
   "outputs": [
    {
     "data": {
      "text/plain": [
       "'Informatyka jest cool!!!'"
      ]
     },
     "execution_count": 15,
     "metadata": {},
     "output_type": "execute_result"
    }
   ],
   "source": [
    "tekst.replace('super', 'cool') "
   ]
  },
  {
   "cell_type": "code",
   "execution_count": 16,
   "metadata": {},
   "outputs": [
    {
     "data": {
      "text/plain": [
       "1"
      ]
     },
     "execution_count": 16,
     "metadata": {},
     "output_type": "execute_result"
    }
   ],
   "source": [
    "tekst.count('at') # zlicza wystąpienie podanego znaku lub ciągu znaków"
   ]
  },
  {
   "cell_type": "code",
   "execution_count": 17,
   "metadata": {},
   "outputs": [
    {
     "data": {
      "text/plain": [
       "'Informatyka jest super razy 7'"
      ]
     },
     "execution_count": 17,
     "metadata": {},
     "output_type": "execute_result"
    }
   ],
   "source": [
    "tekst = 'Informatyka jest {0} razy {1}'\n",
    "tekst.format('super', 7) # często wykorzystywane zamiast operatora %"
   ]
  },
  {
   "cell_type": "markdown",
   "metadata": {
    "deletable": false,
    "editable": false,
    "nbgrader": {
     "cell_type": "markdown",
     "checksum": "299b2f4253482fde28decc7523baccab",
     "grade": false,
     "grade_id": "cell-e0365ff1229fa3f1",
     "locked": true,
     "schema_version": 3,
     "solution": false
    }
   },
   "source": [
    "### Ćwiczenie 3:\n",
    "Teksty można również porównywać za pomocą operatorów porównania. Sprawdź jak to działa."
   ]
  },
  {
   "cell_type": "code",
   "execution_count": 22,
   "metadata": {},
   "outputs": [
    {
     "name": "stdout",
     "output_type": "stream",
     "text": [
      "False\n",
      "True\n",
      "True\n"
     ]
    }
   ],
   "source": [
    "tekst1 = \"tekst1\"\n",
    "tekst2 = \"tekst2\"\n",
    "tekst3 = tekst1\n",
    "print(tekst1==tekst2)\n",
    "print(tekst1==tekst3)\n",
    "print(tekst1!=tekst2)"
   ]
  },
  {
   "cell_type": "markdown",
   "metadata": {
    "deletable": false,
    "editable": false,
    "nbgrader": {
     "cell_type": "markdown",
     "checksum": "94ce3a8f47cafe76f731a7af030a11f6",
     "grade": false,
     "grade_id": "cell-ac1102a65c432e8f",
     "locked": true,
     "schema_version": 3,
     "solution": false
    }
   },
   "source": [
    "### Ćwiczenie 4\n",
    "Napisz program, który we wprowadzonym tekście wyeliminuje pierwsze wystąpienie podanego znak. Zakładamy, że podany znak na pewno występuje w tekście."
   ]
  },
  {
   "cell_type": "code",
   "execution_count": 26,
   "metadata": {
    "deletable": false,
    "nbgrader": {
     "cell_type": "code",
     "checksum": "5c5b347019e832ac69bcc84086987938",
     "grade": true,
     "grade_id": "cell-eceed302cb759620",
     "locked": false,
     "points": 0,
     "schema_version": 3,
     "solution": true,
     "task": false
    }
   },
   "outputs": [
    {
     "name": "stdout",
     "output_type": "stream",
     "text": [
      "test\n"
     ]
    }
   ],
   "source": [
    "text = input('Wprowadź tekst: ')\n",
    "znak = input('Wprowadź znak: ')\n",
    "# YOUR CODE HERE\n",
    "text = text.replace(text[text.find(znak)],\"\")\n",
    "text.replace()\n",
    "print(text)\n",
    "#raise NotImplementedError()"
   ]
  },
  {
   "cell_type": "markdown",
   "metadata": {
    "deletable": false,
    "editable": false,
    "nbgrader": {
     "cell_type": "markdown",
     "checksum": "a437ea505cc73f8b2a4a9c0aa41e86a8",
     "grade": false,
     "grade_id": "cell-3e73d41a914dfc5e",
     "locked": true,
     "schema_version": 3,
     "solution": false
    }
   },
   "source": [
    "### Ćwiczenie 5\n",
    "Napisz program, który we wprowadzonym tekscie wyeliminuje ostatnie wystąpienie podanego znak. Zakładamy, że podany znak na pewno wsytępuje w tekscie."
   ]
  },
  {
   "cell_type": "code",
   "execution_count": 27,
   "metadata": {
    "deletable": false,
    "nbgrader": {
     "cell_type": "code",
     "checksum": "413689ebb4bd0f5d5efb2864c88b9db6",
     "grade": true,
     "grade_id": "cell-99aa0016d90ebf27",
     "locked": false,
     "points": 0,
     "schema_version": 3,
     "solution": true
    }
   },
   "outputs": [
    {
     "name": "stdout",
     "output_type": "stream",
     "text": [
      "12t34t567\n"
     ]
    }
   ],
   "source": [
    "text = input('Wprowadź tekst: ')\n",
    "znak = input('Wprowadź znak: ')\n",
    "# YOUR CODE HERE\n",
    "pom = text.rfind(znak)\n",
    "text = text[:pom] + text[pom+1:]\n",
    "print(text)\n",
    "#raise NotImplementedError()"
   ]
  },
  {
   "cell_type": "markdown",
   "metadata": {
    "deletable": false,
    "editable": false,
    "nbgrader": {
     "cell_type": "markdown",
     "checksum": "18d9d7ce9eefabd6c84a25af4d38f6c6",
     "grade": false,
     "grade_id": "cell-76d46290d9294e08",
     "locked": true,
     "schema_version": 3,
     "solution": false
    }
   },
   "source": [
    "### Temat: Instrukcje sterujące, Pętle.\n",
    "\n",
    "\n",
    "### Instrukcje warunkowe: `if`, `if else`, `if elif else`\n",
    "Do wykonywania prostych testów (sprawdzania warunków) służą instrukcje `if` i `else`.\n",
    "\n",
    "Struktura składni ma postać:\n",
    "\n",
    "```python\n",
    "if warunek:\n",
    "\tinstrukcje_1\n",
    "else:\n",
    "    instrukcje_2\n",
    "```    \n",
    "Warunki zwarcają wartość `True` lub `False`. \n",
    "\n",
    "Zawartość bloków instrukcji ustalana jest na podstawie wcięć. Klauzula `else` nie jest obowiązkowa."
   ]
  },
  {
   "cell_type": "code",
   "execution_count": null,
   "metadata": {},
   "outputs": [],
   "source": [
    "a = 2\n",
    "b = 3\n",
    "if a < b:  # jeżeli warunek jest True to wykonaj instrukcje w bloku (instrukcje z wcięciami (tab))\n",
    "    print(a+b)"
   ]
  },
  {
   "cell_type": "code",
   "execution_count": null,
   "metadata": {},
   "outputs": [],
   "source": [
    "a = 3\n",
    "b = 4\n",
    "if a < b:  # gdy warunek prawdziwy\n",
    "    print(a+b) \n",
    "else:    # gdy warunek fałszywy\n",
    "    print(a-b)"
   ]
  },
  {
   "cell_type": "markdown",
   "metadata": {
    "deletable": false,
    "editable": false,
    "nbgrader": {
     "cell_type": "markdown",
     "checksum": "8fb1ce67dc85a356b0b9e404abf85c3d",
     "grade": false,
     "grade_id": "cell-778ace5cc4beffa8",
     "locked": true,
     "schema_version": 3,
     "solution": false
    }
   },
   "source": [
    "#### Instrukcja `pass`\n",
    "Nie ma ograniczenia odnośnie liczby instrukcji w bloku, ale musi występować co najmniej jedna. Jeżeli nie mamy nic do zrobienia w danym bloku stosujemy instrukcję `pass`.\n",
    "\n",
    "Instrukcja `pass`:\n",
    "- nie robi nic…\n",
    "- może być użyta w miejscu gdzie wymaga tego syntaktyka, ale program nie robi nic\n",
    "- zwykle używane gdy tworzona jest minimalna klasa\n",
    "- używana również podczas pisania nowego kodu w miejscu, gdzie w przyszłości planujemy wywołać jakąś funkcję lub wyrażenie. "
   ]
  },
  {
   "cell_type": "code",
   "execution_count": null,
   "metadata": {},
   "outputs": [],
   "source": [
    "a = 3\n",
    "b = 4\n",
    "if a < b:  # gdy warunek prawdziwy\n",
    "    pass   # nic nie rób \n",
    "else:      # gdy warunek fałszywy\n",
    "    print(a-b)"
   ]
  },
  {
   "cell_type": "markdown",
   "metadata": {
    "deletable": false,
    "editable": false,
    "nbgrader": {
     "cell_type": "markdown",
     "checksum": "24c4096db5874d11bad8f7bce7d60503",
     "grade": false,
     "grade_id": "cell-6b2e86786fc58f97",
     "locked": true,
     "schema_version": 3,
     "solution": false
    }
   },
   "source": [
    "#### Operatory `and`, `or` i `not`\n",
    "Używając operatorów `and`, `or` i `not` tworzymy wyrażenia boolowskie."
   ]
  },
  {
   "cell_type": "code",
   "execution_count": 28,
   "metadata": {},
   "outputs": [
    {
     "name": "stdout",
     "output_type": "stream",
     "text": [
      "10 10; 10 10\n"
     ]
    }
   ],
   "source": [
    "# warunkiem może być dowolne wyrażenie zwracające True lub False\n",
    "a = 10\n",
    "if a < 20 and a >5 :\n",
    "    print(a, a, end='; ')\n",
    "    \n",
    "# to samo mozemy zapisać prościej\n",
    "if 5 < a < 20:\n",
    "    print(a, a)"
   ]
  },
  {
   "cell_type": "markdown",
   "metadata": {
    "deletable": false,
    "editable": false,
    "nbgrader": {
     "cell_type": "markdown",
     "checksum": "e6bf4db6cebb474eea1a7209bc5e430a",
     "grade": false,
     "grade_id": "cell-17a9e1167f23ea53",
     "locked": true,
     "schema_version": 3,
     "solution": false
    }
   },
   "source": [
    "#### Łańcuchowa instrukcja warunkowa \n",
    "Do sprawdzenia wielu różnych warunków używamy instrukcji `elif`. Każdy warunek jest kolejno sprawdzany do momentu, aż dany warunek jest prawdziwy. Klauzula `else` nie jest obowiązkowa. Jeżeli klauzula `else` występuje musi znależć się na końcu."
   ]
  },
  {
   "cell_type": "code",
   "execution_count": null,
   "metadata": {},
   "outputs": [],
   "source": [
    "a = 10\n",
    "b = 8\n",
    "if a < b:       # gdy warunek prawdziwy\n",
    "    print(a+b) \n",
    "elif a < 2*b:   # kolejny warunek gdy poprzedni nie jest spełniony\n",
    "    print(a*b)    \n",
    "else:           # gdy warunek fałszywy\n",
    "    print(a-b)"
   ]
  },
  {
   "cell_type": "markdown",
   "metadata": {
    "deletable": false,
    "editable": false,
    "nbgrader": {
     "cell_type": "markdown",
     "checksum": "ef1e152550bcd838a65a6aa0b650818f",
     "grade": false,
     "grade_id": "cell-18d496a2aa016f51",
     "locked": true,
     "schema_version": 3,
     "solution": false
    }
   },
   "source": [
    "#### Zagnieżdżona instrukcja warunkowa \n",
    "Jedna instrukcja warunkowa może zostać zagnieżdżona w drugiej. __Uwaga na wcięcia!__."
   ]
  },
  {
   "cell_type": "code",
   "execution_count": null,
   "metadata": {},
   "outputs": [],
   "source": [
    "a = 10\n",
    "b = 8\n",
    "if a == b:     # gdy warunek prawdziwy\n",
    "    print('a i b są równe') \n",
    "else:          # gdy warunek fałszywy\n",
    "    if a < b:  #zagnieżdżenie - gdy warunek prawdziwy\n",
    "        print('a mniejsze od b')\n",
    "    else:      #zagnieżdżenie - gdy warunek fałszywy\n",
    "        print('a większe od b')"
   ]
  },
  {
   "cell_type": "markdown",
   "metadata": {
    "deletable": false,
    "editable": false,
    "nbgrader": {
     "cell_type": "markdown",
     "checksum": "9a4faf6f42f74d40349db43cc8820114",
     "grade": false,
     "grade_id": "cell-d9dba951fefaed0b",
     "locked": true,
     "schema_version": 3,
     "solution": false
    }
   },
   "source": [
    "### Wyjątki - Przerwanie działania programu\n",
    "Zgłoszenie wyjątku oznacza wystąpienie błędu i przerwanie normalnego wykonywania programu. Aby przerwać działanie programu (zgłosić wyjątek) można użyć instrukcji `raise`. Argumentem instrukcji `raise` jest rodzaj błędu (wyjątku). Jeżeli nie podamy żadnego argumentu do instrukcji `raise` zostanie ponownie zgłoszony ostatni wyjątek. Więcej informacji przy omawianiu obsługi wyjatków :). \n",
    "\n",
    "#### Przykład: \n",
    "Wczytaj z klawiatury liczbę całkowitą. Jeżeli wartość liczby wynosi 1 wypisz komunikat \"Błąd\" i zakończ działanie programu, w przeciwnym wypadku wypisz jej wartość."
   ]
  },
  {
   "cell_type": "code",
   "execution_count": null,
   "metadata": {},
   "outputs": [],
   "source": [
    "i = input('podaj liczbę całkowitą: ')\n",
    "i = int(i)\n",
    "if i == 1:\n",
    "    print('Błąd')\n",
    "    raise NotImplementedError \n",
    "else:\n",
    "    print(i)"
   ]
  },
  {
   "cell_type": "markdown",
   "metadata": {
    "deletable": false,
    "editable": false,
    "nbgrader": {
     "cell_type": "markdown",
     "checksum": "7c241b8dc93496591e79c84f08b4c976",
     "grade": false,
     "grade_id": "cell-0ba082502edaa23d",
     "locked": true,
     "schema_version": 3,
     "solution": false
    }
   },
   "source": [
    "### Ćwiczenie 6\n",
    "Napisz program, który dla podanego z klawiatury numeru miesiąca wyprowadzi odpowiadającą mu porę roku, a jeśli podana wartość nie jest numerem miesiąca, to wyprowadzi kilka znaków zapytania."
   ]
  },
  {
   "cell_type": "code",
   "execution_count": 1,
   "metadata": {
    "deletable": false,
    "nbgrader": {
     "cell_type": "code",
     "checksum": "de490d63f4d68f76d936a5607c344cb6",
     "grade": true,
     "grade_id": "cell-190c8efc73abafa3",
     "locked": false,
     "points": 0,
     "schema_version": 3,
     "solution": true
    }
   },
   "outputs": [
    {
     "name": "stdout",
     "output_type": "stream",
     "text": [
      "wiosna\n"
     ]
    }
   ],
   "source": [
    "m = input('Podaj numer miesiąca: ')\n",
    "\n",
    "# YOUR CODE HERE\n",
    "try:\n",
    "    m = int(m)\n",
    "except:\n",
    "    print(\"?\" * 5)\n",
    "else:\n",
    "    if m in range(1, 4):\n",
    "        print(\"zima\")\n",
    "    elif m in range(4, 7):\n",
    "        print(\"wiosna\")\n",
    "    elif m in range(7, 10):\n",
    "        print(\"lato\")\n",
    "    elif m in range(10, 13):\n",
    "        print(\"jesien\")\n",
    "    else:\n",
    "        print(\"?\" * 5)\n",
    "#raise NotImplementedError()"
   ]
  },
  {
   "cell_type": "markdown",
   "metadata": {
    "deletable": false,
    "editable": false,
    "nbgrader": {
     "cell_type": "markdown",
     "checksum": "867d264a9482b8de74dde12059b8c6e6",
     "grade": false,
     "grade_id": "cell-39372ea79de47575",
     "locked": true,
     "schema_version": 3,
     "solution": false
    }
   },
   "source": [
    "### Pętle: `while`, `for`\n",
    "W Pythonie mamy kilka rodzajów petli. Zawartość bloków instrukcji ustalana jest na podstawie wcięć.\n",
    "\n",
    "### Pętla `while`\n",
    "Struktura składni ma postać:\n",
    "\n",
    "```python\n",
    "while warunek:\n",
    "\tinstrukcje\n",
    "```\n",
    "Określ czy warunek jest `True` lub `False`. Jeżeli jest fałszywy zakończ instrukcję `while` i przejdź dalej. Jeżeli warunek prawdziwy wykonaj `instrukcje` i znowu sprawdź warunek. Zawartość bloku instrukcji ustalana jest na podstawie wcięć."
   ]
  },
  {
   "cell_type": "code",
   "execution_count": null,
   "metadata": {},
   "outputs": [],
   "source": [
    "i=0\n",
    "while i < 10: #sprawdź warunek, jeżeli True wykonuj instrukcje w bloku i znowu sprawdź warunek\n",
    "    print(i, end=' ') \n",
    "    i=i+1  # mozna krócej i+=1, Uwaga: nie ma czegoś takiego jak w C: i++"
   ]
  },
  {
   "cell_type": "markdown",
   "metadata": {
    "deletable": false,
    "editable": false,
    "nbgrader": {
     "cell_type": "markdown",
     "checksum": "efce9b78de60837b85c98a0c431a6d4e",
     "grade": false,
     "grade_id": "cell-bd9c59931078ffbb",
     "locked": true,
     "schema_version": 3,
     "solution": false
    }
   },
   "source": [
    "### Pętla `for`\n",
    "Pętla `for` w języku Python działa jak pętla `foreach` w niektórych innych językach i składa się z dwóch słów kluczowych `for` oraz `in`. \n",
    "\n",
    "Struktura składni ma postać:\n",
    "```python\n",
    "for zmienna in zbiór_wartości:\n",
    "\tinstrukcje\n",
    "```\n",
    "Wykonuje iteracje po wszystkich elementach zbioru (napis, lista, tupla, słownik)."
   ]
  },
  {
   "cell_type": "code",
   "execution_count": null,
   "metadata": {},
   "outputs": [],
   "source": [
    "for i in [1,2,6,7]:\n",
    "    print(i, end=' ')"
   ]
  },
  {
   "cell_type": "markdown",
   "metadata": {
    "deletable": false,
    "editable": false,
    "nbgrader": {
     "cell_type": "markdown",
     "checksum": "626093e2418274f126130b6e139547f6",
     "grade": false,
     "grade_id": "cell-f3471bc89b45760d",
     "locked": true,
     "schema_version": 3,
     "solution": false
    }
   },
   "source": [
    "Iterować można nie tylko po listach, ale po wszystkim co posiada jakieś elementy np. tekstach."
   ]
  },
  {
   "cell_type": "code",
   "execution_count": null,
   "metadata": {},
   "outputs": [],
   "source": [
    "for litera in 'informatyka':\n",
    "    print(litera, end=' ')"
   ]
  },
  {
   "cell_type": "markdown",
   "metadata": {
    "deletable": false,
    "editable": false,
    "nbgrader": {
     "cell_type": "markdown",
     "checksum": "680a2f6c386ea789e74aebbbee102e7c",
     "grade": false,
     "grade_id": "cell-a87a1b17998c28c7",
     "locked": true,
     "schema_version": 3,
     "solution": false
    }
   },
   "source": [
    "### Funkcja `range`\n",
    "Przydatnym obiektem przy używaniu pętli jest obiekt `range()`. Funkcja `range()` tworzy listę wartości z przedziału określonego przez trzy argumenty: poczatek, koniec, przyrost."
   ]
  },
  {
   "cell_type": "code",
   "execution_count": null,
   "metadata": {},
   "outputs": [],
   "source": [
    "range(100)  # generator przedziału liczb całkowitych od 0 do 99 (100 elementow)"
   ]
  },
  {
   "cell_type": "code",
   "execution_count": null,
   "metadata": {},
   "outputs": [],
   "source": [
    "range(5,80)  # generator przedziału liczb całkowitych od 5 do 79"
   ]
  },
  {
   "cell_type": "code",
   "execution_count": null,
   "metadata": {},
   "outputs": [],
   "source": [
    "range(5, 80, 2) # generator przedziału  liczb całkowitych od 5 do 79 z krokiem 2"
   ]
  },
  {
   "cell_type": "code",
   "execution_count": null,
   "metadata": {},
   "outputs": [],
   "source": [
    "for el in range(5,99,3):\n",
    "    print(el, end=' ')"
   ]
  },
  {
   "cell_type": "markdown",
   "metadata": {
    "deletable": false,
    "editable": false,
    "nbgrader": {
     "cell_type": "markdown",
     "checksum": "acb18651057543a98eef3c68104eea8c",
     "grade": false,
     "grade_id": "cell-5bffeee8d09e50a5",
     "locked": true,
     "schema_version": 3,
     "solution": false
    }
   },
   "source": [
    "### Funkcja enumerate\n",
    "Równie przydatne jest słowo kluczowe `enumerate`, które dodaje do obiektu iterowanego pozycje elementów"
   ]
  },
  {
   "cell_type": "code",
   "execution_count": null,
   "metadata": {},
   "outputs": [],
   "source": [
    "enumerate(['a','b','c'])  # z listy ['a','b','c'] otrzymujemu liste postaci [(0,'a'), (1,'b'), (2,'c')]"
   ]
  },
  {
   "cell_type": "code",
   "execution_count": 35,
   "metadata": {},
   "outputs": [
    {
     "name": "stdout",
     "output_type": "stream",
     "text": [
      "0 a\n",
      "1 b\n",
      "2 c\n"
     ]
    }
   ],
   "source": [
    "abc = ['a','b','c']\n",
    "for index, element in enumerate(abc):\n",
    "    print(index, element)"
   ]
  },
  {
   "cell_type": "code",
   "execution_count": 36,
   "metadata": {},
   "outputs": [
    {
     "name": "stdout",
     "output_type": "stream",
     "text": [
      "1 1 3\n",
      "2 1 3\n",
      "3 1 3\n"
     ]
    }
   ],
   "source": [
    "# możliwe jest również coś takiego \n",
    "abc = [[1,1,3],[2,1,3],[3,1,3]]\n",
    "for x, y, z in abc:\n",
    "    print(x,y,z)"
   ]
  },
  {
   "cell_type": "markdown",
   "metadata": {},
   "source": [
    "### Przerywanie pętli lub pomijanie iteracji, słowa kluczowe `break`, `continue`, `else`"
   ]
  },
  {
   "cell_type": "code",
   "execution_count": null,
   "metadata": {},
   "outputs": [],
   "source": [
    "# przerywanie pętli while\n",
    "i=0\n",
    "while True:\n",
    "    print(i, end=' ')\n",
    "    i+=1\n",
    "    if i>10:\n",
    "        break  #przerwanie"
   ]
  },
  {
   "cell_type": "code",
   "execution_count": 37,
   "metadata": {},
   "outputs": [
    {
     "name": "stdout",
     "output_type": "stream",
     "text": [
      "_ 1 2 _ 4 5 _ 7 8 _ 10 "
     ]
    }
   ],
   "source": [
    "# pomijanie iteracji w pętli while\n",
    "i=0\n",
    "while True:\n",
    "    if i % 3 == 0:\n",
    "        i+=1\n",
    "        print('_', end=' ')\n",
    "        continue #przejście do następnej iteracji\n",
    "    print(i, end=' ')\n",
    "    i+=1\n",
    "    if i>10:\n",
    "        break    #przerwanie"
   ]
  },
  {
   "cell_type": "code",
   "execution_count": 38,
   "metadata": {},
   "outputs": [
    {
     "name": "stdout",
     "output_type": "stream",
     "text": [
      "0 1 4 9 16 25 36 49 64 81 100 121 144 169 196 225 256 289 324 361 400 441 484 529 576 625 676 729 784 841 900 961 1024 1089 1156 1225 1296 1369 1444 1521 1600 1681 1764 1849 1936 2025 2116 2209 2304 2401 2500 2601 2704 2809 2916 3025 3136 3249 3364 3481 3600 3721 3844 3969 4096 "
     ]
    }
   ],
   "source": [
    "# przerwanie pętli for\n",
    "for i in range(100):\n",
    "    print(i*i, end=' ')\n",
    "    if i*i > 4000:\n",
    "        break    #przerwanie"
   ]
  },
  {
   "cell_type": "code",
   "execution_count": null,
   "metadata": {},
   "outputs": [],
   "source": [
    "# pomijanie iteracji w pętli for\n",
    "for i in range(100):\n",
    "    if 5 < i < 25:\n",
    "        print('_', end=' ')\n",
    "        continue #przejście do następnej iteracji\n",
    "    print(i*i, end=' ')\n",
    "    if i*i > 4000:\n",
    "        break    #przerwanie"
   ]
  },
  {
   "cell_type": "markdown",
   "metadata": {
    "deletable": false,
    "editable": false,
    "nbgrader": {
     "cell_type": "markdown",
     "checksum": "329fd8385af314e808c3171838c3247d",
     "grade": false,
     "grade_id": "cell-154f0e607ff713d2",
     "locked": true,
     "schema_version": 3,
     "solution": false,
     "task": false
    }
   },
   "source": [
    "W pętlach można używać klauzuli `else` która jest wykonywana gdy wyczerpane zostaną elementy po których iterujemy (pętla `for`) lub gdy warunek przyjmie wartość negatywną dla pętli `while` (nie dotyczy to przypadków gdy wyjście z pętli spowodowane jest przez `break`)"
   ]
  },
  {
   "cell_type": "code",
   "execution_count": 39,
   "metadata": {},
   "outputs": [
    {
     "name": "stdout",
     "output_type": "stream",
     "text": [
      "2 jest liczbą pierwszą\n",
      "3 jest liczbą pierwszą\n",
      "4 równa się 2 * 2\n",
      "5 jest liczbą pierwszą\n",
      "6 równa się 2 * 3\n",
      "7 jest liczbą pierwszą\n",
      "8 równa się 2 * 4\n",
      "9 równa się 3 * 3\n",
      "10 równa się 2 * 5\n"
     ]
    }
   ],
   "source": [
    "# użycie klauzuli else w pętli for\n",
    "for liczba in range(2,11):\n",
    "    for i in range(2,liczba):\n",
    "        if liczba%i == 0:\n",
    "            print(liczba,'równa się',i,'*',liczba//i)\n",
    "            break    #przerwanie\n",
    "    else:\n",
    "        # wyjście z pętli bez znalezienia dzielnika\n",
    "        print(liczba,'jest liczbą pierwszą')     "
   ]
  },
  {
   "cell_type": "markdown",
   "metadata": {
    "deletable": false,
    "editable": false,
    "nbgrader": {
     "cell_type": "markdown",
     "checksum": "9a2abbecfdb90ccb81f51c7090ae90fe",
     "grade": false,
     "grade_id": "cell-5942d837e637b587",
     "locked": true,
     "schema_version": 3,
     "solution": false
    }
   },
   "source": [
    "### Ćwiczenie 7\n",
    "Wyznacz średnią arytmetyczną liczb naturalnych $v$ mniejszych lub równych od zadanej liczby naturalnej $k$, $k\\geq2$ i spełniających warunek:\n",
    "$$ \\frac{v^{2}}{2}-v \\geq k$$ \n",
    "$$v=1,2, ...k$$"
   ]
  },
  {
   "cell_type": "code",
   "execution_count": 2,
   "metadata": {
    "deletable": false,
    "nbgrader": {
     "cell_type": "code",
     "checksum": "54bc135f053e184d335842e9eebf5f1c",
     "grade": true,
     "grade_id": "cell-7530aa043efb6088",
     "locked": false,
     "points": 0,
     "schema_version": 3,
     "solution": true
    }
   },
   "outputs": [
    {
     "name": "stdout",
     "output_type": "stream",
     "text": [
      "8.0\n"
     ]
    }
   ],
   "source": [
    "import math\n",
    "k = input('Podaj k = ')\n",
    "\n",
    "# YOUR CODE HERE\n",
    "k = int(k)\n",
    "s = 0\n",
    "x = 0\n",
    "if k >= 2:\n",
    "    for v in range(1, k + 1):\n",
    "        if (v * v / 2 - v) >= k:\n",
    "            s += v\n",
    "            x += 1\n",
    "print(s/x)\n",
    "\n",
    "#raise NotImplementedError()"
   ]
  },
  {
   "cell_type": "markdown",
   "metadata": {
    "deletable": false,
    "editable": false,
    "nbgrader": {
     "cell_type": "markdown",
     "checksum": "77660199f0e2432f9ae4a1ccceda64b5",
     "grade": false,
     "grade_id": "cell-3e73d41a914dfc5d",
     "locked": true,
     "schema_version": 3,
     "solution": false
    }
   },
   "source": [
    "## Zadanie 1\n",
    "Napisz program, który obliczy pole oraz objętość torusa. Użyj stałej $\\pi$ z biblioteki `math`.\n",
    "\n",
    "https://pl.wikipedia.org/wiki/Torus_(matematyka)"
   ]
  },
  {
   "cell_type": "code",
   "execution_count": 4,
   "metadata": {
    "deletable": false,
    "nbgrader": {
     "cell_type": "code",
     "checksum": "15ab28db29755187a05ad6d159390072",
     "grade": true,
     "grade_id": "cell-99aa0016d90ebf26",
     "locked": false,
     "points": 1,
     "schema_version": 3,
     "solution": true
    }
   },
   "outputs": [
    {
     "name": "stdout",
     "output_type": "stream",
     "text": [
      "Podaj promień okręgu definującego torus: \n",
      "Podaj odległość środka okręgu od osi obrotu: \n",
      "1973.9208802178719\n",
      "4934.802200544679\n"
     ]
    }
   ],
   "source": [
    "import math\n",
    "\n",
    "print('Podaj promień okręgu definującego torus: ')\n",
    "r = input()\n",
    "print('Podaj odległość środka okręgu od osi obrotu: ')\n",
    "R = input()\n",
    "# YOUR CODE HERE\n",
    "r = float(r)\n",
    "R = float(R)\n",
    "s = 4 * pow(math.pi, 2) * r * R\n",
    "v = 2 * pow(math.pi, 2) * R * pow(r, 2)\n",
    "print(s)\n",
    "print(v)\n",
    "#raise NotImplementedError()"
   ]
  },
  {
   "cell_type": "markdown",
   "metadata": {
    "deletable": false,
    "editable": false,
    "nbgrader": {
     "cell_type": "markdown",
     "checksum": "81625ed8e24c989fd25f6c749daf8d64",
     "grade": false,
     "grade_id": "cell-aeecbd849dd010c3",
     "locked": true,
     "schema_version": 3,
     "solution": false
    }
   },
   "source": [
    "## Zadanie 2\n",
    "Napisz program, który zaokrągli podaną liczbę w górę do podanej liczby miejsc po przecinku."
   ]
  },
  {
   "cell_type": "code",
   "execution_count": 6,
   "metadata": {
    "deletable": false,
    "nbgrader": {
     "cell_type": "code",
     "checksum": "089c8bceebc37f7828a0f60f27787550",
     "grade": true,
     "grade_id": "cell-5f90b4090ae915a9",
     "locked": false,
     "points": 1,
     "schema_version": 3,
     "solution": true
    }
   },
   "outputs": [
    {
     "name": "stdout",
     "output_type": "stream",
     "text": [
      "Podaj liczbę: \n",
      "Podaj liczbę miejsc po przecinku: \n",
      "1.457\n"
     ]
    }
   ],
   "source": [
    "import math\n",
    "\n",
    "print('Podaj liczbę: ')\n",
    "liczba = input()\n",
    "print('Podaj liczbę miejsc po przecinku: ')\n",
    "miejsca = input()\n",
    "# YOUR CODE HERE\n",
    "liczba = float(liczba)\n",
    "miejsca = int(miejsca)\n",
    "pom = 10 ** miejsca\n",
    "x = math.ceil(liczba * pom) / pom\n",
    "print(x)\n",
    "#raise NotImplementedError()"
   ]
  },
  {
   "cell_type": "markdown",
   "metadata": {
    "deletable": false,
    "editable": false,
    "nbgrader": {
     "cell_type": "markdown",
     "checksum": "d0d1c66324b8cf80514051d909796cda",
     "grade": false,
     "grade_id": "cell-8c114cde9f472c41",
     "locked": true,
     "schema_version": 3,
     "solution": false
    }
   },
   "source": [
    "## Zadanie 3\n",
    "Dana jest liczba $i$ typu `int` oraz liczba $x$ typu `float`. Wyprowadź wartości tych liczb w formatach jak pokazano na przykładzie poniżej (10 pól):\n",
    "\n",
    "```\n",
    "Podaj liczbę całkowią i = 1\n",
    "Podaj liczbę rzeczywistą x = 2.5\n",
    "\n",
    "Formaty przekształcenia dla liczb całkowitych:\n",
    "i |1|\n",
    "i |         1|\n",
    "i |        +1|\n",
    "i |1         |\n",
    "i |0000000001|\n",
    "i |     00001|\n",
    "\n",
    "Formaty przekształcenia dla liczb rzeczywistych:\n",
    "x |2.5|\n",
    "x |       2.5|\n",
    "x |   +2.5000|\n",
    "x |2.5000    |\n",
    "x |00002.5000|\n",
    "x |2.5000e+00|\n",
    "```\n"
   ]
  },
  {
   "cell_type": "code",
   "execution_count": 3,
   "metadata": {
    "deletable": false,
    "nbgrader": {
     "cell_type": "code",
     "checksum": "aa15332b58b9784a501c4611f7b75806",
     "grade": true,
     "grade_id": "cell-4eaff50991eca65f",
     "locked": false,
     "points": 1,
     "schema_version": 3,
     "solution": true
    }
   },
   "outputs": [
    {
     "name": "stdout",
     "output_type": "stream",
     "text": [
      "Formaty przekształcenia dla liczb całkowitych:\n",
      "i |1|\n",
      "i |\t\t\t1|\n",
      "i |\t\t   +1|\n",
      "i |1\t\t |\n",
      "i |0000000001|\n",
      "i |\t\t00001|\n",
      "\n",
      "Formaty przekształcenia dla liczb rzczywistych:\n",
      "x |2.5|\n",
      "x |\t\t  2.5|\n",
      "x |\t  +2.5000|\n",
      "x |2.5000\t |\n",
      "x |00002.5000|\n",
      "x |2.5000e+00|\n",
      "x |    2.5000|\n",
      "x |   +2.5000|\n",
      "x |2.5000e+00|\n"
     ]
    }
   ],
   "source": [
    "i = input('Podaj liczbę całkowią i = ')\n",
    "x = input('Podaj liczbę rzeczywistą x = ')\n",
    "# YOUR CODE HERE\n",
    "i = int(i)\n",
    "x = float(x)\n",
    "print(\"Formaty przekształcenia dla liczb całkowitych:\")\n",
    "print(\"i |%i|\" % i)\n",
    "print(\"i |\\t\\t\\t%i|\" % i)\n",
    "print(\"i |\\t\\t   %+i|\" % i)\n",
    "print(\"i |%i\\t\\t |\" % i)\n",
    "print(\"i |%.10i|\" % i)\n",
    "print(\"i |\\t\\t%.5i|\" % i)\n",
    "print(\"\\nFormaty przekształcenia dla liczb rzczywistych:\")\n",
    "print(\"x |%.1f|\" % x)\n",
    "print(\"x |\\t\\t  %.1f|\" % x)\n",
    "print(\"x |\\t  %+.4f|\" % x)\n",
    "print(\"x |%.4f\\t |\" % x)\n",
    "print(\"x |%010.4f|\" % x)\n",
    "print(\"x |%.4e|\" % x)\n",
    "#raise NotImplementedError()"
   ]
  },
  {
   "cell_type": "markdown",
   "metadata": {
    "deletable": false,
    "editable": false,
    "nbgrader": {
     "cell_type": "markdown",
     "checksum": "1514aa1a4da7e1513689e4f78c579b7b",
     "grade": false,
     "grade_id": "cell-01780820da67534f",
     "locked": true,
     "schema_version": 3,
     "solution": false
    }
   },
   "source": [
    "## Zadanie 4\n",
    "Napisz program, który we wprowadzonym tekście wyeliminuje wszystkie samogłoski i w ich miejsce wstawi podany przez użytkownika znak. Wypisz na ekran tekst po zmianie oraz liczbę zamienionych liter."
   ]
  },
  {
   "cell_type": "code",
   "execution_count": 11,
   "metadata": {
    "deletable": false,
    "nbgrader": {
     "cell_type": "code",
     "checksum": "ad3981b027f45b71fbce509fdd153f70",
     "grade": true,
     "grade_id": "cell-a4a3a6d6013148c5",
     "locked": false,
     "points": 1,
     "schema_version": 3,
     "solution": true
    }
   },
   "outputs": [
    {
     "name": "stdout",
     "output_type": "stream",
     "text": [
      "#k#krkS#P#\n",
      "4\n"
     ]
    }
   ],
   "source": [
    "text = input('Wprowadź tekst: ')\n",
    "znak = input('Wprowadź znak: ')\n",
    "# YOUR CODE HERE\n",
    "pom = text\n",
    "count = 0\n",
    "\n",
    "x = [\"a\", \"e\", \"i\", \"o\", \"u\", \"y\", \"A\", \"E\", \"I\", \"O\", \"U\", \"Y\"]\n",
    "for tmp in x:\n",
    "    text = text.replace(tmp, znak)\n",
    "\n",
    "for tmp in range(len(text)):\n",
    "    if text[tmp] != pom[tmp]:\n",
    "        count += 1\n",
    "\n",
    "print(text)\n",
    "print(count)\n",
    "#raise NotImplementedError()"
   ]
  },
  {
   "cell_type": "markdown",
   "metadata": {
    "deletable": false,
    "editable": false,
    "nbgrader": {
     "cell_type": "markdown",
     "checksum": "65859f8d70b204156dc87b0e685f01bb",
     "grade": false,
     "grade_id": "cell-aeecbd849dd010c3c4",
     "locked": true,
     "schema_version": 3,
     "solution": false
    }
   },
   "source": [
    "## Zadanie 5\n",
    "Dane są dwa teksty. Napisz program, który dołączy fragment tekstu pierwszego od znaku o podanej pozycji na koniec tekstu drugiego oraz poda liczbę słów w nowo utworzonym tekscie. Zakładamy, że słowa rozdziela spacja `(' ')`."
   ]
  },
  {
   "cell_type": "code",
   "execution_count": 1,
   "metadata": {
    "deletable": false,
    "nbgrader": {
     "cell_type": "code",
     "checksum": "737266f90c3bc605e2eff6c6b778a39f",
     "grade": true,
     "grade_id": "cell-5f90b4090ae915a1",
     "locked": false,
     "points": 1,
     "schema_version": 3,
     "solution": true
    }
   },
   "outputs": [
    {
     "name": "stdout",
     "output_type": "stream",
     "text": [
      "tu cos jest napisanema kota\n",
      "5\n"
     ]
    }
   ],
   "source": [
    "text_1 = input('Wprowadź tekst_1: ')\n",
    "text_2 = input('Wprowadź tekst_2: ')\n",
    "p = input('Podaj pozycję znaku w tekst_1: ')\n",
    "# YOUR CODE HERE\n",
    "p = int(p)\n",
    "text_2 += text_1[p:]\n",
    "print(text_2)\n",
    "print(len(text_2.split(\" \")))\n",
    "#raise NotImplementedError()"
   ]
  },
  {
   "cell_type": "markdown",
   "metadata": {
    "deletable": false,
    "editable": false,
    "nbgrader": {
     "cell_type": "markdown",
     "checksum": "4bc97967fe285f353b9525456400f9d0",
     "grade": false,
     "grade_id": "cell-093f3217226d4abc",
     "locked": true,
     "schema_version": 3,
     "solution": false
    }
   },
   "source": [
    "## Zadanie 6\n",
    "Dany jest przedział $[p1,p2]$ liczb naturalnych oraz liczba naturalna $p$ z jego wnętrza. Utwórz sumę liczb naturalnych z przedziału $<p1,p>$ oraz iloczyn pozostałych liczb."
   ]
  },
  {
   "cell_type": "code",
   "execution_count": 5,
   "metadata": {
    "deletable": false,
    "nbgrader": {
     "cell_type": "code",
     "checksum": "cffcb3ea5c2ea475d86f605d16f6a0a1",
     "grade": true,
     "grade_id": "cell-bcdcb194e012da23",
     "locked": false,
     "points": 1,
     "schema_version": 3,
     "solution": true
    }
   },
   "outputs": [
    {
     "name": "stdout",
     "output_type": "stream",
     "text": [
      "6\n",
      "6720\n"
     ]
    }
   ],
   "source": [
    "# wprowadz p1\n",
    "p1 = 1\n",
    "# wprowadz p2\n",
    "p2 = 8\n",
    "# wprowadz p\n",
    "p = 3\n",
    "\n",
    "# YOUR CODE HERE\n",
    "s = 0\n",
    "i = 1\n",
    "\n",
    "for x in range(p1, p + 1):\n",
    "    s += x\n",
    "\n",
    "for x in range(p+1,p2+1):\n",
    "    i *= x\n",
    "\n",
    "print(s)\n",
    "print(i)\n",
    "#raise NotImplementedError()"
   ]
  },
  {
   "cell_type": "markdown",
   "metadata": {
    "deletable": false,
    "editable": false,
    "nbgrader": {
     "cell_type": "markdown",
     "checksum": "3b8e51f679160593c7c69bfa3a265884",
     "grade": false,
     "grade_id": "cell-21a9c5df44cff69g",
     "locked": true,
     "schema_version": 3,
     "solution": false
    }
   },
   "source": [
    "## Zadanie 7\n",
    "Napisz program, który pyta użytkownika o dzień tygodnia. Program powinien wypisywać opinię autora o podanym dniu tygodnia. Jeśli użytkownik poda zły dzień (np. poda niepoprawnie jego nazwę), program powinien upomnieć użytkownika, oraz zapytać ponownie. Jeśli użytkownik dwa razy poda nieprawidłowy dzień, program powinien wypisać swoją opinię o użytkowniku i zakończyć działanie."
   ]
  },
  {
   "cell_type": "code",
   "execution_count": 7,
   "metadata": {
    "deletable": false,
    "nbgrader": {
     "cell_type": "code",
     "checksum": "8b6032ee48f74e401ce5bfe1ab0fab0a",
     "grade": true,
     "grade_id": "cell-afb64df2a116f3b7",
     "locked": false,
     "points": 1,
     "schema_version": 3,
     "solution": true
    }
   },
   "outputs": [
    {
     "name": "stdout",
     "output_type": "stream",
     "text": [
      "Nie umiesz pisac!!!\n"
     ]
    }
   ],
   "source": [
    "# YOUR CODE HERE\n",
    "dzien = input(\"Wpisz dzien tygodnia: \")\n",
    "if dzien == \"poniedzialek\":\n",
    "    print(\":(\")\n",
    "elif dzien == \"wtorek\":\n",
    "    print(\"ok\")\n",
    "elif dzien == \"sroda\":\n",
    "    print(\"slabo\")\n",
    "elif dzien == \"czwartek\":\n",
    "    print(\"nie ma zle\")\n",
    "elif dzien == \"piatek\":\n",
    "    print(\":)\")\n",
    "elif dzien == \"sobota\":\n",
    "    print(\"super\")\n",
    "elif dzien == \"niedziela\":\n",
    "    print(\"git\")\n",
    "else:\n",
    "    dzien = input(\"Zle podany dzien tygodnia, wpisze jeszcze raz: \")\n",
    "    if dzien == \"poniedzialek\":\n",
    "        print(\":(\")\n",
    "    elif dzien == \"wtorek\":\n",
    "        print(\"ok\")\n",
    "    elif dzien == \"sroda\":\n",
    "        print(\"slabo\")\n",
    "    elif dzien == \"czwartek\":\n",
    "        print(\"nie ma zle\")\n",
    "    elif dzien == \"piatek\":\n",
    "        print(\":)\")\n",
    "    elif dzien == \"sobota\":\n",
    "        print(\"super\")\n",
    "    elif dzien == \"niedziela\":\n",
    "        print(\"git\")\n",
    "    else:\n",
    "        print(\"Nie umiesz pisac!!!\")\n",
    "#raise NotImplementedError()"
   ]
  },
  {
   "cell_type": "markdown",
   "metadata": {
    "deletable": false,
    "editable": false,
    "nbgrader": {
     "cell_type": "markdown",
     "checksum": "866ba7f7d1b4d8927424dd1196e01ae8",
     "grade": false,
     "grade_id": "cell-21a9c5df44cff69h",
     "locked": true,
     "schema_version": 3,
     "solution": false
    }
   },
   "source": [
    "## Zadanie 8\n",
    "Napisz program sprawdzający czy podana przez użytkownika liczba jest pierwsza.\n",
    "\n",
    "https://pl.wikipedia.org/wiki/Liczba_pierwsza"
   ]
  },
  {
   "cell_type": "code",
   "execution_count": 21,
   "metadata": {
    "deletable": false,
    "nbgrader": {
     "cell_type": "code",
     "checksum": "aec9375dd47230a28b79c623bb3625ab",
     "grade": true,
     "grade_id": "cell-afb64df2a116f3b6",
     "locked": false,
     "points": 1,
     "schema_version": 3,
     "solution": true
    }
   },
   "outputs": [
    {
     "name": "stdout",
     "output_type": "stream",
     "text": [
      "Jest pierwsza\n"
     ]
    }
   ],
   "source": [
    "# wprowadz liczbę\n",
    "liczba = int(input(\"Podaj liczbę: \"))\n",
    "# YOUR CODE HERE\n",
    "if liczba > 1:\n",
    "   for i in range(2,liczba):\n",
    "       if (liczba % i) == 0:\n",
    "           print(\"Nie jest pierwsza\")\n",
    "           break\n",
    "   else:\n",
    "       print(\"Jest pierwsza\")\n",
    "else:\n",
    "   print(\"Nie jest pierwsza\")\n",
    "#raise NotImplementedError()"
   ]
  },
  {
   "cell_type": "markdown",
   "metadata": {
    "deletable": false,
    "editable": false,
    "nbgrader": {
     "cell_type": "markdown",
     "checksum": "b89497679e5fdb6f08b51808ee3dbe46",
     "grade": false,
     "grade_id": "cell-e22be4ce9286c4d9",
     "locked": true,
     "schema_version": 3,
     "solution": false
    }
   },
   "source": [
    "<div style=\"text-align: right\">&copy; Katedra Informatyki, Politechnika Krakowska </div>"
   ]
  }
 ],
 "metadata": {
  "kernelspec": {
   "display_name": "Python 3",
   "language": "python",
   "name": "python3"
  },
  "language_info": {
   "codemirror_mode": {
    "name": "ipython",
    "version": 3
   },
   "file_extension": ".py",
   "mimetype": "text/x-python",
   "name": "python",
   "nbconvert_exporter": "python",
   "pygments_lexer": "ipython3",
   "version": "3.9.7"
  }
 },
 "nbformat": 4,
 "nbformat_minor": 2
}
