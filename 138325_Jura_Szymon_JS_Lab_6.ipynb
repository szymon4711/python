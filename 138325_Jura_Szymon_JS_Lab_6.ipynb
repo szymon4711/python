{
 "cells": [
  {
   "cell_type": "markdown",
   "metadata": {
    "pycharm": {
     "name": "#%% md\n"
    }
   },
   "source": [
    "# Języki symboliczne - rok akademicki 2021/2022\n",
    "\n",
    "Przed rozpoczęciem pracy z notatnikiem zmień jego nazwę zgodnie z wzorem: `NrAlbumu_Nazwisko_Imie_PoprzedniaNazwa`\n",
    "\n",
    "Przed wysłaniem notatnika **upewnij się jeszcze raz** że zmieniłeś nazwę i że rozwiązałeś wszystkie zadania/ćwiczenia, w szczególności, że uzupełniłeś wszystkie pola `YOUR CODE HERE` oraz `YOUR ANSWER HERE`."
   ]
  },
  {
   "cell_type": "markdown",
   "metadata": {
    "deletable": false,
    "editable": false,
    "nbgrader": {
     "cell_type": "markdown",
     "checksum": "a588f0b49fba4c277366ec6f7e5ea510",
     "grade": false,
     "grade_id": "cell-51d5c973082f0959",
     "locked": true,
     "schema_version": 3,
     "solution": false
    },
    "pycharm": {
     "name": "#%% md\n"
    }
   },
   "source": [
    "# Temat: Klasy. Metody wbudowane i atrybuty specjalne. Hermetyzacja. Dziedziczenie. Polimorfizm.\n",
    "Zapoznaj się z treścią niniejszego notatnika czytając i wykonując go komórka po komórce. Wykonaj napotkane zadania/ćwiczenia.\n",
    "\n",
    "## Klasy.\n",
    "\n",
    "- Do definicji klasy służy słowo kluczowe `class`.\n",
    "- W Pythonie każda klasa dziedziczy po klasie `object`.\n",
    "- Atrybut klasy to zmienna zdefiniowana wewnątrz klasy.\n",
    "- Metoda klasy to funkcja zdefiniowana wewnątrz klasy.\n",
    "- Pierwszy argument każdej metody `self` jest referencją do obiektu, na rzecz którego ta metoda została wywołana.\n",
    "- W Pythonie przyjęto konwencje `self` ale może to być dowolna nazwa, np. `this` jak w C++.\n",
    "- Podczas wywołania metody obiektu nie wymieniamy na liście argumentów formalnych argumentu `self`. Jest on automatycznie przekazywany przez Pythona do metody.\n",
    "- Kiedy wprowadza się definicje klasy do programu, tworzona jest nowa przestrzeń nazw (zasieg lokalny - wszystkie przypisania do zmiennych lokalnych dotyczą nazw z tej właśnie przestrzeni).\n",
    "\n",
    "### Definicja klasy "
   ]
  },
  {
   "cell_type": "code",
   "execution_count": null,
   "metadata": {
    "pycharm": {
     "name": "#%%\n",
     "is_executing": true
    }
   },
   "outputs": [],
   "source": [
    "class MY_CLASS:  # lub / class MY_CLASS(object): / class MY_CLASS(): /\n",
    "    i = 1.0  # atrybut/składowa klasy\n",
    "    k = 12   # atrybut/składowa klasy\n",
    "    \n",
    "    def get_i(self):  # metoda klasy - zwraca wartość zmiennej i\n",
    "        return self.i\n",
    "    \n",
    "    def set_i(self, ii): # metoda klasy - ustawia wartość zmiennej i\n",
    "        self.i = ii\n",
    "    \n",
    "    def disp(self):  # metoda klasy - wypisuje wartość składowych i,k\n",
    "        print('obiekt MY_CLASS')\n",
    "        print('wartość i = ',self.i) \n",
    "        print('wartość k = ',self.k) "
   ]
  },
  {
   "cell_type": "markdown",
   "metadata": {
    "deletable": false,
    "editable": false,
    "nbgrader": {
     "cell_type": "markdown",
     "checksum": "7390e32c8bad0558ea20a887ae825941",
     "grade": false,
     "grade_id": "cell-d16d388dab7632e1",
     "locked": true,
     "schema_version": 3,
     "solution": false
    },
    "pycharm": {
     "name": "#%% md\n"
    }
   },
   "source": [
    "#### Odniesienie do atrybutu klasy\n",
    "\n",
    "Odniesienie do atrybutu klasy odbywa się poprzez standardową konstrukcję:\n",
    "\n",
    "`obiekt.nazwa`\n",
    "\n",
    "Prawidłowymi nazwami atrybutów są nazwy, które istniały w przestrzeni nazw klasy w czasie tworzenia jej obiektu."
   ]
  },
  {
   "cell_type": "code",
   "execution_count": 3,
   "metadata": {
    "pycharm": {
     "name": "#%%\n"
    }
   },
   "outputs": [
    {
     "data": {
      "text/plain": "1.0"
     },
     "execution_count": 3,
     "metadata": {},
     "output_type": "execute_result"
    }
   ],
   "source": [
    "MY_CLASS.i  # odwołanie do składowej i klasy MY_CLASS"
   ]
  },
  {
   "cell_type": "code",
   "execution_count": 4,
   "metadata": {
    "pycharm": {
     "name": "#%%\n"
    }
   },
   "outputs": [
    {
     "data": {
      "text/plain": "<function __main__.MY_CLASS.get_i(self)>"
     },
     "execution_count": 4,
     "metadata": {},
     "output_type": "execute_result"
    }
   ],
   "source": [
    "MY_CLASS.get_i  # odwołanie do metody get_i klasy MY_CLASS\n"
   ]
  },
  {
   "cell_type": "markdown",
   "metadata": {
    "deletable": false,
    "editable": false,
    "nbgrader": {
     "cell_type": "markdown",
     "checksum": "523802117fdc9c906124fdac361a7520",
     "grade": false,
     "grade_id": "cell-c5ec731ab0457871",
     "locked": true,
     "schema_version": 3,
     "solution": false
    },
    "pycharm": {
     "name": "#%% md\n"
    }
   },
   "source": [
    "#### Utworzenie nowego obiektu klasy `MY_CLASS` (konkretyzacja klasy).\n",
    "\n",
    "Konkretyzację klasy przeprowadza się używając notacji wywołania funkcji. Obiekt klasy jest, która zwraca instancję (konkret) klasy.\n",
    "\n",
    "Usunięcie obiektu polecenie: `del`."
   ]
  },
  {
   "cell_type": "code",
   "execution_count": 2,
   "metadata": {
    "pycharm": {
     "name": "#%%\n"
    }
   },
   "outputs": [
    {
     "name": "stdout",
     "output_type": "stream",
     "text": [
      "2232060687744 2232060686784\n"
     ]
    }
   ],
   "source": [
    "a = MY_CLASS()  # nowa instancja klasy MY_CLASS\n",
    "b = MY_CLASS()  # nowa instancja klasy MY_CLASS\n",
    "print(id(a),id(b))"
   ]
  },
  {
   "cell_type": "code",
   "execution_count": 3,
   "metadata": {
    "pycharm": {
     "name": "#%%\n"
    }
   },
   "outputs": [
    {
     "name": "stdout",
     "output_type": "stream",
     "text": [
      "1.0\n",
      "obiekt MY_CLASS\n",
      "wartość i =  1.0\n",
      "wartość k =  12\n",
      "1.0\n",
      "10\n",
      "obiekt MY_CLASS\n",
      "wartość i =  10\n",
      "wartość k =  12\n"
     ]
    },
    {
     "data": {
      "text/plain": "10"
     },
     "execution_count": 3,
     "metadata": {},
     "output_type": "execute_result"
    }
   ],
   "source": [
    "a = MY_CLASS()\n",
    "print(a.i)  # odwołanie do składowej i obiektu a klasy MY_CLASS\n",
    "a.disp()  # odwołanie do metody disp() obiektu a klasy MY_CLASS\n",
    "print(a.get_i())  # odwołanie do metody get_i() obiektu a klasy MY_CLASS\n",
    "a.set_i(10)  # odwołanie do metody set_i() obiektu a klasy MY_CLASS\n",
    "print(a.i)  # odwołanie do składowej i obiektu a klasy MY_CLASS\n",
    "a.disp()\n",
    "\n",
    "MY_CLASS.get_i(a)  # odwołanie do metody get_i() klasy MY_ClASS dla obiektu a"
   ]
  },
  {
   "cell_type": "markdown",
   "metadata": {
    "deletable": false,
    "editable": false,
    "nbgrader": {
     "cell_type": "markdown",
     "checksum": "969f0ed970940617ec3199b922b8aa01",
     "grade": false,
     "grade_id": "cell-6655882a5ae994d5",
     "locked": true,
     "schema_version": 3,
     "solution": false
    },
    "pycharm": {
     "name": "#%% md\n"
    }
   },
   "source": [
    "### Metody wbudowane i atrybuty specjalne\n",
    "\n",
    "Nazwy metod specjalnych rozpoczynają się i kończą dwoma znakami podkreślenia, np.:\n",
    "\n",
    "`__init__()`\n",
    "\n",
    "Python używa metod specjalnych m.in. w następujących przypadkach:\n",
    "- tworzenie i usuwanie egzemplarza;\n",
    "- tworzenie reprezentacji łancuchowych egzemplarza;\n",
    "- definiowanie wartości prawdziwości egzemplarza;\n",
    "- porównywanie egzemplarzy;\n",
    "- dostęp do atrybutów egzemplarza;\n",
    "- traktowanie egzemplarzy jak sekwencji i słowników;\n",
    "- wykonywanie operacji matematycznych na egzemplarzach\n",
    "\n",
    "Lista metod specjalnych patrz link: https://docs.python.org/3/reference/datamodel.html#special-method-names ,\n",
    "\n",
    "lub: https://pl.python.org/docs/ref/node15.html\n",
    "\n",
    "Wybrane atrybuty specjalne obiektów, których można użyć:\n",
    "\n",
    "\n",
    "- `__doc__` atrybut zawierający tzw. łańcuch (napis) dokumentacyjny. Jeżeli nie zostanie podany wartość atrybutu wynosi `None`.\n",
    "- `__dict__` atrybut zawierający nazwy i wartości zdefiniowanych zmiennych\n",
    "- `__init__()` inicjalizacja stanu początkowego\n",
    "- `__del__()`  metoda wywoływana tuż przed zniszczeniem instancji po osiągnięciu przez licznik odwołań wartości zero\n",
    "- `__repr__()` „oficjalna” reprezentacja obiektu, powinna być jednoznaczna; wywołana przez `repr(obiekt)`; konwertuje obiekt klasy do stringa \n",
    "- `__str__()` „nieformalna” reprezentacja obiektu, powinna być czytelna; wywołana przez `str(obiekt)` lub `print`; konwertuje obiekt klasy do stringa\n",
    "- `help()` informacja o obiekcie\n",
    "- `self.__class__` atrybut każdego obiektu - referencja do klasy, której obiektem jest `self`.\n"
   ]
  },
  {
   "cell_type": "markdown",
   "metadata": {
    "deletable": false,
    "editable": false,
    "nbgrader": {
     "cell_type": "markdown",
     "checksum": "89a74c2342074a12b7ffa93d1e66101c",
     "grade": false,
     "grade_id": "cell-fb23ac9a385d7895",
     "locked": true,
     "schema_version": 3,
     "solution": false
    },
    "pycharm": {
     "name": "#%% md\n"
    }
   },
   "source": [
    "#### Inicjalizacja stanu początkowego\n",
    "\n",
    "- Służy do tego wbudowana metoda `__init__()`.\n",
    "- Korzystamy z niej jeżeli dla klasy występuje konieczność utworzenia obiektu z pewnym znanym, początkowym stanem. \n",
    "- W momencie konkretyzacji klasy, automatycznie wywołana zostanie metoda `__init__()` dla nowopowstałego konkretu klasy. (działa prawie jak konstruktor, ale wywoływana po utworzeniu instancji)\n",
    "- `__init__()` definiuje mi.in zmienne instancji.\n",
    "- Nazwy i wartości zdefiniowanych zmiennych obiektu znajdują się w atrybucie wbudowanym `__dict__` .\n"
   ]
  },
  {
   "cell_type": "code",
   "execution_count": 4,
   "metadata": {
    "pycharm": {
     "name": "#%%\n"
    }
   },
   "outputs": [],
   "source": [
    "class MY_CLASS:  # lub / class MY_CLASS(object): / class MY_CLASS(): /\n",
    "    def __init__(self, i, k):  # metoda klasy - ustawia wartości początkowe\n",
    "        self.i = i  # atrybut/składowa instancji klasy \n",
    "        self.k = k  # atrybut/składowa instancji klasy\n",
    "    \n",
    "    def get_i(self):  # metoda klasy - zwraca wartość zmiennej i\n",
    "        return self.i\n",
    "    \n",
    "    def set_i(self,ii):  # metoda klasy - ustawia wartość zmiennej i\n",
    "        self.i = ii\n",
    "    \n",
    "    def disp(self):  # metoda klasy - wypisuje wartość składowych i,k\n",
    "        print('obiekt MY_CLASS')\n",
    "        print('wartość i = ',self.i) \n",
    "        print('wartość k = ',self.k)"
   ]
  },
  {
   "cell_type": "code",
   "execution_count": 5,
   "metadata": {
    "pycharm": {
     "name": "#%%\n"
    }
   },
   "outputs": [
    {
     "name": "stdout",
     "output_type": "stream",
     "text": [
      "obiekt MY_CLASS\n",
      "wartość i =  1\n",
      "wartość k =  2\n",
      "obiekt MY_CLASS\n",
      "wartość i =  3\n",
      "wartość k =  4\n",
      "{'i': 1, 'k': 2}\n",
      "{'i': 3, 'k': 4}\n",
      "<class '__main__.MY_CLASS'>\n",
      "<class '__main__.MY_CLASS'>\n"
     ]
    }
   ],
   "source": [
    "a = MY_CLASS(1,2)\n",
    "b = MY_CLASS(3,4)\n",
    "a.disp()  # odwołanie do metody disp() obiektu a klasy MY_CLASS\n",
    "b.disp()  # odwołanie do metody disp() obiektu b klasy MY_CLASS\n",
    "print(a.__dict__)  # nazwy i wartości zmienych w obiekcie a\n",
    "print(b.__dict__)  # nazwy i wartości zmienych w obiekcie b\n",
    "print(a.__class__) #referencja do klasy, której obiektem jest a\n",
    "print(b.__class__) #referencja do klasy, której obiektem jest b"
   ]
  },
  {
   "cell_type": "markdown",
   "metadata": {
    "deletable": false,
    "editable": false,
    "nbgrader": {
     "cell_type": "markdown",
     "checksum": "ee17d7dd9ee3b0331d98208fa3d2df92",
     "grade": false,
     "grade_id": "cell-76b55086423ae893",
     "locked": true,
     "schema_version": 3,
     "solution": false
    },
    "pycharm": {
     "name": "#%% md\n"
    }
   },
   "source": [
    "W Pythonie można dodawać nowe atrybuty do istniejących obiektów.\n",
    "\n",
    "Uwaga. Nie jest to zalecane!"
   ]
  },
  {
   "cell_type": "code",
   "execution_count": 6,
   "metadata": {
    "pycharm": {
     "name": "#%%\n"
    }
   },
   "outputs": [
    {
     "name": "stdout",
     "output_type": "stream",
     "text": [
      "obiekt MY_CLASS\n",
      "wartość i =  1\n",
      "wartość k =  2\n",
      "{'i': 1, 'k': 2}\n",
      "{'i': 1, 'k': 2, 'm': 99}\n"
     ]
    }
   ],
   "source": [
    "a = MY_CLASS(1,2)\n",
    "a.disp()\n",
    "print(a.__dict__)\n",
    "a.m = 99\n",
    "print(a.__dict__) "
   ]
  },
  {
   "cell_type": "markdown",
   "metadata": {
    "deletable": false,
    "editable": false,
    "nbgrader": {
     "cell_type": "markdown",
     "checksum": "4af4cdeea7f088b619c1346d6826c70d",
     "grade": false,
     "grade_id": "cell-972db5c6d14304fc",
     "locked": true,
     "schema_version": 3,
     "solution": false,
     "task": false
    },
    "pycharm": {
     "name": "#%% md\n"
    }
   },
   "source": [
    "Czasami potrzebne jest użycie typu danych spotykanego w Pascalu pod nazwą rekordu lub struktury w C.\n",
    "\n",
    "W prosty sposób można to wyrazić za pomocą pustej definicji klasy."
   ]
  },
  {
   "cell_type": "code",
   "execution_count": 7,
   "metadata": {
    "pycharm": {
     "name": "#%%\n"
    }
   },
   "outputs": [],
   "source": [
    "class Pracownik:\n",
    "    pass\n",
    "\n",
    "jan = Pracownik() # Tworzy pusty rekord pracownika\n",
    "# Wypełnienie pól w rekordzie\n",
    "jan.nazwa = 'Jan Kowalski'\n",
    "jan.miejsce = 'Biedronka'\n",
    "jan.pensja = '2500'"
   ]
  },
  {
   "cell_type": "markdown",
   "metadata": {
    "deletable": false,
    "editable": false,
    "nbgrader": {
     "cell_type": "markdown",
     "checksum": "f768b567870b997d9df4f7ff252a0726",
     "grade": false,
     "grade_id": "cell-13b86e147a0029f5",
     "locked": true,
     "schema_version": 3,
     "solution": false
    },
    "pycharm": {
     "name": "#%% md\n"
    }
   },
   "source": [
    "#### Dokumentacja klasy (funkcji)\n",
    "\n",
    "- Na początku definicji klasy możemy umieścić napis dokumentujący.\n",
    "- napis dokumentujący może być stosowany również w funkcjach. \n",
    "- napis dokumentujący jest przypisywany jako wartość atrybutu `__doc__` . \n",
    "- Jeżeli nie zostanie podany napis dokumentujący to wartością atrybutu `__doc__` jest `None`."
   ]
  },
  {
   "cell_type": "code",
   "execution_count": 8,
   "metadata": {
    "pycharm": {
     "name": "#%%\n"
    }
   },
   "outputs": [],
   "source": [
    "class MY_CLASS:  # lub / class MY_CLASS(object): / class MY_CLASS(): /\n",
    "    \"\"\"Nasza przykładowa klasa\"\"\"\n",
    "    \n",
    "    def __init__(self, i, k):  # metoda klasy - ustawia wartości początkowe\n",
    "        self.i = i  # atrybut/składowa instancji klasy \n",
    "        self.k = k  # atrybut/składowa instancji klasy\n",
    "    \n",
    "    def get_i(self):  # metoda klasy - zwraca wartość zmiennej i\n",
    "        \"\"\"Metoda naszej klasy zwracająca wartość składowej i\"\"\"\n",
    "        return self.i\n",
    "    \n",
    "    def set_i(self, ii):  # metoda klasy - ustawia wartość zmiennej i\n",
    "        \"\"\"Metoda naszej klasy ustawiająca nową wartość składowej i\"\"\"\n",
    "        self.i = ii\n",
    "    \n",
    "    def disp(self):  # metoda klasy - wypisuje wartość składowych i,k\n",
    "        \"\"\"Metoda naszej klasy wypisująca wartości składowych i,k\"\"\"\n",
    "        print('obiekt MY_CLASS')\n",
    "        print('wartość i = ', self.i) \n",
    "        print('wartość k = ', self.k) "
   ]
  },
  {
   "cell_type": "code",
   "execution_count": 9,
   "metadata": {
    "pycharm": {
     "name": "#%%\n"
    }
   },
   "outputs": [
    {
     "data": {
      "text/plain": "'Nasza przykładowa klasa'"
     },
     "execution_count": 9,
     "metadata": {},
     "output_type": "execute_result"
    }
   ],
   "source": [
    "a = MY_CLASS(1,2)\n",
    "a.__doc__  # napis dokumentujący dla instancji a klasy MY_CLASS"
   ]
  },
  {
   "cell_type": "code",
   "execution_count": 10,
   "metadata": {
    "pycharm": {
     "name": "#%%\n"
    }
   },
   "outputs": [
    {
     "data": {
      "text/plain": "'Metoda naszej klasy zwracająca wartość składowej i'"
     },
     "execution_count": 10,
     "metadata": {},
     "output_type": "execute_result"
    }
   ],
   "source": [
    "a.get_i.__doc__  # wiersz dokumentacyjny dla metody get_i() w instancji a klasy MY_CLASS"
   ]
  },
  {
   "cell_type": "code",
   "execution_count": 11,
   "metadata": {
    "pycharm": {
     "name": "#%%\n"
    }
   },
   "outputs": [
    {
     "name": "stdout",
     "output_type": "stream",
     "text": [
      "Help on MY_CLASS in module __main__ object:\n",
      "\n",
      "class MY_CLASS(builtins.object)\n",
      " |  MY_CLASS(i, k)\n",
      " |  \n",
      " |  Nasza przykładowa klasa\n",
      " |  \n",
      " |  Methods defined here:\n",
      " |  \n",
      " |  __init__(self, i, k)\n",
      " |      Initialize self.  See help(type(self)) for accurate signature.\n",
      " |  \n",
      " |  disp(self)\n",
      " |      Metoda naszej klasy wypisująca wartości składowych i,k\n",
      " |  \n",
      " |  get_i(self)\n",
      " |      Metoda naszej klasy zwracająca wartość składowej i\n",
      " |  \n",
      " |  set_i(self, ii)\n",
      " |      Metoda naszej klasy ustawiająca nową wartość składowej i\n",
      " |  \n",
      " |  ----------------------------------------------------------------------\n",
      " |  Data descriptors defined here:\n",
      " |  \n",
      " |  __dict__\n",
      " |      dictionary for instance variables (if defined)\n",
      " |  \n",
      " |  __weakref__\n",
      " |      list of weak references to the object (if defined)\n",
      "\n"
     ]
    }
   ],
   "source": [
    "b = a\n",
    "help(b)  # wyświetlenie informacji o obiekcie"
   ]
  },
  {
   "cell_type": "markdown",
   "metadata": {
    "deletable": false,
    "editable": false,
    "nbgrader": {
     "cell_type": "markdown",
     "checksum": "700f6b48336348a7ec792a7e435f1b02",
     "grade": false,
     "grade_id": "cell-8d4257a410dea81d",
     "locked": true,
     "schema_version": 3,
     "solution": false
    },
    "pycharm": {
     "name": "#%% md\n"
    }
   },
   "source": [
    "## Ćwiczenie 1\n",
    "\n",
    "Utwórz klasę `MY_STACK` która implementuje algorytm LIFO (stos).\n",
    "\n",
    "Klasa musi zawierać:\n",
    "\n",
    "I. składowe:\n",
    "\n",
    "- lista wykorzystywana jako stos (na początku = []);\n",
    "\n",
    "- liczba elementów na stosie (na początku = 0);\n",
    "\n",
    "II. metody:\n",
    "\n",
    "- dodaj element do stosu (funkcja `append()`);\n",
    "\n",
    "- pobierz element ze stosu (funkcja `pop()`), jeżeli na stosie nic nie ma komunikat \"stos pusty\":\n",
    "\n",
    "- sprawdź aktualną liczbę elementów na stosie\n",
    "\n",
    "Napisz program, który dla wybranej opcji wykona żądaną operację:\n",
    "\n",
    "```python\n",
    "while op != 3:\n",
    "    #print('kod dzialania? (0 - push, 1 - pop, 2 - ilosc elementow, 3 - koniec)\\n')\n",
    "    op = int(input('kod dzialania? (0 - push, 1 - pop, 2 - ilosc elementow, 3 - koniec)\\n'))\n",
    "```\n",
    "Jeżeli zostanie wybrana inna opcja program wyświetli komunikat: `błędne działanie`.  \n",
    "\n",
    "\n",
    "Stos to liniowa struktura danych, w której dane dodawane są tylko na szczyt stosu i tylko ze szczytu stosu sa pobierane. Jest to bufor typu LIFO (ang. Last-In-First-Out)."
   ]
  },
  {
   "cell_type": "code",
   "execution_count": 16,
   "metadata": {
    "deletable": false,
    "nbgrader": {
     "cell_type": "code",
     "checksum": "b66fb70d82576a21f7329d6517ad000e",
     "grade": false,
     "grade_id": "cell-e3420a362604903a",
     "locked": false,
     "schema_version": 3,
     "solution": true,
     "task": false
    },
    "pycharm": {
     "name": "#%%\n"
    }
   },
   "outputs": [
    {
     "name": "stdout",
     "output_type": "stream",
     "text": [
      "pobrano ze stosu Stack is empty\n",
      "pozostało elementów 2\n",
      "pobrano ze stosu 1.0\n",
      "pobrano ze stosu 2.0\n",
      "pobrano ze stosu 1.0\n",
      "pobrano ze stosu Stack is empty\n",
      "pozostało elementów 0\n"
     ]
    }
   ],
   "source": [
    "# YOUR CODE HERE\n",
    "#raise NotImplementedError()\n",
    "\n",
    "class MY_STACK():\n",
    "    stack = []\n",
    "\n",
    "    def s_push(self, x):\n",
    "        self.stack.append(x)\n",
    "\n",
    "    def s_pop(self):\n",
    "        if len(self.stack) > 0:\n",
    "            return self.stack.pop()\n",
    "        else:\n",
    "            return \"Stack is empty\"\n",
    "\n",
    "    def get_num(self):\n",
    "        return len(self.stack)\n",
    "\n",
    "\n",
    "st = MY_STACK()\n",
    "op = 0\n",
    "while op != 3:\n",
    "    #print('kod dzialania? (0 - push, 1 - pop, 2 - ilosc elementow, 3 - koniec)\\n')\n",
    "    op = int(input('kod dzialania? (0 - push, 1 - pop, 2 - ilosc elementow, 3 - koniec)\\n'))\n",
    "    if op == 0:\n",
    "        st.s_push(float(input('wprowadź wartość')))\n",
    "    elif op == 1:\n",
    "        print('pobrano ze stosu',st.s_pop())\n",
    "    elif op == 2:\n",
    "        print('pozostało elementów', st.get_num())\n",
    "    elif op == 3:\n",
    "        break\n",
    "    else:\n",
    "        print('błędne działanie')\n"
   ]
  },
  {
   "cell_type": "markdown",
   "metadata": {
    "deletable": false,
    "editable": false,
    "nbgrader": {
     "cell_type": "markdown",
     "checksum": "3a03f25bc5a4b387d0f1fca0e2ba2633",
     "grade": false,
     "grade_id": "cell-a81be9cc89dd665c",
     "locked": true,
     "schema_version": 3,
     "solution": false
    },
    "pycharm": {
     "name": "#%% md\n"
    }
   },
   "source": [
    "#### Metody `str` i `repr`.\n",
    "\n",
    "Metody konwertują obiekt klasy do reprezentacji napisowej (string). \n",
    "\n",
    "Metoda specjalna  `__repr__(self)`:\n",
    "\n",
    "- Wywoływana przez wbudowaną funkcję `repr()` do wygenerowania \"oficjalnej\" reprezentacji napisowej obiektu. \n",
    "- reprezentacja napisowa powinna zawierać pełną informacje o obiekcie i być jednoznaczna.\n",
    "- Jeśli to możliwe, napis powinien być poprawnym wyrażeniem w Pythonie, po przewartościowaniu którego otrzymamy obiekt o tej samej wartości (w odpowiednim środowisku). \n",
    "- Jeżeli klasa implementuje metodę `__repr__()`, a nie implementuje metody `__str__()`, wówczas metoda `__repr__()` stosowana jest w zastępstwie `__str__()`.\n",
    "- Metoda ta jest zwykle używana podczas debugowania - przeznaczona dla developerów.\n",
    "\n",
    "Metoda specjalna `__str__()`:\n",
    "\n",
    "- Wywoływana przez wbudowaną funkcję `str()` oraz instrukcję `print` do wygenerowania \"informacyjnej\" reprezentacji napisowej obiektu.\n",
    "- Metoda generalnie przeznaczona dla użytkowników."
   ]
  },
  {
   "cell_type": "code",
   "execution_count": 17,
   "metadata": {
    "pycharm": {
     "name": "#%%\n"
    }
   },
   "outputs": [],
   "source": [
    "# Klasa z metodami __str__() i __repr__()\n",
    "class MY_CLASS: \n",
    "    def __init__(self, i, k): \n",
    "        self.i = i \n",
    "        self.k = k \n",
    "        \n",
    "    def get_i(self): \n",
    "        return self.i\n",
    "    \n",
    "    def set_i(self,ii): \n",
    "        self.i = ii\n",
    "    \n",
    "    def __str__(self): \n",
    "        return 'obiekt MY_CLASS, i = {}, k = {}'.format(self.i, self.k)\n",
    "    \n",
    "    def __repr__(self): \n",
    "        return 'MY_CLASS({},{})'.format(self.i, self.k)"
   ]
  },
  {
   "cell_type": "code",
   "execution_count": 18,
   "metadata": {
    "pycharm": {
     "name": "#%%\n"
    }
   },
   "outputs": [
    {
     "name": "stdout",
     "output_type": "stream",
     "text": [
      "obiekt MY_CLASS, i = 10, k = 20\n"
     ]
    },
    {
     "data": {
      "text/plain": "MY_CLASS(10,20)"
     },
     "execution_count": 18,
     "metadata": {},
     "output_type": "execute_result"
    }
   ],
   "source": [
    "a = MY_CLASS(10, 20)\n",
    "print(a)  # wykonywana jest metoda __str__()\n",
    "a  # wykonywana jest metoda __repr__()"
   ]
  },
  {
   "cell_type": "markdown",
   "metadata": {
    "deletable": false,
    "editable": false,
    "nbgrader": {
     "cell_type": "markdown",
     "checksum": "ce692edf3e390bb5003af3bf1e20ff3e",
     "grade": false,
     "grade_id": "cell-b6703d8cce88b677",
     "locked": true,
     "schema_version": 3,
     "solution": false
    },
    "pycharm": {
     "name": "#%% md\n"
    }
   },
   "source": [
    "Wypisywanie informacji o obiekcie, którego składowymi są obiekty klasy MY_CLASS."
   ]
  },
  {
   "cell_type": "code",
   "execution_count": 19,
   "metadata": {
    "pycharm": {
     "name": "#%%\n"
    }
   },
   "outputs": [
    {
     "name": "stdout",
     "output_type": "stream",
     "text": [
      "[MY_CLASS(1,2), MY_CLASS(3,4), MY_CLASS(5,6)]\n",
      "obiekt MY_CLASS, i = 1, k = 2\n"
     ]
    }
   ],
   "source": [
    "b = [MY_CLASS(1,2), MY_CLASS(3,4), MY_CLASS(5,6)] \n",
    "print(b)  # dla obiektu wykonywana jest metoda __repr__()\n",
    "print(b[0]) # dla konkretnej instancji klasy wykonywana jest metoda __str__()"
   ]
  },
  {
   "cell_type": "markdown",
   "metadata": {
    "deletable": false,
    "editable": false,
    "nbgrader": {
     "cell_type": "markdown",
     "checksum": "fdfbae2dea4c7e14bbf2a1a81b6cbb5a",
     "grade": false,
     "grade_id": "cell-82c62f4cdd4411c3",
     "locked": true,
     "schema_version": 3,
     "solution": false
    },
    "pycharm": {
     "name": "#%% md\n"
    }
   },
   "source": [
    "Jeżeli klasa implementuje metodę `__repr__()`, a nie implementuje metody `__str__()`, wówczas metoda `__repr__()` stosowana jest w zastępstwie `__str__()`."
   ]
  },
  {
   "cell_type": "code",
   "execution_count": 20,
   "metadata": {
    "pycharm": {
     "name": "#%%\n"
    }
   },
   "outputs": [],
   "source": [
    "# Klasa tylko z metodą __repr__()\n",
    "class MY_CLASS: \n",
    "    def __init__(self, i, k): \n",
    "        self.i = i \n",
    "        self.k = k \n",
    "    \n",
    "    def get_i(self): \n",
    "        return self.i\n",
    "    \n",
    "    def set_i(self,ii): \n",
    "        self.i = ii\n",
    "    \n",
    "    def __repr__(self): \n",
    "        return 'MY_CLASS({},{})'.format(self.i, self.k)"
   ]
  },
  {
   "cell_type": "code",
   "execution_count": 21,
   "metadata": {
    "pycharm": {
     "name": "#%%\n"
    }
   },
   "outputs": [
    {
     "name": "stdout",
     "output_type": "stream",
     "text": [
      "MY_CLASS(10,20)\n"
     ]
    },
    {
     "data": {
      "text/plain": "MY_CLASS(10,20)"
     },
     "execution_count": 21,
     "metadata": {},
     "output_type": "execute_result"
    }
   ],
   "source": [
    "a = MY_CLASS(10, 20)\n",
    "print(a)  # wykonywana jest metoda __repr__() ponieważ nie ma metody__str__()\n",
    "a  # wykonywana jest metoda __repr__()"
   ]
  },
  {
   "cell_type": "markdown",
   "metadata": {
    "deletable": false,
    "editable": false,
    "nbgrader": {
     "cell_type": "markdown",
     "checksum": "98bc898251ae799b01735e67318caff8",
     "grade": false,
     "grade_id": "cell-05f568025f57584f",
     "locked": true,
     "schema_version": 3,
     "solution": false
    },
    "pycharm": {
     "name": "#%% md\n"
    }
   },
   "source": [
    "### Ćwiczenie 2.\n",
    "\n",
    "Utwórz klasę `MY_VOL`, której celem jest obliczenie objętości prostopadłościanu `V = a*b*c`, gdzie a, b, c – wymiary krawędzi. Wartości a, b, c (typu `float`) mają być przekazywane konstruktorowi tej klasy. Dane należy wprowadzić poprzez standardowe wejście (z klawiatury). Klasa musi zawierać: \n",
    "\n",
    "I. funkcję obliczającą objętości V; \n",
    "\n",
    "II. funkcję wyświetlającą wynik na monitorze. \n",
    "\n",
    "III. metody `__str__()` i `__repr__()`.\n",
    "\n"
   ]
  },
  {
   "cell_type": "code",
   "execution_count": 27,
   "metadata": {
    "deletable": false,
    "nbgrader": {
     "cell_type": "code",
     "checksum": "2f5c18930a670859f34c0486e1b0f5d2",
     "grade": false,
     "grade_id": "cell-8dae579b41f0d421",
     "locked": false,
     "schema_version": 3,
     "solution": true,
     "task": false
    },
    "pycharm": {
     "name": "#%%\n"
    }
   },
   "outputs": [
    {
     "name": "stdout",
     "output_type": "stream",
     "text": [
      "24.0\n",
      "obiekt MY_VOL, a = 2.0, b = 3.0, c = 4.0, v = 24.0\n"
     ]
    },
    {
     "data": {
      "text/plain": "MY_VOL(2.0,3.0,4.0,24.0)"
     },
     "execution_count": 27,
     "metadata": {},
     "output_type": "execute_result"
    }
   ],
   "source": [
    "import math\n",
    "# YOUR CODE HERE\n",
    "#raise NotImplementedError()\n",
    "\n",
    "a = float(input('Podaj a: '))\n",
    "b = float(input('Podaj b: '))\n",
    "c = float(input('Podaj c: '))\n",
    "\n",
    "class MY_VOL():\n",
    "    def __init__(self, a, b, c):\n",
    "        self.a = a\n",
    "        self.b = b\n",
    "        self.c = c\n",
    "        self.v = None\n",
    "\n",
    "    def calculate(self):\n",
    "        self.v = self.a * self.b * self.c\n",
    "\n",
    "    def disp(self):\n",
    "        print(self.v)\n",
    "\n",
    "    def __str__(self):\n",
    "        return 'obiekt MY_VOL, a = {}, b = {}, c = {}, v = {}'.format(self.a, self.b, self.c, self.v)\n",
    "\n",
    "    def __repr__(self):\n",
    "        return 'MY_VOL({},{},{},{})'.format(self.a, self.b, self.c, self.v)\n",
    "\n",
    "\n",
    "p = MY_VOL(a, b, c)\n",
    "p.calculate()\n",
    "p.disp()\n",
    "print(p)\n",
    "p"
   ]
  },
  {
   "cell_type": "markdown",
   "metadata": {
    "deletable": false,
    "editable": false,
    "nbgrader": {
     "cell_type": "markdown",
     "checksum": "0f6920784a0afc614f4a41c7e75c297e",
     "grade": false,
     "grade_id": "cell-c6f26f0099161862",
     "locked": true,
     "schema_version": 3,
     "solution": false
    },
    "pycharm": {
     "name": "#%% md\n"
    }
   },
   "source": [
    "### Hermetyzacja\n",
    "\n",
    " Hermetyzacja – to mechanizm, łączący w całość kod i dane, na których on operuje, zabezpieczający je przed zewnętrzną ingerencją i niepoprawnym użyciem. \n",
    " \n",
    " Uwagi ogólne:\n",
    "- Kod i dane są połączone w obiekcie, który realizuje hermetyzację\n",
    "- Znajdujące się wewnątrz obiektu kod i dane mogą być prywatne lub publiczne \n",
    "- Prywatny kod i dane są dostępne tylko w obszarze obiektu. Na zewnątrz obiektu składniki prywatne są ukryte – ani prywatny kod, ani prywatne dane nie mogą być wykorzystywane przez fragmenty programu, znajdujące się poza obiektem.\n",
    "- Publiczny kod i dane są dostępne dla innych elementów programu, znajdujących się zarówno wewnątrz obiektu, jak i poza nim. Najczęściej składniki publiczne obiektu są wykorzystywane do tworzenia interfejsu do prywatnych elementów obiektu.\n",
    "\n",
    "W Pythonie:\n",
    "\n",
    "- Wszyskie składowe klasy są publiczne.\n",
    "- Python posiada pewien ograniczony mechanizm implementacji zmiennych prywatnych klasy. Zmienne prywatne sygnalizuje się poprzez poprzedzenie nazwy znakiem podkreślenia `_` .\n",
    "- W Pythonie możemy zdefiniować również tzw. zmienne bardziej prywatne poprzez poprzedzenie nazwy dwoma znakami podkreślenia `__`.\n",
    "- Python zgłasza wyjątek `AttributeError` przy próbie dostępu z zewnątrz klasy do nazwy bardziej prywatnej.\n",
    "- Python ukrywa nazwę prywatną zmieniając jej nazwę wewnętrzną na `_classname__attrname`, gdzie `classname` jest nazwą bieżącej klasy.\n",
    "- Taki mechanizm \"zabezpieczania\" nazywany przekręcaniem nazw (`name mangling`) jest w istocie iluzją, bowiem można uzyskać dostęp do prywatnego atrybutu posługując się jego przekręconą nazwą.\n",
    "\n",
    "#### Przykład.\n",
    "\n",
    "Atrybuty publiczne, prywatne i bardziej prywatne."
   ]
  },
  {
   "cell_type": "code",
   "execution_count": 28,
   "metadata": {
    "pycharm": {
     "name": "#%%\n"
    }
   },
   "outputs": [],
   "source": [
    "class Student:\n",
    "    def __init__(self,imie1,imie2):\n",
    "        self.imie1 = imie1   # atrybut publiczny\n",
    "        self._imie2 = imie2  # atrybut prywatny\n",
    "        \n",
    "    def powitanie(self):  # metoda publiczna\n",
    "        print(\"Witaj {}\".format(self.imie1))\n",
    "    \n",
    "    def _powitanie(self):  # metoda prywatna\n",
    "        print(\"Witaj {} {}\".format(self.imie1,self._imie2))    "
   ]
  },
  {
   "cell_type": "code",
   "execution_count": 29,
   "metadata": {
    "pycharm": {
     "name": "#%%\n"
    }
   },
   "outputs": [
    {
     "name": "stdout",
     "output_type": "stream",
     "text": [
      "Witaj Jan\n",
      "Witaj Jan Maria\n"
     ]
    }
   ],
   "source": [
    "a = Student('Jan',\"Maria\")\n",
    "a.powitanie()\n",
    "a._powitanie()"
   ]
  },
  {
   "cell_type": "code",
   "execution_count": 30,
   "metadata": {
    "pycharm": {
     "name": "#%%\n"
    }
   },
   "outputs": [],
   "source": [
    "class Student:\n",
    "    def __init__(self,imie1,imie2):\n",
    "        self.imie1 = imie1   # atrybut publiczny\n",
    "        self.__imie2 = imie2  # atrybut bardziej prywatny\n",
    "    \n",
    "    def powitanie(self):  # metoda publiczna\n",
    "        print(\"Witaj {}\".format(self.imie1))\n",
    "    \n",
    "    def __powitanie(self):  # metoda bardziej prywatna\n",
    "        print(\"Witaj {} {}\".format(self.imie1,self.__imie2))"
   ]
  },
  {
   "cell_type": "code",
   "execution_count": 31,
   "metadata": {
    "pycharm": {
     "name": "#%%\n"
    }
   },
   "outputs": [
    {
     "name": "stdout",
     "output_type": "stream",
     "text": [
      "Witaj Jan\n"
     ]
    },
    {
     "ename": "AttributeError",
     "evalue": "'Student' object has no attribute '__powitanie'",
     "output_type": "error",
     "traceback": [
      "\u001B[1;31m---------------------------------------------------------------------------\u001B[0m",
      "\u001B[1;31mAttributeError\u001B[0m                            Traceback (most recent call last)",
      "Input \u001B[1;32mIn [31]\u001B[0m, in \u001B[0;36m<cell line: 3>\u001B[1;34m()\u001B[0m\n\u001B[0;32m      1\u001B[0m a \u001B[38;5;241m=\u001B[39m Student(\u001B[38;5;124m'\u001B[39m\u001B[38;5;124mJan\u001B[39m\u001B[38;5;124m'\u001B[39m,\u001B[38;5;124m\"\u001B[39m\u001B[38;5;124mMaria\u001B[39m\u001B[38;5;124m\"\u001B[39m)\n\u001B[0;32m      2\u001B[0m a\u001B[38;5;241m.\u001B[39mpowitanie()\n\u001B[1;32m----> 3\u001B[0m \u001B[43ma\u001B[49m\u001B[38;5;241;43m.\u001B[39;49m\u001B[43m__powitanie\u001B[49m()\n",
      "\u001B[1;31mAttributeError\u001B[0m: 'Student' object has no attribute '__powitanie'"
     ]
    }
   ],
   "source": [
    "a = Student('Jan',\"Maria\")\n",
    "a.powitanie()\n",
    "a.__powitanie()  # zgłoszenie wyjatku AttributeError"
   ]
  },
  {
   "cell_type": "markdown",
   "metadata": {
    "deletable": false,
    "editable": false,
    "nbgrader": {
     "cell_type": "markdown",
     "checksum": "9d86bc6b7a44d27631a2db2c024e54b9",
     "grade": false,
     "grade_id": "cell-c2156b098020c74d",
     "locked": true,
     "schema_version": 3,
     "solution": false
    },
    "pycharm": {
     "name": "#%% md\n"
    }
   },
   "source": [
    "Python ukrywa nazwę bardziej prywatną zmieniając jej nazwe wewnętrzną na `_classname__attrname`.\n",
    "\n",
    "To oznacza, że mamy dostęp do zmiennych bardziej prywatnych."
   ]
  },
  {
   "cell_type": "code",
   "execution_count": 32,
   "metadata": {
    "pycharm": {
     "name": "#%%\n"
    }
   },
   "outputs": [
    {
     "name": "stdout",
     "output_type": "stream",
     "text": [
      "Witaj Jan Maria\n"
     ]
    },
    {
     "data": {
      "text/plain": "'Maria'"
     },
     "execution_count": 32,
     "metadata": {},
     "output_type": "execute_result"
    }
   ],
   "source": [
    "# możliwy dostęp do zmiennej bardziej prywatnej\n",
    "a._Student__powitanie()\n",
    "a._Student__imie2"
   ]
  },
  {
   "cell_type": "markdown",
   "metadata": {
    "deletable": false,
    "editable": false,
    "nbgrader": {
     "cell_type": "markdown",
     "checksum": "5c159bc3c9b64cfd2da13e610e0dddb2",
     "grade": false,
     "grade_id": "cell-9a39e290c069c54e",
     "locked": true,
     "schema_version": 3,
     "solution": false
    },
    "pycharm": {
     "name": "#%% md\n"
    }
   },
   "source": [
    "### Dziedziczenie\n",
    "\n",
    "Dziedziczenie to proces, w którym obiekt otrzymuje właściwości innego obiektu. \n",
    "\n",
    "Uwagi ogólne:\n",
    "- Pozwala to m.in na porządkowanie informacji w sposób hierarchiczny. Na przykład, autobus i pociąg są częścią klasy transport, klasa transport jest częścią klasy maszyny itp. \n",
    "- Gdyby nie dziedziczenie, cechy każdego obiektu trzeba by było definiować każdorazowo w sposób jawny. Mechanizm dziedziczenia powoduje, że obiekt może być specyficznym egzemplarzem bardziej ogólnej klasy.\n",
    "\n",
    "W Pythonie: \n",
    "- Dziedziczenie umożliwia ponowne wykorzystanie funkcjonalności klas bazowych w klasach pochodnych.\n",
    "- Klasa pochodna może posiadać dodatkowe atrybuty i metody oraz redefiniować metody odziedziczone.\n",
    "- Jeśli klasa pochodna definiuje atrybut o takiej samej nazwie, jaką ma atrybut jej klasy bazowej, to instancje klasy pochodnej korzystają z jej atrybutów, chyba że atrybut ten jest jawnie kwalifikowany za pomocą nazwy klasy bazowej (`NazwaKlasyPodstawowej.nazwa_metody(self, argumenty)`).\n",
    "- Klasa bazowa musi być zdefiniowana w zasiegu zawierajacym definicje klasy pochodnej. \n",
    "- Zamiast nazwy klasy bazowej dopuszcza się również wyrażenie (np. jeśli nazwa klasy bazowej zdefiniowana jest w innym module `class NazwaKlasyPochodnej(modul.NazwaKlasyBazowej):`).\n",
    "- W Pythonie występują dwie funkcje wbudowane związane z dziedziczeniem klas:\n",
    "    - `isinstance()` - sprawdza typ obiektu, np.: `isinstance(obj, int)` będzie prawdą  - `True` jeśli `obj.__class__` jest równy `int` lub klasie pochodnej\n",
    "\n",
    "    - `issubclass()` - sprawdza typ dziedziczonej klasy: `issubclass(bool, int)` będzie prawdą - `True`, ponieważ `bool` jest podklasą `int`, jednakże `issubclass(float, int)` jest Fałszem, ponieważ `float` nie jest podklasą `int`.\n",
    "\n",
    "\n",
    "\n",
    "#### Przykład."
   ]
  },
  {
   "cell_type": "code",
   "execution_count": 33,
   "metadata": {
    "pycharm": {
     "name": "#%%\n"
    }
   },
   "outputs": [],
   "source": [
    "class Student:  # klasa bazowa\n",
    "    last_index = 0  # atrybut klasy\n",
    "    \n",
    "    def __init__(self, name, last_name):\n",
    "        Student.last_index += 1  # lub self.__class__.last_index += 1   - zmiana numeru indeksu \n",
    "        self.name = name\n",
    "        self.last_name = last_name\n",
    "        self.index = Student.last_index  # lub self.__class__.last_index   - przypisanie numeru indeksu do studenta\n",
    "    \n",
    "    def __str__(self):\n",
    "        return \"Student {} {} (nr indeksu: {})\".format(self.name,self.last_name,self.index)\n",
    "    \n",
    "class SInformatyk(Student):  # klasa pochodna\n",
    "    def __init__(self, name, last_name):\n",
    "        Student.last_index += 1  # zmiana numeru indeksu - atrybut klasy bazowej\n",
    "        self.name = name\n",
    "        self.last_name = last_name\n",
    "        self.index = Student.last_index  # przypisanie numeru indeksu do studenta\n",
    "        self.kierunek = 'Informatyka'\n",
    "    def __str__(self):  # redefinicja metody __str__() z klasy bazowej\n",
    "        return \"Student informatyki {} {} (nr indeksu: {})\".format(self.name,self.last_name,self.index)  "
   ]
  },
  {
   "cell_type": "code",
   "execution_count": 34,
   "metadata": {
    "pycharm": {
     "name": "#%%\n"
    }
   },
   "outputs": [
    {
     "name": "stdout",
     "output_type": "stream",
     "text": [
      "Student Karol Górski (nr indeksu: 1)\n",
      "Student informatyki Maria Nowak (nr indeksu: 2)\n"
     ]
    }
   ],
   "source": [
    "a = Student('Karol','Górski')\n",
    "b = SInformatyk('Maria','Nowak')\n",
    "print(a)\n",
    "print(b)"
   ]
  },
  {
   "cell_type": "markdown",
   "metadata": {
    "deletable": false,
    "editable": false,
    "nbgrader": {
     "cell_type": "markdown",
     "checksum": "b5ece481c7445ec644b3a43ae91cb9c0",
     "grade": false,
     "grade_id": "cell-35b87a376dba7b85",
     "locked": true,
     "schema_version": 3,
     "solution": false
    },
    "pycharm": {
     "name": "#%% md\n"
    }
   },
   "source": [
    "Możliwe jest wywołanie konstruktora klasy nadrzędnej, służy do tego metoda wbudowana `super()`."
   ]
  },
  {
   "cell_type": "code",
   "execution_count": 35,
   "metadata": {
    "pycharm": {
     "name": "#%%\n"
    }
   },
   "outputs": [],
   "source": [
    "class Student:  # klasa bazowa\n",
    "    last_index = 0  # atrybut klasy\n",
    "    \n",
    "    def __init__(self, name, last_name):\n",
    "        Student.last_index += 1  # zmiana numeru indeksu\n",
    "        self.name = name\n",
    "        self.last_name = last_name\n",
    "        self.index = Student.last_index  # przypisanie numeru indeksu do studenta\n",
    "    \n",
    "    def __str__(self):\n",
    "        return \"Student {} {} (nr indeksu: {})\".format(self.name,self.last_name,self.index)\n",
    "    \n",
    "class SInformatyk(Student):  # klasa pochodna\n",
    "    def __init__(self, name, last_name):\n",
    "        super().__init__(name, last_name)  # lub super(SMatematyk,self).__init__(name,last_name)\n",
    "        self.kierunek = 'Informatyka'\n",
    "\n",
    "    def __str__(self):  # redefinicja metody __str__()\n",
    "        return \"Student informatyki {} {} (nr indeksu: {})\".format(self.name,self.last_name,self.index)  "
   ]
  },
  {
   "cell_type": "code",
   "execution_count": 36,
   "metadata": {
    "pycharm": {
     "name": "#%%\n"
    }
   },
   "outputs": [
    {
     "name": "stdout",
     "output_type": "stream",
     "text": [
      "Student Karol Górski (nr indeksu: 1)\n",
      "Student informatyki Maria Nowak (nr indeksu: 2)\n"
     ]
    }
   ],
   "source": [
    "a = Student('Karol','Górski')\n",
    "b = SInformatyk('Maria','Nowak')\n",
    "print(a)\n",
    "print(b)"
   ]
  },
  {
   "cell_type": "code",
   "execution_count": 37,
   "metadata": {
    "pycharm": {
     "name": "#%%\n"
    }
   },
   "outputs": [
    {
     "name": "stdout",
     "output_type": "stream",
     "text": [
      "True\n",
      "False\n"
     ]
    }
   ],
   "source": [
    "print(isinstance(b, Student)) #sprawdza czy b jest obiektem klasy Student lub klasy pochodnej\n",
    "print(issubclass(Student,SInformatyk))#sprawdza czy klasa Student jest podklasą klasy SInformatyk"
   ]
  },
  {
   "cell_type": "code",
   "execution_count": 38,
   "metadata": {
    "pycharm": {
     "name": "#%%\n"
    }
   },
   "outputs": [
    {
     "name": "stdout",
     "output_type": "stream",
     "text": [
      "['a', 'l', 'a'] ['o', 'l', 'a']\n",
      "['a', 'l', 'a', 1, 2, 3]\n",
      "['o', 'l', 'a', (1, 4), (2, 5), (3, 6)]\n",
      "['o', 'l', 'a', (1, 4), (2, 5), (3, 6), 1, 2, 3]\n"
     ]
    }
   ],
   "source": [
    "class Mapping: #klasa bazowa\n",
    "    def __init__(self, iterable):\n",
    "        self.items_list = []\n",
    "        self.__update(iterable)\n",
    "        \n",
    "    def update(self, iterable):\n",
    "        for item in iterable:\n",
    "            self.items_list.append(item)\n",
    "            \n",
    "    __update = update #prywatna kopia metody update\n",
    "    \n",
    "class MappingSubclass(Mapping): #klasa pochodna\n",
    "    def update(self, keys, values):  # redefinicja metody update, __init()__ bez zmian\n",
    "        for item in zip(keys, values):\n",
    "            self.items_list.append(item)\n",
    "    \n",
    "a = Mapping('ala') #konkretyzacja klasy Mapping\n",
    "b = MappingSubclass('ola') #konkretyzacja klasy MappingSubclass\n",
    "print(a.items_list, b.items_list)\n",
    "\n",
    "k = [1, 2, 3]\n",
    "v = [4, 5, 6]\n",
    "\n",
    "a.update(k)           #instacja klasy bazowej - odwołanie do metody klasy bazowej\n",
    "print(a.items_list)\n",
    "b.update(k,v)         #instancja klasy pochodnej - odwołanie do metody klasy pochodnej\n",
    "print(b.items_list)\n",
    "b._Mapping__update(k) #instancja klasy pochodnej - odwołanie do metody klasy bazowej\n",
    "print(b.items_list)"
   ]
  },
  {
   "cell_type": "markdown",
   "metadata": {
    "deletable": false,
    "editable": false,
    "nbgrader": {
     "cell_type": "markdown",
     "checksum": "a64b0bc8b4d3b7b3c0126d7dd83edaae",
     "grade": false,
     "grade_id": "cell-9a80621dc1f288e2",
     "locked": true,
     "schema_version": 3,
     "solution": false
    },
    "pycharm": {
     "name": "#%% md\n"
    }
   },
   "source": [
    "### Ćwiczenie 3.\n",
    "\n",
    "Napisz program tworzący klasę bazową  `Biblioteka`, która zawiera atrybuty: \n",
    "\n",
    "- składowe: `tytul`, `cena`, `liczba_szt`.\n",
    "- metodę: `opis` wyświetlającą ww atrybuty.\n",
    "\n",
    "Utwórz klasy pochodne względem klasy bazowej `Biblioteka`:\n",
    "\n",
    "- `Ksiazka` - posiada dodatkowe składowe: `aut_imie`, `aut_nazwisko`, `liczba_stron`\n",
    "\n",
    "- `Film` - posiada dodatkowe składowe:  `rok_prod`, `czas` (w minutach), `format_filmu`\n",
    "\n",
    "Klasa pochodna `Ksiazka` powinna mieć metodę `opis` wyświetlającą wszyskie składowe, zaimplementowaną tak, aby wykorzystać kod metody `opis` z klasy bazowej.\n",
    "\n",
    "Klasa pochodna `Film` powinna mieć metodę `opis` wyświetlającą wszyskie składowe, zaimplementowaną tak, aby przeciążyć metodę `opis` z klasy bazowej."
   ]
  },
  {
   "cell_type": "code",
   "execution_count": 11,
   "metadata": {
    "deletable": false,
    "nbgrader": {
     "cell_type": "code",
     "checksum": "f7ed39645b0bd0af1fa48f23990165fd",
     "grade": false,
     "grade_id": "cell-e477cb0e1f29b47c",
     "locked": false,
     "schema_version": 3,
     "solution": true,
     "task": false
    },
    "pycharm": {
     "name": "#%%\n"
    }
   },
   "outputs": [
    {
     "name": "stdout",
     "output_type": "stream",
     "text": [
      "Tytul: Pan Tadeusz Cena: 35 zł Liczba sztuk: 15\n",
      "Imie: Adam Nazwisko: Mickiewicz Liczba stron: 253\n",
      "Tytul: Pan Tadeusz Cena: 25 zł Liczba sztuk: 3 Rok produkcji: 1928 Czas: 128 minut Format: avi\n"
     ]
    }
   ],
   "source": [
    "# YOUR CODE HERE\n",
    "#raise NotImplementedError()\n",
    "class Biblioteka():\n",
    "    def __init__(self, tyt, cen, liczba):\n",
    "        self.tytul = tyt\n",
    "        self.cena = cen\n",
    "        self.liczba_szt = liczba\n",
    "\n",
    "    def opis(self):\n",
    "        print(\"Tytul: {} Cena: {} Liczba sztuk: {}\".format(self.tytul, self.cena, self.liczba_szt))\n",
    "\n",
    "class Ksiazka(Biblioteka):\n",
    "    def __init__(self, tyt, cena, liczba, imie, nazwisko, strony):\n",
    "        super(Ksiazka, self).__init__(tyt, cena, liczba)\n",
    "        self.aut_imie = imie\n",
    "        self.aut_nazwisko = nazwisko\n",
    "        self.liczba_stron = strony\n",
    "\n",
    "    def opis(self):\n",
    "        super(Ksiazka, self).opis()\n",
    "        print(\"Imie: {} Nazwisko: {} Liczba stron: {}\".format(self.aut_imie, self.aut_nazwisko, self.liczba_stron))\n",
    "\n",
    "class Film(Biblioteka):\n",
    "    def __init__(self, tyt, cen, liczba, rok, cz, format):\n",
    "        super(Film, self).__init__(tyt, cen, liczba)\n",
    "        self.rok_prod = rok\n",
    "        self.czas = cz\n",
    "        self.format_flimu = format\n",
    "\n",
    "    def opis(self):\n",
    "        print(\"Tytul: {} Cena: {} Liczba sztuk: {} Rok produkcji: {} Czas: {} Format: {}\".format(self.tytul, self.cena, self.liczba_szt, self.rok_prod, self.czas, self.format_flimu))\n",
    "\n",
    "\n",
    "k = Ksiazka('Pan Tadeusz', '35 zł', 15, 'Adam','Mickiewicz',253)\n",
    "k.opis()  \n",
    "f = Film('Pan Tadeusz', '25 zł', 3, '1928','128 minut', 'avi')\n",
    "f.opis()"
   ]
  },
  {
   "cell_type": "markdown",
   "metadata": {
    "deletable": false,
    "editable": false,
    "nbgrader": {
     "cell_type": "markdown",
     "checksum": "a62a15cf89996f0cbb295657ce1b70d3",
     "grade": false,
     "grade_id": "cell-97babdfc7fdbb567",
     "locked": true,
     "schema_version": 3,
     "solution": false
    },
    "pycharm": {
     "name": "#%% md\n"
    }
   },
   "source": [
    "### Dziedziczenie wielbazowe\n",
    "\n",
    "Możliwe jest dziedziczenie po więcej niż jednej klasie.\n",
    "\n",
    "```python\n",
    "class NazwaKlasyPochodnej(Bazowa1, Bazowa2, Bazowa3):\n",
    "    <instrukcja-1>\n",
    "    .\n",
    "    .\n",
    "    <instrukcja-n>\n",
    "```\n",
    "\n",
    "Przy dziedziczeniu obowiązuje zasada `najpierw w głąb, potem na prawo`. \n",
    "\n",
    "Jeśli atrybut nie zostanie znaleziony w klasie `NazwaKlasyPochodnej`, zostanie poszukany w `Bazowa1`, a potem (rekurencyjnie) w klasach bazowych klasy `Bazowa1` i jeśli tam nie zostanie znaleziony, poszukiwanie zostanie przeniesione do klasy `Bazowa2`."
   ]
  },
  {
   "cell_type": "code",
   "execution_count": 12,
   "metadata": {
    "pycharm": {
     "name": "#%%\n"
    }
   },
   "outputs": [],
   "source": [
    "class Mama:\n",
    "    m = 'jestem piękna'\n",
    "    t = 'jestem mądra'\n",
    "    \n",
    "class Tata:\n",
    "    t = 'jestem smart'"
   ]
  },
  {
   "cell_type": "code",
   "execution_count": 13,
   "metadata": {
    "pycharm": {
     "name": "#%%\n"
    }
   },
   "outputs": [
    {
     "name": "stdout",
     "output_type": "stream",
     "text": [
      "jestem piękna jestem mądra\n"
     ]
    }
   ],
   "source": [
    "class Corka(Mama, Tata):  # dziedziczy po klasie Mama i Tata (Mama \"ważniejsza\")\n",
    "    pass\n",
    "\n",
    "c = Corka()\n",
    "print(c.m, c.t)"
   ]
  },
  {
   "cell_type": "code",
   "execution_count": 14,
   "metadata": {
    "pycharm": {
     "name": "#%%\n"
    }
   },
   "outputs": [
    {
     "name": "stdout",
     "output_type": "stream",
     "text": [
      "jestem piękna jestem smart\n"
     ]
    }
   ],
   "source": [
    "class Corka(Tata, Mama): # dziedziczy po klasie Tata i Mama (Tata \"ważniejszy\")\n",
    "    pass\n",
    "\n",
    "c = Corka()\n",
    "print(c.m, c.t)"
   ]
  },
  {
   "cell_type": "markdown",
   "metadata": {
    "deletable": false,
    "editable": false,
    "nbgrader": {
     "cell_type": "markdown",
     "checksum": "7b267f5f89b343b1eb5b0c0bf943aa76",
     "grade": false,
     "grade_id": "cell-8f8b0a4a3cbbe388",
     "locked": true,
     "schema_version": 3,
     "solution": false
    },
    "pycharm": {
     "name": "#%% md\n"
    }
   },
   "source": [
    "### Polimorfizm.\n",
    "\n",
    "Generalna zasada: ta sama metoda, różne działanie zależne od typu obiektu.\n",
    "\n",
    "Polimorfizm zmniejsza złożoność programu i polepsza jego czytelność. "
   ]
  },
  {
   "cell_type": "code",
   "execution_count": 16,
   "metadata": {
    "pycharm": {
     "name": "#%%\n"
    }
   },
   "outputs": [],
   "source": [
    "class Zwierze:\n",
    "    def glos(self):  # pusta metoda głos\n",
    "        pass\n",
    "    \n",
    "class Kot(Zwierze):\n",
    "    def glos(self):\n",
    "        print(\"Miau\")\n",
    "\n",
    "class Pies(Zwierze):\n",
    "    def glos(self):\n",
    "        print(\"Hau\")\n",
    "\n",
    "class Krowa(Zwierze):\n",
    "    def glos(self):  # pusta metoda\n",
    "        pass    "
   ]
  },
  {
   "cell_type": "code",
   "execution_count": 17,
   "metadata": {
    "pycharm": {
     "name": "#%%\n"
    }
   },
   "outputs": [
    {
     "name": "stdout",
     "output_type": "stream",
     "text": [
      "Miau\n",
      "Hau\n"
     ]
    }
   ],
   "source": [
    "zwierze = Kot()\n",
    "zwierze.glos()\n",
    "zwierze = Pies()\n",
    "zwierze.glos()\n",
    "zwierze = Krowa()\n",
    "zwierze.glos()"
   ]
  },
  {
   "cell_type": "markdown",
   "metadata": {
    "deletable": false,
    "editable": false,
    "nbgrader": {
     "cell_type": "markdown",
     "checksum": "1fd59e20dfa3e27c06eccc858c78a0b7",
     "grade": false,
     "grade_id": "cell-99b9169c8f8f9060",
     "locked": true,
     "schema_version": 3,
     "solution": false
    },
    "pycharm": {
     "name": "#%% md\n"
    }
   },
   "source": [
    "Wymuszanie interfejsu"
   ]
  },
  {
   "cell_type": "code",
   "execution_count": 18,
   "metadata": {
    "pycharm": {
     "name": "#%%\n"
    }
   },
   "outputs": [],
   "source": [
    "class Zwierze:\n",
    "    def glos(self): # wymuszenie interfejsu \n",
    "        raise NotImplementedError(\"Każde zwierzę musi mieć głos\")\n",
    "        \n",
    "class Kot(Zwierze):\n",
    "    def glos(self):\n",
    "        print(\"Miau\")\n",
    "        \n",
    "class Pies(Zwierze):\n",
    "    def glos(self):\n",
    "        print(\"Hau\")\n",
    "        \n",
    "class Ryba(Zwierze):\n",
    "    def glos(self):  # pusta metoda glos - ok - ryby głosu nie mają\n",
    "        pass\n",
    "    \n",
    "class Krowa(Zwierze):\n",
    "    pass    # brak metody glos - błąd"
   ]
  },
  {
   "cell_type": "code",
   "execution_count": 19,
   "metadata": {
    "pycharm": {
     "name": "#%%\n"
    }
   },
   "outputs": [
    {
     "name": "stdout",
     "output_type": "stream",
     "text": [
      "Miau\n",
      "Hau\n"
     ]
    }
   ],
   "source": [
    "zwierze = Kot()\n",
    "zwierze.glos()\n",
    "zwierze = Pies()\n",
    "zwierze.glos()\n",
    "zwierze = Ryba()\n",
    "zwierze.glos()"
   ]
  },
  {
   "cell_type": "code",
   "execution_count": 20,
   "metadata": {
    "pycharm": {
     "name": "#%%\n"
    }
   },
   "outputs": [
    {
     "ename": "NotImplementedError",
     "evalue": "Każde zwierzę musi mieć głos",
     "output_type": "error",
     "traceback": [
      "\u001B[1;31m---------------------------------------------------------------------------\u001B[0m",
      "\u001B[1;31mNotImplementedError\u001B[0m                       Traceback (most recent call last)",
      "Input \u001B[1;32mIn [20]\u001B[0m, in \u001B[0;36m<cell line: 2>\u001B[1;34m()\u001B[0m\n\u001B[0;32m      1\u001B[0m zwierze \u001B[38;5;241m=\u001B[39m Krowa()\n\u001B[1;32m----> 2\u001B[0m \u001B[43mzwierze\u001B[49m\u001B[38;5;241;43m.\u001B[39;49m\u001B[43mglos\u001B[49m\u001B[43m(\u001B[49m\u001B[43m)\u001B[49m\n",
      "Input \u001B[1;32mIn [18]\u001B[0m, in \u001B[0;36mZwierze.glos\u001B[1;34m(self)\u001B[0m\n\u001B[0;32m      2\u001B[0m \u001B[38;5;28;01mdef\u001B[39;00m \u001B[38;5;21mglos\u001B[39m(\u001B[38;5;28mself\u001B[39m): \u001B[38;5;66;03m# wymuszenie interfejsu \u001B[39;00m\n\u001B[1;32m----> 3\u001B[0m     \u001B[38;5;28;01mraise\u001B[39;00m \u001B[38;5;167;01mNotImplementedError\u001B[39;00m(\u001B[38;5;124m\"\u001B[39m\u001B[38;5;124mKażde zwierzę musi mieć głos\u001B[39m\u001B[38;5;124m\"\u001B[39m)\n",
      "\u001B[1;31mNotImplementedError\u001B[0m: Każde zwierzę musi mieć głos"
     ]
    }
   ],
   "source": [
    "zwierze = Krowa()\n",
    "zwierze.glos()"
   ]
  },
  {
   "cell_type": "markdown",
   "metadata": {
    "deletable": false,
    "editable": false,
    "nbgrader": {
     "cell_type": "markdown",
     "checksum": "4928a0ab3a9e7f7681a77f05f5f24ff3",
     "grade": false,
     "grade_id": "cell-fea69fb6589610c6",
     "locked": true,
     "schema_version": 3,
     "solution": false
    },
    "pycharm": {
     "name": "#%% md\n"
    }
   },
   "source": [
    "## Zadanie 1\n",
    "\n",
    "Utwórz:\n",
    "- klasę `Moneta` zawierającą prywatne pola opisujące jej wartość i walutę (`PLN`, `EUR`, `GP` itp.),<br>\n",
    "- konstruktor ustawiający wartość monety na wartość przesłaną jako argument. Konstruktor dodatkowo powinien sprawdzać, czy moneta jest jedną z dozwolonych : 0.01, 0.02, 0.05, 0.1, 0.2, 0.5, 1, 2 lub 5. <br>\n",
    "(np. dla PLN: 0.01zł, 0.02zł, 0.05zł, 0.1zł, 0.2zł, 0.5zł, 1zł, 2zł lub 5zł)<br>\n",
    "Jeśli tak nie jest, wartość ustalana jest na 0 (0 zł dla PLN).<br>\n",
    "- metodę do pobrania wartości\n",
    "- metodę do pobrania waluty <br>\n",
    "Do zapamiętania/przechowania liczby zmiennoprzecinkowej użyj modułu `decimal`.\n",
    "\n",
    "https://docs.python.org/3/library/decimal.html?highlight=decimal#module-decimal\n",
    "\n",
    "https://docs.python.org/3/tutorial/classes.html#a-first-look-at-classes\n",
    "\n",
    "\n"
   ]
  },
  {
   "cell_type": "code",
   "execution_count": 2,
   "metadata": {
    "deletable": false,
    "nbgrader": {
     "cell_type": "code",
     "checksum": "37d53eea210197056ae2d98113d25094",
     "grade": true,
     "grade_id": "cell-b892dcb894958e3f",
     "locked": false,
     "points": 1,
     "schema_version": 3,
     "solution": true,
     "task": false
    },
    "pycharm": {
     "name": "#%%\n"
    }
   },
   "outputs": [
    {
     "data": {
      "text/plain": "Decimal('5')"
     },
     "execution_count": 2,
     "metadata": {},
     "output_type": "execute_result"
    }
   ],
   "source": [
    "from decimal import *\n",
    "# YOUR CODE HERE\n",
    "#raise NotImplementedError()\n",
    "getcontext().prec = 16\n",
    "class Moneta():\n",
    "    def __init__(self, sWartosc, sWaluta):\n",
    "        self._waluta = sWaluta\n",
    "        if sWartosc in [0.01, 0.02, 0.05, 0.1, 0.2, 0.5, 1, 2, 5]:\n",
    "            self._wartosc = Decimal(sWartosc)\n",
    "        else:\n",
    "            self._wartosc = 0\n",
    "\n",
    "    def pobierz_wartosc(self):\n",
    "        return self._wartosc\n",
    "\n",
    "    def pobierz_walute(self):\n",
    "        return self._waluta\n",
    "\n",
    "\n",
    "\n",
    "#przykładowe dodanie i pobranie jakiejś monety w walucie PLN\n",
    "#...\n",
    "m2 = Moneta(2,'PLN')\n",
    "m5 = Moneta(5,'PLN')\n",
    "m5.pobierz_wartosc()"
   ]
  },
  {
   "cell_type": "markdown",
   "metadata": {
    "deletable": false,
    "editable": false,
    "nbgrader": {
     "cell_type": "markdown",
     "checksum": "7df32fd7de9578856fbc561da605e50e",
     "grade": false,
     "grade_id": "cell-300bf50cdfc1fcad",
     "locked": true,
     "schema_version": 3,
     "solution": false,
     "task": false
    },
    "pycharm": {
     "name": "#%% md\n"
    }
   },
   "source": [
    "## Zadanie 2\n",
    "Utwórz klasę `Skarbonka` pozwalającą na przechowywanie monet z zadania 1 w prywatnej liście tylko dla jednej waluty. \n",
    "Do klasy `Skarbonka` dodaj prywatne __pole klasy__ opisujące obsługiwaną walutę (np. tylko `PLN`). Jeśli użytkownik wrzuci monetę innej waluty niż obsługiwana, to powinien zostać wypisany tekst \"Nieznana moneta\".\n",
    "Klasa ta powinna zawierać metodę pozwalającą na dodanie monety, oraz metodę zwracającą łączną wartość pieniędzy w skarbonce. Metoda dodająca monetę powinna sprawdzać, czy przesłany obiekt jest monetą (wykorzystując funkcję `isinstance()`). Jeśli obiekt nie jest monetą, funkcja zamiast dodawać go do listy monet powinna wypisać komunikat: `\"Przesłany obiekt nie jest monetą\"`. \n",
    "\n",
    "https://docs.python.org/3/tutorial/classes.html#class-and-instance-variables"
   ]
  },
  {
   "cell_type": "code",
   "execution_count": 3,
   "metadata": {
    "deletable": false,
    "nbgrader": {
     "cell_type": "code",
     "checksum": "5ab6e9191df7c422c4dce2647e15657d",
     "grade": true,
     "grade_id": "cell-af99eb123ea69c13",
     "locked": false,
     "points": 1,
     "schema_version": 3,
     "solution": true,
     "task": false
    },
    "pycharm": {
     "name": "#%%\n"
    }
   },
   "outputs": [
    {
     "name": "stdout",
     "output_type": "stream",
     "text": [
      "Suma w skarbonce:  7\n"
     ]
    }
   ],
   "source": [
    "# YOUR CODE HERE\n",
    "#raise NotImplementedError()\n",
    "\n",
    "class Skarbonka():\n",
    "\n",
    "    def __init__(self):\n",
    "        self._lista = []\n",
    "        self._waluta = \"PLN\"\n",
    "\n",
    "    def dodaj_monete(self, moneta : Moneta):\n",
    "        if isinstance(moneta, Moneta):\n",
    "            if moneta.pobierz_walute() == self._waluta:\n",
    "                self._lista.append(moneta)\n",
    "            else:\n",
    "                print(\"Nieznana moneta\")\n",
    "        else:\n",
    "            print(\"Przeslany obiekt nie jest moneta\")\n",
    "\n",
    "\n",
    "    def suma(self):\n",
    "        suma = 0\n",
    "        for _ in self._lista:\n",
    "            suma += _.pobierz_wartosc()\n",
    "        return suma\n",
    "\n",
    "\n",
    "\n",
    "#przykładowe uzycie\n",
    "#...\n",
    "skarbonka = Skarbonka()\n",
    "skarbonka.dodaj_monete(m2)\n",
    "skarbonka.dodaj_monete(m5)\n",
    "print( \"Suma w skarbonce: \", skarbonka.suma())"
   ]
  },
  {
   "cell_type": "markdown",
   "metadata": {
    "deletable": false,
    "editable": false,
    "nbgrader": {
     "cell_type": "markdown",
     "checksum": "0bdbf2e77c9c1dfd8dfaabb5d2df3f5f",
     "grade": false,
     "grade_id": "cell-5dd506fc44048a9b",
     "locked": true,
     "schema_version": 3,
     "solution": false,
     "task": false
    },
    "pycharm": {
     "name": "#%% md\n"
    }
   },
   "source": [
    "## Zadanie 3\n",
    "\n",
    "Utwórz klasę `PrzechowywaczMonet` pozwalającą na przechowywanie monet z zadania 1. Klasa ta powinna zawierać metody:\n",
    "1. Pozwalającą na dodanie monety,\n",
    "2. Zwracającą łączną wartość przechowywanych monet,\n",
    "3. Zwracającą monetę o podanym nominale (moneta jest usuwana z przechowywacza), lub wypisującą komunikat o błedzie w przypadku jej braku.\n",
    "\n",
    "`PrzechowywaczMonet` powinien posiadać prywatne pole instancji zawierające listę obsługiwanych monet, przesyłaną jako argument konstruktora.\n",
    "Zmodyfikuj klasę `Skarbonka` z zadania 2. tak, aby dziedziczyła po klasie `PrzechowywaczMonet`. \n",
    "Nadpisz w niej metodę zwracającą monetę tak, aby wypisywany był błąd `\"Nie można wyciągnąć pojedynczej monety\"`."
   ]
  },
  {
   "cell_type": "code",
   "execution_count": 4,
   "metadata": {
    "deletable": false,
    "nbgrader": {
     "cell_type": "code",
     "checksum": "b20cb558e5538b80f3e524009160fb9d",
     "grade": true,
     "grade_id": "cell-55d76a7d525cb1cd",
     "locked": false,
     "points": 1,
     "schema_version": 3,
     "solution": true,
     "task": false
    },
    "pycharm": {
     "name": "#%%\n"
    }
   },
   "outputs": [
    {
     "name": "stdout",
     "output_type": "stream",
     "text": [
      "suma: 7\n",
      "Wyciagam z przechowywacza: 2\n",
      "Nie ma takiej monety\n",
      "Nie mozna wyciagnac pojedynczej monety\n"
     ]
    }
   ],
   "source": [
    "# YOUR CODE HERE\n",
    "#raise NotImplementedError()\n",
    "class PrzechowywaczMonet:\n",
    "    def __init__(self, lis : list):\n",
    "        self._lista = []\n",
    "        self._waluta = lis\n",
    "\n",
    "    def dodaj_monete(self, moneta : Moneta):\n",
    "        if isinstance(moneta, Moneta):\n",
    "            if moneta.pobierz_walute() in self._waluta:\n",
    "                self._lista.append(moneta)\n",
    "            else:\n",
    "                print(\"Nieznana moneta\")\n",
    "        else:\n",
    "            print(\"Przeslany obiekt nie jest moneta\")\n",
    "\n",
    "\n",
    "    def suma(self):\n",
    "        suma = 0\n",
    "        for _ in self._lista:\n",
    "            suma += _.pobierz_wartosc()\n",
    "        return suma\n",
    "\n",
    "\n",
    "    def zwroc_monete(self, x):\n",
    "        for _ in self._lista:\n",
    "            if _.pobierz_wartosc() == x:\n",
    "                self._lista.remove(_)\n",
    "                return _\n",
    "        else:\n",
    "            print(\"Nie ma takiej monety\")\n",
    "\n",
    "\n",
    "class Skarbonka(PrzechowywaczMonet):\n",
    "    def __init__(self, lis : list):\n",
    "        super().__init__(lis)\n",
    "\n",
    "    def zwroc_monete(self, x):\n",
    "        for _ in self._lista:\n",
    "            if _.pobierz_wartosc() == x:\n",
    "                if len(self._lista) == 1:\n",
    "                    print(\"Nie mozna wyciagnac pojedynczej monety\")\n",
    "                    return\n",
    "                self._lista.remove(_)\n",
    "                return _.pobierz_wartosc()\n",
    "        else:\n",
    "            print(\"Nie ma takiej monety\")\n",
    "\n",
    "\n",
    "\n",
    "#przykładowy scenariusz użycia\n",
    "waluty = [\"PLN\", \"USD\", \"EUR\"]\n",
    "przechowywacz = PrzechowywaczMonet(waluty)\n",
    "przechowywacz.dodaj_monete(m5)\n",
    "przechowywacz.dodaj_monete(m2)\n",
    "print(\"suma:\", przechowywacz.suma())\n",
    "\n",
    "w1 = przechowywacz.zwroc_monete(2)\n",
    "if w1:\n",
    "    print(\"Wyciagam z przechowywacza:\" ,w1.pobierz_wartosc())\n",
    "w2 = przechowywacz.zwroc_monete(2)\n",
    "if w2:\n",
    "    print(\"Wyciagam z przechowywacza:\",w2.pobierz_wartosc())\n",
    "\n",
    "skarbonka = Skarbonka(waluty)\n",
    "skarbonka.dodaj_monete(m5)\n",
    "k = skarbonka.zwroc_monete(5)"
   ]
  },
  {
   "cell_type": "markdown",
   "metadata": {
    "deletable": false,
    "editable": false,
    "nbgrader": {
     "cell_type": "markdown",
     "checksum": "5534bb0bfca803fe5e9a4c2b14e3907b",
     "grade": false,
     "grade_id": "cell-0ff8a16294fd2817",
     "locked": true,
     "schema_version": 3,
     "solution": false,
     "task": false
    },
    "pycharm": {
     "name": "#%% md\n"
    }
   },
   "source": [
    "## Zadanie 4\n",
    "\n",
    "Utwórz klasę `ZlotaSkarbonka` dziedziczącą po klasach `Skarbonka` oraz `Moneta`. \n",
    "Konstruktor klasy `ZlotaSkarbonka` powinien wywoływać konstruktory klas po których dziedziczy i ustawić wartość złotej skarbonki jako monety na 9000zł.\n",
    "Co się stanie gdy wrzucimy złotą skarbonkę do niej samej?\n",
    "\n"
   ]
  },
  {
   "cell_type": "code",
   "execution_count": 5,
   "metadata": {
    "deletable": false,
    "nbgrader": {
     "cell_type": "code",
     "checksum": "8d9855295cfabbad20c4f80d4fd82337",
     "grade": true,
     "grade_id": "cell-e8eab87b56bedb82",
     "locked": false,
     "points": 1,
     "schema_version": 3,
     "solution": true,
     "task": false
    },
    "pycharm": {
     "name": "#%%\n"
    }
   },
   "outputs": [
    {
     "name": "stdout",
     "output_type": "stream",
     "text": [
      "0\n",
      "Nieznana moneta\n",
      "0\n"
     ]
    }
   ],
   "source": [
    "# YOUR CODE HERE\n",
    "#raise NotImplementedError()\n",
    "class ZlotaSkarbonka(Skarbonka, Moneta):\n",
    "    def __init__(self, lista,):\n",
    "        super(ZlotaSkarbonka, self).__init__(waluty)\n",
    "        self.wartosc=9000\n",
    "\n",
    "#przykladowe użycie\n",
    "zsk = ZlotaSkarbonka(waluty)\n",
    "print(zsk.suma())\n",
    "zsk.dodaj_monete(zsk)\n",
    "print(zsk.suma())"
   ]
  },
  {
   "cell_type": "markdown",
   "metadata": {
    "deletable": false,
    "editable": false,
    "nbgrader": {
     "cell_type": "markdown",
     "checksum": "42492aa0fd26c47996769abd48411f03",
     "grade": false,
     "grade_id": "cell-dd13e45666134d96",
     "locked": true,
     "schema_version": 3,
     "solution": false,
     "task": false
    },
    "pycharm": {
     "name": "#%% md\n"
    }
   },
   "source": [
    "## Zadanie 5\n",
    "Utwórz klasę `Numizmatyk`, zawierającą metody:\n",
    "1. `identyfikuj`, przyjmującą jako argument monetę,\n",
    "2. `sprzedaj`, przyjmującą jako argument monetę, \"sprzedaje\" monetę jeśli ma wartość numizmatyczną i zwraca listę monet, które za nią otrzymano bądź zwraca monetę, jeśli nie ma wartości numizmatycznej\n",
    "3. `transmutuj`, przyjmującą jako argument monetę.\n",
    "\n",
    "Metoda `identyfikuj` powinna ustawiać pole `zidentyfikowany` przesłanego obiektu na wartość `True`, generować losową liczbę oznaczającą datę produkcji monety (od 1900 do 2020, z większą szansą na monetę młodą, niż starą - można użyć metody `random.triangular`), oraz ustawiać wartość numizmatyczną (pole `wartosc_numizmatyczna`). Jeśli moneta została wyprodukowana przed 1939 rokiem, jej wartość numizmatyczna wynosi 1000zł, a jeśli przed 1914 rokiem, to 2000zł. Wartość\n",
    "numizmatyczna młodszych monet wynosi 0zł. Jeśli moneta została już zidentyfikowana, metoda ta nie robi nic (wykorzystaj funkcję `hasattr`).\n",
    "\n",
    "Metoda `sprzedaj` powinna identyfikować monetę, jeśli nie została zidentyfikowana, oraz zwracać listę monet odpowiadającą wartości numizmatycznej przesłanej monety. Zwracane monety (zakładamy, że numizmatyk ma nieograniczony dostęp do współczesnych monet każdego nominału) powinny być zidentyfikowane, o wartości numizmatycznej równej 0zł. Jeśli moneta nie \n",
    "ma żadnej wartości dla numizmatyka, to jest ona zwracana.\n",
    "\n",
    "Metoda `transmutuj` ustawia pole zidentyfikowany na `False` oraz usuwa pole `wartosc_numizmatyczna` (wykorzystaj del).\n",
    "\n",
    "Utwórz obiekt klasy `Numizmatyk` oraz listę losowych monet. Zidentyfikuj monety, sprzedaj te o niezerowej wartości numizmatycznej, a pozostałe transmutuj. Numizmatyk identyfikuje monety za darmo.\n",
    "\n",
    "https://docs.python.org/3/library/random.html#random.triangular\n",
    "\n",
    "https://docs.python.org/3/library/functions.html#hasattr\n",
    "\n",
    "\n"
   ]
  },
  {
   "cell_type": "code",
   "execution_count": 6,
   "metadata": {
    "deletable": false,
    "nbgrader": {
     "cell_type": "code",
     "checksum": "522777e626123d2941998f82c8ad2921",
     "grade": true,
     "grade_id": "cell-360e91c20246e19d",
     "locked": false,
     "points": 1,
     "schema_version": 3,
     "solution": true,
     "task": false
    },
    "pycharm": {
     "name": "#%%\n"
    }
   },
   "outputs": [],
   "source": [
    "import random\n",
    "# YOUR CODE HERE\n",
    "#raise NotImplementedError()\n",
    "\n",
    "class Numizmatyk:\n",
    "    def indentyfikuj(self, moneta : Moneta):\n",
    "        if hasattr(moneta, \"zidentyfikowany\") and moneta.zidentyfikowany:\n",
    "            return\n",
    "        moneta.zidentyfikowany = True\n",
    "        moneta.data = random.triangular(1900,2020,2000)\n",
    "        if moneta.data<1914:\n",
    "            moneta.wartosc_numizmatyczna=2000\n",
    "        elif moneta.data<1939:\n",
    "            moneta.wartosc_numizmatyczna=1000\n",
    "        else:\n",
    "            moneta.wartosc_numizmatyczna=0\n",
    "\n",
    "    def sprzedaj(self, moneta):\n",
    "        if not moneta.zidentyfikowany:\n",
    "            self.indentyfikuj(moneta)\n",
    "        if moneta.wartosc_numizmatyczna == 0:\n",
    "            return moneta\n",
    "        lista = []\n",
    "        for i in range(moneta.wartosc_numizmatyczna//5):\n",
    "            tmp = Moneta(5, \"PLN\")\n",
    "            tmp.zidentyfikowany=True\n",
    "            tmp.wartosc_numizmatyczna=0\n",
    "            lista.append(tmp)\n",
    "        return lista\n",
    "    def transmutuj(self,x):\n",
    "        x.zidentyfikowany=False\n",
    "        del x.wartosc_numizmatyczna\n",
    "\n",
    "num = Numizmatyk()\n",
    "wartosci=[0.01, 0.02, 0.05, 0.1, 0.2, 0.5, 1, 2, 5]\n",
    "lista=[ Moneta(wartosci[ random.randint(0,len(wartosci)-1) ],\"PLN\") for i in range(15) ]\n",
    "monety=[]\n",
    "for m in lista:\n",
    "    num.indentyfikuj(m)\n",
    "    if m.wartosc_numizmatyczna!=0:\n",
    "        monety.append(num.sprzedaj(m))\n",
    "    else:\n",
    "        num.transmutuj(m)\n"
   ]
  },
  {
   "cell_type": "markdown",
   "metadata": {
    "deletable": false,
    "editable": false,
    "nbgrader": {
     "cell_type": "markdown",
     "checksum": "ac8707d14d880b1a9531710f7870b3e6",
     "grade": false,
     "grade_id": "cell-afa5435271d19bda",
     "locked": true,
     "schema_version": 3,
     "solution": false,
     "task": false
    },
    "pycharm": {
     "name": "#%% md\n"
    }
   },
   "source": [
    "## Zadanie 6\n",
    "Dodaj interfejs graficzny do `skarbonki`, wykorzystując bibliotekę `TkInter`.<br>\n",
    "Przykład.\n",
    "\n",
    "```python\n",
    "from tkinter import *\n",
    "from tkinter import ttk\n",
    "# Tworzenie okna\n",
    "window=Tk()\n",
    "window.title(\"Skarbonka\")\n",
    "# Tworzenie siatki na przyciski\n",
    "mainframe=ttk.Frame(window)\n",
    "# Umieszczenie siatki w oknie\n",
    "mainframe.grid(column=0, row=0, sticky=(N, W, E, S))\n",
    "# Dodanie przycisków do wrzucania monet\n",
    "i=0\n",
    "for c in COINS:\n",
    "    ttk.Button(mainframe, text=\"Wrzuć \"+str(c)+\"zł\", command=lambda c=c: pb.add(Coin(c))).grid(column=2, row=i)\n",
    "    i+=1\n",
    "# Dodanie przycisku sprawdzenia wartości zawartości\n",
    "ttk.Button(mainframe, text=\"Przerwij\", command=lambda: print(pb.value()) ).grid(column=1, row=0)\n",
    "window.mainloop()\n",
    "```\n"
   ]
  },
  {
   "cell_type": "code",
   "execution_count": 7,
   "metadata": {
    "deletable": false,
    "nbgrader": {
     "cell_type": "code",
     "checksum": "9b56488de63c1cdbe528f533b6837c72",
     "grade": true,
     "grade_id": "cell-da3d66ba39b31135",
     "locked": false,
     "points": 1,
     "schema_version": 3,
     "solution": true,
     "task": false
    },
    "pycharm": {
     "name": "#%%\n"
    }
   },
   "outputs": [
    {
     "name": "stdout",
     "output_type": "stream",
     "text": [
      "0.4000000000000000\n",
      "0.5000000000000000\n",
      "0.1000000000000000055511151231257827021181583404541015625\n",
      "0.4000000000000000\n",
      "0.200000000000000011102230246251565404236316680908203125\n",
      "0.200000000000000011102230246251565404236316680908203125\n",
      "Nie mozna wyciagnac pojedynczej monety\n",
      "None\n",
      "Nie mozna wyciagnac pojedynczej monety\n",
      "None\n",
      "0.2000000000000000\n"
     ]
    }
   ],
   "source": [
    "# YOUR CODE HERE\n",
    "#raise NotImplementedError()\n",
    "from tkinter import *\n",
    "from tkinter import ttk\n",
    "# Tworzenie okna\n",
    "window=Tk()\n",
    "window.title(\"Skarbonka\")\n",
    "# Tworzenie siatki na przyciski\n",
    "mainframe=ttk.Frame(window)\n",
    "# Umieszczenie siatki w oknie\n",
    "mainframe.grid(column=0, row=0, sticky=(N, W, E, S))\n",
    "# Dodanie przycisków do wrzucania monet\n",
    "pb=Skarbonka(\"PLN\")\n",
    "i=0\n",
    "COINS=[0.01, 0.02, 0.05, 0.1, 0.2, 0.5, 1, 2, 5]\n",
    "for c in COINS:\n",
    "    ttk.Button(mainframe, text=\"Wrzuć \"+str(c)+\"zł\", command=lambda c=c: pb.dodaj_monete(Moneta(c,\"PLN\"))).grid(column=2, row=i)\n",
    "    ttk.Button(mainframe, text=\"Zwroc \"+str(c)+\"zł\", command=lambda c=c: print(pb.zwroc_monete(c))).grid(column=3, row=i)\n",
    "    i+=1\n",
    "# Dodanie przycisku sprawdzenia wartości zawartości\n",
    "ttk.Button(mainframe, text=\"Suma\", command=lambda: print(pb.suma()) ).grid(column=1, row=0)\n",
    "window.mainloop()"
   ]
  }
 ],
 "metadata": {
  "kernelspec": {
   "display_name": "Python 3 (ipykernel)",
   "language": "python",
   "name": "python3"
  },
  "language_info": {
   "codemirror_mode": {
    "name": "ipython",
    "version": 3
   },
   "file_extension": ".py",
   "mimetype": "text/x-python",
   "name": "python",
   "nbconvert_exporter": "python",
   "pygments_lexer": "ipython3",
   "version": "3.9.7"
  }
 },
 "nbformat": 4,
 "nbformat_minor": 2
}