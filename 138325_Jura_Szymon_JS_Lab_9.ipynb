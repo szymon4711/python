{
 "cells": [
  {
   "cell_type": "markdown",
   "metadata": {},
   "source": [
    "# Języki symboliczne - rok akademicki 2021/2022\n",
    "\n",
    "Przed rozpoczęciem pracy z notatnikiem zmień jego nazwę zgodnie z wzorem: `NrAlbumu_Nazwisko_Imie_PoprzedniaNazwa`\n",
    "\n",
    "Przed wysłaniem notatnika **upewnij się jeszcze raz** że zmieniłeś nazwę i że rozwiązałeś wszystkie zadania/ćwiczenia, w szczególności, że uzupełniłeś wszystkie pola `YOUR CODE HERE` oraz `YOUR ANSWER HERE`."
   ]
  },
  {
   "cell_type": "markdown",
   "metadata": {
    "deletable": false,
    "editable": false,
    "nbgrader": {
     "cell_type": "markdown",
     "checksum": "9a645ec7d83d02d0053fbc0c7bab631f",
     "grade": false,
     "grade_id": "cell-51d5c973082f0959",
     "locked": true,
     "schema_version": 3,
     "solution": false
    }
   },
   "source": [
    "# Temat: Operatory i dekoratory. Projekt.\n",
    "Zapoznaj się z treścią niniejszego notatnika czytając i wykonując go komórka po komórce. Wykonaj napotkane zadania/ćwiczenia.\n",
    "\n",
    "\n",
    "\n",
    "## Operatory, przeciążanie operatorów.\n",
    "\n",
    "### Emulowanie typów liczbowych.\n",
    "\n",
    "Obiekty zdefiniowane przez użytkownika mogą korzystać ze wszystkich operatorów wbudowanych (`+`, `-`, `*` itd.), jeżeli w ich klasach zdefinuje się odpowiednie metody specjalne. Metody specjalne muszą być implementowane przez obiekty emulujace liczby.\n",
    "\n",
    "Lista metod specjalnych patrz link: https://docs.python.org/3/reference/datamodel.html#special-method-names ,\n",
    "\n",
    "lub: https://pl.python.org/docs/ref/node15.html\n",
    "\n",
    "Dla typów liczbowych wykorzystujemy operatory matematyczne i sprowadzania do zgodności typów.\n",
    "\n",
    "Lista metod specjalnych dla typów liczbowych patrz link: https://pl.python.org/docs/ref/node15.html#SECTION005370000000000000000\n",
    "\n",
    "Wybrane specjalne atrybuty, metody do użycia:\n",
    "\n",
    "- `__add__(self, other)` przeciążony operator `self + other`\n",
    "- `__sub__(self, other)` przeciążony operator `self - other`\n",
    "- `__mul__(self, other)` przeciążony operator `self * other`\n",
    "- `__div__(self, other)` przeciążony operator `self / other`\n",
    "- `__mod__(self, other)`  przeciążony operator `self % other`\n",
    "- `__pow__(self, other[, modulo])`  przeciążony operator `self ** other`, `pow(self, other, modulo)`\n",
    "- `__iadd__(self, other)` przeciążony operator `self += other`\n",
    "- `__isub__(self, other)` przeciążony operator `self -= other`\n",
    "- `__neg__(self)` przeciążony jednoargumentowy operator zmiany znaku `-self`\n",
    "- `__pos__(self)` przeciążony jednoargumentowy operator `+self`\n",
    "- `__int__(self)` przeciążony operator rzutowania na typ `int`\n",
    "- `__float__(self)` przeciążony operator rzutowania na typ `float`\n",
    "\n",
    "Metody specjalne o nazwach rozpoczynających się od litery \"r\" przeznaczone są do operacji o odwróconej kolejności operandów. Przykłady:\n",
    "\n",
    "- `__radd__(self, other)` przeciążony operator `other + self`\n",
    "- `__rsub__(self, other)` przeciążony operator `other - self`\n",
    "- `__rmul__(self, other)` przeciążony operator `other * self`\n",
    "- `__rmod__(self, other)`  przeciążony operator `other % self`\n",
    "\n",
    "\n",
    "#### Przykład.\n",
    "\n",
    "Tworzymy dwie instancje klasy `MY_POINT`. Jako wynik chcemy otrzymać nowy punkt, którego współrzędne są sumą obu wcześniej utworzonych instancji."
   ]
  },
  {
   "cell_type": "code",
   "execution_count": 2,
   "metadata": {},
   "outputs": [],
   "source": [
    "class MY_POINT:\n",
    "    def __init__(self, x, y):\n",
    "        self.x = x\n",
    "        self.y = y\n",
    "        \n",
    "    def disp(self):  # metoda klasy - wypisuje wartość składowych x,y\n",
    "        \"\"\"Metoda klasy wypisująca wartości składowych i, k\"\"\"\n",
    "        print('x = %f, y = %f' % (self.x,self.y))\n",
    "    def setp(self, xx, yy):  # metoda klasy - ustawia wartości x, y\n",
    "        \"\"\"Metoda klasy ustawiająca nową wartość składowych x, y\"\"\"\n",
    "        self.x = xx\n",
    "        self.y = yy"
   ]
  },
  {
   "cell_type": "code",
   "execution_count": 3,
   "metadata": {},
   "outputs": [],
   "source": [
    "a = MY_POINT(1, 1)\n",
    "b = MY_POINT(2, 2)"
   ]
  },
  {
   "cell_type": "markdown",
   "metadata": {
    "deletable": false,
    "editable": false,
    "nbgrader": {
     "cell_type": "markdown",
     "checksum": "0307b190a6fee3a98c976f6cb8df2cc8",
     "grade": false,
     "grade_id": "cell-f7ea14ef92a1a1f3",
     "locked": true,
     "schema_version": 3,
     "solution": false
    }
   },
   "source": [
    "Próba dodania obiektów do siebie zwraca błąd."
   ]
  },
  {
   "cell_type": "code",
   "execution_count": 4,
   "metadata": {},
   "outputs": [
    {
     "ename": "TypeError",
     "evalue": "unsupported operand type(s) for +: 'MY_POINT' and 'MY_POINT'",
     "output_type": "error",
     "traceback": [
      "\u001B[1;31m---------------------------------------------------------------------------\u001B[0m",
      "\u001B[1;31mTypeError\u001B[0m                                 Traceback (most recent call last)",
      "Input \u001B[1;32mIn [4]\u001B[0m, in \u001B[0;36m<cell line: 1>\u001B[1;34m()\u001B[0m\n\u001B[1;32m----> 1\u001B[0m c \u001B[38;5;241m=\u001B[39m \u001B[43ma\u001B[49m\u001B[43m \u001B[49m\u001B[38;5;241;43m+\u001B[39;49m\u001B[43m \u001B[49m\u001B[43mb\u001B[49m\n",
      "\u001B[1;31mTypeError\u001B[0m: unsupported operand type(s) for +: 'MY_POINT' and 'MY_POINT'"
     ]
    }
   ],
   "source": [
    "c = a + b  # błąd "
   ]
  },
  {
   "cell_type": "markdown",
   "metadata": {
    "deletable": false,
    "editable": false,
    "nbgrader": {
     "cell_type": "markdown",
     "checksum": "507ed476fdeab2bc7f0b3ba4c90f3d90",
     "grade": false,
     "grade_id": "cell-878e9f3381cdaaaf",
     "locked": true,
     "schema_version": 3,
     "solution": false
    }
   },
   "source": [
    "W obrębie klasy definujemy metodę specjalną `__add__()`."
   ]
  },
  {
   "cell_type": "code",
   "execution_count": 2,
   "metadata": {},
   "outputs": [],
   "source": [
    "class MY_POINT:\n",
    "    def __init__(self, x,y):\n",
    "        self.x = x\n",
    "        self.y = y\n",
    "        \n",
    "    def __add__(self, other):\n",
    "        \"\"\"Przeciążony operator + \"\"\"\n",
    "        return MY_POINT(self.x + other.x, self.y + other.y)\n",
    "    \n",
    "    def disp(self):  # metoda klasy - wypisuje wartość składowych x,y\n",
    "        \"\"\"Metoda klasy wypisująca wartości składowych i,k\"\"\"\n",
    "        print('x = %f, y = %f' % (self.x,self.y))\n",
    "        \n",
    "    def setp(self, xx, yy):  # metoda klasy - ustawia wartości x, y\n",
    "        \"\"\"Metoda klasy ustawiająca nową wartość składowych x, y\"\"\"\n",
    "        self.x = xx\n",
    "        self.y = yy"
   ]
  },
  {
   "cell_type": "code",
   "execution_count": 3,
   "metadata": {},
   "outputs": [
    {
     "name": "stdout",
     "output_type": "stream",
     "text": [
      "x = 3.000000, y = 3.000000\n"
     ]
    }
   ],
   "source": [
    "a = MY_POINT(1, 1)\n",
    "b = MY_POINT(2, 2)\n",
    "c = a + b  # teraz jest ok - możemy obiekty dodawać do siebie.\n",
    "c.disp()"
   ]
  },
  {
   "cell_type": "markdown",
   "metadata": {
    "deletable": false,
    "editable": false,
    "nbgrader": {
     "cell_type": "markdown",
     "checksum": "f1ee6169fed858ca38149bcb5882d0a4",
     "grade": false,
     "grade_id": "cell-45d38774196ab2d3",
     "locked": true,
     "schema_version": 3,
     "solution": false
    }
   },
   "source": [
    "### Ćwiczenie 1.\n",
    "\n",
    "Utwórz klasę `MY_VECTOR`, której składowymi będą dwa obiekty klasy `MY_POINT`. Klasa zawiera:\n",
    "\n",
    "I. składowe:\n",
    "- `PointStart` - obiekt klasy `MY_POINT`, punkt początkowy wektora\n",
    "- `PointEnd` - obiekt klasy `MY_POINT`, punkt końcowy wektora\n",
    "- `coord_x` - współrzędna x wektora\n",
    "- `coord_y` - współrzędna y wektora\n",
    "\n",
    "II. metody:\n",
    "- `disp()` - wypisuje współrzędne punktów zaczepienia wektora, zawiera odwołanie do metody `disp()` w klasie `MY_POINT` oraz współrzędne wektora\n",
    "- `length()` - zwraca długość wektora\n",
    "- `rotate()` - zmienia zwrot (współrzędne) wektora\n",
    "- `get_rotate()` - zwraca nowy, odwrócony wektor\n",
    "\n",
    "III. metody specjalne:\n",
    "- `__add__()` zwraca współrzędne wektora będącego sumą dwóch wektorów\n",
    "- `__mul__()` zwraca iloczyn skalarny wektorów"
   ]
  },
  {
   "cell_type": "code",
   "execution_count": 28,
   "outputs": [],
   "source": [
    "import math\n",
    "a = MY_POINT(1, 1)\n",
    "b = MY_POINT(4, 5)\n",
    "\n",
    "class MY_VECTOR:\n",
    "    def __init__(self, p1 : MY_POINT, p2 : MY_POINT):\n",
    "        self.PointStart = p1\n",
    "        self.PointEnd = p2\n",
    "        self.coord_x = self.PointEnd.x - self.PointStart.x\n",
    "        self.coord_y = self.PointEnd.y - self.PointStart.y\n",
    "\n",
    "    def disp(self):\n",
    "        print(\"PointStart\")\n",
    "        self.PointStart.disp()\n",
    "        print(\"PointEnd\")\n",
    "        self.PointEnd.disp()\n",
    "\n",
    "    def length(self):\n",
    "        return math.sqrt(pow(self.PointEnd.x - self.PointStart.x, 2) + pow(self.PointEnd.y - self.PointStart.y, 2))\n",
    "\n",
    "    def rotate(self):\n",
    "        self.PointStart, self.PointEnd, self.coord_x, self.coord_y = self.PointEnd, self.PointStart, - self.coord_x, - self.coord_y\n",
    "\n",
    "    def get_rotate(self):\n",
    "        return MY_VECTOR(self.PointEnd, self.PointStart)\n",
    "\n",
    "    def __add__(self, other):\n",
    "        return [self.coord_x + other.coord_x, self.coord_y + other.coord_y]\n",
    "\n",
    "    def __mul__(self, other):\n",
    "        return self.coord_x * other.coord_x + self.coord_y * other.coord_y"
   ],
   "metadata": {
    "collapsed": false,
    "pycharm": {
     "name": "#%%\n"
    }
   }
  },
  {
   "cell_type": "code",
   "execution_count": 29,
   "metadata": {
    "deletable": false,
    "nbgrader": {
     "cell_type": "code",
     "checksum": "9b5ef83c5cb08076e7fc9e407f1134f7",
     "grade": false,
     "grade_id": "cell-d1c40f0907a97717",
     "locked": false,
     "schema_version": 3,
     "solution": true
    }
   },
   "outputs": [
    {
     "name": "stdout",
     "output_type": "stream",
     "text": [
      "PointStart\n",
      "x = 1.000000, y = 0.000000\n",
      "PointEnd\n",
      "x = 0.000000, y = 0.000000\n",
      "PointStart\n",
      "x = 0.000000, y = 0.000000\n",
      "PointEnd\n",
      "x = 1.000000, y = 0.000000\n",
      "[-1, 1]\n",
      "0\n"
     ]
    }
   ],
   "source": [
    "import math\n",
    "# YOUR CODE HERE\n",
    "#raise NotImplementedError()\n",
    "\n",
    "p1 = MY_POINT(0,0)\n",
    "p2 = MY_POINT(1,0)\n",
    "\n",
    "p3 = MY_POINT(0,1)\n",
    "p4 = MY_POINT(0,2)\n",
    "\n",
    "w1 = MY_VECTOR(p1,p2)\n",
    "w1.rotate()\n",
    "w1.disp()\n",
    "w2 = w1.get_rotate()\n",
    "w2.disp()\n",
    "\n",
    "w3 = MY_VECTOR(p3,p4)\n",
    "print(w1 + w3)\n",
    "print(w1 * w3)"
   ]
  },
  {
   "cell_type": "markdown",
   "metadata": {
    "deletable": false,
    "editable": false,
    "nbgrader": {
     "cell_type": "markdown",
     "checksum": "f69626558403309a5303a370cfffdccb",
     "grade": false,
     "grade_id": "cell-5d0c14c46da8bf56",
     "locked": true,
     "schema_version": 3,
     "solution": false,
     "task": false
    }
   },
   "source": [
    "### Porównywanie egzemplarzy.\n",
    "\n",
    "Wybrane metody do użycia:\n",
    "- `__lt__(self, other)` przeciążony operator `self < other`\n",
    "- `__le__(self, other)` przeciążony operator `self <= other`\n",
    "- `__eq__(self, other)` przeciążony operator `self == other`\n",
    "- `__ne__(self, other)` przeciążony operator `self != other`\n",
    "- `__gt__(self, other)` przeciążony operator `self > other`\n",
    "- `__ge__(self, other)` przeciążony operator `self >= other`\n",
    "\n",
    "Metody te mogą zwracać dowolne wartości, lecz jeśli operator porównania zostanie użyty w kontekście logicznym, zwracana wartość powinna dać się zinterpretować jako wartość logiczna `True` lub `False`, w przeciwnym bowiem wypadku wystąpi wyjątek `TypeError`.\n",
    "\n",
    "Pomiędzy operatorami porównań nie występują żadne zależności mające charakter ogólny. Prawdziwość porównania `x==y` nie musi pociągać za sobą nieprawdziwości porównania `x!=y`. Analogicznie, przy definiowaniu metody `__eq__` należy również zdefiniować `__ne__`, tak aby operatory zachowywały się w oczekiwany sposób.\n",
    "\n",
    "- `__cmp__(self, other)` wywoływana przy operacjach porównań, jeśli porównanie szczegółowe (patrz wyżej) nie jest zdefiniowane. Jeśli `self < other`, funkcja powinna zwrócić całkowitą liczbę ujemną, jeśli `self == other` - zero, jeśli zaś `self > other` - całkowitą liczbę dodatnią. Jeśli klasa nie definiuje operacji `__cmp__()`, `__eq__()`, ani `__ne__()`, jej instancje są porównywane według tożsamości (\"adresów\") obiektów.\n",
    "\n",
    "Przykład.\n",
    "Tworzymy dwie instancje klasy MY_POINT. Jako wynik chcemy informację, czy punkty mają takie same współrzędne."
   ]
  },
  {
   "cell_type": "code",
   "execution_count": null,
   "metadata": {},
   "outputs": [],
   "source": [
    "class MY_POINT:\n",
    "    def __init__(self, x,y):\n",
    "        self.x = x\n",
    "        self.y = y\n",
    "        \n",
    "    def disp(self):  # metoda klasy - wypisuje wartość składowych x,y\n",
    "        \"\"\"Metoda klasy wypisująca wartości składowych i,k\"\"\"\n",
    "        print('x = %f, y = %f' % (self.x,self.y))\n",
    "        \n",
    "    def setp(self, xx, yy):  # metoda klasy - ustawia wartości x, y\n",
    "        \"\"\"Metoda klasy ustawiająca nową wartość składowych x, y\"\"\"\n",
    "        self.x = xx\n",
    "        self.y = yy"
   ]
  },
  {
   "cell_type": "code",
   "execution_count": 30,
   "metadata": {},
   "outputs": [
    {
     "data": {
      "text/plain": "False"
     },
     "execution_count": 30,
     "metadata": {},
     "output_type": "execute_result"
    }
   ],
   "source": [
    "# Klasa MY_POINT nie definiuje operacji __cmp__(), __eq__(), __ne__()\n",
    "a = MY_POINT(1,1)\n",
    "b = MY_POINT(1,1)\n",
    "a == b # Porównanie tożsamości obiektów"
   ]
  },
  {
   "cell_type": "markdown",
   "metadata": {
    "deletable": false,
    "editable": false,
    "nbgrader": {
     "cell_type": "markdown",
     "checksum": "35fff6405b0491e5f8744f0873ee8b83",
     "grade": false,
     "grade_id": "cell-64999ee5bdb70d99",
     "locked": true,
     "schema_version": 3,
     "solution": false,
     "task": false
    }
   },
   "source": [
    "W obrębie klasy definujemy metodę specjalną `__eq__()` ( oraz `__ne__()`)."
   ]
  },
  {
   "cell_type": "code",
   "execution_count": 31,
   "metadata": {},
   "outputs": [],
   "source": [
    "class MY_POINT:\n",
    "    def __init__(self, x,y):\n",
    "        self.x = x\n",
    "        self.y = y\n",
    "        \n",
    "    def __eq__(self, other):\n",
    "        \"\"\"Przeciążony operator + \"\"\"\n",
    "        return self.x == other.x and self.y == other.y\n",
    "    \n",
    "    def __ne__(self, other):\n",
    "        \"\"\"Przeciążony operator + \"\"\"\n",
    "        return self.x != other.x or self.y != other.y    \n",
    "    \n",
    "    def disp(self):  # metoda klasy - wypisuje wartość składowych x,y\n",
    "        \"\"\"Metoda klasy wypisująca wartości składowych i,k\"\"\"\n",
    "        print('x = %f, y = %f' % (self.x,self.y))\n",
    "        \n",
    "    def setp(self, xx, yy):  # metoda klasy - ustawia wartości x, y\n",
    "        \"\"\"Metoda klasy ustawiająca nową wartość składowych x, y\"\"\"\n",
    "        self.x = xx\n",
    "        self.y = yy"
   ]
  },
  {
   "cell_type": "code",
   "execution_count": 32,
   "metadata": {},
   "outputs": [
    {
     "data": {
      "text/plain": "True"
     },
     "execution_count": 32,
     "metadata": {},
     "output_type": "execute_result"
    }
   ],
   "source": [
    "a = MY_POINT(1,1)\n",
    "b = MY_POINT(1,1)\n",
    "a == b # Porównanie tożsamości obiektów"
   ]
  },
  {
   "cell_type": "markdown",
   "metadata": {
    "deletable": false,
    "editable": false,
    "nbgrader": {
     "cell_type": "markdown",
     "checksum": "90a2c5cd07e9c5ffd21f735954dfb829",
     "grade": false,
     "grade_id": "cell-2a4312e96272800d",
     "locked": true,
     "schema_version": 3,
     "solution": false,
     "task": false
    }
   },
   "source": [
    "### Emulowanie obiektów wywoływalnych.\n",
    "\n",
    "- `__call__( self [ , args ... ] )` Wywoływana przy operacji \"wywołania\" instancji jak funkcji; jeśli jest ona zdefiniowana, to `x(arg1, arg2, ...`) jest odpowiednikiem `x.__call__(arg1, arg2, ...)`.  "
   ]
  },
  {
   "cell_type": "code",
   "execution_count": 33,
   "metadata": {},
   "outputs": [],
   "source": [
    "class MY_POINT:\n",
    "    def __init__(self, x,y):\n",
    "        self.x = x\n",
    "        self.y = y\n",
    "        \n",
    "    def __call__(self, *args, **kwargs):\n",
    "        print(\"Jestem Punktem ({},{})\".format(self.x, self.y),'\\notrzymałem: ', *args)"
   ]
  },
  {
   "cell_type": "code",
   "execution_count": 34,
   "metadata": {},
   "outputs": [
    {
     "name": "stdout",
     "output_type": "stream",
     "text": [
      "Jestem Punktem (1,1) \n",
      "otrzymałem:  a b c\n"
     ]
    }
   ],
   "source": [
    "a = MY_POINT(1,1)\n",
    "a('a','b','c')"
   ]
  },
  {
   "cell_type": "markdown",
   "metadata": {
    "deletable": false,
    "editable": false,
    "nbgrader": {
     "cell_type": "markdown",
     "checksum": "3e9f02448ea0631f3b6cc6d2ae71c830",
     "grade": false,
     "grade_id": "cell-88bfed78dca0811f",
     "locked": true,
     "schema_version": 3,
     "solution": false,
     "task": false
    }
   },
   "source": [
    "## Dekoratory - czyli opakowywanie funkcji.\n",
    "\n",
    "Funkcje w Pythonie mogą być przekazywane jako parametry wywołania innych funkcji oraz mogą być też wartościami zwracanymi przez te funkcje.  Dekoratory opakowują funkcję, modyfikując jej zachowanie.\n",
    "\n",
    "Poniższa funkcja pobiera jako argument inną funkcję i wyświetla nazwę podanej funkcji:"
   ]
  },
  {
   "cell_type": "code",
   "execution_count": 35,
   "metadata": {},
   "outputs": [
    {
     "name": "stdout",
     "output_type": "stream",
     "text": [
      "Nazwa funkcji: foo\n"
     ]
    }
   ],
   "source": [
    "def nazwa_funkcji(f):\n",
    "    print('Nazwa funkcji:', f.__name__)\n",
    "    \n",
    "def foo():\n",
    "    print('Funkcja foo')\n",
    "\n",
    "nazwa_funkcji(foo)"
   ]
  },
  {
   "cell_type": "markdown",
   "metadata": {
    "deletable": false,
    "editable": false,
    "nbgrader": {
     "cell_type": "markdown",
     "checksum": "ca1cb975cf266c688837f990dae15690",
     "grade": false,
     "grade_id": "cell-4bc5dddd63bb543b",
     "locked": true,
     "schema_version": 3,
     "solution": false,
     "task": false
    }
   },
   "source": [
    "Poniżej przykład funkcji, która tworzy nową funkcję i zwraca ją jako wynik. W tym wypadku `utworz_dodawanie` tworzy funkcję, która dodaje stałą do jej argumentu:"
   ]
  },
  {
   "cell_type": "code",
   "execution_count": 36,
   "metadata": {},
   "outputs": [
    {
     "name": "stdout",
     "output_type": "stream",
     "text": [
      "<function utworz_dodawanie.<locals>.dodaj at 0x000001C5465DBB80>\n"
     ]
    }
   ],
   "source": [
    "def utworz_dodawanie(x):\n",
    "    def dodaj(y):\n",
    "        return x + y\n",
    "    return dodaj\n",
    "\n",
    "dodaj5 = utworz_dodawanie(5)\n",
    "print(dodaj5)"
   ]
  },
  {
   "cell_type": "code",
   "execution_count": 37,
   "metadata": {},
   "outputs": [
    {
     "data": {
      "text/plain": "15"
     },
     "execution_count": 37,
     "metadata": {},
     "output_type": "execute_result"
    }
   ],
   "source": [
    "dodaj5(10)"
   ]
  },
  {
   "cell_type": "markdown",
   "metadata": {
    "deletable": false,
    "editable": false,
    "nbgrader": {
     "cell_type": "markdown",
     "checksum": "8e7d6f72ecd45295c04b314804e0d603",
     "grade": false,
     "grade_id": "cell-7b328ea4b660b71e",
     "locked": true,
     "schema_version": 3,
     "solution": false,
     "task": false
    }
   },
   "source": [
    "Łącząc obie powyższe możliwości możemy zdefiniować funkcję, która będzie pobierała inną funkcję w parametrze i zwracała jakąś funkcję utworzoną w sposób zależny od podanego parametru.\n",
    "\n",
    "Możemy utworzyć funkcję __opakowującą__ przekazaną funkcję, która będzie pokazywała informacje o każdym wywołaniu tej funkcji:"
   ]
  },
  {
   "cell_type": "code",
   "execution_count": 39,
   "metadata": {},
   "outputs": [],
   "source": [
    "def foo():                        # dekorowana funkcja\n",
    "    print('Funkcja foo')\n",
    "    \n",
    "def pokaz_wywolanie(f):            # dekorator \n",
    "    def opakowanie(*args, **kargs):\n",
    "        print('Wywołuje:', f.__name__)\n",
    "        return f(*args, **kargs)\n",
    "    return opakowanie"
   ]
  },
  {
   "cell_type": "code",
   "execution_count": 41,
   "metadata": {},
   "outputs": [
    {
     "name": "stdout",
     "output_type": "stream",
     "text": [
      "Wywołuje: foo\n",
      "Funkcja foo\n"
     ]
    }
   ],
   "source": [
    "bar = pokaz_wywolanie(foo)\n",
    "bar()"
   ]
  },
  {
   "cell_type": "markdown",
   "metadata": {
    "deletable": false,
    "editable": false,
    "nbgrader": {
     "cell_type": "markdown",
     "checksum": "dfdc1db0136a19418c769d627764ce3f",
     "grade": false,
     "grade_id": "cell-2293284ef2e97b17",
     "locked": true,
     "schema_version": 3,
     "solution": false,
     "task": false
    }
   },
   "source": [
    "Jeśli przypiszemy rezultat wywołania funkcji `pokaz_wywolanie` do tej samej nazwy co jej argument, to tym samym zastąpimy oryginalną wersję funkcji naszym opakowaniem:"
   ]
  },
  {
   "cell_type": "code",
   "execution_count": 42,
   "metadata": {},
   "outputs": [
    {
     "name": "stdout",
     "output_type": "stream",
     "text": [
      "Wywołuje: foo\n",
      "Funkcja foo\n"
     ]
    }
   ],
   "source": [
    "foo = pokaz_wywolanie(foo)\n",
    "foo()"
   ]
  },
  {
   "cell_type": "markdown",
   "metadata": {
    "deletable": false,
    "editable": false,
    "nbgrader": {
     "cell_type": "markdown",
     "checksum": "083c34599afe83e4bca537ea34c666a1",
     "grade": false,
     "grade_id": "cell-d17195476dc43964",
     "locked": true,
     "schema_version": 3,
     "solution": false,
     "task": false
    }
   },
   "source": [
    "Zamiast pisać:\n",
    "```python\n",
    "foo = pokaz_wywolanie(foo)\n",
    "```\n",
    "python pozwala na prostrze używanie dekoratorów  z wykorzystaniem symbolu `@pokaz_wywolanie` przed defnicją funkcji, np:\n",
    "```python\n",
    "@pokaz_wywolanie\n",
    "def foo():\n",
    "    print('Funkcja foo')\n",
    "```\n"
   ]
  },
  {
   "cell_type": "code",
   "execution_count": 43,
   "metadata": {},
   "outputs": [
    {
     "name": "stdout",
     "output_type": "stream",
     "text": [
      "Wywołuje: func\n",
      "Funkcja func została opakowana\n"
     ]
    }
   ],
   "source": [
    "def pokaz_wywolanie(f): # dekorator   \n",
    "    def opakowanie(*args, **kargs):\n",
    "        print('Wywołuje:', f.__name__)\n",
    "        return f(*args, **kargs)\n",
    "    return opakowanie\n",
    "\n",
    "@pokaz_wywolanie\n",
    "def func():  # dekorowana funkcja\n",
    "    print('Funkcja func została opakowana')\n",
    "\n",
    "func()"
   ]
  },
  {
   "cell_type": "markdown",
   "metadata": {
    "deletable": false,
    "editable": false,
    "nbgrader": {
     "cell_type": "markdown",
     "checksum": "4d61191beff99907533259cdc89ecd09",
     "grade": false,
     "grade_id": "cell-544691e26b59955c",
     "locked": true,
     "schema_version": 3,
     "solution": false,
     "task": false
    }
   },
   "source": [
    "### Dekorator `wraps`\n",
    "W poprzednich przykładach pominięto, istotny podczas tworzenia własnego dekoratora, dekorator `wraps`. Jego pominięcie powoduje utratę metadanych dekorowanej funkcji (np. docstringa). Zalecane jest, by był on dodawany do tworzonych dekoratorów.\n",
    "\n",
    "Wersja bez dekoratora `wraps`:"
   ]
  },
  {
   "cell_type": "code",
   "execution_count": 44,
   "metadata": {},
   "outputs": [],
   "source": [
    "def my_decorator(f): \n",
    "    def wrapper(*args, **kargs):\n",
    "        print('Wywołanie opakowania')\n",
    "        return f(*args, **kargs)\n",
    "    return wrapper\n",
    "\n",
    "@my_decorator\n",
    "def przyklad():\n",
    "    \"\"\"Docstring\"\"\"\n",
    "    print('Wywołanie przykładowej funkcji')"
   ]
  },
  {
   "cell_type": "code",
   "execution_count": 45,
   "metadata": {},
   "outputs": [
    {
     "name": "stdout",
     "output_type": "stream",
     "text": [
      "Wywołanie opakowania\n",
      "Wywołanie przykładowej funkcji\n",
      "wrapper\n",
      "None\n"
     ]
    }
   ],
   "source": [
    "przyklad()\n",
    "print(przyklad.__name__)\n",
    "print(przyklad.__doc__)"
   ]
  },
  {
   "cell_type": "markdown",
   "metadata": {
    "deletable": false,
    "editable": false,
    "nbgrader": {
     "cell_type": "markdown",
     "checksum": "35f325b97e687eb6e8f20537cfd1ca12",
     "grade": false,
     "grade_id": "cell-e244f908b56c2613",
     "locked": true,
     "schema_version": 3,
     "solution": false,
     "task": false
    }
   },
   "source": [
    "Wersja z użyciem dekoratora `wraps`:"
   ]
  },
  {
   "cell_type": "code",
   "execution_count": 46,
   "metadata": {},
   "outputs": [],
   "source": [
    "from functools import wraps        # import functools\n",
    "\n",
    "def my_decorator(f):\n",
    "    @wraps(f)                      # @functools.wraps(f)   \n",
    "    def wrapper(*args, **kargs):\n",
    "        print('Wywołanie opakowania')\n",
    "        return f(*args, **kargs)\n",
    "    return wrapper\n",
    "\n",
    "@my_decorator\n",
    "def przyklad():\n",
    "    \"\"\"Docstring\"\"\"\n",
    "    print('Wywołanie przykładowej funkcji')"
   ]
  },
  {
   "cell_type": "code",
   "execution_count": 47,
   "metadata": {},
   "outputs": [
    {
     "name": "stdout",
     "output_type": "stream",
     "text": [
      "Wywołanie opakowania\n",
      "Wywołanie przykładowej funkcji\n",
      "przyklad\n",
      "Docstring\n"
     ]
    }
   ],
   "source": [
    "przyklad()\n",
    "print(przyklad.__name__)\n",
    "print(przyklad.__doc__)"
   ]
  },
  {
   "cell_type": "markdown",
   "metadata": {
    "deletable": false,
    "editable": false,
    "nbgrader": {
     "cell_type": "markdown",
     "checksum": "2d150e89daf45f9c551aa0b9e69a0ceb",
     "grade": false,
     "grade_id": "cell-3fddf66b9a25cea4",
     "locked": true,
     "schema_version": 3,
     "solution": false,
     "task": false
    }
   },
   "source": [
    "### Dekoratory z argumentami\n",
    "\n",
    "Liczbę wykonań dekorowanej funkcji możemy podać jako argument dekoratora.\n"
   ]
  },
  {
   "cell_type": "code",
   "execution_count": 48,
   "metadata": {},
   "outputs": [],
   "source": [
    "from functools import wraps        # import functools\n",
    "\n",
    "def repeat(n):                     \n",
    "    def my_decorator(f):\n",
    "        @wraps(f)                      # @functools.wraps(f)   \n",
    "        def wrapper(*args, **kargs):\n",
    "            for i in range (n):\n",
    "                print('\\tWywołanie opakowania po raz: {}'.format(i))\n",
    "                value = f(*args, **kargs)\n",
    "            return value\n",
    "        return wrapper\n",
    "    return my_decorator\n",
    "\n",
    "@repeat(4)\n",
    "def przyklad():\n",
    "    \"\"\"Docstring\"\"\"\n",
    "    print('Wywołanie przykładowej funkcji')"
   ]
  },
  {
   "cell_type": "code",
   "execution_count": 49,
   "metadata": {},
   "outputs": [
    {
     "name": "stdout",
     "output_type": "stream",
     "text": [
      "\tWywołanie opakowania po raz: 0\n",
      "Wywołanie przykładowej funkcji\n",
      "\tWywołanie opakowania po raz: 1\n",
      "Wywołanie przykładowej funkcji\n",
      "\tWywołanie opakowania po raz: 2\n",
      "Wywołanie przykładowej funkcji\n",
      "\tWywołanie opakowania po raz: 3\n",
      "Wywołanie przykładowej funkcji\n"
     ]
    }
   ],
   "source": [
    "przyklad()"
   ]
  },
  {
   "cell_type": "markdown",
   "metadata": {
    "deletable": false,
    "editable": false,
    "nbgrader": {
     "cell_type": "markdown",
     "checksum": "bd683de6acc3e3c3e98d0664af292c1d",
     "grade": false,
     "grade_id": "cell-229d3fc3a0951c12",
     "locked": true,
     "schema_version": 3,
     "solution": false,
     "task": false
    }
   },
   "source": [
    "### Dekoratory w klasach (wybrane).\n",
    "\n",
    "#### Dekorator `@property` \n",
    "- dekorator `@property` identyfikuje metodę jako `getter`\n",
    "- `Gettry` i `settery` nazywane też `akcesorami/mutatorami`, wykorzystywane są odpowiednio do pobierania i ustawiania wartości atrybutu obiektu.\n"
   ]
  },
  {
   "cell_type": "code",
   "execution_count": 50,
   "metadata": {},
   "outputs": [],
   "source": [
    "class Osoba:\n",
    "    def __init__(self, name):\n",
    "        self.__name = name\n",
    "    \n",
    "    def get_name(self):\n",
    "        return(self.__name)\n",
    "    \n",
    "    def set_name(self, name):\n",
    "        self.__name = name"
   ]
  },
  {
   "cell_type": "code",
   "execution_count": 51,
   "metadata": {},
   "outputs": [
    {
     "name": "stdout",
     "output_type": "stream",
     "text": [
      "Adam \n"
     ]
    }
   ],
   "source": [
    "a = Osoba('Adam')\n",
    "b = Osoba('')\n",
    "print(a.get_name(), b.get_name())"
   ]
  },
  {
   "cell_type": "code",
   "execution_count": 52,
   "metadata": {},
   "outputs": [
    {
     "name": "stdout",
     "output_type": "stream",
     "text": [
      "Adam Basia\n"
     ]
    }
   ],
   "source": [
    "b.set_name('Basia')\n",
    "print(a.get_name(), b.get_name())"
   ]
  },
  {
   "cell_type": "markdown",
   "metadata": {
    "deletable": false,
    "editable": false,
    "nbgrader": {
     "cell_type": "markdown",
     "checksum": "7238d52bdea73aba96723f3574ba2e02",
     "grade": false,
     "grade_id": "cell-aed7650963ec5fdb",
     "locked": true,
     "schema_version": 3,
     "solution": false,
     "task": false
    }
   },
   "source": [
    "- Możliwe jest zdefiniowanie `getterów` i `setterów` dla zmiennych prywatnych w taki sposób aby móc wywoływać je za pomocą składni `zmienna.pole=wartosc`.\n",
    "- Służy do tego dekorator `@property`, który identyfikuje metodę jako `getter`. Aby dodać `setter` należy użyć `@name.setter`, gdzie `name` musi być takie samo jak nazwa pola."
   ]
  },
  {
   "cell_type": "code",
   "execution_count": 53,
   "metadata": {},
   "outputs": [],
   "source": [
    "class Osoba:\n",
    "    def __init__(self, name):\n",
    "        self.__name = name\n",
    "    \n",
    "    @property\n",
    "    def name(self):\n",
    "        return(self.__name)\n",
    "    \n",
    "    @name.setter\n",
    "    def name(self, name):\n",
    "        self.__name = name"
   ]
  },
  {
   "cell_type": "code",
   "execution_count": 54,
   "metadata": {},
   "outputs": [
    {
     "name": "stdout",
     "output_type": "stream",
     "text": [
      "Adam \n"
     ]
    }
   ],
   "source": [
    "a = Osoba('Adam')\n",
    "b = Osoba('')\n",
    "print(a.name, b.name)"
   ]
  },
  {
   "cell_type": "code",
   "execution_count": 55,
   "metadata": {},
   "outputs": [
    {
     "name": "stdout",
     "output_type": "stream",
     "text": [
      "Adam Basia\n"
     ]
    }
   ],
   "source": [
    "b.name = 'Basia'\n",
    "print(a.name, b.name)"
   ]
  },
  {
   "cell_type": "markdown",
   "metadata": {
    "deletable": false,
    "editable": false,
    "nbgrader": {
     "cell_type": "markdown",
     "checksum": "5ce8ae9f4dc01ef8bac45e693b93c195",
     "grade": false,
     "grade_id": "cell-328153119659cf60",
     "locked": true,
     "schema_version": 3,
     "solution": false,
     "task": false
    }
   },
   "source": [
    "#### Dekorator `@staticmethod`  i `@classmethod`\n",
    "- pozwalają wywołać funkcję z klasy bez dostępu do konkretnej instancji.\n",
    "-__Metoda statyczna__ to metoda utworzona wewnątrz klasy, która nie operuje na konkretnej instancji klasy. Nie posiadają one argumentu `self`, lecz opatrzone są dekoratorem `@staticmethod`.\n",
    "- Statyczną metodę można wywołać zarówno przy pomocy nazwy klasy, jak i jej obiektu, ale w obu przypadkach rezultat będzie ten sam. Technicznie jest to bowiem zwyczajna funkcja umieszczona po prostu w zasięgu klasy zamiast w zasięgu globalnym.\n",
    "\n",
    "- __Metoda klasy__ to metoda utworzona wewnątrz klasy, która wywoływana jest na rzecz całej klasy i przyjmuje ową klasę jako swój pierwszy argument (argument ten jest często nazywany `cls` (lub `klass`)), opatrzona jest dekoratorem `@classmethod`. Często wykorzystywane np. do tworzenia dodatkowych konstruktorów.\n",
    "- Podobnie jak metody statyczne, można je wywoływać na dwa sposoby – przy pomocy klasy lub obiektu – ale w obu przypadkach do `cls` trafi wyłącznie klasa. "
   ]
  },
  {
   "cell_type": "code",
   "execution_count": 56,
   "metadata": {},
   "outputs": [],
   "source": [
    "class Osoba:\n",
    "    def __init__(self, name):\n",
    "        self.name = name\n",
    "        \n",
    "    @staticmethod\n",
    "    def przywitanie():\n",
    "        print('Witaj!!!')"
   ]
  },
  {
   "cell_type": "code",
   "execution_count": 57,
   "metadata": {},
   "outputs": [
    {
     "name": "stdout",
     "output_type": "stream",
     "text": [
      "Witaj!!!\n",
      "Witaj!!!\n"
     ]
    }
   ],
   "source": [
    "o = Osoba('Adam')\n",
    "o.przywitanie()\n",
    "Osoba.przywitanie()"
   ]
  },
  {
   "cell_type": "code",
   "execution_count": 58,
   "metadata": {},
   "outputs": [],
   "source": [
    "class Osoba:\n",
    "    def __init__(self, name):\n",
    "        self.name = name\n",
    "        \n",
    "    @classmethod\n",
    "    def empty(cls):\n",
    "        return(cls(''))"
   ]
  },
  {
   "cell_type": "code",
   "execution_count": 59,
   "metadata": {},
   "outputs": [
    {
     "data": {
      "text/plain": "('Adam', '', '')"
     },
     "execution_count": 59,
     "metadata": {},
     "output_type": "execute_result"
    }
   ],
   "source": [
    "x = Osoba('Adam')\n",
    "y = x.empty()\n",
    "z = Osoba.empty()\n",
    "x.name, y.name, z.name"
   ]
  },
  {
   "cell_type": "markdown",
   "metadata": {
    "deletable": false,
    "editable": false,
    "nbgrader": {
     "cell_type": "markdown",
     "checksum": "82eacebee107a7d874ad34ff852e0b55",
     "grade": false,
     "grade_id": "cell-b1074664c1789a10",
     "locked": true,
     "schema_version": 3,
     "solution": false,
     "task": false
    }
   },
   "source": [
    "### Dekoratory definiowane jako klasy.\n",
    "\n",
    "- dekorator to obiekt, który można wywołać jak funkcję;\n",
    "- dla klas należy zdefiniować metodę `__call__()` (oraz `__init__()`), jej dodanie pozwala użyć obiekt danej klasy jak funkcji (z argumentami);\n",
    "- operacja wywołania dokonana na klasie powoduje stworzenie nowego obiektu i wywołanie `__init__()`;\n",
    "- natomiast operacja wywołania dokonana na obiekcie powoduje wywołanie `__call__()`."
   ]
  },
  {
   "cell_type": "code",
   "execution_count": 61,
   "metadata": {},
   "outputs": [],
   "source": [
    "class MY_POINT:\n",
    "    def __init__(self, x,y):\n",
    "        print('init')\n",
    "        self.x = x\n",
    "        self.y = y\n",
    "        \n",
    "    def __call__(self, *args, **kwargs):\n",
    "        print('call')\n",
    "        print(\"Jestem Punktem ({},{})\".format(self.x, self.y),'\\notrzymałem: ', *args)"
   ]
  },
  {
   "cell_type": "code",
   "execution_count": 62,
   "metadata": {},
   "outputs": [
    {
     "name": "stdout",
     "output_type": "stream",
     "text": [
      "init\n",
      "call\n",
      "Jestem Punktem (1,1) \n",
      "otrzymałem:  a b c\n"
     ]
    }
   ],
   "source": [
    "a = MY_POINT(1,1) # operacja wywołania dokonana na klasie\n",
    "a('a','b','c')    # operacja wywołania dokonana na obiekcie"
   ]
  },
  {
   "cell_type": "markdown",
   "metadata": {
    "deletable": false,
    "editable": false,
    "nbgrader": {
     "cell_type": "markdown",
     "checksum": "1b15171f7f274c52981e6babe890f8da",
     "grade": false,
     "grade_id": "cell-fdeaec3754cafded",
     "locked": true,
     "schema_version": 3,
     "solution": false,
     "task": false
    }
   },
   "source": [
    "Napisz dekorator `my_decorator` jako klasę.\n",
    "\n",
    "```python\n",
    "def my_decorator(f): \n",
    "    def wrapper(*args, **kargs):\n",
    "        print('Wywołanie opakowania')\n",
    "        return f(*args, **kargs)\n",
    "    return wrapper\n",
    "\n",
    "@my_decorator\n",
    "def przyklad():\n",
    "    \"\"\"Docstring\"\"\"\n",
    "    print('Wywołanie przykładowej funkcji')\n",
    "```\n"
   ]
  },
  {
   "cell_type": "code",
   "execution_count": 63,
   "metadata": {},
   "outputs": [],
   "source": [
    "class my_decorator:\n",
    "    def __init__(self, f):\n",
    "        self.f = f\n",
    "       \n",
    "    def __call__(self, *args, **kargs):\n",
    "        print('Wywołanie opakowania')\n",
    "        return self.f(*args, **kargs)\n",
    "        \n",
    "@my_decorator\n",
    "def przyklad():\n",
    "    \"\"\"Docstring\"\"\"\n",
    "    print('Wywołanie przykładowej funkcji')        "
   ]
  },
  {
   "cell_type": "code",
   "execution_count": 64,
   "metadata": {},
   "outputs": [
    {
     "name": "stdout",
     "output_type": "stream",
     "text": [
      "Wywołanie opakowania\n",
      "Wywołanie przykładowej funkcji\n"
     ]
    }
   ],
   "source": [
    "przyklad()"
   ]
  },
  {
   "cell_type": "markdown",
   "metadata": {
    "deletable": false,
    "editable": false,
    "nbgrader": {
     "cell_type": "markdown",
     "checksum": "08e949a050b3a7c38e768d1a4b787ae6",
     "grade": false,
     "grade_id": "cell-3feab9bcc0df6962",
     "locked": true,
     "schema_version": 3,
     "solution": false,
     "task": false
    }
   },
   "source": [
    "## Zadanie 1. \n",
    "\n",
    "Napisz klasę `Wielblad` posiadającą pola opisujące liczbę garbów oraz wysokość wielbłąda, których wartości przesyłane są jako argument konstruktora. Przeładuj operatory `<`, `>` oraz `==` (metody `__lt__`, `__gt__` oraz `__eq__`) tak, aby porównywały wielbłądy. Za większego uznajemy wielbłąda wyższego, a jeśli porównywane osobniki są tego samego wzrostu, to z większą liczbą garbów.\n",
    "\n",
    "https://docs.python.org/3/reference/datamodel.html#object.__lt__"
   ]
  },
  {
   "cell_type": "code",
   "execution_count": 123,
   "metadata": {
    "deletable": false,
    "nbgrader": {
     "cell_type": "code",
     "checksum": "be5cd90768fb893637d4dc0df002baad",
     "grade": true,
     "grade_id": "cell-2b08afa4d80495b9",
     "locked": false,
     "points": 1,
     "schema_version": 3,
     "solution": true,
     "task": false
    }
   },
   "outputs": [],
   "source": [
    "# YOUR CODE HERE\n",
    "#raise NotImplementedError()\n",
    "class Wielblad:\n",
    "    def __init__(self, wysokosc, liczba):\n",
    "        self.liczba = liczba\n",
    "        self.wysokosc = wysokosc\n",
    "\n",
    "    def __lt__(self, other):\n",
    "        if self.wysokosc != other.wysokosc:\n",
    "            return self.wysokosc < other.wysokosc\n",
    "        else:\n",
    "            return self.liczba < other.liczba\n",
    "\n",
    "    def __gt__(self, other):\n",
    "        if self.wysokosc != other.wysokosc:\n",
    "            return self.wysokosc > other.wysokosc\n",
    "        else:\n",
    "            return self.liczba > other.liczba\n",
    "\n",
    "    def __eq__(self, other):\n",
    "        if self.wysokosc != other.wysokosc:\n",
    "            return self.wysokosc == other.wysokosc\n",
    "        else:\n",
    "            return self.liczba == other.liczba"
   ]
  },
  {
   "cell_type": "markdown",
   "source": [
    "## Zadanie 2.\n",
    "\n",
    "Do klasy `Wielblad` dodaj metodę `__bool__` zwracającą prawdę, jeśli wielbłąd ma więcej niż 1 garb.\n",
    "\n",
    "https://docs.python.org/3/reference/datamodel.html#object.__bool__"
   ],
   "metadata": {
    "collapsed": false
   }
  },
  {
   "cell_type": "code",
   "execution_count": 124,
   "metadata": {
    "deletable": false,
    "nbgrader": {
     "cell_type": "code",
     "checksum": "5ac0ab6c0d5eb622ae56768d1b7c2c62",
     "grade": true,
     "grade_id": "cell-73d80a87588cc68e",
     "locked": false,
     "points": 1,
     "schema_version": 3,
     "solution": true,
     "task": false
    }
   },
   "outputs": [],
   "source": [
    "# YOUR CODE HERE\n",
    "#raise NotImplementedError()\n",
    "class Wielblad:\n",
    "    def __init__(self, wysokosc : int, liczba : int):\n",
    "        self.liczba = liczba\n",
    "        self.wysokosc = wysokosc\n",
    "\n",
    "    def __lt__(self, other):\n",
    "        if self.wysokosc != other.wysokosc:\n",
    "            return self.wysokosc < other.wysokosc\n",
    "        else:\n",
    "            return self.liczba < other.liczba\n",
    "\n",
    "    def __gt__(self, other):\n",
    "        if self.wysokosc != other.wysokosc:\n",
    "            return self.wysokosc > other.wysokosc\n",
    "        else:\n",
    "            return self.liczba > other.liczba\n",
    "\n",
    "    def __eq__(self, other):\n",
    "        if self.wysokosc != other.wysokosc:\n",
    "            return self.wysokosc == other.wysokosc\n",
    "        else:\n",
    "            return self.liczba == other.liczba\n",
    "\n",
    "    def __bool__(self):\n",
    "        return self.liczba > 1"
   ]
  },
  {
   "cell_type": "markdown",
   "metadata": {
    "deletable": false,
    "editable": false,
    "nbgrader": {
     "cell_type": "markdown",
     "checksum": "e15564b317728e610a544340561a7bae",
     "grade": false,
     "grade_id": "cell-e0253968897f60d9",
     "locked": true,
     "schema_version": 3,
     "solution": false,
     "task": false
    }
   },
   "source": [
    "## Zadanie 3.\n",
    "\n",
    "Napisz klasę `Sluzacy` zawierającą metodę `__call__`, wypisującą tekst \"Tak, panie?\". Utwórz obiekt klasy `Sluzacy`, przypisz go do zmiennej o nazwie `marian` i wywołaj ją tak, jakby była funkcją.\n",
    "\n",
    "https://docs.python.org/3/reference/datamodel.html#emulating-callable-objects"
   ]
  },
  {
   "cell_type": "code",
   "execution_count": 136,
   "metadata": {
    "deletable": false,
    "nbgrader": {
     "cell_type": "code",
     "checksum": "08d3026e9f310fd96e63c0079d124c38",
     "grade": true,
     "grade_id": "cell-52694a0ea51fcfb5",
     "locked": false,
     "points": 1,
     "schema_version": 3,
     "solution": true,
     "task": false
    }
   },
   "outputs": [
    {
     "name": "stdout",
     "output_type": "stream",
     "text": [
      "Tak, panie?\n"
     ]
    }
   ],
   "source": [
    "# YOUR CODE HERE\n",
    "#raise NotImplementedError()\n",
    "class Sluzacy:\n",
    "    def __call__(self):\n",
    "        print(\"Tak, panie?\")\n",
    "\n",
    "marian = Sluzacy()\n",
    "marian()"
   ]
  },
  {
   "cell_type": "markdown",
   "metadata": {
    "deletable": false,
    "editable": false,
    "nbgrader": {
     "cell_type": "markdown",
     "checksum": "f748a559875963a162d739ab3ea0e149",
     "grade": false,
     "grade_id": "cell-04103807777c217e",
     "locked": true,
     "schema_version": 3,
     "solution": false,
     "task": false
    }
   },
   "source": [
    "## Zadanie 4.\n",
    "\n",
    "Napisz klasę `OgraniczonaLiczba`, zawierająca pole z wartością liczbową oraz przeładowane operatory dodawania, odejmowania i mnożenia. Operatory powinny wykonywać zwykłe operacje na przechowywanej wartości, wynik ograniczając do zakresu od -128 do 127.\n",
    "\n",
    "https://docs.python.org/3/reference/datamodel.html#emulating-numeric-types"
   ]
  },
  {
   "cell_type": "code",
   "execution_count": 180,
   "metadata": {
    "deletable": false,
    "nbgrader": {
     "cell_type": "code",
     "checksum": "15a44ba1c0301ab39babd336f0bf43e5",
     "grade": true,
     "grade_id": "cell-2f528ead4ab3d8e4",
     "locked": false,
     "points": 1,
     "schema_version": 3,
     "solution": true,
     "task": false
    }
   },
   "outputs": [
    {
     "data": {
      "text/plain": "126"
     },
     "execution_count": 180,
     "metadata": {},
     "output_type": "execute_result"
    }
   ],
   "source": [
    "# YOUR CODE HERE\n",
    "#raise NotImplementedError()\n",
    "class OgraniczonaLiczba:\n",
    "    def __init__(self, x):\n",
    "        self.x = x\n",
    "\n",
    "    def __add__(self, other):\n",
    "        if - 128 <= self.x + other.x <= 127:\n",
    "            return self.x + other.x\n",
    "        else:\n",
    "            raise ValueError(\"Poza zakresem (-128,127)\")\n",
    "\n",
    "    def __sub__(self, other):\n",
    "        if - 128 <= self.x - other.x <= 127:\n",
    "            return self.x - other.x\n",
    "        else:\n",
    "            raise ValueError(\"Poza zakresem (-128,127)\")\n",
    "\n",
    "    def __mul__(self, other):\n",
    "        if - 128 <= self.x * other.x <= 127:\n",
    "            return self.x * other.x\n",
    "        else:\n",
    "            raise ValueError(\"Poza zakresem (-128,127)\")\n"
   ]
  },
  {
   "cell_type": "markdown",
   "metadata": {
    "deletable": false,
    "editable": false,
    "nbgrader": {
     "cell_type": "markdown",
     "checksum": "53358e2f19ba9b6b50ee3985ec927b99",
     "grade": false,
     "grade_id": "cell-f54e6801ed9672e6",
     "locked": true,
     "schema_version": 3,
     "solution": false,
     "task": false
    }
   },
   "source": [
    "## Zadanie 5.\n",
    "\n",
    "Napisz funkcję `fibonacci`, która rekurencyjnie wyznacza n-ty wyraz ciągu Fibonacciego.\n",
    "Napisz dekorator dla funkcji `fibonacci` o nazwie `zapamietaj`, który modyfikuje funkcje spamiętując jej wartości (słownik - `n-ty wyraz : odpowiadająca wartość z ciągu`). Porównaj czas działania rekurencyjnej implementacji liczenia wyrazów ciągu Fibonacciego ze spamiętywaniem (z użyciem napisanego dekoratora) i bez.\n",
    "\n",
    "https://realpython.com/primer-on-python-decorators/\n",
    "\n",
    "Pomiar czasu:\n",
    "\n",
    "https://docs.python.org/3/library/timeit.html"
   ]
  },
  {
   "cell_type": "code",
   "execution_count": 1,
   "metadata": {
    "deletable": false,
    "nbgrader": {
     "cell_type": "code",
     "checksum": "3a9006327ed9fcb3d072c2832166b1b6",
     "grade": true,
     "grade_id": "cell-41b622b55fcf0fbb",
     "locked": false,
     "points": 1,
     "schema_version": 3,
     "solution": true,
     "task": false
    }
   },
   "outputs": [
    {
     "data": {
      "text/plain": "3.540000000001875e-05"
     },
     "execution_count": 1,
     "metadata": {},
     "output_type": "execute_result"
    }
   ],
   "source": [
    "import functools\n",
    "import timeit\n",
    "\n",
    "# YOUR CODE HERE\n",
    "#raise NotImplementedError()\n",
    "cache = dict()\n",
    "\n",
    "class zapamietaj:\n",
    "    def __init__(self, ff):\n",
    "        self.f = ff\n",
    "    def __call__(self, *args, **kwargs):\n",
    "        x = args[0]\n",
    "        if x in cache:\n",
    "            return cache[x]\n",
    "        else:\n",
    "            temp = self.f(*args, **kwargs)\n",
    "            cache[x] = temp\n",
    "            return temp\n",
    "\n",
    "@zapamietaj\n",
    "def fibonacci(n):\n",
    "    if n <= 1:\n",
    "        return 1\n",
    "    return fibonacci(n-1) + fibonacci(n-2)\n",
    "\n",
    "timeit.timeit(lambda: [fibonacci(n) for n in range(10)], number=2)"
   ]
  },
  {
   "cell_type": "markdown",
   "metadata": {
    "deletable": false,
    "editable": false,
    "nbgrader": {
     "cell_type": "markdown",
     "checksum": "8caf599bddab1a2a57b064c2f6626bff",
     "grade": false,
     "grade_id": "cell-5bdc91055932ea5e",
     "locked": true,
     "schema_version": 3,
     "solution": false,
     "task": false
    }
   },
   "source": [
    "## Zadanie 6.\n",
    "\n",
    "Napisz dekorator dla funkcji o nazwie `zapamietajTroche` którego pamięć na wartości funkcji jest ograniczona do podanej jako argument liczby wpisów. W momencie przepełnienia najstarsze wpisy powinny być usuwane."
   ]
  },
  {
   "cell_type": "code",
   "execution_count": 2,
   "metadata": {
    "deletable": false,
    "nbgrader": {
     "cell_type": "code",
     "checksum": "d0e34c33c67614be81c6f6c7bea729f9",
     "grade": true,
     "grade_id": "cell-0cbdf2bf7c4b41fa",
     "locked": false,
     "points": 1,
     "schema_version": 3,
     "solution": true,
     "task": false
    }
   },
   "outputs": [
    {
     "data": {
      "text/plain": "(3.470000000049822e-05, 2)"
     },
     "execution_count": 2,
     "metadata": {},
     "output_type": "execute_result"
    }
   ],
   "source": [
    "# YOUR CODE HERE\n",
    "#raise NotImplementedError()\n",
    "from time import time\n",
    "cache_time, cache = dict(), dict()\n",
    "def zapamietajTroche(n):\n",
    "    def my_decorator(f):\n",
    "        def wrapper(*args, **kwargs):\n",
    "            x = args[0]\n",
    "            if x in cache:\n",
    "                return cache[x]\n",
    "            temp = f(*args, **kwargs)\n",
    "            cache[x] = temp\n",
    "            cache_time[x] = time()\n",
    "            if len(cache) > n:\n",
    "                t = sorted(cache_time.keys())[0]\n",
    "                del cache_time[t]\n",
    "                del cache[t]\n",
    "            return temp\n",
    "        return wrapper\n",
    "    return my_decorator\n",
    "\n",
    "@zapamietajTroche(2)\n",
    "def fibonacci(n):\n",
    "    if n <= 1:\n",
    "        return 1\n",
    "    return fibonacci(n-1) + fibonacci(n-2)\n",
    "\n",
    "\n",
    "timeit.timeit(lambda: [fibonacci(n) for n in range(10)], number=1), len(cache)"
   ]
  },
  {
   "cell_type": "code",
   "execution_count": null,
   "metadata": {},
   "outputs": [],
   "source": []
  }
 ],
 "metadata": {
  "kernelspec": {
   "display_name": "Python 3 (ipykernel)",
   "language": "python",
   "name": "python3"
  },
  "language_info": {
   "codemirror_mode": {
    "name": "ipython",
    "version": 3
   },
   "file_extension": ".py",
   "mimetype": "text/x-python",
   "name": "python",
   "nbconvert_exporter": "python",
   "pygments_lexer": "ipython3",
   "version": "3.9.7"
  }
 },
 "nbformat": 4,
 "nbformat_minor": 2
}