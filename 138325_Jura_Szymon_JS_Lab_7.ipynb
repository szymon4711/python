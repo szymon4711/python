{
 "cells": [
  {
   "cell_type": "markdown",
   "metadata": {},
   "source": [
    "# Języki symboliczne - rok akademicki 2021/2022\n",
    "\n",
    "Przed rozpoczęciem pracy z notatnikiem zmień jego nazwę zgodnie z wzorem: `NrAlbumu_Nazwisko_Imie_PoprzedniaNazwa`\n",
    "\n",
    "Przed wysłaniem notatnika **upewnij się jeszcze raz** że zmieniłeś nazwę i że rozwiązałeś wszystkie zadania/ćwiczenia, w szczególności, że uzupełniłeś wszystkie pola `YOUR CODE HERE` oraz `YOUR ANSWER HERE`."
   ]
  },
  {
   "cell_type": "markdown",
   "metadata": {
    "deletable": false,
    "editable": false,
    "nbgrader": {
     "cell_type": "markdown",
     "checksum": "5822d2ba0796ccbb9da48f156ec51b37",
     "grade": false,
     "grade_id": "cell-4aca44267419a21f",
     "locked": true,
     "schema_version": 3,
     "solution": false
    }
   },
   "source": [
    "# Temat: Zgłaszanie i obsługa wyjątków. Klasy wyjątków.\n",
    "Zapoznaj się z treścią niniejszego notatnika czytając i wykonując go komórka po komórce. Wykonaj napotkane zadania/ćwiczenia.\n",
    "\n",
    "## Obsługa wyjątków\n",
    "\n",
    "- Błędy wykryte podczas wykonania nazywane są wyjątkami i niekoniecznie muszą zakończyć działanie programu.\n",
    "- Wyjątki możemy zgłaszać lub je obsługiwać (przechwytywać).\n",
    "- Większość wyjatków nie jest obsługiwana przez programy, objawiają się one w komunikatach o błędzie.\n",
    "- Do zgłaszania wyjatków służą instrukcje: `raise` i `assert`.\n",
    "- Do obsługi wyjątków służą instrukcje: `try` i `except`.\n",
    "\n",
    "Wbudowane klasy wyjątków: https://docs.python.org/3/library/exceptions.html?highlight=built%20exceptions\n",
    "\n",
    "\n",
    "### Błędy i wyjątki.\n",
    "\n",
    "Błędy składni (parsingu, ang. SYNTAX ERRORS)."
   ]
  },
  {
   "cell_type": "code",
   "execution_count": 1,
   "metadata": {},
   "outputs": [
    {
     "ename": "SyntaxError",
     "evalue": "invalid syntax (4007293130.py, line 2)",
     "output_type": "error",
     "traceback": [
      "\u001B[1;36m  Input \u001B[1;32mIn [1]\u001B[1;36m\u001B[0m\n\u001B[1;33m    while True print('hello world')\u001B[0m\n\u001B[1;37m               ^\u001B[0m\n\u001B[1;31mSyntaxError\u001B[0m\u001B[1;31m:\u001B[0m invalid syntax\n"
     ]
    }
   ],
   "source": [
    "# błędy składni\n",
    "import random\n",
    "while True print('hello world')"
   ]
  },
  {
   "cell_type": "markdown",
   "metadata": {
    "deletable": false,
    "editable": false,
    "nbgrader": {
     "cell_type": "markdown",
     "checksum": "15852d850d637e15d2857a88c178b1ef",
     "grade": false,
     "grade_id": "cell-5486e3275aedc8fe",
     "locked": true,
     "schema_version": 3,
     "solution": false,
     "task": false
    }
   },
   "source": [
    "### Wyjątki \n",
    "\n",
    "- Nawet gdy wyrażenie jest składniowo poprawne, może spowodować błąd podczas próby wykonania go\n",
    "- Błędy wykryte podczas wykonania nazywane są wyjątkami i niekoniecznie muszą zakończyć program\n",
    "- Większość wyjątków nie jest obsługiwana przez programy i objawiają się w komunikatach o błędzie, jak poniżej"
   ]
  },
  {
   "cell_type": "code",
   "execution_count": 2,
   "metadata": {},
   "outputs": [
    {
     "ename": "ZeroDivisionError",
     "evalue": "division by zero",
     "output_type": "error",
     "traceback": [
      "\u001B[1;31m---------------------------------------------------------------------------\u001B[0m",
      "\u001B[1;31mZeroDivisionError\u001B[0m                         Traceback (most recent call last)",
      "Input \u001B[1;32mIn [2]\u001B[0m, in \u001B[0;36m<cell line: 2>\u001B[1;34m()\u001B[0m\n\u001B[0;32m      1\u001B[0m \u001B[38;5;66;03m# błąd dzielenia przez zero - wbudowana klasa wyjątku\u001B[39;00m\n\u001B[1;32m----> 2\u001B[0m \u001B[38;5;241;43m20\u001B[39;49m\u001B[38;5;241;43m/\u001B[39;49m\u001B[38;5;241;43m0\u001B[39;49m\n",
      "\u001B[1;31mZeroDivisionError\u001B[0m: division by zero"
     ]
    }
   ],
   "source": [
    "# błąd dzielenia przez zero - wbudowana klasa wyjątku\n",
    "20/0 "
   ]
  },
  {
   "cell_type": "code",
   "execution_count": 3,
   "metadata": {},
   "outputs": [
    {
     "ename": "TypeError",
     "evalue": "unsupported operand type(s) for +: 'int' and 'str'",
     "output_type": "error",
     "traceback": [
      "\u001B[1;31m---------------------------------------------------------------------------\u001B[0m",
      "\u001B[1;31mTypeError\u001B[0m                                 Traceback (most recent call last)",
      "Input \u001B[1;32mIn [3]\u001B[0m, in \u001B[0;36m<cell line: 2>\u001B[1;34m()\u001B[0m\n\u001B[0;32m      1\u001B[0m \u001B[38;5;66;03m# błąd typów - wbudowana klasa wyjątku\u001B[39;00m\n\u001B[1;32m----> 2\u001B[0m \u001B[38;5;241;43m2\u001B[39;49m\u001B[43m \u001B[49m\u001B[38;5;241;43m+\u001B[39;49m\u001B[43m \u001B[49m\u001B[38;5;124;43m'\u001B[39;49m\u001B[38;5;124;43ma\u001B[39;49m\u001B[38;5;124;43m'\u001B[39;49m\n",
      "\u001B[1;31mTypeError\u001B[0m: unsupported operand type(s) for +: 'int' and 'str'"
     ]
    }
   ],
   "source": [
    "# błąd typów - wbudowana klasa wyjątku\n",
    "2 + 'a' "
   ]
  },
  {
   "cell_type": "code",
   "execution_count": 4,
   "metadata": {},
   "outputs": [
    {
     "ename": "NameError",
     "evalue": "name 'spam' is not defined",
     "output_type": "error",
     "traceback": [
      "\u001B[1;31m---------------------------------------------------------------------------\u001B[0m",
      "\u001B[1;31mNameError\u001B[0m                                 Traceback (most recent call last)",
      "Input \u001B[1;32mIn [4]\u001B[0m, in \u001B[0;36m<cell line: 2>\u001B[1;34m()\u001B[0m\n\u001B[0;32m      1\u001B[0m \u001B[38;5;66;03m# błąd definicji zmiennej - wbudowana klasa wyjątku\u001B[39;00m\n\u001B[1;32m----> 2\u001B[0m \u001B[38;5;241m4\u001B[39m \u001B[38;5;241m+\u001B[39m \u001B[43mspam\u001B[49m\u001B[38;5;241m*\u001B[39m\u001B[38;5;241m3\u001B[39m\n",
      "\u001B[1;31mNameError\u001B[0m: name 'spam' is not defined"
     ]
    }
   ],
   "source": [
    "# błąd definicji zmiennej - wbudowana klasa wyjątku\n",
    "4 + spam*3"
   ]
  },
  {
   "cell_type": "markdown",
   "metadata": {
    "deletable": false,
    "editable": false,
    "nbgrader": {
     "cell_type": "markdown",
     "checksum": "c9cff4417db7e35e390fe16f2776c2f1",
     "grade": false,
     "grade_id": "cell-775dca117afef02c",
     "locked": true,
     "schema_version": 3,
     "solution": false
    }
   },
   "source": [
    "### Obsługa wyjątków. \n",
    "\n",
    "Składnia polecenia do obsługi (przechwytywania) wyjatków:\n",
    "```python \n",
    "try:\n",
    "    wykonaj instrukcje\n",
    "except Error_1:\n",
    "    # obsługa błędu Error_1\n",
    "except Error_2:\n",
    "    # obsługa błędu Error_2  \n",
    "else:\n",
    "    instrukcje\n",
    "    \n",
    "```\n",
    "- Na początku wykonywana jest klauzula `try:` (czyli instrukcje pomiędzy `try` a `except`). Jeżeli nie pojawi sie żaden wyjątek klauzula `except` jest pomijana i wykonanie instrukcji `try:` uważa sie za zakończone.\n",
    "- Jeżeli podczas wykonywania klauzuli `try:` pojawi sie wyjątek, reszta niewykonanych instrukcji jest pomijana.\n",
    "- interpreter szuka klauzuli `except` odpowiadającej zgłoszonemu wyjątkowi. Jeżeli ją znajdzie przekazuje sterowanie do tego bloku.\n",
    "- W przypadku pojawienia sie wyjątku, który nie zostanie dopasowany do żadnego z wyjątków wymienionych w klauzuli `except`, zostaje on przekazany do następnych, zewnętrznych instrukcji `try`.\n",
    "- Jeżeli również tam nie zostanie znaleziony odpowiadajacy mu blok `except`, wyjątek ten nie zostanie wyłapany, stanie się nieobsłużonym wyjątkiem, a wykonywanie programu zostanie wstrzymane wraz z pojawieniem się komunikatu.\n",
    "- Instrukcja `try except` wyposażona jest w opcjonalną klauzule `else`, która jeżeli występuje to musi pojawić się za wszystkimi podanymi blokami `except`. Można po niej umieścić kod, który zostanie wykonany, jeżeli nie zostanie zgłoszony wyjątek.\n",
    "\n",
    "#### Przykłady:"
   ]
  },
  {
   "cell_type": "code",
   "execution_count": null,
   "metadata": {},
   "outputs": [],
   "source": [
    "# obsługa wyjątków, które mogą pojawić się przy otwieraniu pliku.\n",
    "name = input('Podaj nazwę pliku: ')\n",
    "try:\n",
    "    f = open(name,'r')\n",
    "    text = f.read()\n",
    "except IOError:\n",
    "    print('Nie można otworzyć pliku:', name)\n",
    "except EOFError:    \n",
    "    print('EOF:', name)\n",
    "except PermissionError:\n",
    "    print('Brak praw dostępu do pliku:', name)\n",
    "    \n",
    "print(text)\n",
    "f.close()"
   ]
  },
  {
   "cell_type": "markdown",
   "metadata": {
    "deletable": false,
    "editable": false,
    "nbgrader": {
     "cell_type": "markdown",
     "checksum": "548ee0b975c97c57ce2122af2ca36d8d",
     "grade": false,
     "grade_id": "cell-52542adc6b3d1ed5",
     "locked": true,
     "schema_version": 3,
     "solution": false
    }
   },
   "source": [
    "To samo ale z użyciem klauzuli `else`."
   ]
  },
  {
   "cell_type": "code",
   "execution_count": null,
   "metadata": {},
   "outputs": [],
   "source": [
    "name = input('Podaj nazwę pliku: ')\n",
    "try:\n",
    "    f = open(name,'r')\n",
    "    text = f.read()\n",
    "except IOError:\n",
    "    print('Nie można otworzyć pliku:', name)\n",
    "except EOFError:    \n",
    "    print('EOF:', name)\n",
    "except PermissionError:\n",
    "    print('Brak praw dostępu do pliku:', name)\n",
    "else:    \n",
    "    print(text)\n",
    "    f.close()"
   ]
  },
  {
   "cell_type": "markdown",
   "metadata": {
    "deletable": false,
    "editable": false,
    "nbgrader": {
     "cell_type": "markdown",
     "checksum": "2fe8524138a2b5177fc2c82964476819",
     "grade": false,
     "grade_id": "cell-eaae7b2e16877554",
     "locked": true,
     "schema_version": 3,
     "solution": false
    }
   },
   "source": [
    "Do obsługi kilku wyjatków można użyć jednego bloku `except:`"
   ]
  },
  {
   "cell_type": "code",
   "execution_count": null,
   "metadata": {},
   "outputs": [],
   "source": [
    "name = input('Podaj nazwę pliku: ')\n",
    "try:\n",
    "    f = open(name,'r')\n",
    "    text = f.read()\n",
    "except (IOError, EOFError, PermissionError):\n",
    "    print('Obsługa błędów I/O, EOF, prawa dostępu dla pliku', name)\n",
    "else:    \n",
    "    print(text)\n",
    "    f.close()    "
   ]
  },
  {
   "cell_type": "markdown",
   "metadata": {
    "deletable": false,
    "editable": false,
    "nbgrader": {
     "cell_type": "markdown",
     "checksum": "c636362029b48cb1300bd493b48a7588",
     "grade": false,
     "grade_id": "cell-8e09e62bb96168f8",
     "locked": true,
     "schema_version": 3,
     "solution": false,
     "task": false
    }
   },
   "source": [
    "Wyjątek może pojawić się z przypisaną sobie wartością - argumentem wyjątku. \n",
    "- Obecność i typ tej wartości zależy od rodzaju wyjątku.\n",
    "- Jeżeli chce się poznać tę wartość, należy podać nazwę zmiennej (lub listę zamiennych) za nazwą typu wyjątku w klauzuli `except`"
   ]
  },
  {
   "cell_type": "code",
   "execution_count": 5,
   "metadata": {},
   "outputs": [
    {
     "name": "stdout",
     "output_type": "stream",
     "text": [
      "Nie można otworzyć pliku: jd\n",
      "1)  <class 'FileNotFoundError'>\n",
      "2)  (2, 'No such file or directory')\n",
      "3)  [Errno 2] No such file or directory: 'jd'\n"
     ]
    }
   ],
   "source": [
    "name = input('Podaj nazwę pliku: ')\n",
    "try:\n",
    "    f = open(name,'r')\n",
    "    text = f.read()\n",
    "except IOError as inst: # inst wartość przypisana do wyjątku IOError \n",
    "    print('Nie można otworzyć pliku:', name)\n",
    "    print('1) ',type(inst))   # instancja wyjątku\n",
    "    print('2) ',inst.args)    # argumenty przechowywane w .args - (krotka)\n",
    "    print('3) ',inst)         # bezpośrednie wypisanie argumentów - __str()__\n",
    "else:    \n",
    "    print(text)\n",
    "    f.close()"
   ]
  },
  {
   "cell_type": "code",
   "execution_count": 6,
   "metadata": {},
   "outputs": [
    {
     "name": "stdout",
     "output_type": "stream",
     "text": [
      "Nie można otworzyć pliku: ds\n",
      "(<class 'FileNotFoundError'>, FileNotFoundError(2, 'No such file or directory'))\n"
     ]
    }
   ],
   "source": [
    "# te same informacje można uzyskać przy pomocy funkcji sys.exc_info()\n",
    "import sys\n",
    "name = input('Podaj nazwę pliku: ')\n",
    "try:\n",
    "    f = open(name,'r')\n",
    "    text = f.read()\n",
    "except IOError:  \n",
    "    print('Nie można otworzyć pliku:', name)\n",
    "    print(sys.exc_info()[:2]) # funkcja zwraca krotkę, która zawierają inf. o obecnie obsługiwanym wyjątku\n",
    "else:    \n",
    "    print(text)\n",
    "    f.close()"
   ]
  },
  {
   "cell_type": "markdown",
   "metadata": {
    "deletable": false,
    "editable": false,
    "nbgrader": {
     "cell_type": "markdown",
     "checksum": "04e702c8390d312f1adc40af7d3a24ca",
     "grade": false,
     "grade_id": "cell-10a6f8a24c53b500",
     "locked": true,
     "schema_version": 3,
     "solution": false,
     "task": false
    }
   },
   "source": [
    "Obsługa wyjątków następuje nie tylko po zgłoszeniu wyjątku w ich klauzuli `try:` ale także w przypadku, gdy pojawią się one w funkcjach wywoływanych w `try:` (nawet pośrednio)."
   ]
  },
  {
   "cell_type": "code",
   "execution_count": 7,
   "metadata": {},
   "outputs": [
    {
     "name": "stdout",
     "output_type": "stream",
     "text": [
      "obsługa wyjątku:  division by zero\n"
     ]
    }
   ],
   "source": [
    "def to_blad():\n",
    "    x = 1 / 0\n",
    "\n",
    "def fun():\n",
    "    to_blad()\n",
    "     \n",
    "try:\n",
    "    fun()\n",
    "except ZeroDivisionError as err:\n",
    "    print('obsługa wyjątku: ', err)"
   ]
  },
  {
   "cell_type": "markdown",
   "metadata": {
    "deletable": false,
    "editable": false,
    "nbgrader": {
     "cell_type": "markdown",
     "checksum": "f0ba41a154fd6c6bf0dbac598fd54699",
     "grade": false,
     "grade_id": "cell-dcc979a83fd389bf",
     "locked": true,
     "schema_version": 3,
     "solution": false
    }
   },
   "source": [
    "#### Klauzula `finally:`\n",
    "Dodatkowa klauzula `finally:` \n",
    "- jest wykonywana niezależnie od tego, czy pojawił się wyjątek, czy też nie. \n",
    "- kod zawarty w tym bloku jest również wykonywany, gdy blok `try` zostanie „opuszczony” za pomocą instrukcji `break`, `continue` lub `return`. \n",
    "- instrukcja ta nie służy do przechwytywania błędów.\n",
    "- służy do definiowania działań, mających na celu dokonanie koniecznych porządków (ang. clean up actions), w praktycznych zastosowaniach jest przydatna do zwalniania zasobów zewnętrznych (takich jak pliki czy połączenia sieciowe) niezależnie od tego jak te zasoby były użyte."
   ]
  },
  {
   "cell_type": "code",
   "execution_count": null,
   "metadata": {},
   "outputs": [],
   "source": [
    "name = input('Podaj nazwę pliku: ')\n",
    "try:\n",
    "    f = open(name,'r')\n",
    "    text = f.read()\n",
    "except (IOError, EOFError, PermissionError):\n",
    "    print('Obsługa błędów I/O, EOF, prawa dostępu dla pliku', name)\n",
    "else:    \n",
    "    print(text)\n",
    "    f.close()\n",
    "finally:\n",
    "    print('Blok finally:')"
   ]
  },
  {
   "cell_type": "markdown",
   "metadata": {
    "deletable": false,
    "editable": false,
    "nbgrader": {
     "cell_type": "markdown",
     "checksum": "9ec55b5568f28f20e13cd3c904bcb13d",
     "grade": false,
     "grade_id": "cell-bb3d591d0a244ab0",
     "locked": true,
     "schema_version": 3,
     "solution": false
    }
   },
   "source": [
    "### Ćwiczenie 1\n",
    "Napisz funkcję `podziel()`, której argumentami formalnymi są dwie zmienne `x`, i `y`. W funkcji przechwyć wyjątki: \n",
    "\n",
    "- `TypeError` jeżeli podano niewłaściwe typy zmiennych `x` i `y`.\n",
    "- `ZeroDivisionError` jeżeli wystąpiło dzielenie przez zero.\n",
    "- Jeżeli wystąpi inny błąd wypisz komunikat `Nieznany błąd`."
   ]
  },
  {
   "cell_type": "code",
   "execution_count": 10,
   "metadata": {
    "deletable": false,
    "nbgrader": {
     "cell_type": "code",
     "checksum": "3f81e9d9b6b0d6430f625bad1401acc1",
     "grade": false,
     "grade_id": "cell-b60d08c239d85dcb",
     "locked": false,
     "schema_version": 3,
     "solution": true
    }
   },
   "outputs": [
    {
     "name": "stdout",
     "output_type": "stream",
     "text": [
      "Niewlasciwy typ x i y\n",
      "Dzielenie przez zero\n",
      "0.4\n"
     ]
    }
   ],
   "source": [
    "def podziel(x,y):\n",
    "# YOUR CODE HERE\n",
    "    try:\n",
    "        z = x / y\n",
    "    except TypeError:\n",
    "        print(\"Niewlasciwy typ x i y\")\n",
    "    except ZeroDivisionError:\n",
    "        print(\"Dzielenie przez zero\")\n",
    "    except:\n",
    "        print(\"Nieznany blad\")\n",
    "    else:\n",
    "        print(z)\n",
    "\n",
    "#raise NotImplementedError()\n",
    "podziel(2, 'a')\n",
    "podziel(2, 0)\n",
    "podziel(2, 5)"
   ]
  },
  {
   "cell_type": "markdown",
   "metadata": {
    "deletable": false,
    "editable": false,
    "nbgrader": {
     "cell_type": "markdown",
     "checksum": "e6aaa236f29f44f54734e11d46c6f462",
     "grade": false,
     "grade_id": "cell-bece87b3ef58b2a2",
     "locked": true,
     "schema_version": 3,
     "solution": false,
     "task": false
    }
   },
   "source": [
    "### Zgłaszanie wyjątków. Instrukcja `raise`. \n",
    "\n",
    "Składnia polecenia do samodzielnego zgłaszania wyjatków:\n",
    "```python \n",
    "raise wyjątek [, wartość]\n",
    "```\n",
    "\n",
    "__Uwaga:__ Taki zapis argumentu w nawiasach kwadratowych jak powyżej, __nie oznacza__, że kolejnym argumentem jest lista. Jest to przyjęta konwencja oznaczania argumentów opcjonalnych, których nie trzeba podawać przy wywoływaniu funkcji/metody.\n"
   ]
  },
  {
   "cell_type": "code",
   "execution_count": 11,
   "metadata": {},
   "outputs": [
    {
     "ename": "ValueError",
     "evalue": "Zła wartość zmiannej a",
     "output_type": "error",
     "traceback": [
      "\u001B[1;31m---------------------------------------------------------------------------\u001B[0m",
      "\u001B[1;31mValueError\u001B[0m                                Traceback (most recent call last)",
      "Input \u001B[1;32mIn [11]\u001B[0m, in \u001B[0;36m<cell line: 2>\u001B[1;34m()\u001B[0m\n\u001B[0;32m      1\u001B[0m a \u001B[38;5;241m=\u001B[39m \u001B[38;5;241m0\u001B[39m\n\u001B[0;32m      2\u001B[0m \u001B[38;5;28;01mif\u001B[39;00m a \u001B[38;5;241m==\u001B[39m \u001B[38;5;241m0\u001B[39m:\n\u001B[1;32m----> 3\u001B[0m     \u001B[38;5;28;01mraise\u001B[39;00m \u001B[38;5;167;01mValueError\u001B[39;00m(\u001B[38;5;124m\"\u001B[39m\u001B[38;5;124mZła wartość zmiannej a\u001B[39m\u001B[38;5;124m\"\u001B[39m)\n",
      "\u001B[1;31mValueError\u001B[0m: Zła wartość zmiannej a"
     ]
    }
   ],
   "source": [
    "a = 0\n",
    "if a == 0:\n",
    "    raise ValueError(\"Zła wartość zmiannej a\")  # zgłoszenie wyjątku"
   ]
  },
  {
   "cell_type": "markdown",
   "metadata": {
    "deletable": false,
    "editable": false,
    "nbgrader": {
     "cell_type": "markdown",
     "checksum": "f0d6600260f2938c30535ffcffb04316",
     "grade": false,
     "grade_id": "cell-90534c8f7c340857",
     "locked": true,
     "schema_version": 3,
     "solution": false,
     "task": false
    }
   },
   "source": [
    "Jeśli chcemy tylko zasygnalizować, że wystąpił wyjątek, ale nie chcemy go obsługiwać na danym poziomie tylko np. wyżej można użyć konstrukcji:\n",
    "\n",
    "```python\n",
    "    try:\n",
    "        wykonaj_instrukcje\n",
    "    except Error_1:\n",
    "        raise\n",
    "```"
   ]
  },
  {
   "cell_type": "code",
   "execution_count": 12,
   "metadata": {},
   "outputs": [
    {
     "name": "stdout",
     "output_type": "stream",
     "text": [
      "poziom 0\n",
      "\tpoziom 1\n",
      "\tpoziom 1: wyjątek\n",
      "poziom 0: wyjątek cześć\n"
     ]
    }
   ],
   "source": [
    "try:\n",
    "    print('poziom 0')\n",
    "    try:\n",
    "        print('\\tpoziom 1')\n",
    "        raise NameError(\"cześć\")\n",
    "    except NameError: # obsługa wyjątku\n",
    "        print('\\tpoziom 1: wyjątek')\n",
    "        raise         # zgłoszenie wyjątku do obsługi na \"poziomie 0\"\n",
    "except NameError as err:\n",
    "    print('poziom 0: wyjątek',err)"
   ]
  },
  {
   "cell_type": "markdown",
   "metadata": {
    "deletable": false,
    "editable": false,
    "nbgrader": {
     "cell_type": "markdown",
     "checksum": "5ef8b513aed0e23a4055fbb86da25bb7",
     "grade": false,
     "grade_id": "cell-fee998ec9e063ee6",
     "locked": true,
     "schema_version": 3,
     "solution": false
    }
   },
   "source": [
    "### Zgłaszanie wyjątków. Instrukcja `assert`. \n",
    "\n",
    "Składnia polecenia do samodzielnego zgłaszania wyjatków:\n",
    "```python \n",
    "assert warunek_testu [, wartość]\n",
    "```\n",
    "- Po instrukcji `assert` podajemy warunek, który chcemy testować. Opcjonalnie jako kolejny argument można podać komunikat, który zostanie wyswietlony podczas zgłaszania wyjątku. Należy wówczas `warunek_testu` objąć nawiasami.\n",
    "- Instrukcja `assert` testuje podany warunek i jeśli zwraca on `False` to zgłaszany jest wyjątek `AssertionError`.\n",
    "- Instrukcja używana do debugowania programu (wstawiania kodu debugującego)\n",
    "\n",
    "#### Przykład:"
   ]
  },
  {
   "cell_type": "code",
   "execution_count": 13,
   "metadata": {},
   "outputs": [
    {
     "ename": "AssertionError",
     "evalue": "Zła wartość zmiannej a",
     "output_type": "error",
     "traceback": [
      "\u001B[1;31m---------------------------------------------------------------------------\u001B[0m",
      "\u001B[1;31mAssertionError\u001B[0m                            Traceback (most recent call last)",
      "Input \u001B[1;32mIn [13]\u001B[0m, in \u001B[0;36m<cell line: 2>\u001B[1;34m()\u001B[0m\n\u001B[0;32m      1\u001B[0m a \u001B[38;5;241m=\u001B[39m \u001B[38;5;241m0\u001B[39m\n\u001B[1;32m----> 2\u001B[0m \u001B[38;5;28;01massert\u001B[39;00m (a \u001B[38;5;241m!=\u001B[39m \u001B[38;5;241m0\u001B[39m), \u001B[38;5;124m'\u001B[39m\u001B[38;5;124mZła wartość zmiannej a\u001B[39m\u001B[38;5;124m'\u001B[39m\n",
      "\u001B[1;31mAssertionError\u001B[0m: Zła wartość zmiannej a"
     ]
    }
   ],
   "source": [
    "a = 0\n",
    "assert (a != 0), 'Zła wartość zmiannej a'  # zgłoszenie wyjątku"
   ]
  },
  {
   "cell_type": "markdown",
   "metadata": {
    "deletable": false,
    "editable": false,
    "nbgrader": {
     "cell_type": "markdown",
     "checksum": "aafcfd8ed32d8272786f75394f3c13a1",
     "grade": false,
     "grade_id": "cell-c48377e517056671",
     "locked": true,
     "schema_version": 3,
     "solution": false,
     "task": false
    }
   },
   "source": [
    "### Wyjątki definiowane przez użytkownika. \n",
    "\n",
    "Można tworzyć swoje wyjątki poprzez utworzenie nowej klasy wyjątku (pochodna klasy `Exception`)\n",
    "- klasy związane z wyjątkami mogą być typowymi klasami, ale staramy się aby były raczej proste (zwykle oferują pewne atrybuty zawierające informacje nt. błędu)."
   ]
  },
  {
   "cell_type": "code",
   "execution_count": 14,
   "metadata": {},
   "outputs": [
    {
     "name": "stdout",
     "output_type": "stream",
     "text": [
      "Wystąpił mój wyjątek, wartość:  4\n"
     ]
    }
   ],
   "source": [
    "class MyError(Exception):\n",
    "    def __init__(self, value):\n",
    "        self.value = value\n",
    "    def __str__(self):\n",
    "        return repr(self.value) \n",
    "    \n",
    "try:\n",
    "    raise MyError(2*2)\n",
    "except MyError as err:\n",
    "    print('Wystąpił mój wyjątek, wartość: ', err.value)\n",
    "    \n",
    "#raise MyError('upss!')"
   ]
  },
  {
   "cell_type": "markdown",
   "metadata": {
    "deletable": false,
    "editable": false,
    "nbgrader": {
     "cell_type": "markdown",
     "checksum": "5087f94656a42ed88d5462f32b9cd309",
     "grade": false,
     "grade_id": "cell-264e0ef827d24c17",
     "locked": true,
     "schema_version": 3,
     "solution": false,
     "task": false
    }
   },
   "source": [
    "- tworząc moduł obsługujący wiele różnych błędów przyjętą praktyką jest utworzenie klasy bazowej dla wszystkich zgłaszanych przez moduł wyjątków i specyficznych podklas dla różnych sytuacji wyjątkowych\n",
    "\n",
    "\n",
    "\n",
    "```python\n",
    "class Error(Exception):\n",
    "    \"\"\"Base class for exceptions in this module.\"\"\"\n",
    "    pass\n",
    "\n",
    "class InputError(Error):\n",
    "    \"\"\"Exception raised for errors in the input.\n",
    "\n",
    "    Attributes:\n",
    "        expression -- input expression in which the error occurred\n",
    "        message -- explanation of the error\n",
    "    \"\"\"\n",
    "\n",
    "    def __init__(self, expression, message):\n",
    "        self.expression = expression\n",
    "        self.message = message\n",
    "\n",
    "class TransitionError(Error):\n",
    "    \"\"\"Raised when an operation attempts a state transition that's not allowed.\n",
    "\n",
    "    Attributes:\n",
    "        previous -- state at beginning of transition\n",
    "        next -- attempted new state\n",
    "        message -- explanation of why the specific transition is not allowed\n",
    "    \"\"\"\n",
    "\n",
    "    def __init__(self, previous, next, message):\n",
    "        self.previous = previous\n",
    "        self.next = next\n",
    "        self.message = message\n",
    "```"
   ]
  },
  {
   "cell_type": "markdown",
   "metadata": {
    "deletable": false,
    "editable": false,
    "nbgrader": {
     "cell_type": "markdown",
     "checksum": "82d91868678bd4a93b7a4b1ecd967b36",
     "grade": false,
     "grade_id": "cell-c1b64a85121f92f0",
     "locked": true,
     "schema_version": 3,
     "solution": false,
     "task": false
    }
   },
   "source": [
    "Klauzula `except` instrukcji `try` może zawierać również listę klas.\n",
    "\n",
    "Klasa w klauzuli `except` odpowiada zgłoszonemu wyjątkowi jeśli jest __tą samą klasą__ lub __klasą bazową__  (i nie inaczej - lista klas pochodnych w klauzuli except nie odpowiada wyjątkom, które są ich klasami bazowymi).\n",
    "\n",
    "Wynikiem przykładowego kodu będzie `B,C,D` (jeśli klauzula `except` byłaby odwrócona (tzn. `except B:` na pierwszym miejscu), program  wyświetliłby `B, B, B` - uruchamiany jest kod pierwszej pasującej klauzuli)"
   ]
  },
  {
   "cell_type": "code",
   "execution_count": 15,
   "metadata": {},
   "outputs": [
    {
     "name": "stdout",
     "output_type": "stream",
     "text": [
      "B\n",
      "C\n",
      "D\n"
     ]
    }
   ],
   "source": [
    "class B(Exception): # klasa bazowa dla zgłaszanych w module wyjątków\n",
    "    pass\n",
    "\n",
    "class C(B):\n",
    "    pass\n",
    "\n",
    "class D(C):\n",
    "    pass\n",
    "\n",
    "for cls in [B, C, D]:\n",
    "    \n",
    "    try:\n",
    "        raise cls()\n",
    "    except D:\n",
    "        print(\"D\")\n",
    "    except C:\n",
    "        print(\"C\")\n",
    "    except B:\n",
    "        print(\"B\")"
   ]
  },
  {
   "cell_type": "markdown",
   "metadata": {
    "deletable": false,
    "editable": false,
    "nbgrader": {
     "cell_type": "markdown",
     "checksum": "9b7768a893c76928d0435acd4289dcf2",
     "grade": false,
     "grade_id": "cell-e8f0fee5edaeafc1",
     "locked": true,
     "schema_version": 3,
     "solution": false
    }
   },
   "source": [
    "## Zadanie 1\n",
    "\n",
    "Utwórzy klasy wyjątków `ZlyNominalException`, `NieznanaWalutaException` oraz `UderzylesSieWPalecException`.\n",
    "\n",
    "Dodaj obsługę wyjątków:\n",
    "- Do konstruktora klasy Moneta z laboratorium 06 – jeśli nominał monety nie jest jednym z dozwolonych, zgłoszony powinien być wyjątek `ZłyNominalException`.\n",
    "- Do funkcji pozwalającej na wrzucenie monety w klasie `Skarbonka` (lab.6 zadanie 3) – jeśli użytkownik wrzuca monetę innej waluty niż obsługiwana, to zgłoszony powinien być wyjątek `NieznanaWalutaException`.\n",
    "- Dodaj do klasy `Skarbonka` funkcję `rozbij()` (ps. ze skarbonki nie można wyjąć pojedynczej monety) usuwającą ze skarbonki wszystkie monety, ustawiającą pole `rozbita` na `True` oraz zwracającą monety. Do rozbitej skarbonki nie można wrzucać monet. Podczas rozbijania skarbonki jest szansa 1:10 na uderzenie swojego palca zamiast skarbonki - w takim wypadku zgłaszony jest wyjątek `UderzyłesSieWPalecException`.\n",
    "\n",
    "\n",
    "https://docs.python.org/3/tutorial/errors.html#raising-exceptions\n",
    "https://docs.python.org/3/tutorial/errors.html#user-defined-exceptions"
   ]
  },
  {
   "cell_type": "code",
   "execution_count": 3,
   "metadata": {
    "deletable": false,
    "nbgrader": {
     "cell_type": "code",
     "checksum": "b81d77ef3e3831026e681f8f18f7c058",
     "grade": true,
     "grade_id": "cell-07002b2861d7761e",
     "locked": false,
     "points": 1,
     "schema_version": 3,
     "solution": true
    }
   },
   "outputs": [],
   "source": [
    "# YOUR CODE HERE\n",
    "class ZlyNominalException(Exception):\n",
    "    def __init__(self, val):\n",
    "        self.val = val\n",
    "\n",
    "\n",
    "class NieznanaWalutaException(Exception):\n",
    "    def __init__(self, curr):\n",
    "        self.curr = curr\n",
    "\n",
    "\n",
    "class UderzylesSieWPalecException(Exception):\n",
    "    def __init__(self):\n",
    "        print('Uderzyles sie w palec!')\n",
    "#raise NotImplementedError()"
   ]
  },
  {
   "cell_type": "code",
   "execution_count": 4,
   "outputs": [
    {
     "data": {
      "text/plain": "Decimal('5')"
     },
     "execution_count": 4,
     "metadata": {},
     "output_type": "execute_result"
    }
   ],
   "source": [
    "from decimal import *\n",
    "# YOUR CODE HERE\n",
    "#raise NotImplementedError()\n",
    "getcontext().prec = 16\n",
    "class Moneta():\n",
    "\n",
    "    def __init__(self, sWartosc, sWaluta):\n",
    "        self.waluta = sWaluta\n",
    "        if sWartosc in [0.01, 0.02, 0.05, 0.1, 0.2, 0.5, 1, 2, 5]:\n",
    "            self.wartosc = Decimal(sWartosc)\n",
    "        else:\n",
    "            self.wartosc = 0\n",
    "            raise ZlyNominalException(sWartosc)\n",
    "\n",
    "    def pobierz_wartosc(self):\n",
    "        return self.wartosc\n",
    "\n",
    "    def pobierz_walute(self):\n",
    "        return self.waluta\n",
    "\n",
    "    def __str__(self):\n",
    "        return f'Moneta {self.wartosc} {self.waluta}'\n",
    "\n",
    "    def __repr__(self):\n",
    "        return f\"Moneta({self.wartosc}, '{self.waluta}')\"\n",
    "\n",
    "\n",
    "#przykładowe dodanie i pobranie jakiejś monety w walucie PLN\n",
    "#...\n",
    "m2 = Moneta(2,'PLN')\n",
    "m5 = Moneta(5,'PLN')\n",
    "#m6 = Moneta(6,'PLN')\n",
    "m5.pobierz_wartosc()"
   ],
   "metadata": {
    "collapsed": false,
    "pycharm": {
     "name": "#%%\n"
    }
   }
  },
  {
   "cell_type": "code",
   "execution_count": 5,
   "outputs": [
    {
     "name": "stdout",
     "output_type": "stream",
     "text": [
      "suma: 7\n",
      "Wyciagam z przechowywacza: 2\n",
      "Nie ma takiej monety\n",
      "Nie mozna wyciagnac pojedynczej monety\n",
      "5\n",
      "2\n",
      "5\n",
      "Nie mozna dodac monety do rozbitej skarbonki!\n"
     ]
    }
   ],
   "source": [
    "# YOUR CODE HERE\n",
    "#raise NotImplementedError()\n",
    "import random\n",
    "class PrzechowywaczMonet:\n",
    "    def __init__(self, lis : list):\n",
    "        self._lista = []\n",
    "        self._waluta = lis\n",
    "\n",
    "    def dodaj_monete(self, moneta : Moneta):\n",
    "        if isinstance(moneta, Moneta):\n",
    "            if moneta.pobierz_walute() in self._waluta:\n",
    "                self._lista.append(moneta)\n",
    "            else:\n",
    "                print(\"Nieznana moneta\")\n",
    "                raise NieznanaWalutaException(moneta.pobierz_walute())\n",
    "        else:\n",
    "            print(\"Przeslany obiekt nie jest moneta\")\n",
    "\n",
    "\n",
    "    def suma(self):\n",
    "        suma = 0\n",
    "        for _ in self._lista:\n",
    "            suma += _.pobierz_wartosc()\n",
    "        return suma\n",
    "\n",
    "\n",
    "    def zwroc_monete(self, x):\n",
    "        for _ in self._lista:\n",
    "            if _.pobierz_wartosc() == x:\n",
    "                self._lista.remove(_)\n",
    "                return _\n",
    "        else:\n",
    "            print(\"Nie ma takiej monety\")\n",
    "\n",
    "\n",
    "class Skarbonka(PrzechowywaczMonet):\n",
    "    def __init__(self, lis : list):\n",
    "        super().__init__(lis)\n",
    "        self.rozbita = False\n",
    "\n",
    "\n",
    "    def dodaj_monete(self, moneta : Moneta):\n",
    "        if not self.rozbita:\n",
    "            if isinstance(moneta, Moneta):\n",
    "                if moneta.pobierz_walute() in self._waluta:\n",
    "                    self._lista.append(moneta)\n",
    "                else:\n",
    "                    print(\"Nieznana moneta\")\n",
    "                    raise NieznanaWalutaException(moneta.pobierz_walute())\n",
    "            else:\n",
    "                print(\"Przeslany obiekt nie jest moneta\")\n",
    "        else:\n",
    "            print(\"Nie mozna dodac monety do rozbitej skarbonki!\")\n",
    "\n",
    "    def zwroc_monete(self, x):\n",
    "        for _ in self._lista:\n",
    "            if _.pobierz_wartosc() == x:\n",
    "                if len(self._lista) == 1:\n",
    "                    print(\"Nie mozna wyciagnac pojedynczej monety\")\n",
    "                    return\n",
    "                self._lista.remove(_)\n",
    "                return _.pobierz_wartosc()\n",
    "        else:\n",
    "            print(\"Nie ma takiej monety\")\n",
    "\n",
    "\n",
    "    def rozbij(self):\n",
    "        _ = self._lista.copy()\n",
    "        self.rozbita = True\n",
    "        if random.randint(1, 10) == 1:\n",
    "            raise UderzylesSieWPalecException()\n",
    "        self._lista.clear()\n",
    "        return _\n",
    "\n",
    "\n",
    "\n",
    "#przykładowy scenariusz użycia\n",
    "waluty = [\"PLN\", \"USD\", \"EUR\"]\n",
    "przechowywacz = PrzechowywaczMonet(waluty)\n",
    "przechowywacz.dodaj_monete(m5)\n",
    "przechowywacz.dodaj_monete(m2)\n",
    "print(\"suma:\", przechowywacz.suma())\n",
    "\n",
    "w1 = przechowywacz.zwroc_monete(2)\n",
    "if w1:\n",
    "    print(\"Wyciagam z przechowywacza:\" ,w1.pobierz_wartosc())\n",
    "w2 = przechowywacz.zwroc_monete(2)\n",
    "if w2:\n",
    "    print(\"Wyciagam z przechowywacza:\",w2.pobierz_wartosc())\n",
    "\n",
    "skarbonka = Skarbonka(waluty)\n",
    "skarbonka.dodaj_monete(m5)\n",
    "k = skarbonka.zwroc_monete(5)\n",
    "\n",
    "\n",
    "skarbonka.dodaj_monete(m2)\n",
    "skarbonka.dodaj_monete(m5)\n",
    "for i in skarbonka.rozbij():\n",
    "    print(i.pobierz_wartosc())\n",
    "\n",
    "skarbonka.dodaj_monete(m2)"
   ],
   "metadata": {
    "collapsed": false,
    "pycharm": {
     "name": "#%%\n"
    }
   }
  },
  {
   "cell_type": "markdown",
   "metadata": {
    "deletable": false,
    "editable": false,
    "nbgrader": {
     "cell_type": "markdown",
     "checksum": "bcbdcdec34ee81d7c364a25e96a0cdb0",
     "grade": false,
     "grade_id": "cell-9a0be2fbb9c21bf3",
     "locked": true,
     "schema_version": 3,
     "solution": false
    }
   },
   "source": [
    "## Zadanie 2\n",
    "Do klasy Moneta dodaj metody:\n",
    "- `__str__()` zwracającą opis danej monety – czytelne informacje dla użytkownika (w tym jej wartość i walutę),\n",
    "- `__repr__()` zwracającą tekstową reprezentację monety – informacje do debugowania, które po skopiowaniu i wklejeniu do interpretera utworzą identyczny obiekt klasy Moneta.\n",
    "\n",
    "Która metoda zostanie wywołana dla `str(Moneta(2,'PLN'))`?\n",
    "\n",
    "Która metoda zostanie wywołana dla `repr(Moneta(5,'PLN'))`?\n",
    "\n",
    "Co zostanie wypisane dla `str([Moneta(1,'PLN'), Moneta(1,'PLN'), Moneta(2,'PLN')])`?\n",
    "\n",
    "Co zostanie wypisane dla `repr([Moneta(1,'PLN'), Moneta(1,'PLN'), Moneta(2,'PLN')])`?\n",
    "\n"
   ]
  },
  {
   "cell_type": "code",
   "execution_count": 6,
   "metadata": {
    "deletable": false,
    "nbgrader": {
     "cell_type": "code",
     "checksum": "a621cd80665fbae367cd562f810e246a",
     "grade": true,
     "grade_id": "cell-4e9dc8765382deaf",
     "locked": false,
     "points": 1,
     "schema_version": 3,
     "solution": true
    }
   },
   "outputs": [
    {
     "name": "stdout",
     "output_type": "stream",
     "text": [
      "Moneta 2 PLN\n",
      "Moneta(5, 'PLN')\n",
      "[Moneta(1, 'PLN'), Moneta(1, 'PLN'), Moneta(2, 'PLN')]\n",
      "[Moneta(1, 'PLN'), Moneta(1, 'PLN'), Moneta(2, 'PLN')]\n"
     ]
    }
   ],
   "source": [
    "# YOUR CODE HERE\n",
    "print(str(Moneta(2, 'PLN')))\n",
    "print(repr(Moneta(5, 'PLN')))\n",
    "print(str([Moneta(1,'PLN'), Moneta(1,'PLN'), Moneta(2,'PLN')]))\n",
    "print(repr([Moneta(1,'PLN'), Moneta(1,'PLN'), Moneta(2,'PLN')]))\n",
    "#raise NotImplementedError()"
   ]
  },
  {
   "cell_type": "markdown",
   "metadata": {
    "deletable": false,
    "editable": false,
    "nbgrader": {
     "cell_type": "markdown",
     "checksum": "e48c8b82c7ae0bfddf18e77dc1fb4e5c",
     "grade": false,
     "grade_id": "cell-c12f33b297cd92a6",
     "locked": true,
     "schema_version": 3,
     "solution": false
    }
   },
   "source": [
    "## Zadanie 3\n",
    "Napisz funkcję ładującą listę monet z pliku `csv`, którego format jest następujący:\n",
    "\n",
    "`[nominał],[liczba monet danego nominału]`\n",
    "\n",
    "Utwórz klasę wyjątku `ListaMonetException` przechowującą listę monet - wyjątek ten będzie używany do zwracania tych monet, które udało się wczytać z pliku, klasę `ZlyFormatPlikuException` dziedziczącą po niej, oraz zmodyfikuj `ZlyNominalException` tak, aby też dziedziczył po `ListaMonetException`.\n",
    "\n",
    "W funkcji wczytującej utwórz pustą listę. Następnie w bloku `try` otwórz plik, wczytaj każdą linię i podziel ją przy pomocy metody `split`. Utwórz obiekty klasy `Moneta` o odczytanym nominale i dodaj je do listy. \n",
    "\n",
    "Jeśli w linii jest inna liczba wartości niż 2, rzuć wyjątek `ZlyFormatPlikuException` z pustą listą. \n",
    "\n",
    "Jeśli w pliku jest moneta o nieobsługiwanym nominale, rzuć wyjątek `ZlyNominalException` z listą wczytanych monet. \n",
    "\n",
    "Jeśli w trakcie działania funkcji został rzucony dowolny wyjątek, przekaż go dalej. W przeciwnym razie wypisz informację o poprawnym wczytaniu, posortuj monety po nominale rosnąco i zwróć listę wczytanych monet (wykorzystaj `else` dla `try`). Pamiętaj o zamknięciu pliku (wykorzystaj `finally`).\n",
    "\n",
    "Przykładowy plik zawierający 6+4 monet o nominale 1zł, 14 monet o nominale 2zł i 3 monety o nominale 5zł:\n",
    "\n",
    "1,6\n",
    "\n",
    "2,14\n",
    "\n",
    "1,4\n",
    "\n",
    "5,3\n",
    "\n",
    "\n",
    "Jaki wyjątek jest rzucany przy próbie otwarcia nieistniejącego pliku?\n",
    "\n",
    "https://docs.python.org/3/library/csv.html?highlight=import%20csv\n",
    "\n",
    "https://docs.python.org/3/tutorial/errors.html#defining-clean-up-actions\n"
   ]
  },
  {
   "cell_type": "code",
   "execution_count": 8,
   "metadata": {
    "deletable": false,
    "nbgrader": {
     "cell_type": "code",
     "checksum": "bcf44c536743e9cd6f8a5c840780fb28",
     "grade": true,
     "grade_id": "cell-f9abfb50896389c7",
     "locked": false,
     "points": 1,
     "schema_version": 3,
     "solution": true
    }
   },
   "outputs": [
    {
     "name": "stdout",
     "output_type": "stream",
     "text": [
      "[[Moneta(1, 'PLN'), Moneta(1, 'PLN'), Moneta(1, 'PLN'), Moneta(1, 'PLN'), Moneta(1, 'PLN'), Moneta(1, 'PLN')], [Moneta(2, 'PLN'), Moneta(2, 'PLN'), Moneta(2, 'PLN'), Moneta(2, 'PLN'), Moneta(2, 'PLN'), Moneta(2, 'PLN'), Moneta(2, 'PLN'), Moneta(2, 'PLN'), Moneta(2, 'PLN'), Moneta(2, 'PLN'), Moneta(2, 'PLN'), Moneta(2, 'PLN'), Moneta(2, 'PLN'), Moneta(2, 'PLN')], [Moneta(1, 'PLN'), Moneta(1, 'PLN'), Moneta(1, 'PLN'), Moneta(1, 'PLN')], [Moneta(5, 'PLN'), Moneta(5, 'PLN'), Moneta(5, 'PLN')]]\n"
     ]
    }
   ],
   "source": [
    "# YOUR CODE HERE\n",
    "#raise NotImplementedError()\n",
    "import csv\n",
    "class ListaMonetException(Exception):\n",
    "    def __init__(self, coins):\n",
    "        self._coins = coins\n",
    "\n",
    "\n",
    "class ZlyFormatPlikuException(ListaMonetException):\n",
    "    def __init__(self):\n",
    "        super().__init__([])\n",
    "\n",
    "\n",
    "class ZlyNominalException(ListaMonetException):\n",
    "    def __init__(self, coins):\n",
    "        super().__init__(coins)\n",
    "\n",
    "\n",
    "def fun(file='monety.csv'):\n",
    "    try:\n",
    "        csv_file = open(file)\n",
    "        csv_reader = csv.reader(csv_file, delimiter=',')\n",
    "        coins = []\n",
    "        for i in csv_reader:\n",
    "            if len(i) != 2 or i[1] == '':\n",
    "                raise ZlyFormatPlikuException()\n",
    "            i = Decimal(i[0]), int(i[1])\n",
    "            if i[0] not in [0.01, 0.02, 0.05, 0.1, 0.2, 0.5, 1, 2, 5]:\n",
    "                raise ZlyNominalException(coins)\n",
    "            coins.append([Moneta(i[0], \"PLN\")]*i[1])\n",
    "        return coins\n",
    "    except ListaMonetException:\n",
    "        raise\n",
    "    finally:\n",
    "        csv_file.close()\n",
    "\n",
    "def fun_3(file='monety.csv'):\n",
    "    try:\n",
    "        coins = fun(file)\n",
    "        print(coins)\n",
    "    except ZlyFormatPlikuException:\n",
    "        print(\"Niepoprawny format pliku\")\n",
    "    except ZlyNominalException:\n",
    "        print(\"Nie ma takiego nominalu\")\n",
    "fun_3()"
   ]
  },
  {
   "cell_type": "markdown",
   "metadata": {
    "deletable": false,
    "editable": false,
    "nbgrader": {
     "cell_type": "markdown",
     "checksum": "6ce0a5016841f7521671ed61223acbff",
     "grade": false,
     "grade_id": "cell-7083f6bf70bee9b3",
     "locked": true,
     "schema_version": 3,
     "solution": false,
     "task": false
    }
   },
   "source": [
    "## Zadanie 4\n",
    "Utwórz obiekt skarbonki. Zmodyfikuj funkcję z zadania 3 tak, aby do wczytywania linii z pliku wykorzystała konstrukcję `with ... as ...:`. Napisz funkcję wczytującą listę monet z pliku `monety.csv`. Jeśli podczas odczytywania zostanie rzucony dowolny wyjątek, wypisz na ekran wiadomość `\"Problem ze wczytaniem listy monet\"` i przerwij działanie programu. W przeciwnym razie wrzuć wczytane monety do skarbonki i ją rozbij. Jeśli uderzysz się w palec, otwórz plik `pamiętnik.txt` i dopisz do niego aktualną datę, czas (`moduł datetime`) i wiadomość `\"Drogi pamiętniczku, mój palec znowu napotkał młotek na swej drodze. Bolało.\"`. Wykorzystaj jeden blok `try`.\n",
    "\n",
    "https://docs.python.org/3/tutorial/errors.html#predefined-clean-up-actions\n",
    "\n",
    "https://docs.python.org/3/library/datetime.html?highlight=import%20datetime"
   ]
  },
  {
   "cell_type": "code",
   "execution_count": null,
   "metadata": {
    "deletable": false,
    "nbgrader": {
     "cell_type": "code",
     "checksum": "19c885cb172830c33a1a9001190e1c4b",
     "grade": true,
     "grade_id": "cell-fb77ca19bb2b3d52",
     "locked": false,
     "points": 1,
     "schema_version": 3,
     "solution": true,
     "task": false
    }
   },
   "outputs": [],
   "source": [
    "# YOUR CODE HERE\n",
    "#raise NotImplementedError()"
   ]
  },
  {
   "cell_type": "code",
   "execution_count": 14,
   "metadata": {},
   "outputs": [
    {
     "name": "stdout",
     "output_type": "stream",
     "text": [
      "Moneta 1 PLN\n",
      "Moneta 2 PLN\n",
      "Moneta 1 PLN\n",
      "Moneta 5 PLN\n",
      "Moneta 1 PLN\n",
      "Moneta 2 PLN\n",
      "Moneta 1 PLN\n",
      "Moneta 5 PLN\n",
      "Moneta 1 PLN\n",
      "Moneta 2 PLN\n",
      "Moneta 1 PLN\n",
      "Moneta 5 PLN\n",
      "Moneta 1 PLN\n",
      "Moneta 2 PLN\n",
      "Moneta 1 PLN\n",
      "Moneta 5 PLN\n",
      "Moneta 1 PLN\n",
      "Moneta 2 PLN\n",
      "Moneta 1 PLN\n",
      "Moneta 5 PLN\n",
      "Moneta 1 PLN\n",
      "Moneta 2 PLN\n",
      "Moneta 1 PLN\n",
      "Moneta 5 PLN\n",
      "Moneta 1 PLN\n",
      "Moneta 2 PLN\n",
      "Moneta 1 PLN\n",
      "Moneta 5 PLN\n",
      "Uderzyles sie w palec!\n"
     ]
    }
   ],
   "source": [
    "from datetime import datetime\n",
    "def fun(file='monety.csv'):\n",
    "    with open(file) as csv_file:\n",
    "        csv_reader = csv.reader(csv_file, delimiter=',')\n",
    "        coins = []\n",
    "        for i in csv_reader:\n",
    "            if len(i) != 2 or i[1] == '':\n",
    "                raise ZlyFormatPlikuException()\n",
    "            i = Decimal(i[0]), i[1]\n",
    "            if i[0] not in [0.01, 0.02, 0.05, 0.1, 0.2, 0.5, 1, 2, 5]:\n",
    "                raise ZlyNominalException(coins)\n",
    "            coins.append(Moneta(i[0], \"PLN\"))\n",
    "        return coins\n",
    "\n",
    "def fun_4(file='monety.csv'):\n",
    "    try:\n",
    "        for _ in range(10):\n",
    "            coins = fun(file)\n",
    "            sk = Skarbonka([\"PLN\"])\n",
    "            for c in coins: sk.dodaj_monete(c)\n",
    "            for c in sk.rozbij(): print(c)\n",
    "    except ListaMonetException:\n",
    "        print(\"Problem ze wczytaniem listy monet\")\n",
    "        return\n",
    "    except UderzylesSieWPalecException:\n",
    "        with open('pamietnik.txt', 'a') as diary:\n",
    "            diary.write(f'{datetime.now()}: Drogi pamiętniczku, mój palec znowu napotkał'\n",
    "                        'na młotek na swojej drodze. Bolało.\\n')\n",
    "\n",
    "fun_4()"
   ]
  }
 ],
 "metadata": {
  "kernelspec": {
   "display_name": "Python 3 (ipykernel)",
   "language": "python",
   "name": "python3"
  },
  "language_info": {
   "codemirror_mode": {
    "name": "ipython",
    "version": 3
   },
   "file_extension": ".py",
   "mimetype": "text/x-python",
   "name": "python",
   "nbconvert_exporter": "python",
   "pygments_lexer": "ipython3",
   "version": "3.9.7"
  }
 },
 "nbformat": 4,
 "nbformat_minor": 2
}