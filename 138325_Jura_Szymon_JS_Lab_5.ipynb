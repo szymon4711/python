{
 "cells": [
  {
   "cell_type": "markdown",
   "metadata": {},
   "source": [
    "# Języki symboliczne - rok akademicki 2021/2022\n",
    "\n",
    "Przed rozpoczęciem pracy z notatnikiem zmień jego nazwę zgodnie z wzorem: `NrAlbumu_Nazwisko_Imie_PoprzedniaNazwa`\n",
    "\n",
    "Przed wysłaniem notatnika **upewnij się jeszcze raz** że zmieniłeś nazwę i że rozwiązałeś wszystkie zadania/ćwiczenia, w szczególności, że uzupełniłeś wszystkie pola `YOUR CODE HERE` oraz `YOUR ANSWER HERE`."
   ]
  },
  {
   "cell_type": "markdown",
   "metadata": {
    "deletable": false,
    "editable": false,
    "nbgrader": {
     "cell_type": "markdown",
     "checksum": "c84903f994220a3ca870c71e9872b418",
     "grade": false,
     "grade_id": "cell-ec984842bc599089",
     "locked": true,
     "schema_version": 3,
     "solution": false
    }
   },
   "source": [
    "# Temat: Moduły. Pakiety. Praca z plikami tekstowymi.\n",
    "Zapoznaj się z treścią niniejszego notatnika czytając i wykonując go komórka po komórce. Wykonaj napotkane zadania/ćwiczenia.\n",
    "\n",
    "## Skrypty.\n",
    "\n",
    "Dowolny, poprawnie działający kod pisany np. w tym Notebook-u możemy zapisać w zewnętrznym pliku tekstowym. Plik tekstowy z rozszerzeniem `.py` zawierający kod w języku `Python` można potraktować na dwa sposoby: jako skrypt (program) lub moduł (jak np. moduł `math`).\n",
    "\n",
    "Zgodnie z konwencją, skrypty języka `Python` mają nazwy zakończone rozszerzeniem `.py`. Aby wykonać plik `test.py` należy w terminalu (konsoli, Anaconda Prompt) wykonać polecenie:\n",
    "\n",
    "`python test.py`\n",
    "\n",
    "__Uwaga:__ Należy być w folderze w którym jest plik `test.py` lub podać pełną ścieżkę do pliku."
   ]
  },
  {
   "cell_type": "markdown",
   "metadata": {
    "deletable": false,
    "editable": false,
    "nbgrader": {
     "cell_type": "markdown",
     "checksum": "70e31f051ae04807be3db5f94dfaf6c2",
     "grade": false,
     "grade_id": "cell-64bc7d8fdc6fd19a",
     "locked": true,
     "schema_version": 3,
     "solution": false,
     "task": false
    }
   },
   "source": [
    "W pliku `test.py` wpisz następujący kod:\n",
    "```python\n",
    "def suma(a,b):\n",
    "    return a+b\n",
    "\n",
    "def roznica(a,b):\n",
    "    return a-b\n",
    "\n",
    "PI = 3.1415\n",
    "\n",
    "print(suma(3,5))\n",
    "print(PI)\n",
    "```\n",
    "a następnie przejdź do konsoli i uruchom skrypt."
   ]
  },
  {
   "cell_type": "markdown",
   "metadata": {
    "deletable": false,
    "editable": false,
    "nbgrader": {
     "cell_type": "markdown",
     "checksum": "bae3d4052720994637114ff130c9f98c",
     "grade": false,
     "grade_id": "cell-dcdb4fdab9b2babc",
     "locked": true,
     "schema_version": 3,
     "solution": false,
     "task": false
    }
   },
   "source": [
    "### Ćwiczenie 1\n",
    "Napisz skrypt (plik `cw_1.py`), który pyta użytkownika:\n",
    "\n",
    "`Czy świeci słońce?`\n",
    "\n",
    "- Jeżeli użytkownik napisze `tak`, skrypt odpowiada: `Co tu robisz?`.\n",
    "- Jeżeli użytkownik napisze `nie`, skrypt odpowiada: `Pracuj dalej!`.\n",
    "- Jeżeli użytkownik napisze cokolwiek innego, skrypt odpowiada `Przepraszam, nie rozumiem`.\n",
    "\n",
    "__Uwaga__: Będąc np. w notatniku (takim zwykłym w Windows) zapisz plik używając kodowania UTF-8. Przejdź do konsoli i uruchom skrypt."
   ]
  },
  {
   "cell_type": "code",
   "execution_count": 2,
   "metadata": {
    "deletable": false,
    "nbgrader": {
     "cell_type": "code",
     "checksum": "90d5c41301cd02d69bb53bca3e6c1274",
     "grade": false,
     "grade_id": "cell-4e56e68e2ac12503",
     "locked": false,
     "schema_version": 3,
     "solution": true,
     "task": false
    }
   },
   "outputs": [
    {
     "name": "stdout",
     "output_type": "stream",
     "text": [
      "Czy swieci slonce?\n",
      "Przepraszam, nie rozumiem.\n"
     ]
    }
   ],
   "source": [
    "# YOUR CODE HERE\n",
    "print(\"Czy swieci slonce?\")\n",
    "x = input()\n",
    "if x == \"tak\":\n",
    "    print(\"Co tu robisz?\")\n",
    "elif x == \"nie\":\n",
    "    print(\"Pracuj dalej!\")\n",
    "else:\n",
    "    print(\"Przepraszam, nie rozumiem.\")\n",
    "#raise NotImplementedError()"
   ]
  },
  {
   "cell_type": "markdown",
   "metadata": {
    "deletable": false,
    "editable": false,
    "nbgrader": {
     "cell_type": "markdown",
     "checksum": "cedaa6d8ff2e4fbb7a763557c300f824",
     "grade": false,
     "grade_id": "cell-8857082ab63567a2",
     "locked": true,
     "schema_version": 3,
     "solution": false,
     "task": false
    }
   },
   "source": [
    "## Moduły.\n",
    "\n",
    "https://docs.python.org/3/tutorial/modules.html\n",
    "\n",
    "- Moduł jest plikiem (z rozszerzeniem .py) zawierającym definicje Pythona i jego instrukcje.\n",
    "- Moduł importujemy używając słowa kluczowego `import`: \n",
    "\n",
    "```python \n",
    "import nazwa_modułu\n",
    "```\n",
    "\n",
    "- Nazwa modułu jest nazwą pliku pozbawioną rozszerzenia .py.\n",
    "- Nazwa modułu dostępna jest w module jako wartość zmiennej globalnej `__name__`.\n",
    "- Jeżeli w module zdefiniowano funkcje o nazwie `f`, to aby jej użyć trzeba zastosować konstrukcje `nazwa_modulu.f()`.\n",
    "- Moduł może zawierać instrukcje wykonywalne obok definicji funkcji. Instrukcje te mają na celu inicjalizacje modułu - wykonywane są tylko w chwili importowania modułu po raz pierwszy.\n",
    "- Każdy z modułów posiada swoją prywatną tablicę symboli, która używana jest przez wszystkie funkcje zdefiniowane w module jako globalna tablica symboli.\n",
    "- Moduły mogą importować inne moduły.\n",
    "- Ze względów wydajnościowych moduły są importowane raz w trakcie sesji interpretera. W razie ich zmiany należy zrestartować interpreter lub przeładować pojedynczy moduł (używając metody `reload()` z modułu `imp`) np.: \n",
    "```python\n",
    "import imp; imp.reload(modulename)\n",
    "```\n",
    "- Wszystkie załadowane moduły możemy sprawdzić wypisując zmienną `sys.modules`\n",
    "\n",
    "Inne warianty instrukcji `import`: \n",
    "- importuje nazwy z modułu wprost do tablicy symboli,\n",
    "\n",
    "```python \n",
    "from nazwa_modulu import f\n",
    "```\n",
    "\n",
    "- importuje wszystkie nazwy z modułu za wyjątkiem tych, które zaczynają się od znaku `_`,\n",
    "\n",
    "```python \n",
    "from nazwa_modulu import *\n",
    "```\n",
    "\n",
    "- można nadawać własne aliasy do importowanych modułów.\n",
    "\n",
    "```python \n",
    "import nazwa_modulu as nowa_nazwa\n",
    "```"
   ]
  },
  {
   "cell_type": "code",
   "execution_count": 3,
   "metadata": {},
   "outputs": [
    {
     "name": "stdout",
     "output_type": "stream",
     "text": [
      "8\n",
      "3.1415\n"
     ]
    }
   ],
   "source": [
    "# wczytanie modułu test.py\n",
    "import test"
   ]
  },
  {
   "cell_type": "code",
   "execution_count": 4,
   "metadata": {},
   "outputs": [
    {
     "data": {
      "text/plain": "3.1415"
     },
     "execution_count": 4,
     "metadata": {},
     "output_type": "execute_result"
    }
   ],
   "source": [
    "# odwołanie do zmiennej PI w module test\n",
    "test.PI"
   ]
  },
  {
   "cell_type": "code",
   "execution_count": 5,
   "metadata": {},
   "outputs": [
    {
     "data": {
      "text/plain": "7"
     },
     "execution_count": 5,
     "metadata": {},
     "output_type": "execute_result"
    }
   ],
   "source": [
    "# odwołanie do funkcji suma w module test\n",
    "test.suma(2, 5) "
   ]
  },
  {
   "cell_type": "code",
   "execution_count": 6,
   "metadata": {},
   "outputs": [
    {
     "name": "stdout",
     "output_type": "stream",
     "text": [
      "3.1415\n"
     ]
    },
    {
     "data": {
      "text/plain": "1"
     },
     "execution_count": 6,
     "metadata": {},
     "output_type": "execute_result"
    }
   ],
   "source": [
    "import test as t  # alias t do modułu test\n",
    "print(t.PI)\n",
    "t.roznica(3, 2)"
   ]
  },
  {
   "cell_type": "markdown",
   "metadata": {
    "deletable": false,
    "editable": false,
    "nbgrader": {
     "cell_type": "markdown",
     "checksum": "65438c2a531116d88b6df0eae9dbea4d",
     "grade": false,
     "grade_id": "cell-a20540b9ac552fb5",
     "locked": true,
     "schema_version": 3,
     "solution": false,
     "task": false
    }
   },
   "source": [
    "Wybrane atrybuty dostępne dla modułów (np. modułu o nazwie `m.py`):\n",
    "\n",
    "- `m.__name__` nazwa modułu\n",
    "- `m._file__` plik z którego został załadowany moduł\n",
    "- `m.__dict__` słownik skojarzony z modułem"
   ]
  },
  {
   "cell_type": "code",
   "execution_count": 7,
   "metadata": {},
   "outputs": [
    {
     "name": "stdout",
     "output_type": "stream",
     "text": [
      "test\n",
      "C:\\Users\\szymo\\PycharmProjects\\pythonProject\\lab5\\test.py\n"
     ]
    },
    {
     "data": {
      "text/plain": "{'__name__': 'test',\n '__doc__': None,\n '__package__': '',\n '__loader__': <_frozen_importlib_external.SourceFileLoader at 0x1dba0c8ecd0>,\n '__spec__': ModuleSpec(name='test', loader=<_frozen_importlib_external.SourceFileLoader object at 0x000001DBA0C8ECD0>, origin='C:\\\\Users\\\\szymo\\\\PycharmProjects\\\\pythonProject\\\\lab5\\\\test.py'),\n '__file__': 'C:\\\\Users\\\\szymo\\\\PycharmProjects\\\\pythonProject\\\\lab5\\\\test.py',\n '__cached__': 'C:\\\\Users\\\\szymo\\\\PycharmProjects\\\\pythonProject\\\\lab5\\\\__pycache__\\\\test.cpython-39.pyc',\n '__builtins__': {'__name__': 'builtins',\n  '__doc__': \"Built-in functions, exceptions, and other objects.\\n\\nNoteworthy: None is the `nil' object; Ellipsis represents `...' in slices.\",\n  '__package__': '',\n  '__loader__': _frozen_importlib.BuiltinImporter,\n  '__spec__': ModuleSpec(name='builtins', loader=<class '_frozen_importlib.BuiltinImporter'>, origin='built-in'),\n  '__build_class__': <function __build_class__>,\n  '__import__': <function __import__>,\n  'abs': <function abs(x, /)>,\n  'all': <function all(iterable, /)>,\n  'any': <function any(iterable, /)>,\n  'ascii': <function ascii(obj, /)>,\n  'bin': <function bin(number, /)>,\n  'breakpoint': <function breakpoint>,\n  'callable': <function callable(obj, /)>,\n  'chr': <function chr(i, /)>,\n  'compile': <function compile(source, filename, mode, flags=0, dont_inherit=False, optimize=-1, *, _feature_version=-1)>,\n  'delattr': <function delattr(obj, name, /)>,\n  'dir': <function dir>,\n  'divmod': <function divmod(x, y, /)>,\n  'eval': <function eval(source, globals=None, locals=None, /)>,\n  'exec': <function exec(source, globals=None, locals=None, /)>,\n  'format': <function format(value, format_spec='', /)>,\n  'getattr': <function getattr>,\n  'globals': <function globals()>,\n  'hasattr': <function hasattr(obj, name, /)>,\n  'hash': <function hash(obj, /)>,\n  'hex': <function hex(number, /)>,\n  'id': <function id(obj, /)>,\n  'input': <bound method Kernel.raw_input of <ipykernel.ipkernel.IPythonKernel object at 0x000001DB9F99B190>>,\n  'isinstance': <function isinstance(obj, class_or_tuple, /)>,\n  'issubclass': <function issubclass(cls, class_or_tuple, /)>,\n  'iter': <function iter>,\n  'len': <function len(obj, /)>,\n  'locals': <function locals()>,\n  'max': <function max>,\n  'min': <function min>,\n  'next': <function next>,\n  'oct': <function oct(number, /)>,\n  'ord': <function ord(c, /)>,\n  'pow': <function pow(base, exp, mod=None)>,\n  'print': <function print>,\n  'repr': <function repr(obj, /)>,\n  'round': <function round(number, ndigits=None)>,\n  'setattr': <function setattr(obj, name, value, /)>,\n  'sorted': <function sorted(iterable, /, *, key=None, reverse=False)>,\n  'sum': <function sum(iterable, /, start=0)>,\n  'vars': <function vars>,\n  'None': None,\n  'Ellipsis': Ellipsis,\n  'NotImplemented': NotImplemented,\n  'False': False,\n  'True': True,\n  'bool': bool,\n  'memoryview': memoryview,\n  'bytearray': bytearray,\n  'bytes': bytes,\n  'classmethod': classmethod,\n  'complex': complex,\n  'dict': dict,\n  'enumerate': enumerate,\n  'filter': filter,\n  'float': float,\n  'frozenset': frozenset,\n  'property': property,\n  'int': int,\n  'list': list,\n  'map': map,\n  'object': object,\n  'range': range,\n  'reversed': reversed,\n  'set': set,\n  'slice': slice,\n  'staticmethod': staticmethod,\n  'str': str,\n  'super': super,\n  'tuple': tuple,\n  'type': type,\n  'zip': zip,\n  '__debug__': True,\n  'BaseException': BaseException,\n  'Exception': Exception,\n  'TypeError': TypeError,\n  'StopAsyncIteration': StopAsyncIteration,\n  'StopIteration': StopIteration,\n  'GeneratorExit': GeneratorExit,\n  'SystemExit': SystemExit,\n  'KeyboardInterrupt': KeyboardInterrupt,\n  'ImportError': ImportError,\n  'ModuleNotFoundError': ModuleNotFoundError,\n  'OSError': OSError,\n  'EnvironmentError': OSError,\n  'IOError': OSError,\n  'WindowsError': OSError,\n  'EOFError': EOFError,\n  'RuntimeError': RuntimeError,\n  'RecursionError': RecursionError,\n  'NotImplementedError': NotImplementedError,\n  'NameError': NameError,\n  'UnboundLocalError': UnboundLocalError,\n  'AttributeError': AttributeError,\n  'SyntaxError': SyntaxError,\n  'IndentationError': IndentationError,\n  'TabError': TabError,\n  'LookupError': LookupError,\n  'IndexError': IndexError,\n  'KeyError': KeyError,\n  'ValueError': ValueError,\n  'UnicodeError': UnicodeError,\n  'UnicodeEncodeError': UnicodeEncodeError,\n  'UnicodeDecodeError': UnicodeDecodeError,\n  'UnicodeTranslateError': UnicodeTranslateError,\n  'AssertionError': AssertionError,\n  'ArithmeticError': ArithmeticError,\n  'FloatingPointError': FloatingPointError,\n  'OverflowError': OverflowError,\n  'ZeroDivisionError': ZeroDivisionError,\n  'SystemError': SystemError,\n  'ReferenceError': ReferenceError,\n  'MemoryError': MemoryError,\n  'BufferError': BufferError,\n  'Warning': Warning,\n  'UserWarning': UserWarning,\n  'DeprecationWarning': DeprecationWarning,\n  'PendingDeprecationWarning': PendingDeprecationWarning,\n  'SyntaxWarning': SyntaxWarning,\n  'RuntimeWarning': RuntimeWarning,\n  'FutureWarning': FutureWarning,\n  'ImportWarning': ImportWarning,\n  'UnicodeWarning': UnicodeWarning,\n  'BytesWarning': BytesWarning,\n  'ResourceWarning': ResourceWarning,\n  'ConnectionError': ConnectionError,\n  'BlockingIOError': BlockingIOError,\n  'BrokenPipeError': BrokenPipeError,\n  'ChildProcessError': ChildProcessError,\n  'ConnectionAbortedError': ConnectionAbortedError,\n  'ConnectionRefusedError': ConnectionRefusedError,\n  'ConnectionResetError': ConnectionResetError,\n  'FileExistsError': FileExistsError,\n  'FileNotFoundError': FileNotFoundError,\n  'IsADirectoryError': IsADirectoryError,\n  'NotADirectoryError': NotADirectoryError,\n  'InterruptedError': InterruptedError,\n  'PermissionError': PermissionError,\n  'ProcessLookupError': ProcessLookupError,\n  'TimeoutError': TimeoutError,\n  'open': <function io.open(file, mode='r', buffering=-1, encoding=None, errors=None, newline=None, closefd=True, opener=None)>,\n  'copyright': Copyright (c) 2001-2021 Python Software Foundation.\n  All Rights Reserved.\n  \n  Copyright (c) 2000 BeOpen.com.\n  All Rights Reserved.\n  \n  Copyright (c) 1995-2001 Corporation for National Research Initiatives.\n  All Rights Reserved.\n  \n  Copyright (c) 1991-1995 Stichting Mathematisch Centrum, Amsterdam.\n  All Rights Reserved.,\n  'credits':     Thanks to CWI, CNRI, BeOpen.com, Zope Corporation and a cast of thousands\n      for supporting Python development.  See www.python.org for more information.,\n  'license': Type license() to see the full license text,\n  'help': Type help() for interactive help, or help(object) for help about object.,\n  'execfile': <function _pydev_imps._pydev_execfile.execfile(file, glob=None, loc=None)>,\n  'runfile': <function _pydev_bundle.pydev_umd.runfile(filename, args=None, wdir=None, namespace=None)>,\n  '__IPYTHON__': True,\n  'display': <function IPython.core.display_functions.display(*objs, include=None, exclude=None, metadata=None, transient=None, display_id=None, raw=False, clear=False, **kwargs)>,\n  'get_ipython': <bound method InteractiveShell.get_ipython of <ipykernel.zmqshell.ZMQInteractiveShell object at 0x000001DB9F99B6D0>>},\n 'suma': <function test.suma(a, b)>,\n 'roznica': <function test.roznica(a, b)>,\n 'PI': 3.1415,\n 'x': 'sa'}"
     },
     "execution_count": 7,
     "metadata": {},
     "output_type": "execute_result"
    }
   ],
   "source": [
    "print(t.__name__)  # nazwa modułu\n",
    "print(t.__file__)  # nazwa pliku\n",
    "t.__dict__  # słownik skojarzony z modułem"
   ]
  },
  {
   "cell_type": "markdown",
   "metadata": {
    "deletable": false,
    "editable": false,
    "nbgrader": {
     "cell_type": "markdown",
     "checksum": "23c46bfcbdf3a1ece0d21ebecb37fc10",
     "grade": false,
     "grade_id": "cell-59b308eb705e3a9f",
     "locked": true,
     "schema_version": 3,
     "solution": false,
     "task": false
    }
   },
   "source": [
    "Wszystkie załadowane moduły możemy sprawdzić wypisując zmienną `sys.modules`. W zmiennej `sys.path` mamy ścieżki do katalogów, które są przeszukiwane w celu znalezienia modułu."
   ]
  },
  {
   "cell_type": "code",
   "execution_count": 8,
   "metadata": {},
   "outputs": [
    {
     "name": "stdout",
     "output_type": "stream",
     "text": [
      "['C:\\\\Program Files\\\\JetBrains\\\\PyCharm 2021.3.2\\\\plugins\\\\python\\\\helpers-pro\\\\jupyter_debug', 'C:\\\\Program Files\\\\JetBrains\\\\PyCharm 2021.3.2\\\\plugins\\\\python\\\\helpers\\\\pydev', 'C:\\\\Users\\\\szymo\\\\PycharmProjects\\\\pythonProject\\\\lab5', 'C:\\\\Users\\\\szymo\\\\PycharmProjects\\\\pythonProject', 'C:\\\\Users\\\\szymo\\\\AppData\\\\Local\\\\Programs\\\\Python\\\\Python39\\\\python39.zip', 'C:\\\\Users\\\\szymo\\\\AppData\\\\Local\\\\Programs\\\\Python\\\\Python39\\\\DLLs', 'C:\\\\Users\\\\szymo\\\\AppData\\\\Local\\\\Programs\\\\Python\\\\Python39\\\\lib', 'C:\\\\Users\\\\szymo\\\\AppData\\\\Local\\\\Programs\\\\Python\\\\Python39', 'c:\\\\users\\\\szymo\\\\pycharmprojects\\\\pythonproject\\\\venv', '', 'c:\\\\users\\\\szymo\\\\pycharmprojects\\\\pythonproject\\\\venv\\\\lib\\\\site-packages', 'c:\\\\users\\\\szymo\\\\pycharmprojects\\\\pythonproject\\\\venv\\\\lib\\\\site-packages\\\\win32', 'c:\\\\users\\\\szymo\\\\pycharmprojects\\\\pythonproject\\\\venv\\\\lib\\\\site-packages\\\\win32\\\\lib', 'c:\\\\users\\\\szymo\\\\pycharmprojects\\\\pythonproject\\\\venv\\\\lib\\\\site-packages\\\\Pythonwin']\n"
     ]
    }
   ],
   "source": [
    "import sys\n",
    "sys.modules\n",
    "sys.path\n",
    "#sys.path.append('C:\\\\Users\\\\') # modyfikacja/dodanie katalogu do sys.path\n",
    "print(sys.path)"
   ]
  },
  {
   "cell_type": "markdown",
   "metadata": {
    "deletable": false,
    "editable": false,
    "nbgrader": {
     "cell_type": "markdown",
     "checksum": "27ad9972a70fb3cffbc5a795b0509f0d",
     "grade": false,
     "grade_id": "cell-91ce4aa904197b35",
     "locked": true,
     "schema_version": 3,
     "solution": false,
     "task": false
    }
   },
   "source": [
    "### Uruchamianie modułu jako skryptu.\n",
    "\n",
    "#### Funkcja `main` w Pythonie\n",
    "Każdy moduł definuje zmienną `__name__` - nazwę modułu. Na najwyższym poziomie interpretera znajduje się moduł `__main__`.\n",
    "W przypadku wykonywania pliku zmienna `__name__` przyjmuje wartość `__main__` , a w przypadku importu `nazwe_modułu`, dzięki\n",
    "temu z tego samego pliku możemy korzystać jak ze skryptu oraz jak z modułu.\n",
    "\n",
    "Jeżeli chcemy, aby program zmienił swoje działanie w zależności od tego czy został zaimportowany, czy też wykonuje się w module `__main__` możemy użyć następującego sposobu:\n",
    "\n",
    "```python\n",
    "if _name_ == '__main__':\n",
    "    #Tak - kod został uruchomiony jako program\n",
    "    blok_instrukcji program\n",
    "else:\n",
    "    #Nie - plik został zaimportowany jako moduł\n",
    "    blok_instrukcji moduł\n",
    "```"
   ]
  },
  {
   "cell_type": "markdown",
   "metadata": {
    "deletable": false,
    "editable": false,
    "nbgrader": {
     "cell_type": "markdown",
     "checksum": "077d254cd98094c27706ddd6558db40a",
     "grade": false,
     "grade_id": "cell-e25ffd898b01d1d4",
     "locked": true,
     "schema_version": 3,
     "solution": false,
     "task": false
    }
   },
   "source": [
    "###  Ćwiczenie 2.\n",
    "\n",
    "W pliku `test_1.py` zmodyfikuj kod do postaci:\n",
    "```python\n",
    "def suma(a,b):\n",
    "    return a+b\n",
    "\n",
    "def roznica(a,b):\n",
    "    return a-b\n",
    "\n",
    "PI = 3.1415\n",
    "\n",
    "if __name__ == '__main__':\n",
    "    #Tak - kod został uruchomiony jako program\n",
    "    print('Skrypt uruchomiony')\n",
    "    import sys \n",
    "    print(suma(int(sys.argv[1]), int(sys.argv[2])))\n",
    "    print(PI)\n",
    "else:\n",
    "    #Nie - plik został zaimportowany jako moduł\n",
    "    print('Moduł zaimportowany')\n",
    "```\n",
    "    \n",
    "a następnie zaimportuj moduł do notatnika oraz przejdź do konsoli i uruchom go jako skrypt poleceniem: `python test_1.py 6 7`."
   ]
  },
  {
   "cell_type": "code",
   "execution_count": 9,
   "metadata": {},
   "outputs": [
    {
     "name": "stdout",
     "output_type": "stream",
     "text": [
      "Moduł zaimportowany\n"
     ]
    }
   ],
   "source": [
    "import test_1"
   ]
  },
  {
   "cell_type": "code",
   "execution_count": 10,
   "metadata": {},
   "outputs": [
    {
     "data": {
      "text/plain": "3.1415"
     },
     "execution_count": 10,
     "metadata": {},
     "output_type": "execute_result"
    }
   ],
   "source": [
    "test_1.PI"
   ]
  },
  {
   "cell_type": "code",
   "execution_count": 11,
   "metadata": {},
   "outputs": [
    {
     "name": "stdout",
     "output_type": "stream",
     "text": [
      "Moduł zaimportowany\n"
     ]
    },
    {
     "data": {
      "text/plain": "<module 'test_1' from 'C:\\\\Users\\\\szymo\\\\PycharmProjects\\\\pythonProject\\\\lab5\\\\test_1.py'>"
     },
     "execution_count": 11,
     "metadata": {},
     "output_type": "execute_result"
    }
   ],
   "source": [
    "import imp\n",
    "imp.reload(test_1) #przeładowanie modułu test_1"
   ]
  },
  {
   "cell_type": "markdown",
   "metadata": {
    "deletable": false,
    "editable": false,
    "nbgrader": {
     "cell_type": "markdown",
     "checksum": "821fe9fe1fa25cb81d7ff0a4c34a3fed",
     "grade": false,
     "grade_id": "cell-7e79db94b1527224",
     "locked": true,
     "schema_version": 3,
     "solution": false,
     "task": false
    }
   },
   "source": [
    "#### „Skompilowane” pliki Pythona\n",
    "\n",
    "- w celu przyspieszenia ładowania modułów Python przechowuje ich skompilowane wersje w katalogu `__pycache__` pod nazwą `module.version.pyc` np. `test_1.cpython-38.pyc`.\n",
    "- skompilowane moduły są niezależne od platformy\n",
    "- w przypadku załadowania modułu z linii komend `cache` nie jest brany pod uwagę\n",
    "- nie jest brany pod uwagę również wtedy gdy nie ma pliku źródłowego danego modułu \n"
   ]
  },
  {
   "cell_type": "markdown",
   "metadata": {
    "deletable": false,
    "editable": false,
    "nbgrader": {
     "cell_type": "markdown",
     "checksum": "2b93e84b737fcc615492b54dabd3a02b",
     "grade": false,
     "grade_id": "cell-616c11f11c62ff28",
     "locked": true,
     "schema_version": 3,
     "solution": false,
     "task": false
    }
   },
   "source": [
    "#### Funkcja `dir()`\n",
    "\n",
    "- `dir(name)` zwraca nazwy zdefiniowane w module `name`.\n",
    "- `dir()` bez parametrów zwraca nazwy zdefiniowane w bieżącym module.\n",
    "- `dir()` nie zwraca nazw funkcji i zmiennych wbudowanych, są one dostępne po zaimportowaniu modułu `builtins`."
   ]
  },
  {
   "cell_type": "code",
   "execution_count": 12,
   "metadata": {},
   "outputs": [
    {
     "data": {
      "text/plain": "['In',\n 'Out',\n '_',\n '_10',\n '_11',\n '_4',\n '_5',\n '_6',\n '_7',\n '__',\n '___',\n '__builtin__',\n '__builtins__',\n '__doc__',\n '__loader__',\n '__name__',\n '__package__',\n '__spec__',\n '_dh',\n '_i',\n '_i1',\n '_i10',\n '_i11',\n '_i12',\n '_i2',\n '_i3',\n '_i4',\n '_i5',\n '_i6',\n '_i7',\n '_i8',\n '_i9',\n '_ih',\n '_ii',\n '_iii',\n '_oh',\n '_pydevd_bundle',\n 'exit',\n 'get_ipython',\n 'imp',\n 'pydev_jupyter_vars',\n 'quit',\n 'remove_imported_pydev_package',\n 'sys',\n 't',\n 'test',\n 'test_1',\n 'x']"
     },
     "execution_count": 12,
     "metadata": {},
     "output_type": "execute_result"
    }
   ],
   "source": [
    "dir()"
   ]
  },
  {
   "cell_type": "code",
   "execution_count": 13,
   "metadata": {},
   "outputs": [
    {
     "data": {
      "text/plain": "['ArithmeticError',\n 'AssertionError',\n 'AttributeError',\n 'BaseException',\n 'BlockingIOError',\n 'BrokenPipeError',\n 'BufferError',\n 'BytesWarning',\n 'ChildProcessError',\n 'ConnectionAbortedError',\n 'ConnectionError',\n 'ConnectionRefusedError',\n 'ConnectionResetError',\n 'DeprecationWarning',\n 'EOFError',\n 'Ellipsis',\n 'EnvironmentError',\n 'Exception',\n 'False',\n 'FileExistsError',\n 'FileNotFoundError',\n 'FloatingPointError',\n 'FutureWarning',\n 'GeneratorExit',\n 'IOError',\n 'ImportError',\n 'ImportWarning',\n 'IndentationError',\n 'IndexError',\n 'InterruptedError',\n 'IsADirectoryError',\n 'KeyError',\n 'KeyboardInterrupt',\n 'LookupError',\n 'MemoryError',\n 'ModuleNotFoundError',\n 'NameError',\n 'None',\n 'NotADirectoryError',\n 'NotImplemented',\n 'NotImplementedError',\n 'OSError',\n 'OverflowError',\n 'PendingDeprecationWarning',\n 'PermissionError',\n 'ProcessLookupError',\n 'RecursionError',\n 'ReferenceError',\n 'ResourceWarning',\n 'RuntimeError',\n 'RuntimeWarning',\n 'StopAsyncIteration',\n 'StopIteration',\n 'SyntaxError',\n 'SyntaxWarning',\n 'SystemError',\n 'SystemExit',\n 'TabError',\n 'TimeoutError',\n 'True',\n 'TypeError',\n 'UnboundLocalError',\n 'UnicodeDecodeError',\n 'UnicodeEncodeError',\n 'UnicodeError',\n 'UnicodeTranslateError',\n 'UnicodeWarning',\n 'UserWarning',\n 'ValueError',\n 'Warning',\n 'WindowsError',\n 'ZeroDivisionError',\n '__IPYTHON__',\n '__build_class__',\n '__debug__',\n '__doc__',\n '__import__',\n '__loader__',\n '__name__',\n '__package__',\n '__spec__',\n 'abs',\n 'all',\n 'any',\n 'ascii',\n 'bin',\n 'bool',\n 'breakpoint',\n 'bytearray',\n 'bytes',\n 'callable',\n 'chr',\n 'classmethod',\n 'compile',\n 'complex',\n 'copyright',\n 'credits',\n 'delattr',\n 'dict',\n 'dir',\n 'display',\n 'divmod',\n 'enumerate',\n 'eval',\n 'exec',\n 'execfile',\n 'filter',\n 'float',\n 'format',\n 'frozenset',\n 'get_ipython',\n 'getattr',\n 'globals',\n 'hasattr',\n 'hash',\n 'help',\n 'hex',\n 'id',\n 'input',\n 'int',\n 'isinstance',\n 'issubclass',\n 'iter',\n 'len',\n 'license',\n 'list',\n 'locals',\n 'map',\n 'max',\n 'memoryview',\n 'min',\n 'next',\n 'object',\n 'oct',\n 'open',\n 'ord',\n 'pow',\n 'print',\n 'property',\n 'range',\n 'repr',\n 'reversed',\n 'round',\n 'runfile',\n 'set',\n 'setattr',\n 'slice',\n 'sorted',\n 'staticmethod',\n 'str',\n 'sum',\n 'super',\n 'tuple',\n 'type',\n 'vars',\n 'zip']"
     },
     "execution_count": 13,
     "metadata": {},
     "output_type": "execute_result"
    }
   ],
   "source": [
    "import builtins\n",
    "dir(builtins)"
   ]
  },
  {
   "cell_type": "markdown",
   "metadata": {
    "deletable": false,
    "editable": false,
    "nbgrader": {
     "cell_type": "markdown",
     "checksum": "cf92105a258528b9964061a1a60dfce4",
     "grade": false,
     "grade_id": "cell-85b63f013963e727",
     "locked": true,
     "schema_version": 3,
     "solution": false,
     "task": false
    }
   },
   "source": [
    "## Pakiety.\n",
    "\n",
    "https://docs.python.org/3/tutorial/modules.html#packages\n",
    "\n",
    "- Pakiety są sposobem na uporządkowanie przestrzeni nazw modułów.\n",
    "- `A.B` - oznacza moduł składowy `\"B\"` pakietu `\"A\"`.\n",
    "- Pakiety są zorganizowane jako katalogi z zagnieżdżonymi pakietami (podkatalogami) i modułami. Moduły wewnątrz pakietu nadal są zwykłymi plikami `.py`.\n",
    "```\n",
    "sound/                        Top-level package\n",
    "      __init__.py               Initialize the sound package\n",
    "      formats/                  Subpackage for file format conversions\n",
    "              __init__.py\n",
    "              wavread.py\n",
    "              wavwrite.py\n",
    "              aiffread.py\n",
    "              aiffwrite.py\n",
    "              auread.py\n",
    "              auwrite.py\n",
    "              ...\n",
    "      effects/                  Subpackage for sound effects\n",
    "              __init__.py\n",
    "              echo.py\n",
    "              surround.py\n",
    "              reverse.py\n",
    "              ...\n",
    "```\n",
    "- pliki `__init__.py` są wymagane aby Python potraktował katalog jako zwierający pakiet (w najprostszym przypadku `__init__.py` może być puste lub zawierać kod inicjalizujący pakiet albo ustawiać zmienną `__all__`, np.: `__all__ = [\"echo\", \"surround\", \"reverse\"]` ).\n",
    "- Pakiet(y) importujemy używając słowa kluczowego `import`: \n",
    "\n",
    "```python \n",
    "import sound.effects.echo  #import pojedynczego moduły z pakietu\n",
    "sound.effects.echo.echofilter(input, output, delay=0.7, atten=4) #odwołujemy się do pakietu podając kompletną ścieżkę\n",
    "\n",
    "from sound.effects import echo  #alternatywny sposób wywołania pakietu\n",
    "echo.echofilter(input, output, delay=0.7, atten=4)  #wywołanie funkcji z pakietu\n",
    "\n",
    "from sound.effects.echo import echofilter  #importuje żądaną funkcję lub zmienną bezpośrednio\n",
    "echofilter(input, output, delay=0.7, atten=4)  #wywołanie funkcji z pakietu\n",
    "\n",
    "from package import *  #importuje wszystkie moduły z pakietu zdefiniowane jako lista __all__ w pliku __init__.py \n",
    "\n",
    "from package import item  #item może być zarówno modułem składowym, pakietem składowym lub nazwą jakiejś funkcji, klasy lub zmiennej. \n",
    "```\n",
    "\n"
   ]
  },
  {
   "cell_type": "markdown",
   "metadata": {
    "deletable": false,
    "editable": false,
    "nbgrader": {
     "cell_type": "markdown",
     "checksum": "424ed259fd376a971af66799aa4fe162",
     "grade": false,
     "grade_id": "cell-fef121eb55ddd48f",
     "locked": true,
     "schema_version": 3,
     "solution": false
    }
   },
   "source": [
    "## Praca z plikami tekstowymi.\n",
    "\n",
    "Do pracy z plikami/folderami przydatny może okazać sie moduł `os`. (https://docs.python.org/3/library/os.html)\n",
    "\n",
    "Np. aby sprawdzić scieżkę do folderu w którym aktualnie pracujemy należy wykonać polecenie."
   ]
  },
  {
   "cell_type": "code",
   "execution_count": 14,
   "metadata": {},
   "outputs": [
    {
     "data": {
      "text/plain": "'C:\\\\Users\\\\szymo\\\\PycharmProjects\\\\pythonProject\\\\lab5'"
     },
     "execution_count": 14,
     "metadata": {},
     "output_type": "execute_result"
    }
   ],
   "source": [
    "import os\n",
    "os.getcwd()"
   ]
  },
  {
   "cell_type": "markdown",
   "metadata": {
    "deletable": false,
    "editable": false,
    "nbgrader": {
     "cell_type": "markdown",
     "checksum": "2a9fa7802f9e5fcff5aad0714ffa7ea6",
     "grade": false,
     "grade_id": "cell-91aea7e919c6e47f",
     "locked": true,
     "schema_version": 3,
     "solution": false
    }
   },
   "source": [
    "#### Otwieranie i zamykanie pliku tekstowego:\n",
    "\n",
    "Składnia polecenia do otwierania pliku:\n",
    "```python \n",
    "f = open('sciezka\\nazwa_pliku','tryb')\n",
    "```\n",
    "Funkcja `open()` zwraca deskryptor pliku.\n",
    "\n",
    "Tryby otwierania pliku:\n",
    "- `r` – tylko do odczytu (plik musi istniec)\n",
    "- `w` – tylko do zapisu (plik nie musi istniec, natomiast istniejący plik o podanej nazwie zostanie nadpisany)\n",
    "- `a` – tylko do dopisywania (dowolna dana zapisana do pliku będzie dodana na jego koniec)\n",
    "- `r+` – zarówno do czytania jak i do pisania.\n",
    "- `x` - tylko utworzenie pliku, jesli istnieje to wyrzuci błąd.\n",
    "\n",
    "Argument tryb jest opcjonalny: w przypadku jego braku plik zostanie otwarty w trybie `r`.\n",
    "Do każdego trybu można dodać literę `b` co oznacza pracę w trybie binarnym (np. czytanie plików JPEG).\n",
    "\n",
    "Zamykanie pliku:\n",
    "```python \n",
    "f.close()\n",
    "```\n",
    "Funkcja ta zamyka plik oraz zwalnia wszystkie zasoby systemowe związane z otwarciem i obsługą tego pliku."
   ]
  },
  {
   "cell_type": "code",
   "execution_count": 15,
   "metadata": {},
   "outputs": [
    {
     "name": "stdout",
     "output_type": "stream",
     "text": [
      "<class '_io.TextIOWrapper'>\n"
     ]
    }
   ],
   "source": [
    "# otwarcie pliku do zapisu\n",
    "f = open('plik.txt', 'w')  # plik otwarty w bieżącym katalogu\n",
    "print(type(f))\n",
    "# zamykamy plik\n",
    "f.close()"
   ]
  },
  {
   "cell_type": "markdown",
   "metadata": {
    "deletable": false,
    "editable": false,
    "nbgrader": {
     "cell_type": "markdown",
     "checksum": "df650edf78d2dc316d6110430c4467b7",
     "grade": false,
     "grade_id": "cell-29ec44429e203f16",
     "locked": true,
     "schema_version": 3,
     "solution": false
    }
   },
   "source": [
    "#### Podstawowe metody obiektu `file`\n",
    "\n",
    "https://docs.python.org/3/library/io.html?highlight=file#io.IOBase\n",
    "\n",
    "- `closed` - atrybut przechowujący wartość logiczną `True` jeśli plik jest zamknięty, `False` w przeciwnym razie.\n",
    "- `close()` - zamyka plik.\n",
    "- `readable()` - Zwraca `True` jesli możliwe jest czytanie z pliku, w przeciwnym razie `False`.\n",
    "- `writable()` - Zwraca `True` jesli możliwe jest pisanie do pliku, w przeciwnym razie `False`.\n",
    "- `write(s)` - Zapisuje zawartość napisu `s` do pliku. Zwraca liczbe znaków zapisanych do pliku.\n",
    "- `writelines(ss)` - Zapisuje zawartość listy `ss` do pliku.\n",
    "- `read(size)` – Zwraca napis długości `size` początkowych znaków. Jeśli `size` opuszczone lub ujemne to czytana jest cała zawartość\n",
    "\n",
    "- `readline()` – Zwraca napis, którego zawartością jest pojedynczy wiersz przeczytany z pliku. Po przeczytaniu wszystkich wierszy pliku kolejne wywołanie zwraca pusty napis.\n",
    "- `readlines()` – Zwraca liste napisów, którymi są kolejne wiersze pliku, od pierwszego do ostatniego.\n",
    "- `f.seek(offset, whence=SEEK_SET)` – Zmiana pozycji w pliku. `offset` liczony względem pozycji wskazanej przez `whence`: `SEEK_SET` lub `0` - początek strumienia (domyślnie); przesunięcie powinno być zerowe lub dodatnie; `SEEK_CUR` lub `1` - aktualna pozycja strumienia; przesunięcie może być ujemne; `SEEK_END` lub `2` - koniec strumienia; offset jest zwykle ujemny\n",
    "- `tell( )` – Zwraca aktualną pozycję strumienia.\n"
   ]
  },
  {
   "cell_type": "code",
   "execution_count": 16,
   "metadata": {},
   "outputs": [],
   "source": [
    "# otwarcie pliku do zapisu\n",
    "f = open('plik.txt','w')\n",
    "# zapisujemy w pliku 5 lini tekstu\n",
    "f.write('linia 1\\n')\n",
    "f.write('linia 2\\n')\n",
    "f.write('linia 3\\n')\n",
    "f.write('linia 4\\n')\n",
    "f.write('linia 5\\n')\n",
    "# zapisujemy w pliku zawartość listy\n",
    "f.writelines(['linia 6\\n', 'linia 7\\n', 'linia 8\\n'])\n",
    "# zamykamy plik\n",
    "f.close()"
   ]
  },
  {
   "cell_type": "code",
   "execution_count": 17,
   "metadata": {},
   "outputs": [
    {
     "name": "stdout",
     "output_type": "stream",
     "text": [
      "linia 1\n",
      "linia 2\n",
      "linia 3\n",
      "linia 4\n",
      "linia 5\n",
      "linia 6\n",
      "linia 7\n",
      "linia 8\n",
      "\n"
     ]
    }
   ],
   "source": [
    "# otwarcie pliku do odczytu\n",
    "f = open('plik.txt','r')\n",
    "# czytanie całego pliku\n",
    "tekst = f.read()\n",
    "# zamykamy plik\n",
    "f.close()\n",
    "print(tekst)"
   ]
  },
  {
   "cell_type": "code",
   "execution_count": 18,
   "metadata": {},
   "outputs": [
    {
     "name": "stdout",
     "output_type": "stream",
     "text": [
      "linia 1\n",
      "\n",
      "linia 2\n",
      "\n",
      "linia 3\n",
      "\n",
      "linia 4\n",
      "\n",
      "linia 5\n",
      "\n",
      "linia 6\n",
      "\n",
      "linia 7\n",
      "\n"
     ]
    }
   ],
   "source": [
    "# otwarcie pliku do odczytu\n",
    "f = open('plik.txt','r')\n",
    "# czytanie linia po lini\n",
    "print(f.readline())\n",
    "print(f.readline())\n",
    "print(f.readline())\n",
    "print(f.readline())\n",
    "print(f.readline())\n",
    "print(f.readline())  # pusty string\n",
    "print(f.readline())  # pusty string\n",
    "# zamykamy plik\n",
    "f.close()"
   ]
  },
  {
   "cell_type": "code",
   "execution_count": 20,
   "metadata": {},
   "outputs": [
    {
     "name": "stdout",
     "output_type": "stream",
     "text": [
      "linia 1\n",
      "\n",
      "linia 2\n",
      "\n",
      "linia 3\n",
      "\n",
      "linia 4\n",
      "\n",
      "linia 5\n",
      "\n",
      "linia 6\n",
      "\n",
      "linia 7\n",
      "\n",
      "linia 8\n",
      "\n"
     ]
    }
   ],
   "source": [
    "# otwarcie pliku do odczytu\n",
    "f = open('plik.txt','r')\n",
    "# czytanie i wypisywanie linia po linii pętla for - iteracja po obiekcie file\n",
    "for line in f:\n",
    "    text = line\n",
    "    print(text)\n",
    "# zamykamy plik\n",
    "f.close()"
   ]
  },
  {
   "cell_type": "code",
   "execution_count": 21,
   "metadata": {},
   "outputs": [
    {
     "name": "stdout",
     "output_type": "stream",
     "text": [
      "False\n",
      "True\n",
      "['linia 1\\n', 'linia 2\\n', 'linia 3\\n', 'linia 4\\n', 'linia 5\\n', 'linia 6\\n', 'linia 7\\n', 'linia 8\\n']\n"
     ]
    }
   ],
   "source": [
    "# otwarcie pliku do odczytu\n",
    "f = open('plik.txt','r')\n",
    "print(f.writable())  # sprawdzenie czy plik otwarty do zapisu\n",
    "print(f.readable())  # sprawdzenie czy plik otwarty do odczytu\n",
    "print(f.readlines()) # czytanie całego pliku - lista napisów\n",
    "# zamykamy plik\n",
    "f.close()"
   ]
  },
  {
   "cell_type": "code",
   "execution_count": 22,
   "metadata": {},
   "outputs": [
    {
     "name": "stdout",
     "output_type": "stream",
     "text": [
      "linia 1\n",
      "linia 2\n",
      "linia 3\n",
      "linia 4\n",
      "linia 5\n",
      "linia 6\n",
      "linia 7\n",
      "linia 8\n",
      "linia 9\n",
      "linia 10\n",
      "\n"
     ]
    }
   ],
   "source": [
    "# otwarcie pliku do edycji (dopisywanie)\n",
    "f = open('plik.txt','a')\n",
    "f.write('linia 9\\n')\n",
    "f.write('linia 10\\n')\n",
    "f.close()\n",
    "\n",
    "f = open('plik.txt','r')\n",
    "tekst = f.read()\n",
    "f.close()\n",
    "print(tekst)"
   ]
  },
  {
   "cell_type": "code",
   "execution_count": 23,
   "metadata": {},
   "outputs": [
    {
     "name": "stdout",
     "output_type": "stream",
     "text": [
      "16\n",
      "b'0'\n",
      "4\n",
      "b'4'\n",
      "11\n",
      "b'd'\n"
     ]
    }
   ],
   "source": [
    "f = open('plik2.txt','wb')\n",
    "print(f.write(b'01234567abcdefgh')) #16\n",
    "f.close()\n",
    "\n",
    "f = open('plik2.txt','rb')\n",
    "print(f.read(1)) # b'0'\n",
    "print(f.seek(4)) #idź do 4-tego bajtu w pliku\n",
    "print(f.read(1)) # b'4'\n",
    "print(f.seek(-5,2)) #idź do 4-tego bajtu od końca\n",
    "print(f.read(1)) # b'd'\n",
    "f.close()"
   ]
  },
  {
   "cell_type": "markdown",
   "metadata": {
    "deletable": false,
    "editable": false,
    "nbgrader": {
     "cell_type": "markdown",
     "checksum": "15cceb181f22c1987ab232800d084878",
     "grade": false,
     "grade_id": "cell-4d2be82e17a4b8c0",
     "locked": true,
     "schema_version": 3,
     "solution": false
    }
   },
   "source": [
    "### Klauzula `with as`\n",
    "Aby nie musieć zawsze pamiętać o zamykaniu pliku można użyć klauzuli `with as`, wówczas po wyjściu z bloku `with` plik automatycznie zostanie zamknięty. Pamiętaj o wcięciach!."
   ]
  },
  {
   "cell_type": "code",
   "execution_count": 24,
   "metadata": {},
   "outputs": [
    {
     "name": "stdout",
     "output_type": "stream",
     "text": [
      "linia 1\n",
      "linia 2\n",
      "linia 3\n",
      "linia 4\n",
      "linia 5\n",
      "linia 6\n",
      "linia 7\n",
      "linia 8\n",
      "linia 9\n",
      "linia 10\n",
      "\n"
     ]
    },
    {
     "ename": "ValueError",
     "evalue": "I/O operation on closed file.",
     "output_type": "error",
     "traceback": [
      "\u001B[1;31m---------------------------------------------------------------------------\u001B[0m",
      "\u001B[1;31mValueError\u001B[0m                                Traceback (most recent call last)",
      "Input \u001B[1;32mIn [24]\u001B[0m, in \u001B[0;36m<cell line: 4>\u001B[1;34m()\u001B[0m\n\u001B[0;32m      2\u001B[0m     tekst \u001B[38;5;241m=\u001B[39m f\u001B[38;5;241m.\u001B[39mread()\n\u001B[0;32m      3\u001B[0m \u001B[38;5;28mprint\u001B[39m(tekst)\n\u001B[1;32m----> 4\u001B[0m \u001B[43mf\u001B[49m\u001B[38;5;241;43m.\u001B[39;49m\u001B[43mread\u001B[49m\u001B[43m(\u001B[49m\u001B[43m)\u001B[49m\n",
      "\u001B[1;31mValueError\u001B[0m: I/O operation on closed file."
     ]
    }
   ],
   "source": [
    "with open('plik.txt','r') as f:\n",
    "    tekst = f.read()\n",
    "print(tekst)\n",
    "f.read()  #error - plik już jest zamkniety "
   ]
  },
  {
   "cell_type": "markdown",
   "metadata": {
    "deletable": false,
    "editable": false,
    "nbgrader": {
     "cell_type": "markdown",
     "checksum": "1a5ba2c004b48ea0d5bc82ce3a12dd0c",
     "grade": false,
     "grade_id": "cell-bf8dddfe327e7dec",
     "locked": true,
     "schema_version": 3,
     "solution": false
    }
   },
   "source": [
    "### Ćwiczenie 4\n",
    "Otwórz plik tekstowy o nazwie `lab_5.txt`. \n",
    "Napisz program, który w wybranym pliku zamieni każde wystąpienie tekstu `\"Python\"` na tekst `\"Anaconda\"` i te zmiany zapisze w pliku `wynik.txt`."
   ]
  },
  {
   "cell_type": "code",
   "execution_count": 30,
   "metadata": {
    "deletable": false,
    "nbgrader": {
     "cell_type": "code",
     "checksum": "07007e12a3d9c3fc8e432b52f696e55b",
     "grade": false,
     "grade_id": "cell-625b50ad5d4e5ddd",
     "locked": false,
     "schema_version": 3,
     "solution": true
    }
   },
   "outputs": [],
   "source": [
    "# YOUR CODE HERE\n",
    "with open(\"lab_5.txt\", \"r\") as r:\n",
    "    with open(\"wynik.txt\", \"w\") as w:\n",
    "        text = r.read()\n",
    "        text_1 = text.replace(\"Python\", \"Anaconda\")\n",
    "        w.write(text_1)\n",
    "#raise NotImplementedError()"
   ]
  },
  {
   "cell_type": "markdown",
   "metadata": {
    "deletable": false,
    "editable": false,
    "nbgrader": {
     "cell_type": "markdown",
     "checksum": "168a7b69911bc8d5e91de097d3c9976a",
     "grade": false,
     "grade_id": "cell-7360cbcdbd921647",
     "locked": true,
     "schema_version": 3,
     "solution": false
    }
   },
   "source": [
    "### Ćwiczenie 5\n",
    "Napisz program (funkcję), który bazując na pliku tekstowym `dane.txt` zwróci liczbę wszystkich wierszy w tym pliku. Dla ustalonego wzorca (ciągu znaków) funkcja wypisze nr wiersza w którym występuje podany wzorzec oraz liczbę wierszy w których występuje wzorzec."
   ]
  },
  {
   "cell_type": "code",
   "execution_count": 50,
   "metadata": {
    "deletable": false,
    "nbgrader": {
     "cell_type": "code",
     "checksum": "13f4df275424728793731ff3a889e6b4",
     "grade": false,
     "grade_id": "cell-f8a91ff31ea65291",
     "locked": false,
     "schema_version": 3,
     "solution": true,
     "task": false
    }
   },
   "outputs": [
    {
     "name": "stdout",
     "output_type": "stream",
     "text": [
      "1\n",
      "3\n",
      "Ilosc wszystkich linii: 4\n",
      "Ilosc linii w ktorych wystepuje wzorzec: 2\n"
     ]
    }
   ],
   "source": [
    "wzorzec = 'przez' #szukany ciąg znaków\n",
    "# YOUR CODE HERE\n",
    "def fun(wzor : str):\n",
    "    count = 0\n",
    "    linie = 1\n",
    "    with open(\"dane.txt\", \"r\") as r:\n",
    "        for i in r:\n",
    "            if wzor in i:\n",
    "                print(linie)\n",
    "                count += 1\n",
    "            linie +=1\n",
    "    print(\"Ilosc wszystkich linii: %d\" % (linie-1))\n",
    "    print(\"Ilosc linii w ktorych wystepuje wzorzec: %d\" % count)\n",
    "\n",
    "\n",
    "fun(wzorzec)\n",
    "#raise NotImplementedError()"
   ]
  },
  {
   "cell_type": "markdown",
   "metadata": {
    "deletable": false,
    "editable": false,
    "nbgrader": {
     "cell_type": "markdown",
     "checksum": "e60e1b5e1abb7d3d5598db728554b2fe",
     "grade": false,
     "grade_id": "cell-16d4c94e4bf1db7c",
     "locked": true,
     "schema_version": 3,
     "solution": false
    }
   },
   "source": [
    "## Zadanie 1\n",
    "Utwórz moduł o nazwie np. `text.py` zawierający trzy funkcje:\n",
    "1. Wypisującą tekst wyrównany do lewej strony ekranu, przyjmującą jako argument maksymalną liczbę znaków mieszczącą się w linii (np. 80),\n",
    "2. Wypisującą tekst wyrównany do prawej strony ekranu, przyjmującą argument taki, jak w funkcji pierwszej,\n",
    "3. Wypisującą tekst wyrównany do środka ekranu, przyjmującą argument taki, jak w funkcji pierwszej.\n",
    "\n",
    "Zaimplementuj funkcje przy uzyciu najprostszych konstrukcji jezyka bez użycia dedykowanych - wbudowanych funkcji lub metod działających na stringach (dopuszczalne są tylko funkcje: `print`, `int`, `len`, `range`)\n",
    "\n",
    "Napisz program importujący ten moduł a następnie wypisujący tekst na kształt rozmowy dwóch osób w komunikatorze: \n",
    "- wycentrowany nagłówek \"Rozmowa z: Mietek\", \n",
    "- wyrównane do lewej wiadomości Mietka, \n",
    "- wyrównane do prawej wiadomości użytkownika.\n",
    "\n",
    "Przykład:\n",
    "```\n",
    "                               Rozmowa z: Mietek                               \n",
    "Mietek: Witaj, mój ulubiony kolego!\n",
    "                                                            Ja: Witaj nieznajomy\n",
    "                                       Ja: Jak mogę ci pomóc tego pięknego dnia?\n",
    "Mietek: Jeśli nie chcesz mojej zguby\n",
    "Mietek: To gotowca daj mi luby!\n",
    "                                                                        Ja: Nie.\n",
    "Mietek: To nie.\n",
    "```"
   ]
  },
  {
   "cell_type": "code",
   "execution_count": 4,
   "metadata": {
    "deletable": false,
    "nbgrader": {
     "cell_type": "code",
     "checksum": "3af902989be113809a75263160ee9b86",
     "grade": true,
     "grade_id": "cell-b753b0808ed69c27",
     "locked": false,
     "points": 1,
     "schema_version": 3,
     "solution": true
    }
   },
   "outputs": [
    {
     "name": "stdout",
     "output_type": "stream",
     "text": [
      "                                          Rozmowa z: Mietek                                          \n",
      "Mietek: Witaj, mój ulubiony kolego!\n",
      "                                                                                Ja: Witaj nieznajomy\n",
      "                                                           Ja: Jak mogę ci pomóc tego pięknego dnia?\n",
      "Mietek: Jeśli nie chcesz mojej zguby\n",
      "Mietek: To gotowca daj mi luby!\n",
      "                                                                                            Ja: Nie.\n",
      "Mietek: To nie.\n"
     ]
    }
   ],
   "source": [
    "# YOUR CODE HERE\n",
    "#Zawartosc pliku text.py\n",
    "\"\"\"def centerPrint(text, x=50):\n",
    "    x = (x - len(text) // 2)\n",
    "    print(\" \" * x + text + \" \" * x)\n",
    "\n",
    "\n",
    "def leftPrint(text, x=50):\n",
    "    if len(text) > x:\n",
    "        text1 = text[:x]\n",
    "        text2 = text[x:]\n",
    "        print(text1)\n",
    "        leftPrint(text2)\n",
    "    else:\n",
    "        print(text)\n",
    "\n",
    "\n",
    "def rightPrint(text, x=50):\n",
    "    if len(text) > x:\n",
    "        text1 = text[:x]\n",
    "        text2 = text[x:]\n",
    "        print(\" \" * x + text1)\n",
    "        rightPrint(text2)\n",
    "    else:\n",
    "        print(\" \" * (2 * x - len(text)) + text)\"\"\"\n",
    "\n",
    "from text import *\n",
    "centerPrint(\"Rozmowa z: Mietek\")\n",
    "leftPrint(\"Mietek: Witaj, mój ulubiony kolego!\")\n",
    "rightPrint(\"Ja: Witaj nieznajomy\")\n",
    "rightPrint(\"Ja: Jak mogę ci pomóc tego pięknego dnia?\")\n",
    "leftPrint(\"Mietek: Jeśli nie chcesz mojej zguby\")\n",
    "leftPrint(\"Mietek: To gotowca daj mi luby!\")\n",
    "rightPrint(\"Ja: Nie.\")\n",
    "leftPrint(\"Mietek: To nie.\")\n",
    "#raise NotImplementedError()"
   ]
  },
  {
   "cell_type": "markdown",
   "metadata": {
    "deletable": false,
    "editable": false,
    "nbgrader": {
     "cell_type": "markdown",
     "checksum": "8de7d81f9a6a6e733381350d6bb9beda",
     "grade": false,
     "grade_id": "cell-3c31f3a88a5ee2df",
     "locked": true,
     "schema_version": 3,
     "solution": false
    }
   },
   "source": [
    "## Zadanie 2\n",
    "\n",
    "Zmodyfikuj moduł z `zadania 1` tak, aby wykonanie pliku z nim powodowało wypisanie opisu i listy funkcji zdefiniowanych w nim (funkcja `dir()`), oraz prezentację funkcji w nim zawartych, np.:\n",
    "```\n",
    "Moduł \"text\" definiuje funkcje center, left right i służy do: \n",
    "Wypisania tekstu wyrównanego do lewej,\n",
    "                                                                      do prawej,\n",
    "                              lub wycentrowanego.                              \n",
    "Dodatkowo ten moduł zawiera: ['__builtins__', '__cached__', '__doc__', '__file__\n",
    "', '__loader__', '__name__', '__package__', '__spec__', 'center', 'left', 'right\n",
    "']\n",
    "```\n",
    "\n",
    "\n",
    "Wykorzystaj zmienną `__name__`:\n",
    "```python\n",
    "if _name_ == '__main__':\n",
    "    #kod został uruchomiony jako program\n",
    "    blok_instrukcji program\n",
    "else:\n",
    "    #plik został zaimportowany jako moduł\n",
    "    blok_instrukcji moduł\n",
    "```"
   ]
  },
  {
   "cell_type": "code",
   "execution_count": 28,
   "metadata": {
    "deletable": false,
    "nbgrader": {
     "cell_type": "code",
     "checksum": "a038d47911ddd78a9c4a9770c4db5ae8",
     "grade": true,
     "grade_id": "cell-8d5e1cb71dac421e",
     "locked": false,
     "points": 1,
     "schema_version": 3,
     "solution": true
    }
   },
   "outputs": [
    {
     "name": "stdout",
     "output_type": "stream",
     "text": [
      "Moduł \"text\" definiuje funkcje center, left right i służy do:\n",
      "Wypisania tekstu wyrównanego do lewej,\n",
      "                                                                                          do prawej,\n",
      "                                         lub wycentrowanego.                                         \n",
      "Dodatkowo ten moduł zawiera:\n",
      "['__builtins__', '__cached__', '__doc__', '__file__', '__loader__', '__name__', '__package__', '__spec__', 'centerPrint', 'leftPrint', 'rightPrint']\n"
     ]
    }
   ],
   "source": [
    "# YOUR CODE HERE\n",
    "#zawartosc pliku text.py\n",
    "\"\"\"\\\"\"\"Moduł \"text\" definiuje funkcje center, left right i służy do:\\\"\"\"\n",
    "\n",
    "\n",
    "def centerPrint(text, x=50):\n",
    "    x = (x - len(text) // 2)\n",
    "    print(\" \" * x + text + \" \" * x)\n",
    "\n",
    "\n",
    "def leftPrint(text, x=50):\n",
    "    if len(text) > x:\n",
    "        text1 = text[:x]\n",
    "        text2 = text[x:]\n",
    "        print(text1)\n",
    "        leftPrint(text2)\n",
    "    else:\n",
    "        print(text)\n",
    "\n",
    "\n",
    "def rightPrint(text, x=50):\n",
    "    if len(text) > x:\n",
    "        text1 = text[:x]\n",
    "        text2 = text[x:]\n",
    "        print(\" \" * x + text1)\n",
    "        rightPrint(text2)\n",
    "    else:\n",
    "        print(\" \" * (2 * x - len(text)) + text)\n",
    "\n",
    "\n",
    "if __name__ == \"main\":\n",
    "    pass\n",
    "else:\n",
    "    print(__doc__)\n",
    "    leftPrint(\"Wypisania tekstu wyrównanego do lewej,\")\n",
    "    rightPrint(\"do prawej,\")\n",
    "    centerPrint(\"lub wycentrowanego.\")\n",
    "    print(\"Dodatkowo ten moduł zawiera:\")\n",
    "    print(dir())\n",
    "\"\"\"\n",
    "import imp; imp.reload(text)\n",
    "import text\n",
    "#raise NotImplementedError()"
   ]
  },
  {
   "cell_type": "markdown",
   "metadata": {
    "deletable": false,
    "editable": false,
    "nbgrader": {
     "cell_type": "markdown",
     "checksum": "825af310b966867549743fd628fe25ed",
     "grade": false,
     "grade_id": "cell-7da1d14f018653b2",
     "locked": true,
     "schema_version": 3,
     "solution": false,
     "task": false
    }
   },
   "source": [
    "## Zadanie 3\n",
    "\n",
    "Napisz moduł o nazwie np. `fibonacci.py` zawierający dwie funkcje liczące podany wyraz ciągu Fibonacciego, pierwsza iteracyjnie, druga rekurencyjnie. Utwórz pakiet o nazwie `pakiet53`, zawierający ten moduł, oraz moduł z zadań 1. i 2. Napisz program prezentujący działanie wszystkich funkcji tego pakietu.\n",
    "Napisz plik `__init__.py` pozwalający zaimportować wszystkie moduły pakietu przy użyciu:\n",
    "```python \n",
    "from pakiet import *\n",
    "```"
   ]
  },
  {
   "cell_type": "code",
   "execution_count": 31,
   "metadata": {
    "deletable": false,
    "nbgrader": {
     "cell_type": "code",
     "checksum": "665da3388f1b33fb692223fa0371002c",
     "grade": true,
     "grade_id": "cell-98db7f7d5da5f8a4",
     "locked": false,
     "points": 1,
     "schema_version": 3,
     "solution": true,
     "task": false
    }
   },
   "outputs": [
    {
     "name": "stdout",
     "output_type": "stream",
     "text": [
      "\n",
      "                                               Center                                               \n",
      "Left\n",
      "                                                                                               Right\n",
      "Fib. iteracyjnie\n",
      "89\n",
      "Fib. rekurencyjnie\n",
      "89\n"
     ]
    }
   ],
   "source": [
    "from pakiet53 import *\n",
    "# YOUR CODE HERE\n",
    "\n",
    "#plik __init__.py:\n",
    "#__all__ = [\"zad12\", \"fib\"]\n",
    "\n",
    "#fib.py:\n",
    "# def it_fibonacci(n):\n",
    "#     a, b = 0, 1\n",
    "#     for i in range(n):\n",
    "#         a, b = b, a + b\n",
    "#     return a\n",
    "#\n",
    "#\n",
    "# def re_fibonacci(n):\n",
    "#     if n <= 1:\n",
    "#         return n\n",
    "#     else:\n",
    "#         return (re_fibonacci(n - 1) + re_fibonacci(n - 2))\n",
    "\n",
    "#plik zad12.py:\n",
    "#moduły z zadania 1 i 2\n",
    "\n",
    "print()\n",
    "zad12.centerPrint(\"Center\")\n",
    "zad12.leftPrint(\"Left\")\n",
    "zad12.rightPrint(\"Right\")\n",
    "\n",
    "print(\"Fib. iteracyjnie\")\n",
    "print(fib.it_fibonacci(11))\n",
    "print(\"Fib. rekurencyjnie\")\n",
    "print(fib.re_fibonacci(11))\n",
    "\n",
    "#raise NotImplementedError()"
   ]
  },
  {
   "cell_type": "markdown",
   "metadata": {
    "deletable": false,
    "editable": false,
    "nbgrader": {
     "cell_type": "markdown",
     "checksum": "95c90a266ad278e772bbfcda63a9864e",
     "grade": false,
     "grade_id": "cell-64e350e06a96f1cb",
     "locked": true,
     "schema_version": 3,
     "solution": false,
     "task": false
    }
   },
   "source": [
    "## Zadanie 4\n",
    "\n",
    "Dane są cztery pliki umieszczone w katalogu `lab5_zad4`:\n",
    "1. `01_kto.txt`\n",
    "2. `02_co_zrobil.txt`\n",
    "3. `03_jaki.txt`\n",
    "4. `04_co.txt`\n",
    "\n",
    "Wczytaj zawartość każdego do osobnej listy (każda linia pliku jako osobny element). Napisz funkcję generującą losowe zdania używając linii wczytanych z powyższych plików. Zdania powinny mieć postać `{kto} {co_zrobił} {jaki} {co}`. Wykorzystaj funkcję `format` lub f-stringi. Pamiętaj o obcięciu znaków nowej linii z końców linii wczytanych plików (np. używając metody `strip`). Program powinien tworzyć w katalogu `lab5_zad4` plik `wynik.txt` i wpisywać do niego 100 wygenerowanych linii. Wykorzystaj słowo kluczowe `with` przy otwieraniu plików oraz pętlę `for` iterującą po liniach pliku. \n",
    "\n",
    "Przykład formatowania z użyciem `format`:\n",
    "```python\n",
    "print(\"{kto} {co_zrobil} {jaki} {co}\".format(kto = random.choice(akto), co_zrobil = random.choice(acozrobil), \n",
    "                                                 jaki = random.choice(ajaki), co = random.choice(aco) ))\n",
    "```"
   ]
  },
  {
   "cell_type": "code",
   "execution_count": 37,
   "metadata": {
    "deletable": false,
    "nbgrader": {
     "cell_type": "code",
     "checksum": "c325a792276a8867a089eb8619e634cc",
     "grade": true,
     "grade_id": "cell-14c6fbab1c345c71",
     "locked": false,
     "points": 1,
     "schema_version": 3,
     "solution": true,
     "task": false
    }
   },
   "outputs": [],
   "source": [
    "import random\n",
    "akto = []; acozrobil = []; ajaki = []; aco = []\n",
    "\n",
    "# with open('lab5_zad4\\\\01_kto.txt') as f:\n",
    "#     for line in f:\n",
    "# YOUR CODE HERE\n",
    "with open(\"lab5_zad4/01_kto.txt\", \"r\") as x:\n",
    "    for i in x:\n",
    "        akto.append(i.strip(\"\\n\"))\n",
    "\n",
    "with open(\"lab5_zad4/02_co_zrobil.txt\", \"r\") as x:\n",
    "    for i in x:\n",
    "        acozrobil.append(i.strip(\"\\n\"))\n",
    "\n",
    "with open(\"lab5_zad4/03_jaki.txt\", \"r\") as x:\n",
    "    for i in x:\n",
    "        ajaki.append(i.strip(\"\\n\"))\n",
    "\n",
    "with open(\"lab5_zad4/04_co.txt\", \"r\") as x:\n",
    "    for i in x:\n",
    "        aco.append(i.strip(\"\\n\"))\n",
    "\n",
    "with open(\"lab5_zad4/wynik.txt\", \"w\") as x:\n",
    "    for _ in range(100):\n",
    "        x.write(\"{kto} {co_zrobil} {jaki} {co}\\n\".format(kto=random.choice(akto), co_zrobil=random.choice(acozrobil),\n",
    "                                             jaki=random.choice(ajaki), co=random.choice(aco)))\n",
    "#raise NotImplementedError()"
   ]
  },
  {
   "cell_type": "markdown",
   "metadata": {
    "deletable": false,
    "editable": false,
    "nbgrader": {
     "cell_type": "markdown",
     "checksum": "579484b3d52097905124d4b9a9b7cbc2",
     "grade": false,
     "grade_id": "cell-39caf50a76aeae19",
     "locked": true,
     "schema_version": 3,
     "solution": false,
     "task": false
    }
   },
   "source": [
    " ## Zadanie 5\n",
    " \n",
    " \n",
    " Utwórz plik o nazwie `z5_pl.py` zawierający słownik o nazwie `lang`:\n",
    " ```python\n",
    "lang={}\n",
    "lang['hello'] = 'Witaj, nieznajomy!'\n",
    "lang['info'] = 'Podaj dowolną liczbę, policzę dla Ciebie pierwiastek : '\n",
    "lang['error'] = 'Podane dane są nieprawidłowe'\n",
    "lang['bye'] = 'Żegnaj !'\n",
    "```\n",
    " \n",
    "Utwórz kolejny plik o nazwie np. `z5_en.py` zawierający taki sam słownik, ale z tekstem przetłumaczonym na język obcy (np. angielski).\n",
    "Napisz program, który po uruchomieniu prosi użytkownika o wybranie języka. Jeśli użytkownik wpisze `pl`, importowany jest moduł __z5_pl__. Jeśli wpisze `en`, importowany jest moduł __z5_en__. Import może być używany wewnątrz instrukcji warunkowych. Następnie, po załadowaniu odpowiedniego modułu, program liczy pierwiastek liczby podanej przez użytkownika. Wszystkie wiadomości wypisywane po wyborze języka powinny być odczytywane ze słownika `lang`. Na początek wypisywane jest powitanie oraz prośba o wpisanie liczby. Jeśli użytkownik wpisze liczbę ujemną, wypisywany jest błąd. W przeciwnym razie, wypisywany jest wynik i pożegnanie."
   ]
  },
  {
   "cell_type": "code",
   "execution_count": 56,
   "metadata": {
    "deletable": false,
    "nbgrader": {
     "cell_type": "code",
     "checksum": "738d25d3dcc19a5734bf876603d04e79",
     "grade": true,
     "grade_id": "cell-d2603671d82f278b",
     "locked": false,
     "points": 1,
     "schema_version": 3,
     "solution": true,
     "task": false
    }
   },
   "outputs": [
    {
     "name": "stdout",
     "output_type": "stream",
     "text": [
      "The given data is incorrect\n",
      "Goodbye!\n"
     ]
    }
   ],
   "source": [
    "# YOUR CODE HERE\n",
    "import math\n",
    "\n",
    "ch = input(\"Wybierz jezyk/Choose language\\npl/en\\n\").lower()\n",
    "if ch == \"pl\":\n",
    "    import lab5.z5_pl as lg\n",
    "elif ch == \"en\":\n",
    "    import lab5.z5_en as lg\n",
    "else:\n",
    "    raise KeyboardInterrupt\n",
    "\n",
    "try:\n",
    "    print(math.sqrt(int(input(lg.lang['hello'] + \"\\n\" + lg.lang['info'] + \"\\n\"))))\n",
    "except:\n",
    "    print(lg.lang['error'])\n",
    "finally:\n",
    "    print(lg.lang['bye'])\n",
    "\n",
    "\n",
    "#raise NotImplementedError()"
   ]
  },
  {
   "cell_type": "code",
   "execution_count": null,
   "metadata": {},
   "outputs": [],
   "source": []
  }
 ],
 "metadata": {
  "kernelspec": {
   "display_name": "Python 3 (ipykernel)",
   "language": "python",
   "name": "python3"
  },
  "language_info": {
   "codemirror_mode": {
    "name": "ipython",
    "version": 3
   },
   "file_extension": ".py",
   "mimetype": "text/x-python",
   "name": "python",
   "nbconvert_exporter": "python",
   "pygments_lexer": "ipython3",
   "version": "3.9.7"
  }
 },
 "nbformat": 4,
 "nbformat_minor": 2
}