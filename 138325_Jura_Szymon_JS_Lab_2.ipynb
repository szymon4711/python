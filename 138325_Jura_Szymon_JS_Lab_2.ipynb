{
 "cells": [
  {
   "cell_type": "markdown",
   "metadata": {
    "deletable": false,
    "editable": false,
    "nbgrader": {
     "cell_type": "markdown",
     "checksum": "152c710d5329ff9f6526d64fb692b895",
     "grade": false,
     "grade_id": "cell-4b34e804a6520a5c",
     "locked": true,
     "schema_version": 3,
     "solution": false
    }
   },
   "source": [
    "# Języki symboliczne - rok akademicki 2020/2021\n",
    "\n",
    "Przed rozpoczęciem pracy z notatnikiem zmień jego nazwę zgodnie z wzorem: `NrAlbumu_Nazwisko_Imie_PoprzedniaNazwa`\n",
    "\n",
    "Przed wysłaniem notatnika upewnij się, że rozwiązałeś wszystkie zadania/ćwiczenia, w szczególności, że uzupełniłeś wszystkie pola `YOUR CODE HERE` oraz `YOUR ANSWER HERE`."
   ]
  },
  {
   "cell_type": "markdown",
   "metadata": {
    "deletable": false,
    "editable": false,
    "nbgrader": {
     "cell_type": "markdown",
     "checksum": "3aa07d30eb9b4755dc5825064984cba2",
     "grade": false,
     "grade_id": "cell-ed6836e73712236e",
     "locked": true,
     "schema_version": 3,
     "solution": false
    }
   },
   "source": [
    "## Temat: Funkcje. Instrukcje `def`, `lambda`. Argumenty funkcji, wartości domyślne, parametry specjalne, napisy dokumentujące, przypisy do funkcji.\n",
    "Zapoznaj się z treścią niniejszego notatnika czytając i wykonując go komórka po komórce. Wykonaj napotkane zadania/ćwiczenia.\n",
    "\n",
    "### Definiowanie funkcji: Instrukcja `def`\n",
    "#### Składnia.\n",
    "- Struktura składni ma postać:\n",
    "\n",
    "```python\n",
    "def nazwa(argumenty):\n",
    "\tblok_instrukcji\n",
    "    return wyrażenie\n",
    "```    \n",
    "- Do tworzenia funkcji służy instrukcja `def`. \n",
    "- Lista argumentów może być pusta lub składać się z dowolnej ilości argumentów oddzielonych przecinkami. \n",
    "- Zawartość bloku instrukcji ustalana jest na podstawie wcięć. \n",
    "- Instrukcja `return` nie jest obowiązkowa. W przypadku jej braku funkcja zwraca wartość `None` \n",
    "- Wywołanie funkcji odbywa się poprzez podanie jej nazwy z odpowiednią liczbą argumentów.\n",
    "- Funkcja musi być zdefiniowana przed jej pierwszym użyciem.\n",
    "- wywołanie funkcji tworzy nową tablicę symboli przechowującą zmienne lokalne funkcji jak również aktualne argumenty przekazane do funkcji przez referencję\n",
    "\n",
    "https://docs.python.org/3/tutorial/controlflow.html#defining-functions"
   ]
  },
  {
   "cell_type": "code",
   "execution_count": 1,
   "metadata": {},
   "outputs": [
    {
     "name": "stdout",
     "output_type": "stream",
     "text": [
      "Hello\n",
      "Hello\n",
      "None\n"
     ]
    }
   ],
   "source": [
    "def przywitanie():   #definicja funkcji - bez argumentów\n",
    "    print('Hello')\n",
    "\n",
    "przywitanie()   #wywołanie funkcji\n",
    "a = przywitanie()  #wywołanie z przypisaniem zwracanej wartości\n",
    "print(a)  #funkcja bez return zwaraca obiekt None"
   ]
  },
  {
   "cell_type": "code",
   "execution_count": 2,
   "metadata": {},
   "outputs": [
    {
     "name": "stdout",
     "output_type": "stream",
     "text": [
      "Hello Adam\n",
      "Hello Adam\n",
      "Hello Adam\n"
     ]
    }
   ],
   "source": [
    "def przywitanie_razy_n(n, imie):  #definicja funkcji z 2 argumentami\n",
    "    for i in range(n):\n",
    "        print('Hello', imie)\n",
    "\n",
    "przywitanie_razy_n(3, 'Adam')   #wywołanie funkcji"
   ]
  },
  {
   "cell_type": "markdown",
   "metadata": {
    "deletable": false,
    "editable": false,
    "nbgrader": {
     "cell_type": "markdown",
     "checksum": "6d542b5198a4fb351cb5006b4b26933c",
     "grade": false,
     "grade_id": "cell-6ff8a240ab24d111",
     "locked": true,
     "schema_version": 3,
     "solution": false
    }
   },
   "source": [
    "Funkcja może zwracać wartość, służy do tego instrukcja `return`. Może to być pojedyncza wartość lub wiele wartości w postaci krotki."
   ]
  },
  {
   "cell_type": "code",
   "execution_count": null,
   "metadata": {},
   "outputs": [],
   "source": [
    "def funkcja():  #definicja funkcji\n",
    "    return 2    # wartość zwracana przez funkcję\n",
    "\n",
    "a = funkcja()   # wywołanie funkcji - zwracana pojedyncza wartość\n",
    "print(a)"
   ]
  },
  {
   "cell_type": "code",
   "execution_count": null,
   "metadata": {},
   "outputs": [],
   "source": [
    "def funkcja2():       #definicja funkcji\n",
    "    return 1,2,3,4    #wartości zwracane przez funkcję\n",
    "\n",
    "a = funkcja2()        #wywołanie funkcji - zwracana krotka\n",
    "print(a)\n",
    "\n",
    "x,y,z,t = funkcja2()  #kolejne wywołanie funkcji - zwracana krotka z rozpakowaniem\n",
    "print(x,y,z,t)"
   ]
  },
  {
   "cell_type": "code",
   "execution_count": null,
   "metadata": {},
   "outputs": [],
   "source": [
    "def reszta(a, b):   #definicja funkcji o nazwie reszta - dwa argumenty formalne a, b\n",
    "    q = a//b       #jeżeli a, b całkowite q również całkowite\n",
    "    r = a - q*b    #reszta z dzielenia\n",
    "    return (q,r)   #funkcja zwraca dwa argumenty wynik dzielenia i resztę (to samo robi wbudowana metoda divmod())\n",
    "\n",
    "a1 = 2\n",
    "b1 = 3\n",
    "reszta(a1, b1) #wywołanie funkcji z dwoma argumentami aktualnymi"
   ]
  },
  {
   "cell_type": "markdown",
   "metadata": {
    "deletable": false,
    "editable": false,
    "nbgrader": {
     "cell_type": "markdown",
     "checksum": "ad968afec1616723f61783ec0f2ecf95",
     "grade": false,
     "grade_id": "cell-aa60a0c22b5dd7bb",
     "locked": true,
     "schema_version": 3,
     "solution": false
    }
   },
   "source": [
    "### Ćwiczenie 1\n",
    "Napisz program, który dla podanego z klawiatury promienia obliczy w funkcji pole i obwód koła. "
   ]
  },
  {
   "cell_type": "code",
   "execution_count": 4,
   "metadata": {
    "deletable": false,
    "nbgrader": {
     "cell_type": "code",
     "checksum": "e550341092d6857b5a909913c3d7edc3",
     "grade": false,
     "grade_id": "cell-692e1f3a138174d9",
     "locked": false,
     "schema_version": 3,
     "solution": true
    }
   },
   "outputs": [
    {
     "name": "stdout",
     "output_type": "stream",
     "text": [
      "28.274333882308138\n",
      "18.84955592153876\n"
     ]
    }
   ],
   "source": [
    "import math\n",
    "\n",
    "pi = math.pi\n",
    "r = input('Podaj promień: ')\n",
    "\n",
    "# YOUR CODE HERE\n",
    "r = float(r)\n",
    "\n",
    "\n",
    "def pole(r):\n",
    "    return pi * r * r\n",
    "\n",
    "\n",
    "def obwod(r):\n",
    "    return 2 * pi * r\n",
    "\n",
    "\n",
    "print(pole(r))\n",
    "print(obwod(r))\n",
    "\n",
    "#raise NotImplementedError()"
   ]
  },
  {
   "cell_type": "markdown",
   "metadata": {
    "deletable": false,
    "editable": false,
    "nbgrader": {
     "cell_type": "markdown",
     "checksum": "70fb7509c6a1e288745f138e92ce459f",
     "grade": false,
     "grade_id": "cell-afa568896ca857aa",
     "locked": true,
     "schema_version": 3,
     "solution": false
    }
   },
   "source": [
    "### Ćwiczenie 2\n",
    "Napisz funkcję, która policzy:\n",
    "$$\n",
    "z = \\left\\{ \\begin{array}{11}\n",
    "x^{2}+y & \\textrm{dla $x^{2}+y^{2}\\leq 1$} & \\qquad (1)\\\\\n",
    "2x+y^{2} & \\textrm{dla $y \\gt x+5$} & \\qquad (2)\\\\\n",
    "\\frac{1}{2}x^{2}+y & \\textrm{dla $ x^{2}+y^{2}>1$ i $y \\leq x+5$} & \\qquad (3)\n",
    "\\end{array} \\right.\n",
    "$$\n",
    "\n",
    "oraz poda numer wzoru, wg którego wartość `z` została policzona. Wywołaj funkcję z parametrami podanymi poniżej."
   ]
  },
  {
   "cell_type": "code",
   "execution_count": 9,
   "metadata": {
    "deletable": false,
    "nbgrader": {
     "cell_type": "code",
     "checksum": "5a78c8f94b10d961d3a28f07ad5aca39",
     "grade": false,
     "grade_id": "cell-48179185dd284eba",
     "locked": false,
     "schema_version": 3,
     "solution": true
    }
   },
   "outputs": [
    {
     "name": "stdout",
     "output_type": "stream",
     "text": [
      "Wzór (1)\n",
      "0.59\n",
      "Wzór (2)\n",
      "68\n",
      "Wzór (3)\n",
      "2.5\n"
     ]
    }
   ],
   "source": [
    "import math\n",
    "\n",
    "\n",
    "# YOUR CODE HERE\n",
    "def fun_z(x, y):\n",
    "    if x*x + y*y <= 1:\n",
    "        print(\"Wzór (1)\")\n",
    "        return x*x + y\n",
    "    elif y > x + 5:\n",
    "        print(\"Wzór (2)\")\n",
    "        return 2 * x + y*y\n",
    "    elif (x *x + y*y > 1) and (y <= x + 5):\n",
    "        print(\"Wzór (3)\")\n",
    "        return 1/2 * x*x + y\n",
    "\n",
    "\n",
    "#raise NotImplementedError()\n",
    "print(fun_z(0.3, 0.5))\n",
    "print(fun_z(2, 8))\n",
    "print(fun_z(-1, 2))"
   ]
  },
  {
   "cell_type": "markdown",
   "metadata": {
    "deletable": false,
    "editable": false,
    "nbgrader": {
     "cell_type": "markdown",
     "checksum": "ad1ac490fda112303a73635954277e6c",
     "grade": false,
     "grade_id": "cell-7c018d69a7114da0",
     "locked": true,
     "schema_version": 3,
     "solution": false
    }
   },
   "source": [
    "### Argumenty funkcji.\n",
    "Funkcje mogą przyjmować dowolną ilość argumentów, argumentem może być dowolny obiekt."
   ]
  },
  {
   "cell_type": "code",
   "execution_count": null,
   "metadata": {},
   "outputs": [],
   "source": [
    "# p-norma (dla p = 2 norma euklidesowa)\n",
    "def pnorm(wektor, p):\n",
    "    suma = 0\n",
    "    for x in wektor:\n",
    "        suma+=x**p\n",
    "    norma = suma**(1.0/p)\n",
    "    return norma\n",
    "\n",
    "pnorm([1,2,3],2)"
   ]
  },
  {
   "cell_type": "markdown",
   "metadata": {
    "deletable": false,
    "editable": false,
    "nbgrader": {
     "cell_type": "markdown",
     "checksum": "7bd50a693a8df0dc0bc9950bff99defe",
     "grade": false,
     "grade_id": "cell-0e5e4816f49cd518",
     "locked": true,
     "schema_version": 3,
     "solution": false
    }
   },
   "source": [
    "Dla tak zdefiniowanej funkcji liczba i kolejność argumentów formalnych (definicja funkcji) i aktualnych (wywołanie) musi być identyczna."
   ]
  },
  {
   "cell_type": "code",
   "execution_count": null,
   "metadata": {},
   "outputs": [],
   "source": [
    "pnorm([1,2,3])"
   ]
  },
  {
   "cell_type": "code",
   "execution_count": null,
   "metadata": {},
   "outputs": [],
   "source": [
    "pnorm([1,2,3], 2, 3)"
   ]
  },
  {
   "cell_type": "markdown",
   "metadata": {
    "deletable": false,
    "editable": false,
    "nbgrader": {
     "cell_type": "markdown",
     "checksum": "111527feb17b4ca5d17e1aad9e6777e5",
     "grade": false,
     "grade_id": "cell-5f64526d35a2abab",
     "locked": true,
     "schema_version": 3,
     "solution": false
    }
   },
   "source": [
    "Możliwe jest jednak coś takiego :) (ale tylko przy podaniu nazwy argumentu i jego wartości)."
   ]
  },
  {
   "cell_type": "code",
   "execution_count": null,
   "metadata": {},
   "outputs": [],
   "source": [
    "pnorm(p=2, wektor=[1,2,3])"
   ]
  },
  {
   "cell_type": "markdown",
   "metadata": {
    "deletable": false,
    "editable": false,
    "nbgrader": {
     "cell_type": "markdown",
     "checksum": "00ae8c0446d7f937c46f5425b1d08763",
     "grade": false,
     "grade_id": "cell-7c2a6ef6a7829c2a",
     "locked": true,
     "schema_version": 3,
     "solution": false
    }
   },
   "source": [
    "#### Argumenty domyślne funkcji.\n",
    "\n",
    "Można definiować tzw. argumenty domyślne, których jak nie podamy w wywołaniu to przyjmą ustawioną wartość domyślną.\n",
    "\n",
    "https://docs.python.org/3/tutorial/controlflow.html#more-on-defining-functions"
   ]
  },
  {
   "cell_type": "code",
   "execution_count": null,
   "metadata": {},
   "outputs": [],
   "source": [
    "# p-norma\n",
    "def pnorm(wektor, p=2, pp=True):\n",
    "    suma = 0\n",
    "    for x in wektor:\n",
    "        suma+=x**p\n",
    "    norma = suma**(1.0/p)\n",
    "    if pp:\n",
    "        print('Wartość {0} normy wektora {1} wynosi {2}' .format(p, wektor, norma))\n",
    "    return norma\n",
    "\n",
    "print(pnorm([1,2,3]))\n",
    "print(pnorm([1,2,3],3))\n",
    "print(pnorm([1,2,3],3,False))\n",
    "print(pnorm([1,2,3],pp=False))\n",
    "print(pnorm([1,2,3],p=3,pp=False))\n",
    "\n",
    "# niepoprawne wywołania\n",
    "#pnorm()                        # brak wymaganego argumentu\n",
    "#pnorm(pp=False,[1,2,3])        # argument pozycyjny za kluczowym\n",
    "#pnorm([1,2,3],wektor=[4,5,6])  # argument zduplikowany\n",
    "#pnorm([1,2,3],a=2)             # nieznany argument"
   ]
  },
  {
   "cell_type": "markdown",
   "metadata": {
    "deletable": false,
    "editable": false,
    "nbgrader": {
     "cell_type": "markdown",
     "checksum": "2e5f09dd53a3e658947cb451834ffb8f",
     "grade": false,
     "grade_id": "cell-d6795eadef2e123b",
     "locked": true,
     "schema_version": 3,
     "solution": false
    }
   },
   "source": [
    "#### Argumenty funkcji `*args`, `**kargs`.\n",
    "\n",
    "Ponieważ funkcje mogą przyjmować bardzo wiele argumentów, aby wyszystkich nie wypisywać w definicji funkcji używa się argumentów `*args` oraz `**kargs`. Argument `*args` to krotka, do której pakowane są argumenty podawane bezpośrednio (argumenty pozycyjne). Argument `**kargs` to słownik, do którego pakowane są argumenty podawane poprzez przypisanie wartości do nazwy (argumenty hasłowe). Argumenty pozycyjne muszą być podane jako pierwsze.\n",
    "\n",
    "https://docs.python.org/3/tutorial/controlflow.html#keyword-arguments"
   ]
  },
  {
   "cell_type": "code",
   "execution_count": 10,
   "metadata": {},
   "outputs": [
    {
     "name": "stdout",
     "output_type": "stream",
     "text": [
      "()\n",
      "{'z': 3, 'a': 'hello', 'b': (5, 6)}\n",
      "------------------------------------\n",
      "(3,)\n",
      "{'a': 'hello', 'b': (5, 6)}\n"
     ]
    }
   ],
   "source": [
    "def cos(*args, **kargs):\n",
    "    print(args)\n",
    "    print(kargs)\n",
    "\n",
    "cos(z=3, a='hello', b=(5,6))\n",
    "print('------------------------------------')\n",
    "cos(3, a='hello', b=(5,6))"
   ]
  },
  {
   "cell_type": "code",
   "execution_count": 11,
   "metadata": {},
   "outputs": [
    {
     "name": "stdout",
     "output_type": "stream",
     "text": [
      "Wartość 3 normy wektora [1, 2, 3] wynosi 3.3019272488946263\n"
     ]
    },
    {
     "data": {
      "text/plain": "3.3019272488946263"
     },
     "execution_count": 11,
     "metadata": {},
     "output_type": "execute_result"
    }
   ],
   "source": [
    "def pnorm2(*args, **kargs):\n",
    "    wektor = args[0]\n",
    "    p = args[1]\n",
    "    pp = kargs['pp']\n",
    "    suma = 0\n",
    "    for x in wektor:\n",
    "        suma+=x**p\n",
    "    norma = suma**(1.0/p)\n",
    "    if pp:\n",
    "        print('Wartość {0} normy wektora {1} wynosi {2}'.format(p, wektor, norma))\n",
    "    return norma\n",
    "\n",
    "pnorm2([1,2,3],3,pp=True)"
   ]
  },
  {
   "cell_type": "markdown",
   "metadata": {
    "deletable": false,
    "editable": false,
    "nbgrader": {
     "cell_type": "markdown",
     "checksum": "9ab183be3499b639af89c3de0022d57c",
     "grade": false,
     "grade_id": "cell-0501eccf1f11c33a",
     "locked": true,
     "schema_version": 3,
     "solution": false,
     "task": false
    }
   },
   "source": [
    "#### \"Rozpakowywanie\" listy argumentów.\n",
    "\n",
    "Są przypadki, że argumenty mamy już „spakowane” w postaci krotki lub listy, ale np. niektóre funkcje akceptują tylko oddzielnie podane parametry pozycyjne. W tych przypadkach najpierw krotka lub lista musi być „rozpakowana”.  Funkcja wywoływana jest wtedy z operatorem `*` aby rozpakować argumenty podawane bezpośrednio lub `**` w przypadku argumentów typu kluczowego (argumenty hasłowe).\n",
    "\n",
    "https://docs.python.org/3/tutorial/controlflow.html#unpacking-argument-lists"
   ]
  },
  {
   "cell_type": "code",
   "execution_count": 12,
   "metadata": {},
   "outputs": [
    {
     "name": "stdout",
     "output_type": "stream",
     "text": [
      "[3, 4, 5]\n",
      "3 6\n",
      "[3, 4, 5]\n"
     ]
    }
   ],
   "source": [
    "print(list(range(3,6)))          # wywołanie z oddzielnymi argumentami (argumenty pozycyjne)\n",
    "argumenty = [3, 6]\n",
    "print(*argumenty)\n",
    "print(list(range(*argumenty)))  # wywołanie z argumentami rozpakowanymi"
   ]
  },
  {
   "cell_type": "code",
   "execution_count": 13,
   "metadata": {},
   "outputs": [
    {
     "name": "stdout",
     "output_type": "stream",
     "text": [
      "({'n1': 'Multikino', 'n2': 'Świt', 'f1': 'Gladiator', 'f2': 'Piękna i bestia'},)\n",
      "{}\n",
      "------------------------------------\n",
      "()\n",
      "{'n1': 'Multikino', 'n2': 'Świt', 'f1': 'Gladiator', 'f2': 'Piękna i bestia'}\n",
      "------------------------------------\n",
      "(1, 2)\n",
      "{'n1': 'Multikino', 'n2': 'Świt', 'f1': 'Gladiator', 'f2': 'Piękna i bestia'}\n",
      "------------------------------------\n",
      "(1, 2)\n",
      "{'n1': 'Multikino', 'n2': 'Świt', 'f1': 'Gladiator', 'f2': 'Piękna i bestia', 'f3': 'Bolek i Lolek'}\n"
     ]
    }
   ],
   "source": [
    "def cos(*args, **kargs):\n",
    "    print(args)\n",
    "    print(kargs)\n",
    "\n",
    "argumenty = {'n1':'Multikino', 'n2':'Świt', 'f1':'Gladiator','f2':'Piękna i bestia'}\n",
    "\n",
    "cos(argumenty)        # wywołanie bez rozpakowania - w funkcji tylko jeden arg. pozycyjny\n",
    "print('------------------------------------')\n",
    "cos(**argumenty)      # wywołanie z argumentami rozpakowanymi - w funkcji 4 arg. hasłowe\n",
    "print('------------------------------------')\n",
    "cos(1,2,**argumenty)  # wywołanie z argumentami rozpakowanymi - w funkcji 2 arg. pozycyjne i 4 arg. hasłowe\n",
    "print('------------------------------------')\n",
    "cos(1,2,**argumenty,f3='Bolek i Lolek')  # wywołanie z argumentami rozpakowanymi - w funkcji 2 arg. pozycyjne i 5 arg. hasłowych\n"
   ]
  },
  {
   "cell_type": "markdown",
   "metadata": {
    "deletable": false,
    "editable": false,
    "nbgrader": {
     "cell_type": "markdown",
     "checksum": "689f6d27168159c086e414025cba56ba",
     "grade": false,
     "grade_id": "cell-80a332fee43b67e8",
     "locked": true,
     "schema_version": 3,
     "solution": false,
     "task": false
    }
   },
   "source": [
    "#### Parametry specjalne używane w funkcji:  `/` i `*`.\n",
    "\n",
    "Dla poprawienia czytelności/efektywności w Pythonie od wersji 3.8 wprowadzono dla funkcji dodatkowe parametry specjalne, zapisywane przy pomocy symboli `/` oraz `*`. Parametry te pozwalają na szybką orientację czy przesłane do funkcji parametry są pozycyjne czy hasłowe (kluczowe).\n",
    "\n",
    "```python\n",
    "def nazwa(poz1, poz2, /, poz_lub_kl, *, kl1, kl2):\n",
    "\t\n",
    "```    \n",
    "Symbole `/` i `*` są opcjonalne. Jeśli wystąpią mówią o tym jak należy\n",
    "potraktować poszczególne parametry – jako tylko pozycyjne, pozycyjne lub\n",
    "typu klucz-wartość lub tylko kluczowe.\n",
    "Argumenty pozycyjne znajdują się przed znakiem `/`, który używany jest w tym\n",
    "kontekście do rozdzielenia parametrów pozycyjnych od kluczowych. Parametry występujące po / mogą być pozycyjne lub kluczowe albo tylko\n",
    "kluczowe.\n",
    "\n",
    "https://docs.python.org/3/tutorial/controlflow.html#special-parameters"
   ]
  },
  {
   "cell_type": "code",
   "execution_count": 1,
   "metadata": {},
   "outputs": [
    {
     "name": "stdout",
     "output_type": "stream",
     "text": [
      "5\n"
     ]
    }
   ],
   "source": [
    "def tylko_pozycyjne_arg(arg, /):\n",
    "    print(arg)\n",
    "\n",
    "tylko_pozycyjne_arg(5)\n",
    "#tylko_pozycyjne_arg(arg=5)  # błąd "
   ]
  },
  {
   "cell_type": "code",
   "execution_count": 2,
   "metadata": {},
   "outputs": [
    {
     "name": "stdout",
     "output_type": "stream",
     "text": [
      "5\n"
     ]
    }
   ],
   "source": [
    "def tylko_kluczowe_arg(*, arg):\n",
    "    print(arg)\n",
    "\n",
    "tylko_kluczowe_arg(arg=5)\n",
    "#tylko_kluczowe_arg(5)      # błąd "
   ]
  },
  {
   "cell_type": "code",
   "execution_count": 3,
   "metadata": {},
   "outputs": [
    {
     "name": "stdout",
     "output_type": "stream",
     "text": [
      "1 2 3\n",
      "1 2 3\n"
     ]
    }
   ],
   "source": [
    "def mieszane_arg(poz, /, std, *, kl):\n",
    "    print(poz, std, kl)\n",
    "\n",
    "mieszane_arg(1, std=2, kl=3)\n",
    "mieszane_arg(1, 2, kl=3)\n",
    "#mieszane_arg(1, 2, 3)      # błąd "
   ]
  },
  {
   "cell_type": "markdown",
   "metadata": {
    "deletable": false,
    "editable": false,
    "nbgrader": {
     "cell_type": "markdown",
     "checksum": "897258e0986b554ecab1566c3d1bd349",
     "grade": false,
     "grade_id": "cell-c01a99d205dacb9c",
     "locked": true,
     "schema_version": 3,
     "solution": false,
     "task": false
    }
   },
   "source": [
    "Jak uniknąć potencjalnej kolizji argumentu pozycyjnego i kluczowego - gdy klucz ma taką samą nazwę jak parametr pozycyjny?"
   ]
  },
  {
   "cell_type": "code",
   "execution_count": 4,
   "metadata": {},
   "outputs": [
    {
     "name": "stdout",
     "output_type": "stream",
     "text": [
      "3\n",
      "{'nazwa': 'hello'}\n"
     ]
    }
   ],
   "source": [
    "def cos(nazwa, **kargs):     # możliwy konflikt nazw\n",
    "    print(nazwa)\n",
    "    print(kargs)\n",
    "\n",
    "#cos(3, nazwa='hello')       # błąd TypeError: cos() got multiple values for argument 'nazwa'\n",
    "\n",
    "def cos1(nazwa, /, **kargs): # brak konfliku nazw\n",
    "    print(nazwa)\n",
    "    print(kargs)\n",
    "\n",
    "cos1(3, nazwa='hello')"
   ]
  },
  {
   "cell_type": "markdown",
   "metadata": {
    "deletable": false,
    "editable": false,
    "nbgrader": {
     "cell_type": "markdown",
     "checksum": "b2131bda8a8c11953961a4b9b277a58f",
     "grade": false,
     "grade_id": "cell-125a34bd8fd9d531",
     "locked": true,
     "schema_version": 3,
     "solution": false
    }
   },
   "source": [
    "#### Funkcje jako argumenty innych funkcji.\n",
    "\n",
    "Funkcje mogą być argumentami innych funkcji."
   ]
  },
  {
   "cell_type": "code",
   "execution_count": null,
   "metadata": {},
   "outputs": [],
   "source": [
    "def suma(a, b):\n",
    "    return a+b\n",
    "\n",
    "def roznica(a, b):\n",
    "    return a-b\n",
    "\n",
    "def wykonaj(x, y, f):\n",
    "    return f(x, y)"
   ]
  },
  {
   "cell_type": "code",
   "execution_count": null,
   "metadata": {},
   "outputs": [],
   "source": [
    "print('suma =', wykonaj(2, 3, suma))\n",
    "print('różnica =', wykonaj(2, 3, roznica))"
   ]
  },
  {
   "cell_type": "markdown",
   "metadata": {
    "deletable": false,
    "editable": false,
    "nbgrader": {
     "cell_type": "markdown",
     "checksum": "f807bc4e4bcd6d17faeab2d926bf592b",
     "grade": false,
     "grade_id": "cell-7ccb5d20201cff0c",
     "locked": true,
     "schema_version": 3,
     "solution": false
    }
   },
   "source": [
    "### Ćwiczenie 3\n",
    "Napisz funkcję obliczającą wartość $y=x^{2}+f(x)$, tak by funkcja $f(x)$ mogła być dowolną funkcją. Policz wartości $y$ dla $f(x)=\\sin(x)$ i $f(x)=\\cos(x)$."
   ]
  },
  {
   "cell_type": "code",
   "execution_count": 16,
   "metadata": {
    "deletable": false,
    "nbgrader": {
     "cell_type": "code",
     "checksum": "6e77a7a16b95b289e37c4d1cffbd98d2",
     "grade": false,
     "grade_id": "cell-8e38f622b92f78b6",
     "locked": false,
     "schema_version": 3,
     "solution": true
    }
   },
   "outputs": [
    {
     "name": "stdout",
     "output_type": "stream",
     "text": [
      "9.141120008059866\n",
      "8.010007503399555\n"
     ]
    }
   ],
   "source": [
    "import math\n",
    "\n",
    "x = input('Podaj x: ')\n",
    "# YOUR CODE HERE\n",
    "x = float(x)\n",
    "\n",
    "\n",
    "def fun(x, f):\n",
    "    return x * x + f(x)\n",
    "\n",
    "\n",
    "print(fun(x, math.sin))\n",
    "print(fun(x, math.cos))\n",
    "#raise NotImplementedError()"
   ]
  },
  {
   "cell_type": "markdown",
   "metadata": {
    "deletable": false,
    "editable": false,
    "nbgrader": {
     "cell_type": "markdown",
     "checksum": "96e412977b29c4bcd0aff84ad6fdedd4",
     "grade": false,
     "grade_id": "cell-2740237d212db517",
     "locked": true,
     "schema_version": 3,
     "solution": false
    }
   },
   "source": [
    "#### Funkcje rekurencyjne.\n",
    "Funkcja może odwoływać się do samej siebie. Python nakłada ograniczenie na liczbę rekurencyjnych wywołań funkcji. Limit zwraca funkcja `sys.getrecursionlimit()`."
   ]
  },
  {
   "cell_type": "code",
   "execution_count": null,
   "metadata": {},
   "outputs": [],
   "source": [
    "def silnia(n):\n",
    "    if n<2:\n",
    "        return 1\n",
    "    return n*silnia(n-1)"
   ]
  },
  {
   "cell_type": "code",
   "execution_count": null,
   "metadata": {},
   "outputs": [],
   "source": [
    "silnia(4)"
   ]
  },
  {
   "cell_type": "code",
   "execution_count": 17,
   "metadata": {},
   "outputs": [
    {
     "data": {
      "text/plain": "3000"
     },
     "execution_count": 17,
     "metadata": {},
     "output_type": "execute_result"
    }
   ],
   "source": [
    "import sys\n",
    "sys.getrecursionlimit()"
   ]
  },
  {
   "cell_type": "markdown",
   "metadata": {
    "deletable": false,
    "editable": false,
    "nbgrader": {
     "cell_type": "markdown",
     "checksum": "7bba3e3a2539f075939567a444ff1f0a",
     "grade": false,
     "grade_id": "cell-fd0a21cb9b0e545e",
     "locked": true,
     "schema_version": 3,
     "solution": false
    }
   },
   "source": [
    "### Ćwiczenie 4\n",
    "Oblicz wartość symbolu Newtona $\\large{n \\choose k}$ dla zadanych liczb całkowitych $n, k$ gdy ($k \\leq n$). Obliczanie silni z danej liczby całkowitej umieść w funkcji."
   ]
  },
  {
   "cell_type": "code",
   "execution_count": 20,
   "metadata": {
    "deletable": false,
    "nbgrader": {
     "cell_type": "code",
     "checksum": "0882f22c94dfbac3e8e6d7d511177125",
     "grade": false,
     "grade_id": "cell-a5ef6302fe1bac61",
     "locked": false,
     "schema_version": 3,
     "solution": true
    }
   },
   "outputs": [
    {
     "name": "stdout",
     "output_type": "stream",
     "text": [
      "56.0\n"
     ]
    }
   ],
   "source": [
    "n = input('Podaj n: ')\n",
    "k = input('Podaj k: ')\n",
    "\n",
    "# YOUR CODE HERE\n",
    "import math\n",
    "n = int(n)\n",
    "k = int(k)\n",
    "\n",
    "def fun(n, k):\n",
    "    if k <= n:\n",
    "        return math.factorial(n) / (math.factorial(k) * math.factorial(n - k))\n",
    "    else:\n",
    "        print(\"k > n\")\n",
    "\n",
    "print(fun(n, k))\n",
    "\n",
    "#raise NotImplementedError()"
   ]
  },
  {
   "cell_type": "markdown",
   "metadata": {
    "deletable": false,
    "editable": false,
    "nbgrader": {
     "cell_type": "markdown",
     "checksum": "1b53cefd29f5a38eb4708310600c19d0",
     "grade": false,
     "grade_id": "cell-d9e8e0a9d5b63881",
     "locked": true,
     "schema_version": 3,
     "solution": false,
     "task": false
    }
   },
   "source": [
    "#### Dokumentacja funkcji (klasy).\n",
    "\n",
    "- Na początku definicji funkcji możemy umieścić wiersz dokumentacyjny.\n",
    "- Wiersz dokumentacyjny może być stosowany również w klasach. \n",
    "- Łancuch dokumentacyjny jest przypisywany jako wartość atrybutu `__doc__` . \n",
    "- Jeżeli nie zostanie podany łańcuch dokumentacyjny to wartością atrybutu `__doc__` jest `None`.\n",
    "\n",
    "https://docs.python.org/3/tutorial/controlflow.html#documentation-strings"
   ]
  },
  {
   "cell_type": "code",
   "execution_count": 5,
   "metadata": {},
   "outputs": [],
   "source": [
    "def funkcja():\n",
    "    \"\"\"Nasza przykładowa funkcja.\"\"\"\n",
    "    return 1,2"
   ]
  },
  {
   "cell_type": "code",
   "execution_count": 6,
   "metadata": {},
   "outputs": [
    {
     "name": "stdout",
     "output_type": "stream",
     "text": [
      "(1, 2)\n"
     ]
    },
    {
     "data": {
      "text/plain": "'Nasza przykładowa funkcja.'"
     },
     "execution_count": 6,
     "metadata": {},
     "output_type": "execute_result"
    }
   ],
   "source": [
    "print(funkcja())\n",
    "funkcja.__doc__"
   ]
  },
  {
   "cell_type": "markdown",
   "metadata": {
    "deletable": false,
    "editable": false,
    "nbgrader": {
     "cell_type": "markdown",
     "checksum": "b95684d9a56fa30797fc5e3a144da831",
     "grade": false,
     "grade_id": "cell-6c8ff9b408e327c2",
     "locked": true,
     "schema_version": 3,
     "solution": false,
     "task": false
    }
   },
   "source": [
    "#### Przypisy do funkcji.\n",
    "\n",
    "- Przechowywane w atrybucie funkcji `__annotations__` jako słownik, nie mają wpływu na żadną z jej części.\n",
    "- Pomagają w identyfikacji typów argumentów przekazywanych do funkcji oraz typu jaki funkcja ma zwracać\n",
    "- Adnotacje dotyczące parametrów tworzone są poprzez dodanie dwukropka `:` po nazwie parametrów a następnie wskazaniu jego typu.\n",
    "- Adnotacje dotyczące typu zwracanego przez funkcje zdefiniowane są przy pomocy literału `->` po którym następuje typ. Literał ten znajduje się pomiędzy listą argumentów funkcji a dwukropkiem kończącym sekcję `def` funkcji.\n",
    "\n",
    "https://docs.python.org/3/tutorial/controlflow.html#function-annotations"
   ]
  },
  {
   "cell_type": "code",
   "execution_count": 7,
   "metadata": {},
   "outputs": [
    {
     "name": "stdout",
     "output_type": "stream",
     "text": [
      "Adnotacje: {'imie': <class 'str'>, 'nazwisko': <class 'str'>, 'wiek': <class 'int'>, 'return': <class 'str'>}\n",
      "Argumenty: Jan Nowak 20\n",
      "Jan Nowak wiek: 20\n"
     ]
    }
   ],
   "source": [
    "def funkcja_z_adnotacjami(imie: str, nazwisko: str = 'Nowak', wiek: int = 0) -> str:\n",
    "    print(\"Adnotacje:\", funkcja_z_adnotacjami.__annotations__)\n",
    "    print('Argumenty:', imie, nazwisko, wiek)\n",
    "    return imie + ' ' + nazwisko + ' wiek: ' + str(wiek)\n",
    "\n",
    "print(funkcja_z_adnotacjami('Jan',wiek=20))"
   ]
  },
  {
   "cell_type": "markdown",
   "metadata": {
    "deletable": false,
    "editable": false,
    "nbgrader": {
     "cell_type": "markdown",
     "checksum": "f9fbf00891dfe4631d3d6762545b48fd",
     "grade": false,
     "grade_id": "cell-0962df0cc82c234c",
     "locked": true,
     "schema_version": 3,
     "solution": false
    }
   },
   "source": [
    "### Operator `lambda`.\n",
    "#### Składnia.\n",
    "Struktura składni ma postać:\n",
    "\n",
    "```python\n",
    "lambda argumenty : wyrażenie\t\n",
    "```    \n",
    "\n",
    "Tworzy funkcję anonimową w postaci wyrażenia. Zapis w jednej linii. Argumenty oddzielone przecinkami. Funkcja nie posiada nazwy, ale może być wywołana za pomocą zmiennej, do której zostanie przypisana. Funkcja tak zdefiniowana zwraca obliczoną wartość `wyrażenie`. \n",
    "\n",
    "Więcej informacji na temat operatora `lambda` przy listach, słownikach, wyrażeniach listowych.\n",
    "\n",
    "https://docs.python.org/3/tutorial/controlflow.html#lambda-expressions"
   ]
  },
  {
   "cell_type": "code",
   "execution_count": null,
   "metadata": {},
   "outputs": [],
   "source": [
    "a = lambda x, y : x + y   #definicja funkcji - zwraca obiekt funkcji, któremu można przypisać nazwę\n",
    "\n",
    "print(a(2, 3))\n",
    "print(a(7, -8))"
   ]
  },
  {
   "cell_type": "code",
   "execution_count": null,
   "metadata": {},
   "outputs": [],
   "source": [
    "def dodaj_wartosc(liczba):\n",
    "    return lambda val: val + liczba\n",
    "\n",
    "f = dodaj_wartosc(100)\n",
    "print(f(0))\n",
    "print(f(95))"
   ]
  },
  {
   "cell_type": "markdown",
   "metadata": {
    "deletable": false,
    "editable": false,
    "nbgrader": {
     "cell_type": "markdown",
     "checksum": "6d1174ab7519ba37f8f8e93395200c23",
     "grade": false,
     "grade_id": "cell-2e1ddc3ef1792861",
     "locked": true,
     "schema_version": 3,
     "solution": false
    }
   },
   "source": [
    "### Ćwiczenie 5.\n",
    "#### Tablicowanie funkcji\n",
    "Stablicować daną funkcję $y=f(x)$ w zadanym przedziale $(a,b)$ z krokiem $dx$ ($dx<<a-b$). Funkcja dana jest przepisem:\n",
    "\n",
    "$$\n",
    "z = \\left\\{ \\begin{array}{11}\n",
    "-2x+ \\frac{1}{5} & \\textrm{dla $x \\lt -2$} & \\qquad (1)\\\\\n",
    "x^{2}+3 & \\textrm{dla $-2 \\le x \\le 4$} & \\qquad (2)\\\\\n",
    "\\frac{1}{2}x^+1 & \\textrm{dla $ x \\gt 4$} & \\qquad (3)\n",
    "\\end{array} \\right.\n",
    "$$"
   ]
  },
  {
   "cell_type": "code",
   "execution_count": 1,
   "metadata": {
    "deletable": false,
    "nbgrader": {
     "cell_type": "code",
     "checksum": "38ba522e893c0bc1063f1b3bd48e8823",
     "grade": false,
     "grade_id": "cell-d1bb3fd27900debd",
     "locked": false,
     "schema_version": 3,
     "solution": true
    }
   },
   "outputs": [
    {
     "name": "stdout",
     "output_type": "stream",
     "text": [
      "20.2\n",
      "18.2\n",
      "16.2\n",
      "14.2\n",
      "12.2\n",
      "10.2\n",
      "8.2\n",
      "6.2\n",
      "7\n",
      "4\n",
      "3\n",
      "4\n",
      "7\n",
      "12\n",
      "19\n",
      "2.6666666666666665\n",
      "3.0\n",
      "3.333333333333333\n",
      "3.6666666666666665\n",
      "4.0\n",
      "4.333333333333333\n"
     ]
    }
   ],
   "source": [
    "import math\n",
    "\n",
    "a = input('Podaj a: ')\n",
    "b = input('Podaj b: ')\n",
    "dx = input('Podaj dx: ')\n",
    "\n",
    "# YOUR CODE HERE\n",
    "a = int(a)\n",
    "b = int(b)\n",
    "dx = int(dx)\n",
    "\n",
    "\n",
    "def fun(a, b, dx):\n",
    "    for x in range(a, b + 1, dx):\n",
    "        if x < -2:\n",
    "            z = -2 * x + 1 / 5\n",
    "            print(z)\n",
    "        elif -2 <= x <= 4:\n",
    "            z = x * x + 3\n",
    "            print(z)\n",
    "        elif x > 4:\n",
    "            z = 1 / 3 * x + 1\n",
    "            print(z)\n",
    "\n",
    "\n",
    "fun(a,b,dx)\n",
    "#raise NotImplementedError()"
   ]
  },
  {
   "cell_type": "markdown",
   "metadata": {
    "deletable": false,
    "editable": false,
    "nbgrader": {
     "cell_type": "markdown",
     "checksum": "f759073a53f8d3c02d8e90af04dd735a",
     "grade": false,
     "grade_id": "cell-bcb7ebf9cfdd46d0",
     "locked": true,
     "schema_version": 3,
     "solution": false,
     "task": false
    }
   },
   "source": [
    "## Zadanie 1\n",
    "\n",
    "Napisz funkcję sprawdzającą czy liczba przesłana jako argument jest liczbą pierwszą (wykorzystaj else do pętli for). Napisz funkcję zwracającą podaną liczbę Mersenne'a $M(p)=2^{p}-1$. Sprawdź które liczby Mersenne'a dla $ p=1, 2, \\dots, 31 $ są pierwsze. Oznacz typ zwracany przez funkcje (przy pomocy `-> typ`). \n",
    "https://pl.wikipedia.org/wiki/Liczby_Mersenne%E2%80%99a"
   ]
  },
  {
   "cell_type": "code",
   "execution_count": 3,
   "metadata": {
    "deletable": false,
    "nbgrader": {
     "cell_type": "code",
     "checksum": "d6c913860b0d641ae19663e66ffd9d3e",
     "grade": true,
     "grade_id": "cell-ae05c19b6a7ae984",
     "locked": false,
     "points": 2,
     "schema_version": 3,
     "solution": true,
     "task": false
    }
   },
   "outputs": [
    {
     "name": "stdout",
     "output_type": "stream",
     "text": [
      "1 jest liczbą pierwszą\n",
      "1. 1 jest liczbą pierwszą\n",
      "2. 3 jest liczbą pierwszą\n",
      "3. 7 jest liczbą pierwszą\n",
      "4. 15 NIE jest liczba pierwsza\n",
      "5. 31 jest liczbą pierwszą\n",
      "6. 63 NIE jest liczba pierwsza\n",
      "7. 127 jest liczbą pierwszą\n",
      "8. 255 NIE jest liczba pierwsza\n",
      "9. 511 NIE jest liczba pierwsza\n",
      "10. 1023 NIE jest liczba pierwsza\n",
      "11. 2047 NIE jest liczba pierwsza\n",
      "12. 4095 NIE jest liczba pierwsza\n",
      "13. 8191 jest liczbą pierwszą\n",
      "14. 16383 NIE jest liczba pierwsza\n",
      "15. 32767 NIE jest liczba pierwsza\n",
      "16. 65535 NIE jest liczba pierwsza\n",
      "17. 131071 jest liczbą pierwszą\n",
      "18. 262143 NIE jest liczba pierwsza\n",
      "19. 524287 jest liczbą pierwszą\n",
      "20. 1048575 NIE jest liczba pierwsza\n",
      "21. 2097151 NIE jest liczba pierwsza\n",
      "22. 4194303 NIE jest liczba pierwsza\n",
      "23. 8388607 NIE jest liczba pierwsza\n",
      "24. 16777215 NIE jest liczba pierwsza\n",
      "25. 33554431 NIE jest liczba pierwsza\n",
      "26. 67108863 NIE jest liczba pierwsza\n",
      "27. 134217727 NIE jest liczba pierwsza\n",
      "28. 268435455 NIE jest liczba pierwsza\n",
      "29. 536870911 NIE jest liczba pierwsza\n",
      "30. 1073741823 NIE jest liczba pierwsza\n",
      "31. "
     ]
    },
    {
     "ename": "KeyboardInterrupt",
     "evalue": "",
     "output_type": "error",
     "traceback": [
      "\u001B[1;31m---------------------------------------------------------------------------\u001B[0m",
      "\u001B[1;31mKeyboardInterrupt\u001B[0m                         Traceback (most recent call last)",
      "Input \u001B[1;32mIn [3]\u001B[0m, in \u001B[0;36m<cell line: 20>\u001B[1;34m()\u001B[0m\n\u001B[0;32m     20\u001B[0m \u001B[38;5;28;01mfor\u001B[39;00m p \u001B[38;5;129;01min\u001B[39;00m \u001B[38;5;28mrange\u001B[39m(\u001B[38;5;241m1\u001B[39m, \u001B[38;5;241m32\u001B[39m):\n\u001B[0;32m     21\u001B[0m     \u001B[38;5;28mprint\u001B[39m(p,end\u001B[38;5;241m=\u001B[39m \u001B[38;5;124m\"\u001B[39m\u001B[38;5;124m. \u001B[39m\u001B[38;5;124m\"\u001B[39m)\n\u001B[1;32m---> 22\u001B[0m     \u001B[43mfun\u001B[49m\u001B[43m(\u001B[49m\u001B[43mM\u001B[49m\u001B[43m(\u001B[49m\u001B[43mp\u001B[49m\u001B[43m)\u001B[49m\u001B[43m)\u001B[49m\n",
      "Input \u001B[1;32mIn [3]\u001B[0m, in \u001B[0;36mfun\u001B[1;34m(liczba)\u001B[0m\n\u001B[0;32m      5\u001B[0m \u001B[38;5;28;01mdef\u001B[39;00m \u001B[38;5;21mfun\u001B[39m(liczba):\n\u001B[0;32m      6\u001B[0m     \u001B[38;5;28;01mfor\u001B[39;00m i \u001B[38;5;129;01min\u001B[39;00m \u001B[38;5;28mrange\u001B[39m(\u001B[38;5;241m2\u001B[39m, liczba):\n\u001B[1;32m----> 7\u001B[0m         \u001B[38;5;28;01mif\u001B[39;00m \u001B[43mliczba\u001B[49m\u001B[43m \u001B[49m\u001B[38;5;241;43m%\u001B[39;49m\u001B[43m \u001B[49m\u001B[43mi\u001B[49m \u001B[38;5;241m==\u001B[39m \u001B[38;5;241m0\u001B[39m:\n\u001B[0;32m      8\u001B[0m             \u001B[38;5;28mprint\u001B[39m(liczba, \u001B[38;5;124m'\u001B[39m\u001B[38;5;124mNIE jest liczba pierwsza\u001B[39m\u001B[38;5;124m'\u001B[39m)\n\u001B[0;32m      9\u001B[0m             \u001B[38;5;28;01mbreak\u001B[39;00m\n",
      "\u001B[1;31mKeyboardInterrupt\u001B[0m: "
     ]
    }
   ],
   "source": [
    "# YOUR CODE HERE\n",
    "liczba = int(input())\n",
    "\n",
    "\n",
    "def fun(liczba):\n",
    "    for i in range(2, liczba):\n",
    "        if liczba % i == 0:\n",
    "            print(liczba, 'NIE jest liczba pierwsza')\n",
    "            break\n",
    "    else:\n",
    "        print(liczba, 'jest liczbą pierwszą')\n",
    "\n",
    "\n",
    "fun(liczba)\n",
    "#####################################\n",
    "def M(p)->int:\n",
    "    return pow(2, p) - 1\n",
    "\n",
    "\n",
    "for p in range(1, 32):\n",
    "    print(p,end= \". \")\n",
    "    fun(M(p))\n",
    "\n",
    "\n",
    "#raise NotImplementedError()"
   ]
  },
  {
   "cell_type": "markdown",
   "metadata": {
    "deletable": false,
    "editable": false,
    "nbgrader": {
     "cell_type": "markdown",
     "checksum": "5b5ec2bc7f467774fdfc825e17a9bd81",
     "grade": false,
     "grade_id": "cell-50d2a62f541f2e4e",
     "locked": true,
     "schema_version": 3,
     "solution": false,
     "task": false
    }
   },
   "source": [
    "## Zadanie 2\n",
    "\n",
    "Napisz funkcję przyjmującą dwa argumenty: tekst do wypisania oraz szerokość linii (argument o domyślnej wartości 80), wypisującą przesłany tekst wycentrowany w linii.\n",
    "\n",
    "Przykładowe wywołania:\n",
    "```python\n",
    "printCenter(\"Zażółć gęślą jaźń\")\n",
    "printCenter(\"Zażółć gęślą jaźń\", 70)\n",
    "```  "
   ]
  },
  {
   "cell_type": "code",
   "execution_count": 1,
   "metadata": {
    "deletable": false,
    "nbgrader": {
     "cell_type": "code",
     "checksum": "a146229e143e1d7ee2387db27ebf05eb",
     "grade": true,
     "grade_id": "cell-187a5add7f43479d",
     "locked": false,
     "points": 1,
     "schema_version": 3,
     "solution": true,
     "task": false
    }
   },
   "outputs": [
    {
     "name": "stdout",
     "output_type": "stream",
     "text": [
      "                               Zażółć gęślą jaźń                               \n",
      "                Zażółć gęślą jaźń                \n"
     ]
    }
   ],
   "source": [
    "# YOUR CODE HERE\n",
    "def printCenter(text, x=80):\n",
    "    x = (x - len(text)) //2\n",
    "    print(\" \" * x + text + \" \" * x)\n",
    "#raise NotImplementedError()\n",
    "printCenter(\"Zażółć gęślą jaźń\")\n",
    "printCenter(\"Zażółć gęślą jaźń\", 50)"
   ]
  },
  {
   "cell_type": "markdown",
   "metadata": {
    "deletable": false,
    "editable": false,
    "nbgrader": {
     "cell_type": "markdown",
     "checksum": "18f3bf68e77950d95dea85d839274c70",
     "grade": false,
     "grade_id": "cell-3d671738e0dd2b1c",
     "locked": true,
     "schema_version": 3,
     "solution": false,
     "task": false
    }
   },
   "source": [
    "## Zadanie 3\n",
    "\n",
    "Napisz funkcję przyjmującą cztery argumenty: `x` początkowe (domyślnie -1), `x` końcowe\n",
    "(domyślnie 1), liczbę przedziałów (domyślnie 10) oraz funkcję `fx`. Funkcja powinna wypisywać\n",
    "wartości `x` oraz funkcji przesłanej jako argument `fx` dla każdego `x` z podanego zakresu/przedziału tablicowania/ . Zaprezentuj działanie funkcji wykorzystując operator `lambda` wyrażenia (prześlij `fx` jako lambdę).\n",
    "\n",
    "Przykład działania:\n",
    "```\n",
    "-1.000000000000  -0.841470984808\n",
    "-0.777777777778  -0.701697876147\n",
    "-0.555555555556  -0.527415385772\n",
    "-0.333333333333  -0.327194696796\n",
    "-0.111111111111  -0.110882628510\n",
    " 0.111111111111   0.110882628510\n",
    " 0.333333333333   0.327194696796\n",
    " 0.555555555556   0.527415385772\n",
    " 0.777777777778   0.701697876147\n",
    " 1.000000000000   0.841470984808```"
   ]
  },
  {
   "cell_type": "code",
   "execution_count": 2,
   "metadata": {
    "deletable": false,
    "nbgrader": {
     "cell_type": "code",
     "checksum": "4cb6f9c89bd8d811e10b24522b579a92",
     "grade": true,
     "grade_id": "cell-fb6da9a0d5b196ae",
     "locked": false,
     "points": 2,
     "schema_version": 3,
     "solution": true,
     "task": false
    }
   },
   "outputs": [
    {
     "name": "stdout",
     "output_type": "stream",
     "text": [
      "-1.000000000000  -0.900000000000\n",
      "-0.777777777778  -0.700000000000\n",
      "-0.555555555556  -0.500000000000\n",
      "-0.333333333333  -0.300000000000\n",
      "-0.111111111111  -0.100000000000\n",
      " 0.111111111111   0.100000000000\n",
      " 0.333333333333   0.300000000000\n",
      " 0.555555555556   0.500000000000\n",
      " 0.777777777778   0.700000000000\n",
      " 1.000000000000   0.900000000000\n"
     ]
    }
   ],
   "source": [
    "# YOUR CODE HERE\n",
    "def fun(xp=-1.0, xk=1.0, dx=10, fx=lambda x: x - x / 10):\n",
    "    tmp = (xk - xp) / (dx - 1)\n",
    "    while xp <= xk:\n",
    "        print(\"%15.12f  %15.12f\" % (xp, fx(xp)))\n",
    "        xp += tmp\n",
    "\n",
    "fun()\n",
    "#raise NotImplementedError()\n",
    "#printFx(......................... )"
   ]
  },
  {
   "cell_type": "markdown",
   "metadata": {
    "deletable": false,
    "editable": false,
    "nbgrader": {
     "cell_type": "markdown",
     "checksum": "a8262ade03bac68114174b5bd38f0eed",
     "grade": false,
     "grade_id": "cell-485317a41b9467a6",
     "locked": true,
     "schema_version": 3,
     "solution": false,
     "task": false
    }
   },
   "source": [
    "## Zadanie 4\n",
    "\n",
    "Napisz cztery funkcje:\n",
    "1. `k4` zwracająca pseudolosową liczbę całkowitą od 1 do 4 włącznie,\n",
    "2. `k8` zwracająca pseudolosową liczbę całkowitą od 1 do 8 włącznie,\n",
    "3. `k10` zwracająca pseudolosową liczbę całkowitą od 1 do 10 włącznie,\n",
    "4. `k20` zwracającą pseudolosową liczbę całkowitą od 1 do 20 włącznie.\n",
    "\n",
    "Napisz funkcję `getDice` przyjmującą jako argument zmienną tekstową, która:\n",
    "1. Dla tekstu \"k4\" zwraca funkcję `k4`,\n",
    "2. Dla tekstu \"k8\" zwraca funkcję `k8`,\n",
    "3. Dla tekstu \"k10\" zwraca funkcję `k10`,\n",
    "4. Dla tekstu \"k20\" zwraca funkcję `k20`.\n",
    "\n",
    "Przykładowe wywołanie funkcji losującej:\n",
    "```python \n",
    "import random\n",
    "def k20():\n",
    "    return random.randint(1, 20)\n",
    "```\n",
    "Napisz funkcję `rollDice` przyjmującą jako argument tekst w formacie \"XkY\", gdzie X oraz Y są\n",
    "liczbami naturalnymi. Funkcja ta powinna wyciągnąć z tekstu wartości X oraz Y (patrz poniżej: dzielenie tekstu) i wywołać X razy funkcję zwróconą przez getDice z argumentem \"kY\". Funkcja rollDice powinna zwracać sumę wylosowanych wartości.\n",
    "\n",
    "Przykładowe wywołania:\n",
    "```python \n",
    "rollDice(\"1k4\")\n",
    "rollDice(\"2k10\")\n",
    "```\n",
    "\n",
    "Co się stanie jeśli wywołamy funkcję `rollDice` z argumentami \"10k4\", \"100k4\", \"1k7\", \"0k4\"? \n",
    "Jak zmodyfikować funkcję, aby działało wywołanie \"1e5k4\" (1e5 losowań k4)?\n",
    "\n",
    "Patrz też:\n",
    "\n",
    "https://docs.python.org/3/library/random.html\n",
    "\n",
    "Dzielenie tekstu:\n",
    "```python \n",
    "tekst=\"2k8\"\n",
    "liczby=tekst.split(\"k\")\n",
    "print(liczby[0], liczby[1])\n",
    "\n",
    "# a, b=tekst.split(\"k\")\n",
    "# print(a, b)\n",
    "```"
   ]
  },
  {
   "cell_type": "code",
   "execution_count": 146,
   "outputs": [
    {
     "data": {
      "text/plain": "249891"
     },
     "execution_count": 146,
     "metadata": {},
     "output_type": "execute_result"
    }
   ],
   "source": [
    "import random\n",
    "# YOUR CODE HERE\n",
    "def k4():\n",
    "    return random.randint(1, 4)\n",
    "def k8():\n",
    "    return random.randint(1, 8)\n",
    "def k10():\n",
    "    return random.randint(1, 10)\n",
    "def k20():\n",
    "    return random.randint(1, 20)\n",
    "\n",
    "def getDice(f):\n",
    "    f = eval(f)\n",
    "    return f()\n",
    "\n",
    "\n",
    "def rollDice(f):\n",
    "    x, y = f.split(\"k\")\n",
    "    x = int(float(x))\n",
    "    s = 0\n",
    "    for i in range(0,x):\n",
    "        s += getDice(\"k\" + y)\n",
    "    #print(s)\n",
    "    return s\n",
    "\n",
    "\n",
    "#raise NotImplementedError()\n",
    "rollDice(\"1k4\")\n",
    "rollDice(\"2k10\")\n",
    "rollDice(\"1e5k4\")"
   ],
   "metadata": {
    "collapsed": false,
    "pycharm": {
     "name": "#%%\n"
    }
   }
  },
  {
   "cell_type": "markdown",
   "metadata": {
    "deletable": false,
    "editable": false,
    "nbgrader": {
     "cell_type": "markdown",
     "checksum": "5809ddbabd74b35921a2773921d99f11",
     "grade": false,
     "grade_id": "cell-292c6e2d10252d56",
     "locked": true,
     "schema_version": 3,
     "solution": false,
     "task": false
    }
   },
   "source": [
    "## Zadanie 5\n",
    "\n",
    "Napisz funkcję wypisującą napisy końcowe (filmu, serialu, tego programu). Funkcja ta powinna przyjmować dowolną liczbę argumentów i wypisywać każdy kolejny co sekundę, wycentrowany – najpierw argumenty zwykłe, potem kluczowe. Wykorzystaj funkcję z zadania 2.\n",
    "\n",
    "Przykład wywołania:\n",
    "\n",
    "                          Cudowniejszy program pokazowy                          \n",
    "                         Powrót Złego Markiza Cul-de-Sac                         \n",
    "                                Scenariusz: Autor                                \n",
    "                               Scenografia: Autor                               \n",
    "                              Podziękowania: Python\n",
    "                                                           \n",
    "\n",
    "Do pobrania długości tekstu można użyć funkcji `len()`. Do czekania wykorzystaj funkcję `time.sleep()` – aby jej użyć należy zaimportować moduł time: \n",
    "```python\n",
    "import time\n",
    "```\n",
    "Dodaj dokumentację do funkcji – opisz jakie argumenty przyjmuje i co robi.\n",
    "\n"
   ]
  },
  {
   "cell_type": "code",
   "execution_count": 188,
   "metadata": {
    "deletable": false,
    "nbgrader": {
     "cell_type": "code",
     "checksum": "ae1928ae99a63ff59a5949a83a8ddad5",
     "grade": true,
     "grade_id": "cell-4330c531c4a15742",
     "locked": false,
     "points": 2,
     "schema_version": 3,
     "solution": true,
     "task": false
    }
   },
   "outputs": [
    {
     "name": "stdout",
     "output_type": "stream",
     "text": [
      "                         Cudowniejszy program pokazowy                         \n",
      "                        Powrót Złego Markiza Cul-de-Sac                        \n",
      "                               Scenariusz: Autor                               \n",
      "                               Scenografia: Autor                               \n",
      "                             Podziękowania: Python                             \n",
      "Funkcja przyjmuje dowolna ilosc argumentow (pozycyjne i haslowe) - sa to \"napisy koncowe\" i wypisuje te argumenty wycentrowane co sekunde\n"
     ]
    }
   ],
   "source": [
    "import time\n",
    "# YOUR CODE HERE\n",
    "#raise NotImplementedError()\n",
    "def printCenter(text, x=80):\n",
    "    x = (x - len(text)) //2\n",
    "    print(\" \" * x + text + \" \" * x)\n",
    "\n",
    "def credits(*args, **kargs):\n",
    "    \"\"\"Funkcja przyjmuje dowolna ilosc argumentow (pozycyjne i haslowe) - \\\n",
    "sa to \"napisy koncowe\" i wypisuje te argumenty wycentrowane co sekunde\"\"\"\n",
    "    for i in args:\n",
    "        time.sleep(1)\n",
    "        printCenter(i)\n",
    "    for i in kargs:\n",
    "        time.sleep(1)\n",
    "        printCenter(i + \": \" + kargs[i])\n",
    "\n",
    "\n",
    "credits(\"Cudowniejszy program pokazowy\",\n",
    "        \"Powrót Złego Markiza Cul-de-Sac\",\n",
    "        Scenariusz=\"Autor\",\n",
    "        Scenografia=\"Autor\",\n",
    "        Podziękowania=\"Python\")\n",
    "\n",
    "print(credits.__doc__)"
   ]
  },
  {
   "cell_type": "code",
   "execution_count": null,
   "metadata": {},
   "outputs": [],
   "source": []
  },
  {
   "cell_type": "markdown",
   "metadata": {
    "deletable": false,
    "editable": false,
    "nbgrader": {
     "cell_type": "markdown",
     "checksum": "b89497679e5fdb6f08b51808ee3dbe46",
     "grade": false,
     "grade_id": "cell-e22be4ce9286c4d9",
     "locked": true,
     "schema_version": 3,
     "solution": false
    }
   },
   "source": [
    "<div style=\"text-align: right\">&copy; Katedra Informatyki, Politechnika Krakowska </div>"
   ]
  }
 ],
 "metadata": {
  "kernelspec": {
   "display_name": "Python 3",
   "language": "python",
   "name": "python3"
  },
  "language_info": {
   "codemirror_mode": {
    "name": "ipython",
    "version": 3
   },
   "file_extension": ".py",
   "mimetype": "text/x-python",
   "name": "python",
   "nbconvert_exporter": "python",
   "pygments_lexer": "ipython3",
   "version": "3.8.5"
  }
 },
 "nbformat": 4,
 "nbformat_minor": 2
}